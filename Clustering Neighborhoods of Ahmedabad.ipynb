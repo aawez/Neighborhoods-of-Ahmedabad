{
 "cells": [
  {
   "cell_type": "markdown",
   "metadata": {},
   "source": [
    "### Introduction\n",
    "**Ahmedabad** is the largest city of the Indian state of **Gujarat**. Ahmedabad has emerged as an important economic and industrial hub in India. In 2010, Ahmedabad was ranked third in *Forbes's* list of fastest-growing cities of the decade. There are around <a href='https://en.wikipedia.org/wiki/Category:Neighbourhoods_in_Ahmedabad'>**81  Neighborhoods**</a> in Ahmedabad. Each Neighborhood may have different popular venues, and thus if we can find similar neighbors and their popular venue categories, it may help Businesses in making Investment Decisions."
   ]
  },
  {
   "cell_type": "markdown",
   "metadata": {},
   "source": [
    "### Problem Statement\n",
    "Our main goal of this project is to find common venues of the Neighborhoods of Ahmedabad & cluster them based on the similar categories of venues. This will help us identifying similar Neighborhoods, which could help potential investors for choosing appropriate Neighborhood for their choice of venues. For example, Let's say we find that **Anand Nagar** is more famous for *Fast Food Restaurants* then this information could be helpful for an Organization/Investor who is looking for Investing in Fast Food Restaurant. "
   ]
  },
  {
   "cell_type": "markdown",
   "metadata": {},
   "source": [
    "### Data\n",
    "First, we have to find out all the Neighborhoods of Ahmedabad. We will web scrape the data from <a href='https://en.wikipedia.org/wiki/Category:Neighbourhoods_in_Ahmedabad'>this</a> Wikipedia page which contains the names of all the Neighborhoods of Ahmedabad. Next, we would need location data (coordinates) of each of these Neighborhoods, which we will get using the Geopy library. Lastly, we will pass these coordinates using Foursquare API to fetch the nearby venue details of each Neighborhood."
   ]
  },
  {
   "cell_type": "markdown",
   "metadata": {},
   "source": [
    "### Required Libraries\n",
    "- Pandas\n",
    "- Numpy\n",
    "- Json\n",
    "- Geopy\n",
    "- Matplotlib\n",
    "- Folium\n",
    "- Sklearn\n",
    "- BeautifulSoup"
   ]
  }
 ],
 "metadata": {
  "kernelspec": {
   "display_name": "Python 3",
   "language": "python",
   "name": "python3"
  },
  "language_info": {
   "codemirror_mode": {
    "name": "ipython",
    "version": 3
   },
   "file_extension": ".py",
   "mimetype": "text/x-python",
   "name": "python",
   "nbconvert_exporter": "python",
   "pygments_lexer": "ipython3",
   "version": "3.7.3"
  }
 },
 "nbformat": 4,
 "nbformat_minor": 2
}
