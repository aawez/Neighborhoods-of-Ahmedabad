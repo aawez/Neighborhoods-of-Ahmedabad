{
 "cells": [
  {
   "cell_type": "markdown",
   "metadata": {},
   "source": [
    "## Detailed Description"
   ]
  },
  {
   "cell_type": "markdown",
   "metadata": {},
   "source": [
    "### Introduction\n",
    "**Ahmedabad** is the largest city of the Indian state of **Gujarat**. Ahmedabad has emerged as an important economic and industrial hub in India. In 2010, Ahmedabad was ranked third in *Forbes's* list of fastest-growing cities of the decade. There are around **<a href='https://en.wikipedia.org/wiki/Category:Neighbourhoods_in_Ahmedabad'>81  Neighborhoods</a>** in Ahmedabad. Each Neighborhood may have different popular venues, and thus if we can find similar neighbors and their popular venue categories, it may help Businesses in making Investment Decisions."
   ]
  },
  {
   "cell_type": "markdown",
   "metadata": {},
   "source": [
    "The target audience for this project are the Entrepreneurs, Investors or the Organizations who is planning to expand/initiate their business."
   ]
  },
  {
   "cell_type": "markdown",
   "metadata": {},
   "source": [
    "<img src = 'https://i.ibb.co/3vrJyWq/Marketing-Business-Corporate-Start-up-Facebook-Cover.png'>"
   ]
  },
  {
   "cell_type": "markdown",
   "metadata": {},
   "source": [
    "### Problem Statement\n",
    "Our main goal of this project is to find common venues of the Neighborhoods of Ahmedabad & cluster them based on the similar categories of venues. This will help us identifying similar Neighborhoods, which could help potential investors for choosing appropriate Neighborhood for their choice of venues. For example, Let's say we find that **Anand Nagar** is more famous for *Fast Food Restaurants* then this information could be helpful for an Organization/Investor who is looking for Investing in Fast Food Restaurant. "
   ]
  },
  {
   "cell_type": "markdown",
   "metadata": {},
   "source": [
    "### Data\n",
    "First, we have to find out all the Neighborhoods of Ahmedabad. We will web scrape the data from <a href='https://en.wikipedia.org/wiki/Category:Neighbourhoods_in_Ahmedabad'>this</a> Wikipedia page which contains the names of all the Neighborhoods of Ahmedabad. Next, we would need location data (coordinates) of each of these Neighborhoods, which we will get using the Geopy library. Lastly, we will pass these coordinates using Foursquare API to fetch the nearby venue details of each Neighborhood."
   ]
  },
  {
   "cell_type": "markdown",
   "metadata": {},
   "source": [
    "### Required Libraries\n",
    "- Pandas\n",
    "- Numpy\n",
    "- Json\n",
    "- Geopy\n",
    "- Matplotlib\n",
    "- Folium\n",
    "- Sklearn\n",
    "- BeautifulSoup"
   ]
  },
  {
   "cell_type": "markdown",
   "metadata": {},
   "source": [
    "## Implementation"
   ]
  },
  {
   "cell_type": "markdown",
   "metadata": {},
   "source": [
    "### Importing required Libraries"
   ]
  },
  {
   "cell_type": "code",
   "execution_count": 112,
   "metadata": {},
   "outputs": [],
   "source": [
    "import numpy as np # library to handle data in a vectorized manner\n",
    "import pandas as pd # library for data analsysis\n",
    "pd.set_option('display.max_columns', None)\n",
    "pd.set_option('display.max_rows', None)\n",
    "import json # library to handle JSON files\n",
    "from geopy.geocoders import Nominatim # convert an address into latitude and longitude values\n",
    "import requests # library to handle requests\n",
    "from pandas.io.json import json_normalize # tranform JSON file into a pandas dataframe\n",
    "# Matplotlib and associated plotting modules\n",
    "import matplotlib.cm as cm\n",
    "import matplotlib.colors as colors\n",
    "# import k-means from clustering stage\n",
    "from sklearn.cluster import KMeans\n",
    "import folium # map rendering library\n",
    "from bs4 import BeautifulSoup # for web scraping\n",
    "from urllib.request import urlopen\n",
    "import plotly.express as px"
   ]
  },
  {
   "cell_type": "markdown",
   "metadata": {},
   "source": [
    "### Web Scraping to get required data\n",
    "Web scraping Wikipedia page to get names of all the Neighborhoods of Ahmedabad"
   ]
  },
  {
   "cell_type": "code",
   "execution_count": 113,
   "metadata": {},
   "outputs": [],
   "source": [
    "data = pd.DataFrame(columns = ['Neighborhood','Latitude','Longitude'])"
   ]
  },
  {
   "cell_type": "code",
   "execution_count": 114,
   "metadata": {},
   "outputs": [],
   "source": [
    "from bs4 import BeautifulSoup\n",
    "from urllib.request import urlopen\n",
    "url = 'https://en.wikipedia.org/wiki/Category:Neighbourhoods_in_Ahmedabad'\n",
    "html = urlopen(url) \n",
    "soup = BeautifulSoup(html, 'html.parser')\n",
    "#soup = soup.find_all('ul')\n",
    "scrap = soup.find_all('li')\n",
    "for i in range(81):\n",
    "    data = data.append({'Neighborhood':scrap[i].text},ignore_index=True)"
   ]
  },
  {
   "cell_type": "code",
   "execution_count": 115,
   "metadata": {},
   "outputs": [
    {
     "data": {
      "text/html": [
       "<div>\n",
       "<style scoped>\n",
       "    .dataframe tbody tr th:only-of-type {\n",
       "        vertical-align: middle;\n",
       "    }\n",
       "\n",
       "    .dataframe tbody tr th {\n",
       "        vertical-align: top;\n",
       "    }\n",
       "\n",
       "    .dataframe thead th {\n",
       "        text-align: right;\n",
       "    }\n",
       "</style>\n",
       "<table border=\"1\" class=\"dataframe\">\n",
       "  <thead>\n",
       "    <tr style=\"text-align: right;\">\n",
       "      <th></th>\n",
       "      <th>Neighborhood</th>\n",
       "      <th>Latitude</th>\n",
       "      <th>Longitude</th>\n",
       "    </tr>\n",
       "  </thead>\n",
       "  <tbody>\n",
       "    <tr>\n",
       "      <th>0</th>\n",
       "      <td>Agol</td>\n",
       "      <td>NaN</td>\n",
       "      <td>NaN</td>\n",
       "    </tr>\n",
       "    <tr>\n",
       "      <th>1</th>\n",
       "      <td>Ahmedabad Cantonment</td>\n",
       "      <td>NaN</td>\n",
       "      <td>NaN</td>\n",
       "    </tr>\n",
       "    <tr>\n",
       "      <th>2</th>\n",
       "      <td>Alam Roza</td>\n",
       "      <td>NaN</td>\n",
       "      <td>NaN</td>\n",
       "    </tr>\n",
       "    <tr>\n",
       "      <th>3</th>\n",
       "      <td>Ambawadi</td>\n",
       "      <td>NaN</td>\n",
       "      <td>NaN</td>\n",
       "    </tr>\n",
       "    <tr>\n",
       "      <th>4</th>\n",
       "      <td>Amraiwadi</td>\n",
       "      <td>NaN</td>\n",
       "      <td>NaN</td>\n",
       "    </tr>\n",
       "  </tbody>\n",
       "</table>\n",
       "</div>"
      ],
      "text/plain": [
       "           Neighborhood Latitude Longitude\n",
       "0                  Agol      NaN       NaN\n",
       "1  Ahmedabad Cantonment      NaN       NaN\n",
       "2             Alam Roza      NaN       NaN\n",
       "3              Ambawadi      NaN       NaN\n",
       "4             Amraiwadi      NaN       NaN"
      ]
     },
     "execution_count": 115,
     "metadata": {},
     "output_type": "execute_result"
    }
   ],
   "source": [
    "data.head()"
   ]
  },
  {
   "cell_type": "markdown",
   "metadata": {},
   "source": [
    "### Getting coordinates of all the Neighborhoods using GEOPY\n",
    "We require coordinates to find nearby venues from Foursquare API."
   ]
  },
  {
   "cell_type": "code",
   "execution_count": 116,
   "metadata": {},
   "outputs": [
    {
     "name": "stdout",
     "output_type": "stream",
     "text": [
      "Agol, Ahmedabad, Gujarat, India Latitude: 23.1357599, Longitude: 72.2528448\n",
      "Ahmedabad Cantonment, Ahmedabad, Gujarat, India Latitude: 23.0216238, Longitude: 72.5797068\n",
      "Alam Roza, Ahmedabad, Gujarat, India Latitude: 22.9940973, Longitude: 72.5895788\n",
      "Ambawadi, Ahmedabad, Gujarat, India Latitude: 23.0226117, Longitude: 72.5490834\n",
      "Amraiwadi, Ahmedabad, Gujarat, India Latitude: 23.0057574, Longitude: 72.6269822\n",
      "Anand Nagar (Ahmedabad), Ahmedabad, Gujarat, India Latitude: 23.0110669, Longitude: 72.5137432\n",
      "Asarwa, Ahmedabad, Gujarat, India Latitude: 23.0472488, Longitude: 72.6088046\n",
      "Bapunagar, Ahmedabad, Gujarat, India Latitude: 23.0362408, Longitude: 72.630339\n",
      "Behrampura, Ahmedabad, Gujarat, India Latitude: 23.0035894, Longitude: 72.58384\n",
      "Bhairavnath Road, Ahmedabad, Gujarat, India Latitude: 22.995457, Longitude: 72.5990646\n",
      "Bopal, Ahmedabad, Gujarat, India Latitude: 23.02969935, Longitude: 72.46557868354866\n",
      "Chandkheda, Ahmedabad, Gujarat, India Latitude: 23.1100643, Longitude: 72.5811205\n",
      "Chandlodiya, Ahmedabad, Gujarat, India Latitude: 23.0751633, Longitude: 72.5440359\n",
      "Dariapur (Ahmedabad), Ahmedabad, Gujarat, India Latitude: 23.0374309, Longitude: 72.5929628\n",
      "Detroj, Ahmedabad, Gujarat, India Latitude: 23.3400361, Longitude: 72.1844358\n",
      "Ghatlodiya, Ahmedabad, Gujarat, India Latitude: 23.075569, Longitude: 72.549728\n",
      "Ghodasar, Ahmedabad, Gujarat, India Latitude: 22.99124285, Longitude: 72.61642315668566\n",
      "Girdharnagar, Ahmedabad, Gujarat, India Latitude: 23.0502144, Longitude: 72.5978915\n",
      "Gita Mandir Road, Ahmedabad, Gujarat, India Latitude: 23.0151998, Longitude: 72.5932216\n",
      "Godhavi, Ahmedabad, Gujarat, India Latitude: 23.0233196, Longitude: 72.4087089\n",
      "Gomtipur, Ahmedabad, Gujarat, India Latitude: 23.0136957, Longitude: 72.620581\n",
      "Gota, Gujarat, Ahmedabad, Gujarat, India Latitude: 23.071295, Longitude: 72.5589326\n",
      "Isanpur, Ahmedabad, Gujarat, India Latitude: 22.9811295, Longitude: 72.6012948\n",
      "Jamalpur, Gujarat, Ahmedabad, Gujarat, India Latitude: 23.0139241, Longitude: 72.5820624\n",
      "Jawahar Chowk, Ahmedabad, Gujarat, India Latitude: 22.9951368, Longitude: 72.6050988\n",
      "Jodhpur, Gujarat, Ahmedabad, Gujarat, India Latitude: 23.0180777, Longitude: 72.5194323\n",
      "Juhapura, Ahmedabad, Gujarat, India Latitude: 23.0056298, Longitude: 72.5231013\n",
      "Kalupur, Ahmedabad, Gujarat, India Latitude: 23.0263312, Longitude: 72.601\n",
      "Khadia, Ahmedabad, Ahmedabad, Gujarat, India Latitude: 23.02139, Longitude: 72.5892915\n",
      "Khokhra, Ahmedabad, Gujarat, India Latitude: 23.0008422, Longitude: 72.6186315\n",
      "Lambha, Ahmedabad, Gujarat, India Latitude: 22.9317728, Longitude: 72.5749418\n",
      "Makarba, Ahmedabad, Gujarat, India Latitude: 22.996342, Longitude: 72.5043085\n",
      "Maninagar, Ahmedabad, Gujarat, India Latitude: 22.9977135, Longitude: 72.6067174\n",
      "Memnagar, Ahmedabad, Gujarat, India Latitude: 23.0530844, Longitude: 72.5329308\n",
      "Motera, Ahmedabad, Gujarat, India Latitude: 23.0797224, Longitude: 72.5941147\n",
      "Naranpura, Ahmedabad, Gujarat, India Latitude: 23.0567133, Longitude: 72.5508575\n",
      "Naroda, Ahmedabad, Gujarat, India Latitude: 23.0732586, Longitude: 72.6508299\n",
      "Nava Vadaj, Ahmedabad, Gujarat, India Latitude: 23.0682238, Longitude: 72.5640995\n",
      "Navarangpura, Ahmedabad, Gujarat, India Latitude: 23.03498285, Longitude: 72.56721890910065\n",
      "Odhav, Ahmedabad, Gujarat, India Latitude: 23.0227419, Longitude: 72.66068540365957\n",
      "Paldi, Ahmedabad, Gujarat, India Latitude: 23.0145531, Longitude: 72.5635432\n",
      "Rajpur Gomtipur, Ahmedabad, Gujarat, India Latitude: 23.0136957, Longitude: 72.620581\n",
      "Ramol, Ahmedabad, Gujarat, India Latitude: 23.0080221, Longitude: 72.6303338\n",
      "Ranip, Ahmedabad, Gujarat, India Latitude: 23.0766234, Longitude: 72.5764197\n",
      "Sabarmati (area), Ahmedabad, Gujarat, India Latitude: 23.0839931, Longitude: 72.5876185\n",
      "Sardarnagar, Ahmedabad, Gujarat, India Latitude: 23.0835832, Longitude: 72.6248611\n",
      "Sarkhej, Ahmedabad, Gujarat, India Latitude: 22.983483, Longitude: 72.5007203\n",
      "Shahibaug, Ahmedabad, Gujarat, India Latitude: 23.0556364, Longitude: 72.5965538\n",
      "Shastrinagar, Ahmedabad, Gujarat, India Latitude: 23.0623814, Longitude: 72.5532282\n",
      "Subhash Bridge, Ahmedabad, Gujarat, India Latitude: 23.0611728, Longitude: 72.5859584\n",
      "Sukhrampura, Ahmedabad, Gujarat, India Latitude: 23.0225452, Longitude: 72.6146603\n",
      "Thaltej, Ahmedabad, Gujarat, India Latitude: 23.0485393, Longitude: 72.511742\n",
      "Usmanpura, Ahmedabad, Gujarat, India Latitude: 23.0494863, Longitude: 72.5672615\n",
      "Vastral, Ahmedabad, Gujarat, India Latitude: 22.9948656, Longitude: 72.6624431\n",
      "Vastrapur, Ahmedabad, Gujarat, India Latitude: 23.0400861, Longitude: 72.5290418\n",
      "Vejalpur, Ahmedabad, Gujarat, India Latitude: 23.0069372, Longitude: 72.5208415\n",
      "Virochannagar, Ahmedabad, Gujarat, India Latitude: 23.0649138, Longitude: 72.2215612\n"
     ]
    }
   ],
   "source": [
    "geolocator = Nominatim(user_agent=\"abd_explorer\", timeout = 5)\n",
    "for i in range(len(data['Neighborhood'])):\n",
    "    address = data.at[i,'Neighborhood'] + ', Ahmedabad, Gujarat, India'\n",
    "    location = geolocator.geocode(address)\n",
    "    try:\n",
    "        data.at[i,'Latitude'] = location.latitude\n",
    "        data.at[i,'Longitude'] = location.longitude\n",
    "        print(address + ' Latitude: {}, Longitude: {}'.format(location.latitude,location.longitude))\n",
    "    except AttributeError:\n",
    "        data.drop(i, inplace = True)\n",
    "    "
   ]
  },
  {
   "cell_type": "code",
   "execution_count": 117,
   "metadata": {
    "scrolled": true
   },
   "outputs": [
    {
     "data": {
      "text/html": [
       "<div>\n",
       "<style scoped>\n",
       "    .dataframe tbody tr th:only-of-type {\n",
       "        vertical-align: middle;\n",
       "    }\n",
       "\n",
       "    .dataframe tbody tr th {\n",
       "        vertical-align: top;\n",
       "    }\n",
       "\n",
       "    .dataframe thead th {\n",
       "        text-align: right;\n",
       "    }\n",
       "</style>\n",
       "<table border=\"1\" class=\"dataframe\">\n",
       "  <thead>\n",
       "    <tr style=\"text-align: right;\">\n",
       "      <th></th>\n",
       "      <th>Neighborhood</th>\n",
       "      <th>Latitude</th>\n",
       "      <th>Longitude</th>\n",
       "    </tr>\n",
       "  </thead>\n",
       "  <tbody>\n",
       "    <tr>\n",
       "      <th>0</th>\n",
       "      <td>Agol</td>\n",
       "      <td>23.1358</td>\n",
       "      <td>72.2528</td>\n",
       "    </tr>\n",
       "    <tr>\n",
       "      <th>1</th>\n",
       "      <td>Ahmedabad Cantonment</td>\n",
       "      <td>23.0216</td>\n",
       "      <td>72.5797</td>\n",
       "    </tr>\n",
       "    <tr>\n",
       "      <th>2</th>\n",
       "      <td>Alam Roza</td>\n",
       "      <td>22.9941</td>\n",
       "      <td>72.5896</td>\n",
       "    </tr>\n",
       "    <tr>\n",
       "      <th>3</th>\n",
       "      <td>Ambawadi</td>\n",
       "      <td>23.0226</td>\n",
       "      <td>72.5491</td>\n",
       "    </tr>\n",
       "    <tr>\n",
       "      <th>4</th>\n",
       "      <td>Amraiwadi</td>\n",
       "      <td>23.0058</td>\n",
       "      <td>72.627</td>\n",
       "    </tr>\n",
       "  </tbody>\n",
       "</table>\n",
       "</div>"
      ],
      "text/plain": [
       "           Neighborhood Latitude Longitude\n",
       "0                  Agol  23.1358   72.2528\n",
       "1  Ahmedabad Cantonment  23.0216   72.5797\n",
       "2             Alam Roza  22.9941   72.5896\n",
       "3              Ambawadi  23.0226   72.5491\n",
       "4             Amraiwadi  23.0058    72.627"
      ]
     },
     "execution_count": 117,
     "metadata": {},
     "output_type": "execute_result"
    }
   ],
   "source": [
    "data.head()"
   ]
  },
  {
   "cell_type": "markdown",
   "metadata": {},
   "source": [
    "### Creating the map of Ahmedabad displaying all the Neighborhoods "
   ]
  },
  {
   "cell_type": "code",
   "execution_count": 118,
   "metadata": {},
   "outputs": [],
   "source": [
    "#Finding coordinates of Ahmedabad \n",
    "address_amd = 'Ahmedabad, Gujarat, India'\n",
    "location = geolocator.geocode(address)\n",
    "latitude = location.latitude\n",
    "longitude = location.longitude"
   ]
  },
  {
   "cell_type": "code",
   "execution_count": 119,
   "metadata": {
    "scrolled": true
   },
   "outputs": [
    {
     "data": {
      "text/html": [
       "<div style=\"width:100%;\"><div style=\"position:relative;width:100%;height:0;padding-bottom:60%;\"><iframe src=\"about:blank\" style=\"position:absolute;width:100%;height:100%;left:0;top:0;border:none !important;\" data-html=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 onload=\"this.contentDocument.open();this.contentDocument.write(atob(this.getAttribute('data-html')));this.contentDocument.close();\" allowfullscreen webkitallowfullscreen mozallowfullscreen></iframe></div></div>"
      ],
      "text/plain": [
       "<folium.folium.Map at 0x248c74acef0>"
      ]
     },
     "execution_count": 119,
     "metadata": {},
     "output_type": "execute_result"
    }
   ],
   "source": [
    "# create map of Ahmedabad using Folium\n",
    "map_ahmedabad = folium.Map(location=[latitude, longitude], zoom_start=11)\n",
    "\n",
    "# add markers to map\n",
    "for lat, lng, label in zip(data['Latitude'], data['Longitude'], data['Neighborhood']):\n",
    "    label = folium.Popup(label, parse_html=True)\n",
    "    folium.CircleMarker(\n",
    "        [lat, lng],\n",
    "        radius=5,\n",
    "        popup=label,\n",
    "        color='blue',\n",
    "        fill=True,\n",
    "        fill_color='#3186cc',\n",
    "        fill_opacity=0.7,\n",
    "        parse_html=False).add_to(map_ahmedabad)  \n",
    "    \n",
    "map_ahmedabad"
   ]
  },
  {
   "cell_type": "markdown",
   "metadata": {},
   "source": [
    "**As it can be seen from the map above that 'Virochannagar', 'Detroj' and 'Agol' are too far from Ahmedabad City, so we will remove them.**"
   ]
  },
  {
   "cell_type": "code",
   "execution_count": 120,
   "metadata": {},
   "outputs": [],
   "source": [
    "#Dropping the neighborhoods which are too far from Ahmedabad City, They are 'Virochannagar', 'Detroj', 'Agol'\n",
    "outliers = ['Virochannagar', 'Detroj', 'Agol']\n",
    "data = data[~data['Neighborhood'].isin(outliers)]  # OR data.drop(data[data['Neighborhood'].isin(outliers)].index) \n",
    "data.reset_index(inplace = True, drop = True)"
   ]
  },
  {
   "cell_type": "code",
   "execution_count": 121,
   "metadata": {
    "scrolled": false
   },
   "outputs": [
    {
     "data": {
      "text/html": [
       "<div style=\"width:100%;\"><div style=\"position:relative;width:100%;height:0;padding-bottom:60%;\"><iframe src=\"about:blank\" style=\"position:absolute;width:100%;height:100%;left:0;top:0;border:none !important;\" data-html=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 onload=\"this.contentDocument.open();this.contentDocument.write(atob(this.getAttribute('data-html')));this.contentDocument.close();\" allowfullscreen webkitallowfullscreen mozallowfullscreen></iframe></div></div>"
      ],
      "text/plain": [
       "<folium.folium.Map at 0x248c6065be0>"
      ]
     },
     "execution_count": 121,
     "metadata": {},
     "output_type": "execute_result"
    }
   ],
   "source": [
    "# create map of Ahmedabad\n",
    "map_ahmedabad = folium.Map(location=[latitude, longitude], zoom_start=11)\n",
    "\n",
    "# add markers to map\n",
    "for lat, lng, label in zip(data['Latitude'], data['Longitude'], data['Neighborhood']):\n",
    "    label = folium.Popup(label, parse_html=True)\n",
    "    folium.CircleMarker(\n",
    "        [lat, lng],\n",
    "        radius=5,\n",
    "        popup=label,\n",
    "        color='blue',\n",
    "        fill=True,\n",
    "        fill_color='#3186cc',\n",
    "        fill_opacity=0.7,\n",
    "        parse_html=False).add_to(map_ahmedabad)  \n",
    "    \n",
    "map_ahmedabad"
   ]
  },
  {
   "cell_type": "markdown",
   "metadata": {},
   "source": [
    "### Exploring a Neighborhood\n",
    "Lets first explore a single Neighborhood for demonstration and understanding purpose. We will be exploring 'Ahmedabad Cantonment', as we already have its coordinates we will use them to fetch nearby venues using Foursquare API. To understand more about how Foursquare API work, I recommend you to read <a href='https://developer.foursquare.com/docs/places-api'>this</a> documentation."
   ]
  },
  {
   "cell_type": "code",
   "execution_count": 122,
   "metadata": {},
   "outputs": [
    {
     "name": "stdout",
     "output_type": "stream",
     "text": [
      "Latitude and longitude values of Ahmedabad Cantonment are 23.0216238, 72.5797068.\n"
     ]
    }
   ],
   "source": [
    "#lets explore a bit\n",
    "data.loc[0, 'Neighborhood']\n",
    "neighborhood_latitude = data.loc[0, 'Latitude'] # neighborhood latitude value\n",
    "neighborhood_longitude = data.loc[0, 'Longitude'] # neighborhood longitude value\n",
    "\n",
    "neighborhood_name = data.loc[0, 'Neighborhood'] # neighborhood name\n",
    "\n",
    "print('Latitude and longitude values of {} are {}, {}.'.format(neighborhood_name, \n",
    "                                                               neighborhood_latitude, \n",
    "                                                               neighborhood_longitude))"
   ]
  },
  {
   "cell_type": "code",
   "execution_count": 123,
   "metadata": {},
   "outputs": [],
   "source": [
    "url = 'https://api.foursquare.com/v2/venues/explore'\n",
    "\n",
    "params = dict(\n",
    "client_id='CCIPBGWW43TTYVCKSROHSRQZFBZXWQUZD2HMUBDX2OKNQALG',\n",
    "client_secret='JB3TB5PUQ1UAQJHFJKPZW0SL14VANKHG3UIPQAXBXLQRXSNL',\n",
    "v='20180323',\n",
    "ll=  str(neighborhood_latitude) +','+ str(neighborhood_longitude),\n",
    "limit=100,\n",
    "radius=500\n",
    ")\n",
    "resp = requests.get(url=url, params=params)\n",
    "data_venues = json.loads(resp.text)"
   ]
  },
  {
   "cell_type": "code",
   "execution_count": 124,
   "metadata": {
    "scrolled": true
   },
   "outputs": [
    {
     "data": {
      "text/plain": [
       "{'meta': {'code': 200, 'requestId': '5e9020a269babe001bc411f2'},\n",
       " 'response': {'headerLocation': 'Ahmedabad',\n",
       "  'headerFullLocation': 'Ahmedabad',\n",
       "  'headerLocationGranularity': 'city',\n",
       "  'totalResults': 4,\n",
       "  'suggestedBounds': {'ne': {'lat': 23.026123804500006,\n",
       "    'lng': 72.58458708112815},\n",
       "   'sw': {'lat': 23.017123795499995, 'lng': 72.57482651887184}},\n",
       "  'groups': [{'type': 'Recommended Places',\n",
       "    'name': 'recommended',\n",
       "    'items': [{'reasons': {'count': 0,\n",
       "       'items': [{'summary': 'This spot is popular',\n",
       "         'type': 'general',\n",
       "         'reasonName': 'globalInteractionReason'}]},\n",
       "      'venue': {'id': '4f03db6c9911be1fbce68d8b',\n",
       "       'name': 'Victoria Garden',\n",
       "       'contact': {},\n",
       "       'location': {'address': 'Near Ellis Bridge',\n",
       "        'lat': 23.022117010866076,\n",
       "        'lng': 72.57916816070612,\n",
       "        'labeledLatLngs': [{'label': 'display',\n",
       "          'lat': 23.022117010866076,\n",
       "          'lng': 72.57916816070612}],\n",
       "        'distance': 77,\n",
       "        'cc': 'IN',\n",
       "        'city': 'Ahmedabad',\n",
       "        'state': 'Gujarāt',\n",
       "        'country': 'India',\n",
       "        'formattedAddress': ['Near Ellis Bridge',\n",
       "         'Ahmedabad',\n",
       "         'Gujarāt',\n",
       "         'India']},\n",
       "       'categories': [{'id': '4bf58dd8d48988d163941735',\n",
       "         'name': 'Park',\n",
       "         'pluralName': 'Parks',\n",
       "         'shortName': 'Park',\n",
       "         'icon': {'prefix': 'https://ss3.4sqi.net/img/categories_v2/parks_outdoors/park_',\n",
       "          'suffix': '.png'},\n",
       "         'primary': True}],\n",
       "       'verified': False,\n",
       "       'stats': {'tipCount': 0,\n",
       "        'usersCount': 0,\n",
       "        'checkinsCount': 0,\n",
       "        'visitsCount': 0},\n",
       "       'beenHere': {'count': 0,\n",
       "        'lastCheckinExpiredAt': 0,\n",
       "        'marked': False,\n",
       "        'unconfirmedCount': 0},\n",
       "       'photos': {'count': 0, 'groups': []},\n",
       "       'hereNow': {'count': 0, 'summary': 'Nobody here', 'groups': []}},\n",
       "      'referralId': 'e-0-4f03db6c9911be1fbce68d8b-0'},\n",
       "     {'reasons': {'count': 0,\n",
       "       'items': [{'summary': 'This spot is popular',\n",
       "         'type': 'general',\n",
       "         'reasonName': 'globalInteractionReason'}]},\n",
       "      'venue': {'id': '4f222f39e4b04f6e66de6799',\n",
       "       'name': 'Sabarmati River',\n",
       "       'contact': {},\n",
       "       'location': {'address': 'Ellisbrige',\n",
       "        'lat': 23.0221644165929,\n",
       "        'lng': 72.57986702632688,\n",
       "        'labeledLatLngs': [{'label': 'display',\n",
       "          'lat': 23.0221644165929,\n",
       "          'lng': 72.57986702632688}],\n",
       "        'distance': 62,\n",
       "        'cc': 'IN',\n",
       "        'city': 'Ahmedabad',\n",
       "        'state': 'Gujarāt',\n",
       "        'country': 'India',\n",
       "        'formattedAddress': ['Ellisbrige', 'Ahmedabad', 'Gujarāt', 'India']},\n",
       "       'categories': [{'id': '4eb1d4dd4b900d56c88a45fd',\n",
       "         'name': 'River',\n",
       "         'pluralName': 'Rivers',\n",
       "         'shortName': 'River',\n",
       "         'icon': {'prefix': 'https://ss3.4sqi.net/img/categories_v2/parks_outdoors/river_',\n",
       "          'suffix': '.png'},\n",
       "         'primary': True}],\n",
       "       'verified': False,\n",
       "       'stats': {'tipCount': 0,\n",
       "        'usersCount': 0,\n",
       "        'checkinsCount': 0,\n",
       "        'visitsCount': 0},\n",
       "       'beenHere': {'count': 0,\n",
       "        'lastCheckinExpiredAt': 0,\n",
       "        'marked': False,\n",
       "        'unconfirmedCount': 0},\n",
       "       'photos': {'count': 0, 'groups': []},\n",
       "       'hereNow': {'count': 0, 'summary': 'Nobody here', 'groups': []}},\n",
       "      'referralId': 'e-0-4f222f39e4b04f6e66de6799-1'},\n",
       "     {'reasons': {'count': 0,\n",
       "       'items': [{'summary': 'This spot is popular',\n",
       "         'type': 'general',\n",
       "         'reasonName': 'globalInteractionReason'}]},\n",
       "      'venue': {'id': '4e609712091afcffd97aecb8',\n",
       "       'name': 'Bhadra Fort',\n",
       "       'contact': {},\n",
       "       'location': {'address': 'Lal Darwaja',\n",
       "        'lat': 23.023140547252776,\n",
       "        'lng': 72.58176483164557,\n",
       "        'labeledLatLngs': [{'label': 'display',\n",
       "          'lat': 23.023140547252776,\n",
       "          'lng': 72.58176483164557}],\n",
       "        'distance': 270,\n",
       "        'cc': 'IN',\n",
       "        'city': 'Ahmedabad',\n",
       "        'state': 'Gujarāt',\n",
       "        'country': 'India',\n",
       "        'formattedAddress': ['Lal Darwaja', 'Ahmedabad', 'Gujarāt', 'India']},\n",
       "       'categories': [{'id': '50aaa49e4b90af0d42d5de11',\n",
       "         'name': 'Castle',\n",
       "         'pluralName': 'Castles',\n",
       "         'shortName': 'Castle',\n",
       "         'icon': {'prefix': 'https://ss3.4sqi.net/img/categories_v2/parks_outdoors/beach_',\n",
       "          'suffix': '.png'},\n",
       "         'primary': True}],\n",
       "       'verified': False,\n",
       "       'stats': {'tipCount': 0,\n",
       "        'usersCount': 0,\n",
       "        'checkinsCount': 0,\n",
       "        'visitsCount': 0},\n",
       "       'beenHere': {'count': 0,\n",
       "        'lastCheckinExpiredAt': 0,\n",
       "        'marked': False,\n",
       "        'unconfirmedCount': 0},\n",
       "       'photos': {'count': 0, 'groups': []},\n",
       "       'hereNow': {'count': 0, 'summary': 'Nobody here', 'groups': []}},\n",
       "      'referralId': 'e-0-4e609712091afcffd97aecb8-2'},\n",
       "     {'reasons': {'count': 0,\n",
       "       'items': [{'summary': 'This spot is popular',\n",
       "         'type': 'general',\n",
       "         'reasonName': 'globalInteractionReason'}]},\n",
       "      'venue': {'id': '4d3c44646b3d236a5b815f64',\n",
       "       'name': 'Jai Shankar Sundri Hall',\n",
       "       'contact': {},\n",
       "       'location': {'lat': 23.01978235088499,\n",
       "        'lng': 72.58359812822106,\n",
       "        'labeledLatLngs': [{'label': 'display',\n",
       "          'lat': 23.01978235088499,\n",
       "          'lng': 72.58359812822106}],\n",
       "        'distance': 448,\n",
       "        'cc': 'IN',\n",
       "        'city': 'Ahmedabad',\n",
       "        'state': 'Gujarāt',\n",
       "        'country': 'India',\n",
       "        'formattedAddress': ['Ahmedabad', 'Gujarāt', 'India']},\n",
       "       'categories': [{'id': '4bf58dd8d48988d1e2931735',\n",
       "         'name': 'Art Gallery',\n",
       "         'pluralName': 'Art Galleries',\n",
       "         'shortName': 'Art Gallery',\n",
       "         'icon': {'prefix': 'https://ss3.4sqi.net/img/categories_v2/arts_entertainment/artgallery_',\n",
       "          'suffix': '.png'},\n",
       "         'primary': True}],\n",
       "       'verified': False,\n",
       "       'stats': {'tipCount': 0,\n",
       "        'usersCount': 0,\n",
       "        'checkinsCount': 0,\n",
       "        'visitsCount': 0},\n",
       "       'beenHere': {'count': 0,\n",
       "        'lastCheckinExpiredAt': 0,\n",
       "        'marked': False,\n",
       "        'unconfirmedCount': 0},\n",
       "       'photos': {'count': 0, 'groups': []},\n",
       "       'hereNow': {'count': 0, 'summary': 'Nobody here', 'groups': []}},\n",
       "      'referralId': 'e-0-4d3c44646b3d236a5b815f64-3'}]}]}}"
      ]
     },
     "execution_count": 124,
     "metadata": {},
     "output_type": "execute_result"
    }
   ],
   "source": [
    "data_venues"
   ]
  },
  {
   "cell_type": "markdown",
   "metadata": {},
   "source": [
    "**As we can see above, there are details regarding the nearby venues of 'Ahmedabad Cantonment' Neighborhood. We will now fetch the name of venue and its category.**"
   ]
  },
  {
   "cell_type": "code",
   "execution_count": 125,
   "metadata": {},
   "outputs": [],
   "source": [
    "# function that extracts the category of the venue\n",
    "def get_category_type(row):\n",
    "    try:\n",
    "        categories_list = row['categories']\n",
    "    except:\n",
    "        categories_list = row['venue.categories']\n",
    "        \n",
    "    if len(categories_list) == 0:\n",
    "        return None\n",
    "    else:\n",
    "        return categories_list[0]['name']"
   ]
  },
  {
   "cell_type": "code",
   "execution_count": 126,
   "metadata": {},
   "outputs": [
    {
     "data": {
      "text/html": [
       "<div>\n",
       "<style scoped>\n",
       "    .dataframe tbody tr th:only-of-type {\n",
       "        vertical-align: middle;\n",
       "    }\n",
       "\n",
       "    .dataframe tbody tr th {\n",
       "        vertical-align: top;\n",
       "    }\n",
       "\n",
       "    .dataframe thead th {\n",
       "        text-align: right;\n",
       "    }\n",
       "</style>\n",
       "<table border=\"1\" class=\"dataframe\">\n",
       "  <thead>\n",
       "    <tr style=\"text-align: right;\">\n",
       "      <th></th>\n",
       "      <th>name</th>\n",
       "      <th>categories</th>\n",
       "      <th>lat</th>\n",
       "      <th>lng</th>\n",
       "    </tr>\n",
       "  </thead>\n",
       "  <tbody>\n",
       "    <tr>\n",
       "      <th>0</th>\n",
       "      <td>Victoria Garden</td>\n",
       "      <td>Park</td>\n",
       "      <td>23.022117</td>\n",
       "      <td>72.579168</td>\n",
       "    </tr>\n",
       "    <tr>\n",
       "      <th>1</th>\n",
       "      <td>Sabarmati River</td>\n",
       "      <td>River</td>\n",
       "      <td>23.022164</td>\n",
       "      <td>72.579867</td>\n",
       "    </tr>\n",
       "    <tr>\n",
       "      <th>2</th>\n",
       "      <td>Bhadra Fort</td>\n",
       "      <td>Castle</td>\n",
       "      <td>23.023141</td>\n",
       "      <td>72.581765</td>\n",
       "    </tr>\n",
       "    <tr>\n",
       "      <th>3</th>\n",
       "      <td>Jai Shankar Sundri Hall</td>\n",
       "      <td>Art Gallery</td>\n",
       "      <td>23.019782</td>\n",
       "      <td>72.583598</td>\n",
       "    </tr>\n",
       "  </tbody>\n",
       "</table>\n",
       "</div>"
      ],
      "text/plain": [
       "                      name   categories        lat        lng\n",
       "0          Victoria Garden         Park  23.022117  72.579168\n",
       "1          Sabarmati River        River  23.022164  72.579867\n",
       "2              Bhadra Fort       Castle  23.023141  72.581765\n",
       "3  Jai Shankar Sundri Hall  Art Gallery  23.019782  72.583598"
      ]
     },
     "execution_count": 126,
     "metadata": {},
     "output_type": "execute_result"
    }
   ],
   "source": [
    "venues = data_venues['response']['groups'][0]['items']\n",
    "    \n",
    "nearby_venues = json_normalize(venues) # flatten JSON\n",
    "\n",
    "# filter columns\n",
    "filtered_columns = ['venue.name', 'venue.categories', 'venue.location.lat', 'venue.location.lng']\n",
    "nearby_venues =nearby_venues.loc[:, filtered_columns]\n",
    "\n",
    "# filter the category for each row\n",
    "nearby_venues['venue.categories'] = nearby_venues.apply(get_category_type, axis=1)\n",
    "\n",
    "# clean columns\n",
    "nearby_venues.columns = [col.split(\".\")[-1] for col in nearby_venues.columns]\n",
    "\n",
    "nearby_venues.head()"
   ]
  },
  {
   "cell_type": "markdown",
   "metadata": {},
   "source": [
    "**Above you can see the Venue name and Venue Category**"
   ]
  },
  {
   "cell_type": "markdown",
   "metadata": {},
   "source": [
    "### Finding Venues and their Category for every Neighborhood\n",
    "We will repeat the same process for every neighborhood which we did above for 'Ahmedabad Cantonment'."
   ]
  },
  {
   "cell_type": "code",
   "execution_count": 127,
   "metadata": {},
   "outputs": [],
   "source": [
    "#Foursquare Credentials\n",
    "client_id='CCIPBGWW43TTYVCKSROHSRQZFBZXWQUZD2HMUBDX2OKNQALG'\n",
    "client_secret='JB3TB5PUQ1UAQJHFJKPZW0SL14VANKHG3UIPQAXBXLQRXSNL'\n",
    "VERSION = '20180605'\n",
    "LIMIT = 100"
   ]
  },
  {
   "cell_type": "code",
   "execution_count": 128,
   "metadata": {},
   "outputs": [],
   "source": [
    "def getNearbyVenues(names, latitudes, longitudes, radius=500):\n",
    "    \n",
    "    venues_list=[]\n",
    "    for name, lat, lng in zip(names, latitudes, longitudes):\n",
    "        print(name)\n",
    "            \n",
    "        # create the API request URL\n",
    "        url = 'https://api.foursquare.com/v2/venues/explore?&client_id={}&client_secret={}&v={}&ll={},{}&radius={}&limit={}'.format(\n",
    "            client_id, \n",
    "            client_secret, \n",
    "            VERSION, \n",
    "            lat, \n",
    "            lng, \n",
    "            radius, \n",
    "            LIMIT)\n",
    "            \n",
    "        # make the GET request\n",
    "        results = requests.get(url).json()[\"response\"]['groups'][0]['items']\n",
    "        \n",
    "        # return only relevant information for each nearby venue\n",
    "        venues_list.append([(\n",
    "            name, \n",
    "            lat, \n",
    "            lng, \n",
    "            v['venue']['name'], \n",
    "            v['venue']['location']['lat'], \n",
    "            v['venue']['location']['lng'],  \n",
    "            v['venue']['categories'][0]['name']) for v in results])\n",
    "\n",
    "    nearby_venues = pd.DataFrame([item for venue_list in venues_list for item in venue_list])\n",
    "    nearby_venues.columns = ['Neighborhood', \n",
    "                  'Neighborhood Latitude', \n",
    "                  'Neighborhood Longitude', \n",
    "                  'Venue', \n",
    "                  'Venue Latitude', \n",
    "                  'Venue Longitude', \n",
    "                  'Venue Category']\n",
    "    \n",
    "    return(nearby_venues)"
   ]
  },
  {
   "cell_type": "code",
   "execution_count": 129,
   "metadata": {},
   "outputs": [
    {
     "name": "stdout",
     "output_type": "stream",
     "text": [
      "Ahmedabad Cantonment\n",
      "Alam Roza\n",
      "Ambawadi\n",
      "Amraiwadi\n",
      "Anand Nagar (Ahmedabad)\n",
      "Asarwa\n",
      "Bapunagar\n",
      "Behrampura\n",
      "Bhairavnath Road\n",
      "Bopal\n",
      "Chandkheda\n",
      "Chandlodiya\n",
      "Dariapur (Ahmedabad)\n",
      "Ghatlodiya\n",
      "Ghodasar\n",
      "Girdharnagar\n",
      "Gita Mandir Road\n",
      "Godhavi\n",
      "Gomtipur\n",
      "Gota, Gujarat\n",
      "Isanpur\n",
      "Jamalpur, Gujarat\n",
      "Jawahar Chowk\n",
      "Jodhpur, Gujarat\n",
      "Juhapura\n",
      "Kalupur\n",
      "Khadia, Ahmedabad\n",
      "Khokhra\n",
      "Lambha\n",
      "Makarba\n",
      "Maninagar\n",
      "Memnagar\n",
      "Motera\n",
      "Naranpura\n",
      "Naroda\n",
      "Nava Vadaj\n",
      "Navarangpura\n",
      "Odhav\n",
      "Paldi\n",
      "Rajpur Gomtipur\n",
      "Ramol\n",
      "Ranip\n",
      "Sabarmati (area)\n",
      "Sardarnagar\n",
      "Sarkhej\n",
      "Shahibaug\n",
      "Shastrinagar\n",
      "Subhash Bridge\n",
      "Sukhrampura\n",
      "Thaltej\n",
      "Usmanpura\n",
      "Vastral\n",
      "Vastrapur\n",
      "Vejalpur\n"
     ]
    }
   ],
   "source": [
    "ahmedabad_venues = getNearbyVenues(names=data['Neighborhood'],\n",
    "                                   latitudes=data['Latitude'],\n",
    "                                   longitudes=data['Longitude']\n",
    "                                  )\n"
   ]
  },
  {
   "cell_type": "code",
   "execution_count": 130,
   "metadata": {},
   "outputs": [
    {
     "name": "stdout",
     "output_type": "stream",
     "text": [
      "(242, 7)\n"
     ]
    },
    {
     "data": {
      "text/html": [
       "<div>\n",
       "<style scoped>\n",
       "    .dataframe tbody tr th:only-of-type {\n",
       "        vertical-align: middle;\n",
       "    }\n",
       "\n",
       "    .dataframe tbody tr th {\n",
       "        vertical-align: top;\n",
       "    }\n",
       "\n",
       "    .dataframe thead th {\n",
       "        text-align: right;\n",
       "    }\n",
       "</style>\n",
       "<table border=\"1\" class=\"dataframe\">\n",
       "  <thead>\n",
       "    <tr style=\"text-align: right;\">\n",
       "      <th></th>\n",
       "      <th>Neighborhood</th>\n",
       "      <th>Neighborhood Latitude</th>\n",
       "      <th>Neighborhood Longitude</th>\n",
       "      <th>Venue</th>\n",
       "      <th>Venue Latitude</th>\n",
       "      <th>Venue Longitude</th>\n",
       "      <th>Venue Category</th>\n",
       "    </tr>\n",
       "  </thead>\n",
       "  <tbody>\n",
       "    <tr>\n",
       "      <th>0</th>\n",
       "      <td>Ahmedabad Cantonment</td>\n",
       "      <td>23.021624</td>\n",
       "      <td>72.579707</td>\n",
       "      <td>Victoria Garden</td>\n",
       "      <td>23.022117</td>\n",
       "      <td>72.579168</td>\n",
       "      <td>Park</td>\n",
       "    </tr>\n",
       "    <tr>\n",
       "      <th>1</th>\n",
       "      <td>Ahmedabad Cantonment</td>\n",
       "      <td>23.021624</td>\n",
       "      <td>72.579707</td>\n",
       "      <td>Sabarmati River</td>\n",
       "      <td>23.022164</td>\n",
       "      <td>72.579867</td>\n",
       "      <td>River</td>\n",
       "    </tr>\n",
       "    <tr>\n",
       "      <th>2</th>\n",
       "      <td>Ahmedabad Cantonment</td>\n",
       "      <td>23.021624</td>\n",
       "      <td>72.579707</td>\n",
       "      <td>Bhadra Fort</td>\n",
       "      <td>23.023141</td>\n",
       "      <td>72.581765</td>\n",
       "      <td>Castle</td>\n",
       "    </tr>\n",
       "    <tr>\n",
       "      <th>3</th>\n",
       "      <td>Ahmedabad Cantonment</td>\n",
       "      <td>23.021624</td>\n",
       "      <td>72.579707</td>\n",
       "      <td>Jai Shankar Sundri Hall</td>\n",
       "      <td>23.019782</td>\n",
       "      <td>72.583598</td>\n",
       "      <td>Art Gallery</td>\n",
       "    </tr>\n",
       "    <tr>\n",
       "      <th>4</th>\n",
       "      <td>Alam Roza</td>\n",
       "      <td>22.994097</td>\n",
       "      <td>72.589579</td>\n",
       "      <td>Noorani Fry Center</td>\n",
       "      <td>22.996153</td>\n",
       "      <td>72.589010</td>\n",
       "      <td>Food Court</td>\n",
       "    </tr>\n",
       "  </tbody>\n",
       "</table>\n",
       "</div>"
      ],
      "text/plain": [
       "           Neighborhood  Neighborhood Latitude  Neighborhood Longitude  \\\n",
       "0  Ahmedabad Cantonment              23.021624               72.579707   \n",
       "1  Ahmedabad Cantonment              23.021624               72.579707   \n",
       "2  Ahmedabad Cantonment              23.021624               72.579707   \n",
       "3  Ahmedabad Cantonment              23.021624               72.579707   \n",
       "4             Alam Roza              22.994097               72.589579   \n",
       "\n",
       "                     Venue  Venue Latitude  Venue Longitude Venue Category  \n",
       "0          Victoria Garden       23.022117        72.579168           Park  \n",
       "1          Sabarmati River       23.022164        72.579867          River  \n",
       "2              Bhadra Fort       23.023141        72.581765         Castle  \n",
       "3  Jai Shankar Sundri Hall       23.019782        72.583598    Art Gallery  \n",
       "4       Noorani Fry Center       22.996153        72.589010     Food Court  "
      ]
     },
     "execution_count": 130,
     "metadata": {},
     "output_type": "execute_result"
    }
   ],
   "source": [
    "print(ahmedabad_venues.shape)\n",
    "ahmedabad_venues.head()"
   ]
  },
  {
   "cell_type": "code",
   "execution_count": 131,
   "metadata": {},
   "outputs": [
    {
     "name": "stdout",
     "output_type": "stream",
     "text": [
      "There are 82 uniques categories.\n"
     ]
    }
   ],
   "source": [
    "print('There are {} uniques categories.'.format(len(ahmedabad_venues['Venue Category'].unique())))"
   ]
  },
  {
   "cell_type": "markdown",
   "metadata": {},
   "source": [
    "### Finding the most common venues for each Neighborhood\n",
    "Now we will find top 10 common venues for each of the Neighborhood. First, we will perform one hot encoding and then group all the values by mean. After that, we will be able to know which venue categories are most common by their frequency."
   ]
  },
  {
   "cell_type": "code",
   "execution_count": 132,
   "metadata": {},
   "outputs": [
    {
     "data": {
      "text/html": [
       "<div>\n",
       "<style scoped>\n",
       "    .dataframe tbody tr th:only-of-type {\n",
       "        vertical-align: middle;\n",
       "    }\n",
       "\n",
       "    .dataframe tbody tr th {\n",
       "        vertical-align: top;\n",
       "    }\n",
       "\n",
       "    .dataframe thead th {\n",
       "        text-align: right;\n",
       "    }\n",
       "</style>\n",
       "<table border=\"1\" class=\"dataframe\">\n",
       "  <thead>\n",
       "    <tr style=\"text-align: right;\">\n",
       "      <th></th>\n",
       "      <th>Neighborhood</th>\n",
       "      <th>ATM</th>\n",
       "      <th>American Restaurant</th>\n",
       "      <th>Arcade</th>\n",
       "      <th>Art Gallery</th>\n",
       "      <th>Arts &amp; Crafts Store</th>\n",
       "      <th>Asian Restaurant</th>\n",
       "      <th>Australian Restaurant</th>\n",
       "      <th>BBQ Joint</th>\n",
       "      <th>Bakery</th>\n",
       "      <th>Big Box Store</th>\n",
       "      <th>Bistro</th>\n",
       "      <th>Boat or Ferry</th>\n",
       "      <th>Bookstore</th>\n",
       "      <th>Breakfast Spot</th>\n",
       "      <th>Brewery</th>\n",
       "      <th>Bus Station</th>\n",
       "      <th>Business Service</th>\n",
       "      <th>Cafeteria</th>\n",
       "      <th>Café</th>\n",
       "      <th>Castle</th>\n",
       "      <th>Child Care Service</th>\n",
       "      <th>Chinese Restaurant</th>\n",
       "      <th>Clothing Store</th>\n",
       "      <th>Cocktail Bar</th>\n",
       "      <th>Coffee Shop</th>\n",
       "      <th>Cupcake Shop</th>\n",
       "      <th>Department Store</th>\n",
       "      <th>Dessert Shop</th>\n",
       "      <th>Diner</th>\n",
       "      <th>Donut Shop</th>\n",
       "      <th>Electronics Store</th>\n",
       "      <th>Farmers Market</th>\n",
       "      <th>Fast Food Restaurant</th>\n",
       "      <th>Flea Market</th>\n",
       "      <th>Food Court</th>\n",
       "      <th>Food Truck</th>\n",
       "      <th>Furniture / Home Store</th>\n",
       "      <th>Garden</th>\n",
       "      <th>Gas Station</th>\n",
       "      <th>Gourmet Shop</th>\n",
       "      <th>Gym</th>\n",
       "      <th>Gym / Fitness Center</th>\n",
       "      <th>Historic Site</th>\n",
       "      <th>History Museum</th>\n",
       "      <th>Hotel</th>\n",
       "      <th>IT Services</th>\n",
       "      <th>Ice Cream Shop</th>\n",
       "      <th>Indian Restaurant</th>\n",
       "      <th>Jewelry Store</th>\n",
       "      <th>Juice Bar</th>\n",
       "      <th>Kitchen Supply Store</th>\n",
       "      <th>Lake</th>\n",
       "      <th>Light Rail Station</th>\n",
       "      <th>Liquor Store</th>\n",
       "      <th>Mediterranean Restaurant</th>\n",
       "      <th>Men's Store</th>\n",
       "      <th>Metro Station</th>\n",
       "      <th>Mexican Restaurant</th>\n",
       "      <th>Motel</th>\n",
       "      <th>Moving Target</th>\n",
       "      <th>Multiplex</th>\n",
       "      <th>Office</th>\n",
       "      <th>Paper / Office Supplies Store</th>\n",
       "      <th>Park</th>\n",
       "      <th>Pharmacy</th>\n",
       "      <th>Pizza Place</th>\n",
       "      <th>Platform</th>\n",
       "      <th>Pool Hall</th>\n",
       "      <th>Rest Area</th>\n",
       "      <th>Restaurant</th>\n",
       "      <th>River</th>\n",
       "      <th>Sandwich Place</th>\n",
       "      <th>Shoe Store</th>\n",
       "      <th>Shopping Mall</th>\n",
       "      <th>Snack Place</th>\n",
       "      <th>Sporting Goods Shop</th>\n",
       "      <th>Tea Room</th>\n",
       "      <th>Toy / Game Store</th>\n",
       "      <th>Train Station</th>\n",
       "      <th>Vegetarian / Vegan Restaurant</th>\n",
       "      <th>Video Store</th>\n",
       "      <th>Yoga Studio</th>\n",
       "    </tr>\n",
       "  </thead>\n",
       "  <tbody>\n",
       "    <tr>\n",
       "      <th>0</th>\n",
       "      <td>Ahmedabad Cantonment</td>\n",
       "      <td>0</td>\n",
       "      <td>0</td>\n",
       "      <td>0</td>\n",
       "      <td>0</td>\n",
       "      <td>0</td>\n",
       "      <td>0</td>\n",
       "      <td>0</td>\n",
       "      <td>0</td>\n",
       "      <td>0</td>\n",
       "      <td>0</td>\n",
       "      <td>0</td>\n",
       "      <td>0</td>\n",
       "      <td>0</td>\n",
       "      <td>0</td>\n",
       "      <td>0</td>\n",
       "      <td>0</td>\n",
       "      <td>0</td>\n",
       "      <td>0</td>\n",
       "      <td>0</td>\n",
       "      <td>0</td>\n",
       "      <td>0</td>\n",
       "      <td>0</td>\n",
       "      <td>0</td>\n",
       "      <td>0</td>\n",
       "      <td>0</td>\n",
       "      <td>0</td>\n",
       "      <td>0</td>\n",
       "      <td>0</td>\n",
       "      <td>0</td>\n",
       "      <td>0</td>\n",
       "      <td>0</td>\n",
       "      <td>0</td>\n",
       "      <td>0</td>\n",
       "      <td>0</td>\n",
       "      <td>0</td>\n",
       "      <td>0</td>\n",
       "      <td>0</td>\n",
       "      <td>0</td>\n",
       "      <td>0</td>\n",
       "      <td>0</td>\n",
       "      <td>0</td>\n",
       "      <td>0</td>\n",
       "      <td>0</td>\n",
       "      <td>0</td>\n",
       "      <td>0</td>\n",
       "      <td>0</td>\n",
       "      <td>0</td>\n",
       "      <td>0</td>\n",
       "      <td>0</td>\n",
       "      <td>0</td>\n",
       "      <td>0</td>\n",
       "      <td>0</td>\n",
       "      <td>0</td>\n",
       "      <td>0</td>\n",
       "      <td>0</td>\n",
       "      <td>0</td>\n",
       "      <td>0</td>\n",
       "      <td>0</td>\n",
       "      <td>0</td>\n",
       "      <td>0</td>\n",
       "      <td>0</td>\n",
       "      <td>0</td>\n",
       "      <td>0</td>\n",
       "      <td>1</td>\n",
       "      <td>0</td>\n",
       "      <td>0</td>\n",
       "      <td>0</td>\n",
       "      <td>0</td>\n",
       "      <td>0</td>\n",
       "      <td>0</td>\n",
       "      <td>0</td>\n",
       "      <td>0</td>\n",
       "      <td>0</td>\n",
       "      <td>0</td>\n",
       "      <td>0</td>\n",
       "      <td>0</td>\n",
       "      <td>0</td>\n",
       "      <td>0</td>\n",
       "      <td>0</td>\n",
       "      <td>0</td>\n",
       "      <td>0</td>\n",
       "      <td>0</td>\n",
       "    </tr>\n",
       "    <tr>\n",
       "      <th>1</th>\n",
       "      <td>Ahmedabad Cantonment</td>\n",
       "      <td>0</td>\n",
       "      <td>0</td>\n",
       "      <td>0</td>\n",
       "      <td>0</td>\n",
       "      <td>0</td>\n",
       "      <td>0</td>\n",
       "      <td>0</td>\n",
       "      <td>0</td>\n",
       "      <td>0</td>\n",
       "      <td>0</td>\n",
       "      <td>0</td>\n",
       "      <td>0</td>\n",
       "      <td>0</td>\n",
       "      <td>0</td>\n",
       "      <td>0</td>\n",
       "      <td>0</td>\n",
       "      <td>0</td>\n",
       "      <td>0</td>\n",
       "      <td>0</td>\n",
       "      <td>0</td>\n",
       "      <td>0</td>\n",
       "      <td>0</td>\n",
       "      <td>0</td>\n",
       "      <td>0</td>\n",
       "      <td>0</td>\n",
       "      <td>0</td>\n",
       "      <td>0</td>\n",
       "      <td>0</td>\n",
       "      <td>0</td>\n",
       "      <td>0</td>\n",
       "      <td>0</td>\n",
       "      <td>0</td>\n",
       "      <td>0</td>\n",
       "      <td>0</td>\n",
       "      <td>0</td>\n",
       "      <td>0</td>\n",
       "      <td>0</td>\n",
       "      <td>0</td>\n",
       "      <td>0</td>\n",
       "      <td>0</td>\n",
       "      <td>0</td>\n",
       "      <td>0</td>\n",
       "      <td>0</td>\n",
       "      <td>0</td>\n",
       "      <td>0</td>\n",
       "      <td>0</td>\n",
       "      <td>0</td>\n",
       "      <td>0</td>\n",
       "      <td>0</td>\n",
       "      <td>0</td>\n",
       "      <td>0</td>\n",
       "      <td>0</td>\n",
       "      <td>0</td>\n",
       "      <td>0</td>\n",
       "      <td>0</td>\n",
       "      <td>0</td>\n",
       "      <td>0</td>\n",
       "      <td>0</td>\n",
       "      <td>0</td>\n",
       "      <td>0</td>\n",
       "      <td>0</td>\n",
       "      <td>0</td>\n",
       "      <td>0</td>\n",
       "      <td>0</td>\n",
       "      <td>0</td>\n",
       "      <td>0</td>\n",
       "      <td>0</td>\n",
       "      <td>0</td>\n",
       "      <td>0</td>\n",
       "      <td>0</td>\n",
       "      <td>1</td>\n",
       "      <td>0</td>\n",
       "      <td>0</td>\n",
       "      <td>0</td>\n",
       "      <td>0</td>\n",
       "      <td>0</td>\n",
       "      <td>0</td>\n",
       "      <td>0</td>\n",
       "      <td>0</td>\n",
       "      <td>0</td>\n",
       "      <td>0</td>\n",
       "      <td>0</td>\n",
       "    </tr>\n",
       "    <tr>\n",
       "      <th>2</th>\n",
       "      <td>Ahmedabad Cantonment</td>\n",
       "      <td>0</td>\n",
       "      <td>0</td>\n",
       "      <td>0</td>\n",
       "      <td>0</td>\n",
       "      <td>0</td>\n",
       "      <td>0</td>\n",
       "      <td>0</td>\n",
       "      <td>0</td>\n",
       "      <td>0</td>\n",
       "      <td>0</td>\n",
       "      <td>0</td>\n",
       "      <td>0</td>\n",
       "      <td>0</td>\n",
       "      <td>0</td>\n",
       "      <td>0</td>\n",
       "      <td>0</td>\n",
       "      <td>0</td>\n",
       "      <td>0</td>\n",
       "      <td>0</td>\n",
       "      <td>1</td>\n",
       "      <td>0</td>\n",
       "      <td>0</td>\n",
       "      <td>0</td>\n",
       "      <td>0</td>\n",
       "      <td>0</td>\n",
       "      <td>0</td>\n",
       "      <td>0</td>\n",
       "      <td>0</td>\n",
       "      <td>0</td>\n",
       "      <td>0</td>\n",
       "      <td>0</td>\n",
       "      <td>0</td>\n",
       "      <td>0</td>\n",
       "      <td>0</td>\n",
       "      <td>0</td>\n",
       "      <td>0</td>\n",
       "      <td>0</td>\n",
       "      <td>0</td>\n",
       "      <td>0</td>\n",
       "      <td>0</td>\n",
       "      <td>0</td>\n",
       "      <td>0</td>\n",
       "      <td>0</td>\n",
       "      <td>0</td>\n",
       "      <td>0</td>\n",
       "      <td>0</td>\n",
       "      <td>0</td>\n",
       "      <td>0</td>\n",
       "      <td>0</td>\n",
       "      <td>0</td>\n",
       "      <td>0</td>\n",
       "      <td>0</td>\n",
       "      <td>0</td>\n",
       "      <td>0</td>\n",
       "      <td>0</td>\n",
       "      <td>0</td>\n",
       "      <td>0</td>\n",
       "      <td>0</td>\n",
       "      <td>0</td>\n",
       "      <td>0</td>\n",
       "      <td>0</td>\n",
       "      <td>0</td>\n",
       "      <td>0</td>\n",
       "      <td>0</td>\n",
       "      <td>0</td>\n",
       "      <td>0</td>\n",
       "      <td>0</td>\n",
       "      <td>0</td>\n",
       "      <td>0</td>\n",
       "      <td>0</td>\n",
       "      <td>0</td>\n",
       "      <td>0</td>\n",
       "      <td>0</td>\n",
       "      <td>0</td>\n",
       "      <td>0</td>\n",
       "      <td>0</td>\n",
       "      <td>0</td>\n",
       "      <td>0</td>\n",
       "      <td>0</td>\n",
       "      <td>0</td>\n",
       "      <td>0</td>\n",
       "      <td>0</td>\n",
       "    </tr>\n",
       "    <tr>\n",
       "      <th>3</th>\n",
       "      <td>Ahmedabad Cantonment</td>\n",
       "      <td>0</td>\n",
       "      <td>0</td>\n",
       "      <td>0</td>\n",
       "      <td>1</td>\n",
       "      <td>0</td>\n",
       "      <td>0</td>\n",
       "      <td>0</td>\n",
       "      <td>0</td>\n",
       "      <td>0</td>\n",
       "      <td>0</td>\n",
       "      <td>0</td>\n",
       "      <td>0</td>\n",
       "      <td>0</td>\n",
       "      <td>0</td>\n",
       "      <td>0</td>\n",
       "      <td>0</td>\n",
       "      <td>0</td>\n",
       "      <td>0</td>\n",
       "      <td>0</td>\n",
       "      <td>0</td>\n",
       "      <td>0</td>\n",
       "      <td>0</td>\n",
       "      <td>0</td>\n",
       "      <td>0</td>\n",
       "      <td>0</td>\n",
       "      <td>0</td>\n",
       "      <td>0</td>\n",
       "      <td>0</td>\n",
       "      <td>0</td>\n",
       "      <td>0</td>\n",
       "      <td>0</td>\n",
       "      <td>0</td>\n",
       "      <td>0</td>\n",
       "      <td>0</td>\n",
       "      <td>0</td>\n",
       "      <td>0</td>\n",
       "      <td>0</td>\n",
       "      <td>0</td>\n",
       "      <td>0</td>\n",
       "      <td>0</td>\n",
       "      <td>0</td>\n",
       "      <td>0</td>\n",
       "      <td>0</td>\n",
       "      <td>0</td>\n",
       "      <td>0</td>\n",
       "      <td>0</td>\n",
       "      <td>0</td>\n",
       "      <td>0</td>\n",
       "      <td>0</td>\n",
       "      <td>0</td>\n",
       "      <td>0</td>\n",
       "      <td>0</td>\n",
       "      <td>0</td>\n",
       "      <td>0</td>\n",
       "      <td>0</td>\n",
       "      <td>0</td>\n",
       "      <td>0</td>\n",
       "      <td>0</td>\n",
       "      <td>0</td>\n",
       "      <td>0</td>\n",
       "      <td>0</td>\n",
       "      <td>0</td>\n",
       "      <td>0</td>\n",
       "      <td>0</td>\n",
       "      <td>0</td>\n",
       "      <td>0</td>\n",
       "      <td>0</td>\n",
       "      <td>0</td>\n",
       "      <td>0</td>\n",
       "      <td>0</td>\n",
       "      <td>0</td>\n",
       "      <td>0</td>\n",
       "      <td>0</td>\n",
       "      <td>0</td>\n",
       "      <td>0</td>\n",
       "      <td>0</td>\n",
       "      <td>0</td>\n",
       "      <td>0</td>\n",
       "      <td>0</td>\n",
       "      <td>0</td>\n",
       "      <td>0</td>\n",
       "      <td>0</td>\n",
       "    </tr>\n",
       "    <tr>\n",
       "      <th>4</th>\n",
       "      <td>Alam Roza</td>\n",
       "      <td>0</td>\n",
       "      <td>0</td>\n",
       "      <td>0</td>\n",
       "      <td>0</td>\n",
       "      <td>0</td>\n",
       "      <td>0</td>\n",
       "      <td>0</td>\n",
       "      <td>0</td>\n",
       "      <td>0</td>\n",
       "      <td>0</td>\n",
       "      <td>0</td>\n",
       "      <td>0</td>\n",
       "      <td>0</td>\n",
       "      <td>0</td>\n",
       "      <td>0</td>\n",
       "      <td>0</td>\n",
       "      <td>0</td>\n",
       "      <td>0</td>\n",
       "      <td>0</td>\n",
       "      <td>0</td>\n",
       "      <td>0</td>\n",
       "      <td>0</td>\n",
       "      <td>0</td>\n",
       "      <td>0</td>\n",
       "      <td>0</td>\n",
       "      <td>0</td>\n",
       "      <td>0</td>\n",
       "      <td>0</td>\n",
       "      <td>0</td>\n",
       "      <td>0</td>\n",
       "      <td>0</td>\n",
       "      <td>0</td>\n",
       "      <td>0</td>\n",
       "      <td>0</td>\n",
       "      <td>1</td>\n",
       "      <td>0</td>\n",
       "      <td>0</td>\n",
       "      <td>0</td>\n",
       "      <td>0</td>\n",
       "      <td>0</td>\n",
       "      <td>0</td>\n",
       "      <td>0</td>\n",
       "      <td>0</td>\n",
       "      <td>0</td>\n",
       "      <td>0</td>\n",
       "      <td>0</td>\n",
       "      <td>0</td>\n",
       "      <td>0</td>\n",
       "      <td>0</td>\n",
       "      <td>0</td>\n",
       "      <td>0</td>\n",
       "      <td>0</td>\n",
       "      <td>0</td>\n",
       "      <td>0</td>\n",
       "      <td>0</td>\n",
       "      <td>0</td>\n",
       "      <td>0</td>\n",
       "      <td>0</td>\n",
       "      <td>0</td>\n",
       "      <td>0</td>\n",
       "      <td>0</td>\n",
       "      <td>0</td>\n",
       "      <td>0</td>\n",
       "      <td>0</td>\n",
       "      <td>0</td>\n",
       "      <td>0</td>\n",
       "      <td>0</td>\n",
       "      <td>0</td>\n",
       "      <td>0</td>\n",
       "      <td>0</td>\n",
       "      <td>0</td>\n",
       "      <td>0</td>\n",
       "      <td>0</td>\n",
       "      <td>0</td>\n",
       "      <td>0</td>\n",
       "      <td>0</td>\n",
       "      <td>0</td>\n",
       "      <td>0</td>\n",
       "      <td>0</td>\n",
       "      <td>0</td>\n",
       "      <td>0</td>\n",
       "      <td>0</td>\n",
       "    </tr>\n",
       "  </tbody>\n",
       "</table>\n",
       "</div>"
      ],
      "text/plain": [
       "           Neighborhood  ATM  American Restaurant  Arcade  Art Gallery  \\\n",
       "0  Ahmedabad Cantonment    0                    0       0            0   \n",
       "1  Ahmedabad Cantonment    0                    0       0            0   \n",
       "2  Ahmedabad Cantonment    0                    0       0            0   \n",
       "3  Ahmedabad Cantonment    0                    0       0            1   \n",
       "4             Alam Roza    0                    0       0            0   \n",
       "\n",
       "   Arts & Crafts Store  Asian Restaurant  Australian Restaurant  BBQ Joint  \\\n",
       "0                    0                 0                      0          0   \n",
       "1                    0                 0                      0          0   \n",
       "2                    0                 0                      0          0   \n",
       "3                    0                 0                      0          0   \n",
       "4                    0                 0                      0          0   \n",
       "\n",
       "   Bakery  Big Box Store  Bistro  Boat or Ferry  Bookstore  Breakfast Spot  \\\n",
       "0       0              0       0              0          0               0   \n",
       "1       0              0       0              0          0               0   \n",
       "2       0              0       0              0          0               0   \n",
       "3       0              0       0              0          0               0   \n",
       "4       0              0       0              0          0               0   \n",
       "\n",
       "   Brewery  Bus Station  Business Service  Cafeteria  Café  Castle  \\\n",
       "0        0            0                 0          0     0       0   \n",
       "1        0            0                 0          0     0       0   \n",
       "2        0            0                 0          0     0       1   \n",
       "3        0            0                 0          0     0       0   \n",
       "4        0            0                 0          0     0       0   \n",
       "\n",
       "   Child Care Service  Chinese Restaurant  Clothing Store  Cocktail Bar  \\\n",
       "0                   0                   0               0             0   \n",
       "1                   0                   0               0             0   \n",
       "2                   0                   0               0             0   \n",
       "3                   0                   0               0             0   \n",
       "4                   0                   0               0             0   \n",
       "\n",
       "   Coffee Shop  Cupcake Shop  Department Store  Dessert Shop  Diner  \\\n",
       "0            0             0                 0             0      0   \n",
       "1            0             0                 0             0      0   \n",
       "2            0             0                 0             0      0   \n",
       "3            0             0                 0             0      0   \n",
       "4            0             0                 0             0      0   \n",
       "\n",
       "   Donut Shop  Electronics Store  Farmers Market  Fast Food Restaurant  \\\n",
       "0           0                  0               0                     0   \n",
       "1           0                  0               0                     0   \n",
       "2           0                  0               0                     0   \n",
       "3           0                  0               0                     0   \n",
       "4           0                  0               0                     0   \n",
       "\n",
       "   Flea Market  Food Court  Food Truck  Furniture / Home Store  Garden  \\\n",
       "0            0           0           0                       0       0   \n",
       "1            0           0           0                       0       0   \n",
       "2            0           0           0                       0       0   \n",
       "3            0           0           0                       0       0   \n",
       "4            0           1           0                       0       0   \n",
       "\n",
       "   Gas Station  Gourmet Shop  Gym  Gym / Fitness Center  Historic Site  \\\n",
       "0            0             0    0                     0              0   \n",
       "1            0             0    0                     0              0   \n",
       "2            0             0    0                     0              0   \n",
       "3            0             0    0                     0              0   \n",
       "4            0             0    0                     0              0   \n",
       "\n",
       "   History Museum  Hotel  IT Services  Ice Cream Shop  Indian Restaurant  \\\n",
       "0               0      0            0               0                  0   \n",
       "1               0      0            0               0                  0   \n",
       "2               0      0            0               0                  0   \n",
       "3               0      0            0               0                  0   \n",
       "4               0      0            0               0                  0   \n",
       "\n",
       "   Jewelry Store  Juice Bar  Kitchen Supply Store  Lake  Light Rail Station  \\\n",
       "0              0          0                     0     0                   0   \n",
       "1              0          0                     0     0                   0   \n",
       "2              0          0                     0     0                   0   \n",
       "3              0          0                     0     0                   0   \n",
       "4              0          0                     0     0                   0   \n",
       "\n",
       "   Liquor Store  Mediterranean Restaurant  Men's Store  Metro Station  \\\n",
       "0             0                         0            0              0   \n",
       "1             0                         0            0              0   \n",
       "2             0                         0            0              0   \n",
       "3             0                         0            0              0   \n",
       "4             0                         0            0              0   \n",
       "\n",
       "   Mexican Restaurant  Motel  Moving Target  Multiplex  Office  \\\n",
       "0                   0      0              0          0       0   \n",
       "1                   0      0              0          0       0   \n",
       "2                   0      0              0          0       0   \n",
       "3                   0      0              0          0       0   \n",
       "4                   0      0              0          0       0   \n",
       "\n",
       "   Paper / Office Supplies Store  Park  Pharmacy  Pizza Place  Platform  \\\n",
       "0                              0     1         0            0         0   \n",
       "1                              0     0         0            0         0   \n",
       "2                              0     0         0            0         0   \n",
       "3                              0     0         0            0         0   \n",
       "4                              0     0         0            0         0   \n",
       "\n",
       "   Pool Hall  Rest Area  Restaurant  River  Sandwich Place  Shoe Store  \\\n",
       "0          0          0           0      0               0           0   \n",
       "1          0          0           0      1               0           0   \n",
       "2          0          0           0      0               0           0   \n",
       "3          0          0           0      0               0           0   \n",
       "4          0          0           0      0               0           0   \n",
       "\n",
       "   Shopping Mall  Snack Place  Sporting Goods Shop  Tea Room  \\\n",
       "0              0            0                    0         0   \n",
       "1              0            0                    0         0   \n",
       "2              0            0                    0         0   \n",
       "3              0            0                    0         0   \n",
       "4              0            0                    0         0   \n",
       "\n",
       "   Toy / Game Store  Train Station  Vegetarian / Vegan Restaurant  \\\n",
       "0                 0              0                              0   \n",
       "1                 0              0                              0   \n",
       "2                 0              0                              0   \n",
       "3                 0              0                              0   \n",
       "4                 0              0                              0   \n",
       "\n",
       "   Video Store  Yoga Studio  \n",
       "0            0            0  \n",
       "1            0            0  \n",
       "2            0            0  \n",
       "3            0            0  \n",
       "4            0            0  "
      ]
     },
     "execution_count": 132,
     "metadata": {},
     "output_type": "execute_result"
    }
   ],
   "source": [
    "# one hot encoding\n",
    "ahmedabad_onehot = pd.get_dummies(ahmedabad_venues[['Venue Category']], prefix=\"\", prefix_sep=\"\")\n",
    "\n",
    "# add neighborhood column back to dataframe\n",
    "ahmedabad_onehot['Neighborhood'] = ahmedabad_venues['Neighborhood'] \n",
    "\n",
    "# move neighborhood column to the first column\n",
    "fixed_columns = [ahmedabad_onehot.columns[-1]] + list(ahmedabad_onehot.columns[:-1])\n",
    "ahmedabad_onehot = ahmedabad_onehot[fixed_columns]\n",
    "\n",
    "ahmedabad_onehot.head()"
   ]
  },
  {
   "cell_type": "code",
   "execution_count": 133,
   "metadata": {},
   "outputs": [
    {
     "data": {
      "text/html": [
       "<div>\n",
       "<style scoped>\n",
       "    .dataframe tbody tr th:only-of-type {\n",
       "        vertical-align: middle;\n",
       "    }\n",
       "\n",
       "    .dataframe tbody tr th {\n",
       "        vertical-align: top;\n",
       "    }\n",
       "\n",
       "    .dataframe thead th {\n",
       "        text-align: right;\n",
       "    }\n",
       "</style>\n",
       "<table border=\"1\" class=\"dataframe\">\n",
       "  <thead>\n",
       "    <tr style=\"text-align: right;\">\n",
       "      <th></th>\n",
       "      <th>Neighborhood</th>\n",
       "      <th>ATM</th>\n",
       "      <th>American Restaurant</th>\n",
       "      <th>Arcade</th>\n",
       "      <th>Art Gallery</th>\n",
       "      <th>Arts &amp; Crafts Store</th>\n",
       "      <th>Asian Restaurant</th>\n",
       "      <th>Australian Restaurant</th>\n",
       "      <th>BBQ Joint</th>\n",
       "      <th>Bakery</th>\n",
       "      <th>Big Box Store</th>\n",
       "      <th>Bistro</th>\n",
       "      <th>Boat or Ferry</th>\n",
       "      <th>Bookstore</th>\n",
       "      <th>Breakfast Spot</th>\n",
       "      <th>Brewery</th>\n",
       "      <th>Bus Station</th>\n",
       "      <th>Business Service</th>\n",
       "      <th>Cafeteria</th>\n",
       "      <th>Café</th>\n",
       "      <th>Castle</th>\n",
       "      <th>Child Care Service</th>\n",
       "      <th>Chinese Restaurant</th>\n",
       "      <th>Clothing Store</th>\n",
       "      <th>Cocktail Bar</th>\n",
       "      <th>Coffee Shop</th>\n",
       "      <th>Cupcake Shop</th>\n",
       "      <th>Department Store</th>\n",
       "      <th>Dessert Shop</th>\n",
       "      <th>Diner</th>\n",
       "      <th>Donut Shop</th>\n",
       "      <th>Electronics Store</th>\n",
       "      <th>Farmers Market</th>\n",
       "      <th>Fast Food Restaurant</th>\n",
       "      <th>Flea Market</th>\n",
       "      <th>Food Court</th>\n",
       "      <th>Food Truck</th>\n",
       "      <th>Furniture / Home Store</th>\n",
       "      <th>Garden</th>\n",
       "      <th>Gas Station</th>\n",
       "      <th>Gourmet Shop</th>\n",
       "      <th>Gym</th>\n",
       "      <th>Gym / Fitness Center</th>\n",
       "      <th>Historic Site</th>\n",
       "      <th>History Museum</th>\n",
       "      <th>Hotel</th>\n",
       "      <th>IT Services</th>\n",
       "      <th>Ice Cream Shop</th>\n",
       "      <th>Indian Restaurant</th>\n",
       "      <th>Jewelry Store</th>\n",
       "      <th>Juice Bar</th>\n",
       "      <th>Kitchen Supply Store</th>\n",
       "      <th>Lake</th>\n",
       "      <th>Light Rail Station</th>\n",
       "      <th>Liquor Store</th>\n",
       "      <th>Mediterranean Restaurant</th>\n",
       "      <th>Men's Store</th>\n",
       "      <th>Metro Station</th>\n",
       "      <th>Mexican Restaurant</th>\n",
       "      <th>Motel</th>\n",
       "      <th>Moving Target</th>\n",
       "      <th>Multiplex</th>\n",
       "      <th>Office</th>\n",
       "      <th>Paper / Office Supplies Store</th>\n",
       "      <th>Park</th>\n",
       "      <th>Pharmacy</th>\n",
       "      <th>Pizza Place</th>\n",
       "      <th>Platform</th>\n",
       "      <th>Pool Hall</th>\n",
       "      <th>Rest Area</th>\n",
       "      <th>Restaurant</th>\n",
       "      <th>River</th>\n",
       "      <th>Sandwich Place</th>\n",
       "      <th>Shoe Store</th>\n",
       "      <th>Shopping Mall</th>\n",
       "      <th>Snack Place</th>\n",
       "      <th>Sporting Goods Shop</th>\n",
       "      <th>Tea Room</th>\n",
       "      <th>Toy / Game Store</th>\n",
       "      <th>Train Station</th>\n",
       "      <th>Vegetarian / Vegan Restaurant</th>\n",
       "      <th>Video Store</th>\n",
       "      <th>Yoga Studio</th>\n",
       "    </tr>\n",
       "  </thead>\n",
       "  <tbody>\n",
       "    <tr>\n",
       "      <th>0</th>\n",
       "      <td>Ahmedabad Cantonment</td>\n",
       "      <td>0.000000</td>\n",
       "      <td>0.0</td>\n",
       "      <td>0.0</td>\n",
       "      <td>0.25</td>\n",
       "      <td>0.0</td>\n",
       "      <td>0.0</td>\n",
       "      <td>0.0</td>\n",
       "      <td>0.000000</td>\n",
       "      <td>0.000000</td>\n",
       "      <td>0.0</td>\n",
       "      <td>0.0</td>\n",
       "      <td>0.0</td>\n",
       "      <td>0.0</td>\n",
       "      <td>0.0</td>\n",
       "      <td>0.0</td>\n",
       "      <td>0.0</td>\n",
       "      <td>0.0</td>\n",
       "      <td>0.0</td>\n",
       "      <td>0.000000</td>\n",
       "      <td>0.25</td>\n",
       "      <td>0.0</td>\n",
       "      <td>0.0</td>\n",
       "      <td>0.0</td>\n",
       "      <td>0.0</td>\n",
       "      <td>0.0</td>\n",
       "      <td>0.0</td>\n",
       "      <td>0.0</td>\n",
       "      <td>0.0</td>\n",
       "      <td>0.000000</td>\n",
       "      <td>0.0</td>\n",
       "      <td>0.0</td>\n",
       "      <td>0.0</td>\n",
       "      <td>0.000000</td>\n",
       "      <td>0.0</td>\n",
       "      <td>0.0</td>\n",
       "      <td>0.0</td>\n",
       "      <td>0.0</td>\n",
       "      <td>0.0</td>\n",
       "      <td>0.0</td>\n",
       "      <td>0.0</td>\n",
       "      <td>0.0</td>\n",
       "      <td>0.0</td>\n",
       "      <td>0.0</td>\n",
       "      <td>0.0</td>\n",
       "      <td>0.0</td>\n",
       "      <td>0.0</td>\n",
       "      <td>0.0</td>\n",
       "      <td>0.000000</td>\n",
       "      <td>0.0</td>\n",
       "      <td>0.0</td>\n",
       "      <td>0.0</td>\n",
       "      <td>0.0</td>\n",
       "      <td>0.0</td>\n",
       "      <td>0.0</td>\n",
       "      <td>0.00</td>\n",
       "      <td>0.0</td>\n",
       "      <td>0.0</td>\n",
       "      <td>0.000000</td>\n",
       "      <td>0.0</td>\n",
       "      <td>0.0</td>\n",
       "      <td>0.0</td>\n",
       "      <td>0.0</td>\n",
       "      <td>0.0</td>\n",
       "      <td>0.25</td>\n",
       "      <td>0.0</td>\n",
       "      <td>0.000000</td>\n",
       "      <td>0.0</td>\n",
       "      <td>0.0</td>\n",
       "      <td>0.0</td>\n",
       "      <td>0.000000</td>\n",
       "      <td>0.25</td>\n",
       "      <td>0.0</td>\n",
       "      <td>0.0</td>\n",
       "      <td>0.0</td>\n",
       "      <td>0.0</td>\n",
       "      <td>0.00</td>\n",
       "      <td>0.000000</td>\n",
       "      <td>0.0</td>\n",
       "      <td>0.0</td>\n",
       "      <td>0.000000</td>\n",
       "      <td>0.0</td>\n",
       "      <td>0.000000</td>\n",
       "    </tr>\n",
       "    <tr>\n",
       "      <th>1</th>\n",
       "      <td>Alam Roza</td>\n",
       "      <td>0.000000</td>\n",
       "      <td>0.0</td>\n",
       "      <td>0.0</td>\n",
       "      <td>0.00</td>\n",
       "      <td>0.0</td>\n",
       "      <td>0.0</td>\n",
       "      <td>0.0</td>\n",
       "      <td>0.000000</td>\n",
       "      <td>0.000000</td>\n",
       "      <td>0.0</td>\n",
       "      <td>0.0</td>\n",
       "      <td>0.0</td>\n",
       "      <td>0.0</td>\n",
       "      <td>0.0</td>\n",
       "      <td>0.0</td>\n",
       "      <td>0.0</td>\n",
       "      <td>0.0</td>\n",
       "      <td>0.0</td>\n",
       "      <td>0.000000</td>\n",
       "      <td>0.00</td>\n",
       "      <td>0.0</td>\n",
       "      <td>0.0</td>\n",
       "      <td>0.0</td>\n",
       "      <td>0.0</td>\n",
       "      <td>0.0</td>\n",
       "      <td>0.0</td>\n",
       "      <td>0.0</td>\n",
       "      <td>0.0</td>\n",
       "      <td>0.000000</td>\n",
       "      <td>0.0</td>\n",
       "      <td>0.0</td>\n",
       "      <td>0.0</td>\n",
       "      <td>0.000000</td>\n",
       "      <td>0.0</td>\n",
       "      <td>0.5</td>\n",
       "      <td>0.0</td>\n",
       "      <td>0.0</td>\n",
       "      <td>0.0</td>\n",
       "      <td>0.0</td>\n",
       "      <td>0.0</td>\n",
       "      <td>0.0</td>\n",
       "      <td>0.0</td>\n",
       "      <td>0.0</td>\n",
       "      <td>0.0</td>\n",
       "      <td>0.0</td>\n",
       "      <td>0.0</td>\n",
       "      <td>0.5</td>\n",
       "      <td>0.000000</td>\n",
       "      <td>0.0</td>\n",
       "      <td>0.0</td>\n",
       "      <td>0.0</td>\n",
       "      <td>0.0</td>\n",
       "      <td>0.0</td>\n",
       "      <td>0.0</td>\n",
       "      <td>0.00</td>\n",
       "      <td>0.0</td>\n",
       "      <td>0.0</td>\n",
       "      <td>0.000000</td>\n",
       "      <td>0.0</td>\n",
       "      <td>0.0</td>\n",
       "      <td>0.0</td>\n",
       "      <td>0.0</td>\n",
       "      <td>0.0</td>\n",
       "      <td>0.00</td>\n",
       "      <td>0.0</td>\n",
       "      <td>0.000000</td>\n",
       "      <td>0.0</td>\n",
       "      <td>0.0</td>\n",
       "      <td>0.0</td>\n",
       "      <td>0.000000</td>\n",
       "      <td>0.00</td>\n",
       "      <td>0.0</td>\n",
       "      <td>0.0</td>\n",
       "      <td>0.0</td>\n",
       "      <td>0.0</td>\n",
       "      <td>0.00</td>\n",
       "      <td>0.000000</td>\n",
       "      <td>0.0</td>\n",
       "      <td>0.0</td>\n",
       "      <td>0.000000</td>\n",
       "      <td>0.0</td>\n",
       "      <td>0.000000</td>\n",
       "    </tr>\n",
       "    <tr>\n",
       "      <th>2</th>\n",
       "      <td>Ambawadi</td>\n",
       "      <td>0.000000</td>\n",
       "      <td>0.0</td>\n",
       "      <td>0.0</td>\n",
       "      <td>0.00</td>\n",
       "      <td>0.0</td>\n",
       "      <td>0.0</td>\n",
       "      <td>0.0</td>\n",
       "      <td>0.000000</td>\n",
       "      <td>0.000000</td>\n",
       "      <td>0.0</td>\n",
       "      <td>0.0</td>\n",
       "      <td>0.0</td>\n",
       "      <td>0.0</td>\n",
       "      <td>0.0</td>\n",
       "      <td>0.0</td>\n",
       "      <td>0.0</td>\n",
       "      <td>0.0</td>\n",
       "      <td>0.0</td>\n",
       "      <td>0.250000</td>\n",
       "      <td>0.00</td>\n",
       "      <td>0.0</td>\n",
       "      <td>0.0</td>\n",
       "      <td>0.0</td>\n",
       "      <td>0.0</td>\n",
       "      <td>0.0</td>\n",
       "      <td>0.0</td>\n",
       "      <td>0.0</td>\n",
       "      <td>0.0</td>\n",
       "      <td>0.000000</td>\n",
       "      <td>0.0</td>\n",
       "      <td>0.0</td>\n",
       "      <td>0.0</td>\n",
       "      <td>0.000000</td>\n",
       "      <td>0.0</td>\n",
       "      <td>0.0</td>\n",
       "      <td>0.0</td>\n",
       "      <td>0.0</td>\n",
       "      <td>0.0</td>\n",
       "      <td>0.0</td>\n",
       "      <td>0.0</td>\n",
       "      <td>0.0</td>\n",
       "      <td>0.0</td>\n",
       "      <td>0.0</td>\n",
       "      <td>0.0</td>\n",
       "      <td>0.0</td>\n",
       "      <td>0.0</td>\n",
       "      <td>0.0</td>\n",
       "      <td>0.250000</td>\n",
       "      <td>0.0</td>\n",
       "      <td>0.0</td>\n",
       "      <td>0.0</td>\n",
       "      <td>0.0</td>\n",
       "      <td>0.0</td>\n",
       "      <td>0.0</td>\n",
       "      <td>0.25</td>\n",
       "      <td>0.0</td>\n",
       "      <td>0.0</td>\n",
       "      <td>0.000000</td>\n",
       "      <td>0.0</td>\n",
       "      <td>0.0</td>\n",
       "      <td>0.0</td>\n",
       "      <td>0.0</td>\n",
       "      <td>0.0</td>\n",
       "      <td>0.00</td>\n",
       "      <td>0.0</td>\n",
       "      <td>0.000000</td>\n",
       "      <td>0.0</td>\n",
       "      <td>0.0</td>\n",
       "      <td>0.0</td>\n",
       "      <td>0.000000</td>\n",
       "      <td>0.00</td>\n",
       "      <td>0.0</td>\n",
       "      <td>0.0</td>\n",
       "      <td>0.0</td>\n",
       "      <td>0.0</td>\n",
       "      <td>0.25</td>\n",
       "      <td>0.000000</td>\n",
       "      <td>0.0</td>\n",
       "      <td>0.0</td>\n",
       "      <td>0.000000</td>\n",
       "      <td>0.0</td>\n",
       "      <td>0.000000</td>\n",
       "    </tr>\n",
       "    <tr>\n",
       "      <th>3</th>\n",
       "      <td>Amraiwadi</td>\n",
       "      <td>0.666667</td>\n",
       "      <td>0.0</td>\n",
       "      <td>0.0</td>\n",
       "      <td>0.00</td>\n",
       "      <td>0.0</td>\n",
       "      <td>0.0</td>\n",
       "      <td>0.0</td>\n",
       "      <td>0.000000</td>\n",
       "      <td>0.000000</td>\n",
       "      <td>0.0</td>\n",
       "      <td>0.0</td>\n",
       "      <td>0.0</td>\n",
       "      <td>0.0</td>\n",
       "      <td>0.0</td>\n",
       "      <td>0.0</td>\n",
       "      <td>0.0</td>\n",
       "      <td>0.0</td>\n",
       "      <td>0.0</td>\n",
       "      <td>0.000000</td>\n",
       "      <td>0.00</td>\n",
       "      <td>0.0</td>\n",
       "      <td>0.0</td>\n",
       "      <td>0.0</td>\n",
       "      <td>0.0</td>\n",
       "      <td>0.0</td>\n",
       "      <td>0.0</td>\n",
       "      <td>0.0</td>\n",
       "      <td>0.0</td>\n",
       "      <td>0.000000</td>\n",
       "      <td>0.0</td>\n",
       "      <td>0.0</td>\n",
       "      <td>0.0</td>\n",
       "      <td>0.000000</td>\n",
       "      <td>0.0</td>\n",
       "      <td>0.0</td>\n",
       "      <td>0.0</td>\n",
       "      <td>0.0</td>\n",
       "      <td>0.0</td>\n",
       "      <td>0.0</td>\n",
       "      <td>0.0</td>\n",
       "      <td>0.0</td>\n",
       "      <td>0.0</td>\n",
       "      <td>0.0</td>\n",
       "      <td>0.0</td>\n",
       "      <td>0.0</td>\n",
       "      <td>0.0</td>\n",
       "      <td>0.0</td>\n",
       "      <td>0.333333</td>\n",
       "      <td>0.0</td>\n",
       "      <td>0.0</td>\n",
       "      <td>0.0</td>\n",
       "      <td>0.0</td>\n",
       "      <td>0.0</td>\n",
       "      <td>0.0</td>\n",
       "      <td>0.00</td>\n",
       "      <td>0.0</td>\n",
       "      <td>0.0</td>\n",
       "      <td>0.000000</td>\n",
       "      <td>0.0</td>\n",
       "      <td>0.0</td>\n",
       "      <td>0.0</td>\n",
       "      <td>0.0</td>\n",
       "      <td>0.0</td>\n",
       "      <td>0.00</td>\n",
       "      <td>0.0</td>\n",
       "      <td>0.000000</td>\n",
       "      <td>0.0</td>\n",
       "      <td>0.0</td>\n",
       "      <td>0.0</td>\n",
       "      <td>0.000000</td>\n",
       "      <td>0.00</td>\n",
       "      <td>0.0</td>\n",
       "      <td>0.0</td>\n",
       "      <td>0.0</td>\n",
       "      <td>0.0</td>\n",
       "      <td>0.00</td>\n",
       "      <td>0.000000</td>\n",
       "      <td>0.0</td>\n",
       "      <td>0.0</td>\n",
       "      <td>0.000000</td>\n",
       "      <td>0.0</td>\n",
       "      <td>0.000000</td>\n",
       "    </tr>\n",
       "    <tr>\n",
       "      <th>4</th>\n",
       "      <td>Anand Nagar (Ahmedabad)</td>\n",
       "      <td>0.000000</td>\n",
       "      <td>0.0</td>\n",
       "      <td>0.0</td>\n",
       "      <td>0.00</td>\n",
       "      <td>0.0</td>\n",
       "      <td>0.0</td>\n",
       "      <td>0.0</td>\n",
       "      <td>0.111111</td>\n",
       "      <td>0.055556</td>\n",
       "      <td>0.0</td>\n",
       "      <td>0.0</td>\n",
       "      <td>0.0</td>\n",
       "      <td>0.0</td>\n",
       "      <td>0.0</td>\n",
       "      <td>0.0</td>\n",
       "      <td>0.0</td>\n",
       "      <td>0.0</td>\n",
       "      <td>0.0</td>\n",
       "      <td>0.111111</td>\n",
       "      <td>0.00</td>\n",
       "      <td>0.0</td>\n",
       "      <td>0.0</td>\n",
       "      <td>0.0</td>\n",
       "      <td>0.0</td>\n",
       "      <td>0.0</td>\n",
       "      <td>0.0</td>\n",
       "      <td>0.0</td>\n",
       "      <td>0.0</td>\n",
       "      <td>0.055556</td>\n",
       "      <td>0.0</td>\n",
       "      <td>0.0</td>\n",
       "      <td>0.0</td>\n",
       "      <td>0.166667</td>\n",
       "      <td>0.0</td>\n",
       "      <td>0.0</td>\n",
       "      <td>0.0</td>\n",
       "      <td>0.0</td>\n",
       "      <td>0.0</td>\n",
       "      <td>0.0</td>\n",
       "      <td>0.0</td>\n",
       "      <td>0.0</td>\n",
       "      <td>0.0</td>\n",
       "      <td>0.0</td>\n",
       "      <td>0.0</td>\n",
       "      <td>0.0</td>\n",
       "      <td>0.0</td>\n",
       "      <td>0.0</td>\n",
       "      <td>0.111111</td>\n",
       "      <td>0.0</td>\n",
       "      <td>0.0</td>\n",
       "      <td>0.0</td>\n",
       "      <td>0.0</td>\n",
       "      <td>0.0</td>\n",
       "      <td>0.0</td>\n",
       "      <td>0.00</td>\n",
       "      <td>0.0</td>\n",
       "      <td>0.0</td>\n",
       "      <td>0.055556</td>\n",
       "      <td>0.0</td>\n",
       "      <td>0.0</td>\n",
       "      <td>0.0</td>\n",
       "      <td>0.0</td>\n",
       "      <td>0.0</td>\n",
       "      <td>0.00</td>\n",
       "      <td>0.0</td>\n",
       "      <td>0.111111</td>\n",
       "      <td>0.0</td>\n",
       "      <td>0.0</td>\n",
       "      <td>0.0</td>\n",
       "      <td>0.055556</td>\n",
       "      <td>0.00</td>\n",
       "      <td>0.0</td>\n",
       "      <td>0.0</td>\n",
       "      <td>0.0</td>\n",
       "      <td>0.0</td>\n",
       "      <td>0.00</td>\n",
       "      <td>0.055556</td>\n",
       "      <td>0.0</td>\n",
       "      <td>0.0</td>\n",
       "      <td>0.055556</td>\n",
       "      <td>0.0</td>\n",
       "      <td>0.055556</td>\n",
       "    </tr>\n",
       "  </tbody>\n",
       "</table>\n",
       "</div>"
      ],
      "text/plain": [
       "              Neighborhood       ATM  American Restaurant  Arcade  \\\n",
       "0     Ahmedabad Cantonment  0.000000                  0.0     0.0   \n",
       "1                Alam Roza  0.000000                  0.0     0.0   \n",
       "2                 Ambawadi  0.000000                  0.0     0.0   \n",
       "3                Amraiwadi  0.666667                  0.0     0.0   \n",
       "4  Anand Nagar (Ahmedabad)  0.000000                  0.0     0.0   \n",
       "\n",
       "   Art Gallery  Arts & Crafts Store  Asian Restaurant  Australian Restaurant  \\\n",
       "0         0.25                  0.0               0.0                    0.0   \n",
       "1         0.00                  0.0               0.0                    0.0   \n",
       "2         0.00                  0.0               0.0                    0.0   \n",
       "3         0.00                  0.0               0.0                    0.0   \n",
       "4         0.00                  0.0               0.0                    0.0   \n",
       "\n",
       "   BBQ Joint    Bakery  Big Box Store  Bistro  Boat or Ferry  Bookstore  \\\n",
       "0   0.000000  0.000000            0.0     0.0            0.0        0.0   \n",
       "1   0.000000  0.000000            0.0     0.0            0.0        0.0   \n",
       "2   0.000000  0.000000            0.0     0.0            0.0        0.0   \n",
       "3   0.000000  0.000000            0.0     0.0            0.0        0.0   \n",
       "4   0.111111  0.055556            0.0     0.0            0.0        0.0   \n",
       "\n",
       "   Breakfast Spot  Brewery  Bus Station  Business Service  Cafeteria  \\\n",
       "0             0.0      0.0          0.0               0.0        0.0   \n",
       "1             0.0      0.0          0.0               0.0        0.0   \n",
       "2             0.0      0.0          0.0               0.0        0.0   \n",
       "3             0.0      0.0          0.0               0.0        0.0   \n",
       "4             0.0      0.0          0.0               0.0        0.0   \n",
       "\n",
       "       Café  Castle  Child Care Service  Chinese Restaurant  Clothing Store  \\\n",
       "0  0.000000    0.25                 0.0                 0.0             0.0   \n",
       "1  0.000000    0.00                 0.0                 0.0             0.0   \n",
       "2  0.250000    0.00                 0.0                 0.0             0.0   \n",
       "3  0.000000    0.00                 0.0                 0.0             0.0   \n",
       "4  0.111111    0.00                 0.0                 0.0             0.0   \n",
       "\n",
       "   Cocktail Bar  Coffee Shop  Cupcake Shop  Department Store  Dessert Shop  \\\n",
       "0           0.0          0.0           0.0               0.0           0.0   \n",
       "1           0.0          0.0           0.0               0.0           0.0   \n",
       "2           0.0          0.0           0.0               0.0           0.0   \n",
       "3           0.0          0.0           0.0               0.0           0.0   \n",
       "4           0.0          0.0           0.0               0.0           0.0   \n",
       "\n",
       "      Diner  Donut Shop  Electronics Store  Farmers Market  \\\n",
       "0  0.000000         0.0                0.0             0.0   \n",
       "1  0.000000         0.0                0.0             0.0   \n",
       "2  0.000000         0.0                0.0             0.0   \n",
       "3  0.000000         0.0                0.0             0.0   \n",
       "4  0.055556         0.0                0.0             0.0   \n",
       "\n",
       "   Fast Food Restaurant  Flea Market  Food Court  Food Truck  \\\n",
       "0              0.000000          0.0         0.0         0.0   \n",
       "1              0.000000          0.0         0.5         0.0   \n",
       "2              0.000000          0.0         0.0         0.0   \n",
       "3              0.000000          0.0         0.0         0.0   \n",
       "4              0.166667          0.0         0.0         0.0   \n",
       "\n",
       "   Furniture / Home Store  Garden  Gas Station  Gourmet Shop  Gym  \\\n",
       "0                     0.0     0.0          0.0           0.0  0.0   \n",
       "1                     0.0     0.0          0.0           0.0  0.0   \n",
       "2                     0.0     0.0          0.0           0.0  0.0   \n",
       "3                     0.0     0.0          0.0           0.0  0.0   \n",
       "4                     0.0     0.0          0.0           0.0  0.0   \n",
       "\n",
       "   Gym / Fitness Center  Historic Site  History Museum  Hotel  IT Services  \\\n",
       "0                   0.0            0.0             0.0    0.0          0.0   \n",
       "1                   0.0            0.0             0.0    0.0          0.0   \n",
       "2                   0.0            0.0             0.0    0.0          0.0   \n",
       "3                   0.0            0.0             0.0    0.0          0.0   \n",
       "4                   0.0            0.0             0.0    0.0          0.0   \n",
       "\n",
       "   Ice Cream Shop  Indian Restaurant  Jewelry Store  Juice Bar  \\\n",
       "0             0.0           0.000000            0.0        0.0   \n",
       "1             0.5           0.000000            0.0        0.0   \n",
       "2             0.0           0.250000            0.0        0.0   \n",
       "3             0.0           0.333333            0.0        0.0   \n",
       "4             0.0           0.111111            0.0        0.0   \n",
       "\n",
       "   Kitchen Supply Store  Lake  Light Rail Station  Liquor Store  \\\n",
       "0                   0.0   0.0                 0.0           0.0   \n",
       "1                   0.0   0.0                 0.0           0.0   \n",
       "2                   0.0   0.0                 0.0           0.0   \n",
       "3                   0.0   0.0                 0.0           0.0   \n",
       "4                   0.0   0.0                 0.0           0.0   \n",
       "\n",
       "   Mediterranean Restaurant  Men's Store  Metro Station  Mexican Restaurant  \\\n",
       "0                      0.00          0.0            0.0            0.000000   \n",
       "1                      0.00          0.0            0.0            0.000000   \n",
       "2                      0.25          0.0            0.0            0.000000   \n",
       "3                      0.00          0.0            0.0            0.000000   \n",
       "4                      0.00          0.0            0.0            0.055556   \n",
       "\n",
       "   Motel  Moving Target  Multiplex  Office  Paper / Office Supplies Store  \\\n",
       "0    0.0            0.0        0.0     0.0                            0.0   \n",
       "1    0.0            0.0        0.0     0.0                            0.0   \n",
       "2    0.0            0.0        0.0     0.0                            0.0   \n",
       "3    0.0            0.0        0.0     0.0                            0.0   \n",
       "4    0.0            0.0        0.0     0.0                            0.0   \n",
       "\n",
       "   Park  Pharmacy  Pizza Place  Platform  Pool Hall  Rest Area  Restaurant  \\\n",
       "0  0.25       0.0     0.000000       0.0        0.0        0.0    0.000000   \n",
       "1  0.00       0.0     0.000000       0.0        0.0        0.0    0.000000   \n",
       "2  0.00       0.0     0.000000       0.0        0.0        0.0    0.000000   \n",
       "3  0.00       0.0     0.000000       0.0        0.0        0.0    0.000000   \n",
       "4  0.00       0.0     0.111111       0.0        0.0        0.0    0.055556   \n",
       "\n",
       "   River  Sandwich Place  Shoe Store  Shopping Mall  Snack Place  \\\n",
       "0   0.25             0.0         0.0            0.0          0.0   \n",
       "1   0.00             0.0         0.0            0.0          0.0   \n",
       "2   0.00             0.0         0.0            0.0          0.0   \n",
       "3   0.00             0.0         0.0            0.0          0.0   \n",
       "4   0.00             0.0         0.0            0.0          0.0   \n",
       "\n",
       "   Sporting Goods Shop  Tea Room  Toy / Game Store  Train Station  \\\n",
       "0                 0.00  0.000000               0.0            0.0   \n",
       "1                 0.00  0.000000               0.0            0.0   \n",
       "2                 0.25  0.000000               0.0            0.0   \n",
       "3                 0.00  0.000000               0.0            0.0   \n",
       "4                 0.00  0.055556               0.0            0.0   \n",
       "\n",
       "   Vegetarian / Vegan Restaurant  Video Store  Yoga Studio  \n",
       "0                       0.000000          0.0     0.000000  \n",
       "1                       0.000000          0.0     0.000000  \n",
       "2                       0.000000          0.0     0.000000  \n",
       "3                       0.000000          0.0     0.000000  \n",
       "4                       0.055556          0.0     0.055556  "
      ]
     },
     "execution_count": 133,
     "metadata": {},
     "output_type": "execute_result"
    }
   ],
   "source": [
    "ahmedabad_grouped = ahmedabad_onehot.groupby('Neighborhood').mean().reset_index()\n",
    "ahmedabad_grouped.head()"
   ]
  },
  {
   "cell_type": "code",
   "execution_count": 134,
   "metadata": {},
   "outputs": [
    {
     "data": {
      "text/plain": [
       "(47, 83)"
      ]
     },
     "execution_count": 134,
     "metadata": {},
     "output_type": "execute_result"
    }
   ],
   "source": [
    "ahmedabad_grouped.shape"
   ]
  },
  {
   "cell_type": "code",
   "execution_count": 135,
   "metadata": {
    "scrolled": true
   },
   "outputs": [
    {
     "name": "stdout",
     "output_type": "stream",
     "text": [
      "----Ahmedabad Cantonment----\n",
      "          venue  freq\n",
      "0          Park  0.25\n",
      "1   Art Gallery  0.25\n",
      "2        Castle  0.25\n",
      "3         River  0.25\n",
      "4  Liquor Store  0.00\n",
      "\n",
      "\n",
      "----Alam Roza----\n",
      "                venue  freq\n",
      "0      Ice Cream Shop   0.5\n",
      "1          Food Court   0.5\n",
      "2                 ATM   0.0\n",
      "3  Light Rail Station   0.0\n",
      "4       Moving Target   0.0\n",
      "\n",
      "\n",
      "----Ambawadi----\n",
      "                      venue  freq\n",
      "0                      Café  0.25\n",
      "1         Indian Restaurant  0.25\n",
      "2       Sporting Goods Shop  0.25\n",
      "3  Mediterranean Restaurant  0.25\n",
      "4                       ATM  0.00\n",
      "\n",
      "\n",
      "----Amraiwadi----\n",
      "                venue  freq\n",
      "0                 ATM  0.67\n",
      "1   Indian Restaurant  0.33\n",
      "2  Light Rail Station  0.00\n",
      "3       Moving Target  0.00\n",
      "4               Motel  0.00\n",
      "\n",
      "\n",
      "----Anand Nagar (Ahmedabad)----\n",
      "                  venue  freq\n",
      "0  Fast Food Restaurant  0.17\n",
      "1     Indian Restaurant  0.11\n",
      "2             BBQ Joint  0.11\n",
      "3           Pizza Place  0.11\n",
      "4                  Café  0.11\n",
      "\n",
      "\n",
      "----Asarwa----\n",
      "                venue  freq\n",
      "0                 ATM   1.0\n",
      "1              Office   0.0\n",
      "2       Moving Target   0.0\n",
      "3               Motel   0.0\n",
      "4  Mexican Restaurant   0.0\n",
      "\n",
      "\n",
      "----Bapunagar----\n",
      "               venue  freq\n",
      "0             Bakery  0.50\n",
      "1        Pizza Place  0.25\n",
      "2  Indian Restaurant  0.25\n",
      "3                ATM  0.00\n",
      "4       Liquor Store  0.00\n",
      "\n",
      "\n",
      "----Bhairavnath Road----\n",
      "               venue  freq\n",
      "0                ATM  0.29\n",
      "1     Breakfast Spot  0.14\n",
      "2     Ice Cream Shop  0.14\n",
      "3  Indian Restaurant  0.14\n",
      "4        Pizza Place  0.14\n",
      "\n",
      "\n",
      "----Bopal----\n",
      "                venue  freq\n",
      "0                 Gym   0.5\n",
      "1                Park   0.5\n",
      "2  Light Rail Station   0.0\n",
      "3       Moving Target   0.0\n",
      "4               Motel   0.0\n",
      "\n",
      "\n",
      "----Chandkheda----\n",
      "               venue  freq\n",
      "0     Ice Cream Shop   0.4\n",
      "1     Farmers Market   0.2\n",
      "2  Indian Restaurant   0.2\n",
      "3        Pizza Place   0.2\n",
      "4       Liquor Store   0.0\n",
      "\n",
      "\n",
      "----Chandlodiya----\n",
      "           venue  freq\n",
      "0            ATM  0.33\n",
      "1  Train Station  0.33\n",
      "2       Platform  0.33\n",
      "3           Lake  0.00\n",
      "4          Motel  0.00\n",
      "\n",
      "\n",
      "----Dariapur (Ahmedabad)----\n",
      "           venue  freq\n",
      "0    Pizza Place   0.5\n",
      "1   Dessert Shop   0.5\n",
      "2            ATM   0.0\n",
      "3   Liquor Store   0.0\n",
      "4  Moving Target   0.0\n",
      "\n",
      "\n",
      "----Ghatlodiya----\n",
      "              venue  freq\n",
      "0    Ice Cream Shop  0.33\n",
      "1  Department Store  0.33\n",
      "2              Lake  0.33\n",
      "3               ATM  0.00\n",
      "4      Liquor Store  0.00\n",
      "\n",
      "\n",
      "----Ghodasar----\n",
      "                   venue  freq\n",
      "0                    ATM  0.14\n",
      "1  Australian Restaurant  0.14\n",
      "2           Liquor Store  0.14\n",
      "3           Cocktail Bar  0.14\n",
      "4              Rest Area  0.14\n",
      "\n",
      "\n",
      "----Girdharnagar----\n",
      "                venue  freq\n",
      "0      History Museum   1.0\n",
      "1                 ATM   0.0\n",
      "2  Light Rail Station   0.0\n",
      "3       Moving Target   0.0\n",
      "4               Motel   0.0\n",
      "\n",
      "\n",
      "----Gita Mandir Road----\n",
      "            venue  freq\n",
      "0       Multiplex  0.29\n",
      "1  Clothing Store  0.14\n",
      "2        Tea Room  0.14\n",
      "3   Shopping Mall  0.14\n",
      "4     Bus Station  0.14\n",
      "\n",
      "\n",
      "----Godhavi----\n",
      "                venue  freq\n",
      "0                 ATM   1.0\n",
      "1              Office   0.0\n",
      "2       Moving Target   0.0\n",
      "3               Motel   0.0\n",
      "4  Mexican Restaurant   0.0\n",
      "\n",
      "\n",
      "----Gota, Gujarat----\n",
      "           venue  freq\n",
      "0       Tea Room   1.0\n",
      "1            ATM   0.0\n",
      "2           Lake   0.0\n",
      "3  Moving Target   0.0\n",
      "4          Motel   0.0\n",
      "\n",
      "\n",
      "----Isanpur----\n",
      "               venue  freq\n",
      "0  Indian Restaurant  0.33\n",
      "1   Business Service  0.33\n",
      "2       Dessert Shop  0.33\n",
      "3                ATM  0.00\n",
      "4       Liquor Store  0.00\n",
      "\n",
      "\n",
      "----Jamalpur, Gujarat----\n",
      "                           venue  freq\n",
      "0                  Boat or Ferry  0.33\n",
      "1                          Motel  0.33\n",
      "2                      Cafeteria  0.33\n",
      "3  Paper / Office Supplies Store  0.00\n",
      "4                      Multiplex  0.00\n",
      "\n",
      "\n",
      "----Jawahar Chowk----\n",
      "                  venue  freq\n",
      "0        Ice Cream Shop  0.33\n",
      "1  Fast Food Restaurant  0.17\n",
      "2     Electronics Store  0.17\n",
      "3           Gas Station  0.17\n",
      "4           Pizza Place  0.17\n",
      "\n",
      "\n",
      "----Jodhpur, Gujarat----\n",
      "              venue  freq\n",
      "0          Pharmacy  0.17\n",
      "1      Dessert Shop  0.17\n",
      "2  Asian Restaurant  0.17\n",
      "3              Café  0.17\n",
      "4        Food Truck  0.17\n",
      "\n",
      "\n",
      "----Juhapura----\n",
      "                venue  freq\n",
      "0         IT Services   1.0\n",
      "1                 ATM   0.0\n",
      "2  Light Rail Station   0.0\n",
      "3       Moving Target   0.0\n",
      "4               Motel   0.0\n",
      "\n",
      "\n",
      "----Kalupur----\n",
      "               venue  freq\n",
      "0      Train Station  0.25\n",
      "1  Indian Restaurant  0.25\n",
      "2              Motel  0.12\n",
      "3   Asian Restaurant  0.12\n",
      "4           Platform  0.12\n",
      "\n",
      "\n",
      "----Khadia, Ahmedabad----\n",
      "                  venue  freq\n",
      "0  Fast Food Restaurant  0.25\n",
      "1           Snack Place  0.25\n",
      "2     Electronics Store  0.25\n",
      "3         Historic Site  0.25\n",
      "4        Ice Cream Shop  0.00\n",
      "\n",
      "\n",
      "----Khokhra----\n",
      "                           venue  freq\n",
      "0  Vegetarian / Vegan Restaurant  0.33\n",
      "1                    IT Services  0.33\n",
      "2                     Restaurant  0.33\n",
      "3                            ATM  0.00\n",
      "4             Light Rail Station  0.00\n",
      "\n",
      "\n",
      "----Makarba----\n",
      "                      venue  freq\n",
      "0        Child Care Service  0.33\n",
      "1               IT Services  0.33\n",
      "2                    Office  0.33\n",
      "3                     Hotel  0.00\n",
      "4  Mediterranean Restaurant  0.00\n",
      "\n",
      "\n",
      "----Maninagar----\n",
      "                  venue  freq\n",
      "0  Fast Food Restaurant  0.25\n",
      "1        Ice Cream Shop  0.25\n",
      "2     Electronics Store  0.12\n",
      "3     Indian Restaurant  0.12\n",
      "4           Pizza Place  0.12\n",
      "\n",
      "\n",
      "----Memnagar----\n",
      "                  venue  freq\n",
      "0  Fast Food Restaurant  0.25\n",
      "1     Indian Restaurant  0.25\n",
      "2     Electronics Store  0.12\n",
      "3                 Hotel  0.12\n",
      "4           Pizza Place  0.12\n",
      "\n",
      "\n",
      "----Naroda----\n",
      "                  venue  freq\n",
      "0  Fast Food Restaurant   0.2\n",
      "1     Indian Restaurant   0.2\n",
      "2                 Diner   0.2\n",
      "3        Breakfast Spot   0.2\n",
      "4             Multiplex   0.2\n",
      "\n",
      "\n",
      "----Nava Vadaj----\n",
      "           venue  freq\n",
      "0    Bus Station   1.0\n",
      "1            ATM   0.0\n",
      "2   Liquor Store   0.0\n",
      "3      Multiplex   0.0\n",
      "4  Moving Target   0.0\n",
      "\n",
      "\n",
      "----Navarangpura----\n",
      "                  venue  freq\n",
      "0     Indian Restaurant  0.18\n",
      "1             Bookstore  0.09\n",
      "2  Fast Food Restaurant  0.09\n",
      "3      Department Store  0.09\n",
      "4   Arts & Crafts Store  0.09\n",
      "\n",
      "\n",
      "----Odhav----\n",
      "                  venue  freq\n",
      "0  Kitchen Supply Store   1.0\n",
      "1                   ATM   0.0\n",
      "2    Light Rail Station   0.0\n",
      "3         Moving Target   0.0\n",
      "4                 Motel   0.0\n",
      "\n",
      "\n",
      "----Paldi----\n",
      "                           venue  freq\n",
      "0           Fast Food Restaurant  0.25\n",
      "1                           Café  0.25\n",
      "2                 Sandwich Place  0.12\n",
      "3  Vegetarian / Vegan Restaurant  0.12\n",
      "4                 Ice Cream Shop  0.12\n",
      "\n",
      "\n",
      "----Ramol----\n",
      "           venue  freq\n",
      "0  Moving Target   0.5\n",
      "1        Brewery   0.5\n",
      "2            ATM   0.0\n",
      "3   Liquor Store   0.0\n",
      "4      Multiplex   0.0\n",
      "\n",
      "\n",
      "----Ranip----\n",
      "                venue  freq\n",
      "0   Indian Restaurant   0.5\n",
      "1           Juice Bar   0.5\n",
      "2                 ATM   0.0\n",
      "3  Light Rail Station   0.0\n",
      "4       Moving Target   0.0\n",
      "\n",
      "\n",
      "----Sabarmati (area)----\n",
      "                  venue  freq\n",
      "0  Fast Food Restaurant   0.4\n",
      "1                 River   0.2\n",
      "2         Jewelry Store   0.2\n",
      "3        Sandwich Place   0.2\n",
      "4                   ATM   0.0\n",
      "\n",
      "\n",
      "----Sardarnagar----\n",
      "                venue  freq\n",
      "0         Coffee Shop   0.5\n",
      "1         Flea Market   0.5\n",
      "2                 ATM   0.0\n",
      "3  Light Rail Station   0.0\n",
      "4       Moving Target   0.0\n",
      "\n",
      "\n",
      "----Shahibaug----\n",
      "               venue  freq\n",
      "0     History Museum  0.25\n",
      "1              Hotel  0.25\n",
      "2  Indian Restaurant  0.25\n",
      "3             Bakery  0.25\n",
      "4       Liquor Store  0.00\n",
      "\n",
      "\n",
      "----Shastrinagar----\n",
      "               venue  freq\n",
      "0  Indian Restaurant  0.25\n",
      "1     Sandwich Place  0.17\n",
      "2        Pizza Place  0.17\n",
      "3        Video Store  0.08\n",
      "4                Gym  0.08\n",
      "\n",
      "\n",
      "----Subhash Bridge----\n",
      "                    venue  freq\n",
      "0       Indian Restaurant  0.50\n",
      "1                  Garden  0.25\n",
      "2  Furniture / Home Store  0.25\n",
      "3                     ATM  0.00\n",
      "4      Light Rail Station  0.00\n",
      "\n",
      "\n",
      "----Sukhrampura----\n",
      "                venue  freq\n",
      "0                 ATM   1.0\n",
      "1              Office   0.0\n",
      "2       Moving Target   0.0\n",
      "3               Motel   0.0\n",
      "4  Mexican Restaurant   0.0\n",
      "\n",
      "\n",
      "----Thaltej----\n",
      "                      venue  freq\n",
      "0      Gym / Fitness Center  0.09\n",
      "1             Big Box Store  0.09\n",
      "2               Pizza Place  0.09\n",
      "3                      Café  0.09\n",
      "4  Mediterranean Restaurant  0.09\n",
      "\n",
      "\n",
      "----Usmanpura----\n"
     ]
    },
    {
     "name": "stdout",
     "output_type": "stream",
     "text": [
      "          venue  freq\n",
      "0   Coffee Shop  0.12\n",
      "1         River  0.12\n",
      "2        Arcade  0.12\n",
      "3  Dessert Shop  0.12\n",
      "4         Hotel  0.12\n",
      "\n",
      "\n",
      "----Vastral----\n",
      "                venue  freq\n",
      "0            Pharmacy  0.33\n",
      "1   Indian Restaurant  0.33\n",
      "2       Metro Station  0.33\n",
      "3                 ATM  0.00\n",
      "4  Light Rail Station  0.00\n",
      "\n",
      "\n",
      "----Vastrapur----\n",
      "                  venue  freq\n",
      "0  Fast Food Restaurant  0.13\n",
      "1            Donut Shop  0.07\n",
      "2     Indian Restaurant  0.07\n",
      "3        Clothing Store  0.07\n",
      "4           Pizza Place  0.07\n",
      "\n",
      "\n",
      "----Vejalpur----\n",
      "                venue  freq\n",
      "0  Light Rail Station  0.33\n",
      "1            Platform  0.33\n",
      "2           Pool Hall  0.33\n",
      "3                 ATM  0.00\n",
      "4               Motel  0.00\n",
      "\n",
      "\n"
     ]
    }
   ],
   "source": [
    "num_top_venues = 5\n",
    "\n",
    "for hood in ahmedabad_grouped['Neighborhood']:\n",
    "    print(\"----\"+hood+\"----\")\n",
    "    temp = ahmedabad_grouped[ahmedabad_grouped['Neighborhood'] == hood].T.reset_index()\n",
    "    temp.columns = ['venue','freq']\n",
    "    temp = temp.iloc[1:]\n",
    "    temp['freq'] = temp['freq'].astype(float)\n",
    "    temp = temp.round({'freq': 2})\n",
    "    print(temp.sort_values('freq', ascending=False).reset_index(drop=True).head(num_top_venues))\n",
    "    print('\\n')"
   ]
  },
  {
   "cell_type": "markdown",
   "metadata": {},
   "source": [
    "Above you can see top most popular venue by frequency in each Neighborhood. Some of them have 0 frequency but that due to lack of venues in that particular region."
   ]
  },
  {
   "cell_type": "code",
   "execution_count": 136,
   "metadata": {},
   "outputs": [],
   "source": [
    "def return_most_common_venues(row, num_top_venues):\n",
    "    row_categories = row.iloc[1:]\n",
    "    row_categories_sorted = row_categories.sort_values(ascending=False)\n",
    "    \n",
    "    return row_categories_sorted.index.values[0:num_top_venues]"
   ]
  },
  {
   "cell_type": "code",
   "execution_count": 191,
   "metadata": {
    "scrolled": true
   },
   "outputs": [
    {
     "data": {
      "text/html": [
       "<div>\n",
       "<style scoped>\n",
       "    .dataframe tbody tr th:only-of-type {\n",
       "        vertical-align: middle;\n",
       "    }\n",
       "\n",
       "    .dataframe tbody tr th {\n",
       "        vertical-align: top;\n",
       "    }\n",
       "\n",
       "    .dataframe thead th {\n",
       "        text-align: right;\n",
       "    }\n",
       "</style>\n",
       "<table border=\"1\" class=\"dataframe\">\n",
       "  <thead>\n",
       "    <tr style=\"text-align: right;\">\n",
       "      <th></th>\n",
       "      <th>Neighborhood</th>\n",
       "      <th>1st Most Common Venue</th>\n",
       "      <th>2nd Most Common Venue</th>\n",
       "      <th>3rd Most Common Venue</th>\n",
       "      <th>4th Most Common Venue</th>\n",
       "      <th>5th Most Common Venue</th>\n",
       "      <th>6th Most Common Venue</th>\n",
       "      <th>7th Most Common Venue</th>\n",
       "      <th>8th Most Common Venue</th>\n",
       "      <th>9th Most Common Venue</th>\n",
       "      <th>10th Most Common Venue</th>\n",
       "    </tr>\n",
       "  </thead>\n",
       "  <tbody>\n",
       "    <tr>\n",
       "      <th>0</th>\n",
       "      <td>Ahmedabad Cantonment</td>\n",
       "      <td>River</td>\n",
       "      <td>Art Gallery</td>\n",
       "      <td>Park</td>\n",
       "      <td>Castle</td>\n",
       "      <td>Furniture / Home Store</td>\n",
       "      <td>Dessert Shop</td>\n",
       "      <td>Chinese Restaurant</td>\n",
       "      <td>Clothing Store</td>\n",
       "      <td>Cocktail Bar</td>\n",
       "      <td>Garden</td>\n",
       "    </tr>\n",
       "    <tr>\n",
       "      <th>1</th>\n",
       "      <td>Alam Roza</td>\n",
       "      <td>Food Court</td>\n",
       "      <td>Ice Cream Shop</td>\n",
       "      <td>Yoga Studio</td>\n",
       "      <td>Donut Shop</td>\n",
       "      <td>Clothing Store</td>\n",
       "      <td>Cocktail Bar</td>\n",
       "      <td>Coffee Shop</td>\n",
       "      <td>Cupcake Shop</td>\n",
       "      <td>Department Store</td>\n",
       "      <td>Dessert Shop</td>\n",
       "    </tr>\n",
       "    <tr>\n",
       "      <th>2</th>\n",
       "      <td>Ambawadi</td>\n",
       "      <td>Café</td>\n",
       "      <td>Sporting Goods Shop</td>\n",
       "      <td>Mediterranean Restaurant</td>\n",
       "      <td>Indian Restaurant</td>\n",
       "      <td>Yoga Studio</td>\n",
       "      <td>Diner</td>\n",
       "      <td>Clothing Store</td>\n",
       "      <td>Cocktail Bar</td>\n",
       "      <td>Coffee Shop</td>\n",
       "      <td>Cupcake Shop</td>\n",
       "    </tr>\n",
       "    <tr>\n",
       "      <th>3</th>\n",
       "      <td>Amraiwadi</td>\n",
       "      <td>ATM</td>\n",
       "      <td>Indian Restaurant</td>\n",
       "      <td>Donut Shop</td>\n",
       "      <td>Clothing Store</td>\n",
       "      <td>Cocktail Bar</td>\n",
       "      <td>Coffee Shop</td>\n",
       "      <td>Cupcake Shop</td>\n",
       "      <td>Department Store</td>\n",
       "      <td>Dessert Shop</td>\n",
       "      <td>Diner</td>\n",
       "    </tr>\n",
       "    <tr>\n",
       "      <th>4</th>\n",
       "      <td>Anand Nagar (Ahmedabad)</td>\n",
       "      <td>Fast Food Restaurant</td>\n",
       "      <td>Pizza Place</td>\n",
       "      <td>BBQ Joint</td>\n",
       "      <td>Indian Restaurant</td>\n",
       "      <td>Café</td>\n",
       "      <td>Diner</td>\n",
       "      <td>Restaurant</td>\n",
       "      <td>Bakery</td>\n",
       "      <td>Yoga Studio</td>\n",
       "      <td>Tea Room</td>\n",
       "    </tr>\n",
       "  </tbody>\n",
       "</table>\n",
       "</div>"
      ],
      "text/plain": [
       "              Neighborhood 1st Most Common Venue 2nd Most Common Venue  \\\n",
       "0     Ahmedabad Cantonment                 River           Art Gallery   \n",
       "1                Alam Roza            Food Court        Ice Cream Shop   \n",
       "2                 Ambawadi                  Café   Sporting Goods Shop   \n",
       "3                Amraiwadi                   ATM     Indian Restaurant   \n",
       "4  Anand Nagar (Ahmedabad)  Fast Food Restaurant           Pizza Place   \n",
       "\n",
       "      3rd Most Common Venue 4th Most Common Venue   5th Most Common Venue  \\\n",
       "0                      Park                Castle  Furniture / Home Store   \n",
       "1               Yoga Studio            Donut Shop          Clothing Store   \n",
       "2  Mediterranean Restaurant     Indian Restaurant             Yoga Studio   \n",
       "3                Donut Shop        Clothing Store            Cocktail Bar   \n",
       "4                 BBQ Joint     Indian Restaurant                    Café   \n",
       "\n",
       "  6th Most Common Venue 7th Most Common Venue 8th Most Common Venue  \\\n",
       "0          Dessert Shop    Chinese Restaurant        Clothing Store   \n",
       "1          Cocktail Bar           Coffee Shop          Cupcake Shop   \n",
       "2                 Diner        Clothing Store          Cocktail Bar   \n",
       "3           Coffee Shop          Cupcake Shop      Department Store   \n",
       "4                 Diner            Restaurant                Bakery   \n",
       "\n",
       "  9th Most Common Venue 10th Most Common Venue  \n",
       "0          Cocktail Bar                 Garden  \n",
       "1      Department Store           Dessert Shop  \n",
       "2           Coffee Shop           Cupcake Shop  \n",
       "3          Dessert Shop                  Diner  \n",
       "4           Yoga Studio               Tea Room  "
      ]
     },
     "execution_count": 191,
     "metadata": {},
     "output_type": "execute_result"
    }
   ],
   "source": [
    "num_top_venues = 10\n",
    "\n",
    "indicators = ['st', 'nd', 'rd']\n",
    "\n",
    "# create columns according to number of top venues\n",
    "columns = ['Neighborhood']\n",
    "for ind in np.arange(num_top_venues):\n",
    "    try:\n",
    "        columns.append('{}{} Most Common Venue'.format(ind+1, indicators[ind]))\n",
    "    except:\n",
    "        columns.append('{}th Most Common Venue'.format(ind+1))\n",
    "\n",
    "# create a new dataframe\n",
    "neighborhoods_venues_sorted = pd.DataFrame(columns=columns)\n",
    "neighborhoods_venues_sorted['Neighborhood'] = ahmedabad_grouped['Neighborhood']\n",
    "\n",
    "for ind in np.arange(ahmedabad_grouped.shape[0]):\n",
    "    neighborhoods_venues_sorted.iloc[ind, 1:] = return_most_common_venues(ahmedabad_grouped.iloc[ind, :], num_top_venues)\n",
    "\n",
    "neighborhoods_venues_sorted.head()"
   ]
  },
  {
   "cell_type": "markdown",
   "metadata": {},
   "source": [
    "**Above you can see Top 10 most common venue for each Neighborhood, Now we will cluster them on the basis Venue Similarity**"
   ]
  },
  {
   "cell_type": "markdown",
   "metadata": {},
   "source": [
    "### Clustering"
   ]
  },
  {
   "cell_type": "code",
   "execution_count": 192,
   "metadata": {},
   "outputs": [
    {
     "data": {
      "text/plain": [
       "array([0, 1, 1, 3, 1, 3, 1, 1, 1, 1])"
      ]
     },
     "execution_count": 192,
     "metadata": {},
     "output_type": "execute_result"
    }
   ],
   "source": [
    "# set number of clusters\n",
    "kclusters = 4\n",
    "\n",
    "ahmedabad_grouped_clustering = ahmedabad_grouped.drop('Neighborhood', 1)\n",
    "\n",
    "# run k-means clustering\n",
    "kmeans = KMeans(n_clusters=kclusters, random_state=0).fit(ahmedabad_grouped_clustering)\n",
    "\n",
    "# check cluster labels generated for each row in the dataframe\n",
    "kmeans.labels_[0:10] "
   ]
  },
  {
   "cell_type": "code",
   "execution_count": 193,
   "metadata": {},
   "outputs": [],
   "source": [
    "# add clustering labels\n",
    "neighborhoods_venues_sorted.insert(0, 'Cluster Labels', kmeans.labels_)"
   ]
  },
  {
   "cell_type": "code",
   "execution_count": 194,
   "metadata": {},
   "outputs": [
    {
     "data": {
      "text/html": [
       "<div>\n",
       "<style scoped>\n",
       "    .dataframe tbody tr th:only-of-type {\n",
       "        vertical-align: middle;\n",
       "    }\n",
       "\n",
       "    .dataframe tbody tr th {\n",
       "        vertical-align: top;\n",
       "    }\n",
       "\n",
       "    .dataframe thead th {\n",
       "        text-align: right;\n",
       "    }\n",
       "</style>\n",
       "<table border=\"1\" class=\"dataframe\">\n",
       "  <thead>\n",
       "    <tr style=\"text-align: right;\">\n",
       "      <th></th>\n",
       "      <th>Neighborhood</th>\n",
       "      <th>Latitude</th>\n",
       "      <th>Longitude</th>\n",
       "      <th>Cluster Labels</th>\n",
       "      <th>1st Most Common Venue</th>\n",
       "      <th>2nd Most Common Venue</th>\n",
       "      <th>3rd Most Common Venue</th>\n",
       "      <th>4th Most Common Venue</th>\n",
       "      <th>5th Most Common Venue</th>\n",
       "      <th>6th Most Common Venue</th>\n",
       "      <th>7th Most Common Venue</th>\n",
       "      <th>8th Most Common Venue</th>\n",
       "      <th>9th Most Common Venue</th>\n",
       "      <th>10th Most Common Venue</th>\n",
       "    </tr>\n",
       "  </thead>\n",
       "  <tbody>\n",
       "    <tr>\n",
       "      <th>0</th>\n",
       "      <td>Ahmedabad Cantonment</td>\n",
       "      <td>23.0216</td>\n",
       "      <td>72.5797</td>\n",
       "      <td>0</td>\n",
       "      <td>River</td>\n",
       "      <td>Art Gallery</td>\n",
       "      <td>Park</td>\n",
       "      <td>Castle</td>\n",
       "      <td>Furniture / Home Store</td>\n",
       "      <td>Dessert Shop</td>\n",
       "      <td>Chinese Restaurant</td>\n",
       "      <td>Clothing Store</td>\n",
       "      <td>Cocktail Bar</td>\n",
       "      <td>Garden</td>\n",
       "    </tr>\n",
       "    <tr>\n",
       "      <th>1</th>\n",
       "      <td>Alam Roza</td>\n",
       "      <td>22.9941</td>\n",
       "      <td>72.5896</td>\n",
       "      <td>1</td>\n",
       "      <td>Food Court</td>\n",
       "      <td>Ice Cream Shop</td>\n",
       "      <td>Yoga Studio</td>\n",
       "      <td>Donut Shop</td>\n",
       "      <td>Clothing Store</td>\n",
       "      <td>Cocktail Bar</td>\n",
       "      <td>Coffee Shop</td>\n",
       "      <td>Cupcake Shop</td>\n",
       "      <td>Department Store</td>\n",
       "      <td>Dessert Shop</td>\n",
       "    </tr>\n",
       "    <tr>\n",
       "      <th>2</th>\n",
       "      <td>Ambawadi</td>\n",
       "      <td>23.0226</td>\n",
       "      <td>72.5491</td>\n",
       "      <td>1</td>\n",
       "      <td>Café</td>\n",
       "      <td>Sporting Goods Shop</td>\n",
       "      <td>Mediterranean Restaurant</td>\n",
       "      <td>Indian Restaurant</td>\n",
       "      <td>Yoga Studio</td>\n",
       "      <td>Diner</td>\n",
       "      <td>Clothing Store</td>\n",
       "      <td>Cocktail Bar</td>\n",
       "      <td>Coffee Shop</td>\n",
       "      <td>Cupcake Shop</td>\n",
       "    </tr>\n",
       "    <tr>\n",
       "      <th>3</th>\n",
       "      <td>Amraiwadi</td>\n",
       "      <td>23.0058</td>\n",
       "      <td>72.627</td>\n",
       "      <td>3</td>\n",
       "      <td>ATM</td>\n",
       "      <td>Indian Restaurant</td>\n",
       "      <td>Donut Shop</td>\n",
       "      <td>Clothing Store</td>\n",
       "      <td>Cocktail Bar</td>\n",
       "      <td>Coffee Shop</td>\n",
       "      <td>Cupcake Shop</td>\n",
       "      <td>Department Store</td>\n",
       "      <td>Dessert Shop</td>\n",
       "      <td>Diner</td>\n",
       "    </tr>\n",
       "    <tr>\n",
       "      <th>4</th>\n",
       "      <td>Anand Nagar (Ahmedabad)</td>\n",
       "      <td>23.0111</td>\n",
       "      <td>72.5137</td>\n",
       "      <td>1</td>\n",
       "      <td>Fast Food Restaurant</td>\n",
       "      <td>Pizza Place</td>\n",
       "      <td>BBQ Joint</td>\n",
       "      <td>Indian Restaurant</td>\n",
       "      <td>Café</td>\n",
       "      <td>Diner</td>\n",
       "      <td>Restaurant</td>\n",
       "      <td>Bakery</td>\n",
       "      <td>Yoga Studio</td>\n",
       "      <td>Tea Room</td>\n",
       "    </tr>\n",
       "  </tbody>\n",
       "</table>\n",
       "</div>"
      ],
      "text/plain": [
       "              Neighborhood Latitude Longitude  Cluster Labels  \\\n",
       "0     Ahmedabad Cantonment  23.0216   72.5797               0   \n",
       "1                Alam Roza  22.9941   72.5896               1   \n",
       "2                 Ambawadi  23.0226   72.5491               1   \n",
       "3                Amraiwadi  23.0058    72.627               3   \n",
       "4  Anand Nagar (Ahmedabad)  23.0111   72.5137               1   \n",
       "\n",
       "  1st Most Common Venue 2nd Most Common Venue     3rd Most Common Venue  \\\n",
       "0                 River           Art Gallery                      Park   \n",
       "1            Food Court        Ice Cream Shop               Yoga Studio   \n",
       "2                  Café   Sporting Goods Shop  Mediterranean Restaurant   \n",
       "3                   ATM     Indian Restaurant                Donut Shop   \n",
       "4  Fast Food Restaurant           Pizza Place                 BBQ Joint   \n",
       "\n",
       "  4th Most Common Venue   5th Most Common Venue 6th Most Common Venue  \\\n",
       "0                Castle  Furniture / Home Store          Dessert Shop   \n",
       "1            Donut Shop          Clothing Store          Cocktail Bar   \n",
       "2     Indian Restaurant             Yoga Studio                 Diner   \n",
       "3        Clothing Store            Cocktail Bar           Coffee Shop   \n",
       "4     Indian Restaurant                    Café                 Diner   \n",
       "\n",
       "  7th Most Common Venue 8th Most Common Venue 9th Most Common Venue  \\\n",
       "0    Chinese Restaurant        Clothing Store          Cocktail Bar   \n",
       "1           Coffee Shop          Cupcake Shop      Department Store   \n",
       "2        Clothing Store          Cocktail Bar           Coffee Shop   \n",
       "3          Cupcake Shop      Department Store          Dessert Shop   \n",
       "4            Restaurant                Bakery           Yoga Studio   \n",
       "\n",
       "  10th Most Common Venue  \n",
       "0                 Garden  \n",
       "1           Dessert Shop  \n",
       "2           Cupcake Shop  \n",
       "3                  Diner  \n",
       "4               Tea Room  "
      ]
     },
     "execution_count": 194,
     "metadata": {},
     "output_type": "execute_result"
    }
   ],
   "source": [
    "ahmedabad_merged = data\n",
    "\n",
    "# merge toronto_grouped with toronto_data to add latitude/longitude for each neighborhood\n",
    "ahmedabad_merged = ahmedabad_merged.join(neighborhoods_venues_sorted.set_index('Neighborhood'), on='Neighborhood')\n",
    "ahmedabad_merged.dropna(inplace = True)\n",
    "ahmedabad_merged['Cluster Labels'] = ahmedabad_merged['Cluster Labels'].astype('int32')\n",
    "ahmedabad_merged.head() # check the last columns!"
   ]
  },
  {
   "cell_type": "code",
   "execution_count": 195,
   "metadata": {},
   "outputs": [
    {
     "data": {
      "text/html": [
       "<div style=\"width:100%;\"><div style=\"position:relative;width:100%;height:0;padding-bottom:60%;\"><iframe src=\"about:blank\" style=\"position:absolute;width:100%;height:100%;left:0;top:0;border:none !important;\" data-html=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 onload=\"this.contentDocument.open();this.contentDocument.write(atob(this.getAttribute('data-html')));this.contentDocument.close();\" allowfullscreen webkitallowfullscreen mozallowfullscreen></iframe></div></div>"
      ],
      "text/plain": [
       "<folium.folium.Map at 0x248c778a160>"
      ]
     },
     "execution_count": 195,
     "metadata": {},
     "output_type": "execute_result"
    }
   ],
   "source": [
    "# create map\n",
    "map_clusters = folium.Map(location=[latitude, longitude], zoom_start=11)\n",
    "\n",
    "# set color scheme for the clusters\n",
    "x = np.arange(kclusters)\n",
    "ys = [i + x + (i*x)**2 for i in range(kclusters)]\n",
    "colors_array = cm.rainbow(np.linspace(0, 1, len(ys)))\n",
    "rainbow = [colors.rgb2hex(i) for i in colors_array]\n",
    "\n",
    "# add markers to the map\n",
    "markers_colors = []\n",
    "for lat, lon, poi, cluster in zip(ahmedabad_merged['Latitude'], ahmedabad_merged['Longitude'], ahmedabad_merged['Neighborhood'], ahmedabad_merged['Cluster Labels']):\n",
    "    label = folium.Popup(str(poi) + ' Cluster ' + str(cluster), parse_html=True)\n",
    "    folium.CircleMarker(\n",
    "        [lat, lon],\n",
    "        radius=5,\n",
    "        popup=label,\n",
    "        color=rainbow[cluster-1],\n",
    "        fill=True,\n",
    "        fill_color=rainbow[cluster-1],\n",
    "        fill_opacity=0.7).add_to(map_clusters)\n",
    "       \n",
    "map_clusters"
   ]
  },
  {
   "cell_type": "markdown",
   "metadata": {},
   "source": [
    "### Examining Each Clusters\n",
    "There are 4 Clusters, now we will explore each cluster."
   ]
  },
  {
   "cell_type": "code",
   "execution_count": 153,
   "metadata": {
    "scrolled": false
   },
   "outputs": [
    {
     "data": {
      "text/html": [
       "<div>\n",
       "<style scoped>\n",
       "    .dataframe tbody tr th:only-of-type {\n",
       "        vertical-align: middle;\n",
       "    }\n",
       "\n",
       "    .dataframe tbody tr th {\n",
       "        vertical-align: top;\n",
       "    }\n",
       "\n",
       "    .dataframe thead th {\n",
       "        text-align: right;\n",
       "    }\n",
       "</style>\n",
       "<table border=\"1\" class=\"dataframe\">\n",
       "  <thead>\n",
       "    <tr style=\"text-align: right;\">\n",
       "      <th></th>\n",
       "      <th>Neighborhood</th>\n",
       "      <th>1st Most Common Venue</th>\n",
       "      <th>2nd Most Common Venue</th>\n",
       "      <th>3rd Most Common Venue</th>\n",
       "      <th>4th Most Common Venue</th>\n",
       "      <th>5th Most Common Venue</th>\n",
       "      <th>6th Most Common Venue</th>\n",
       "      <th>7th Most Common Venue</th>\n",
       "      <th>8th Most Common Venue</th>\n",
       "      <th>9th Most Common Venue</th>\n",
       "      <th>10th Most Common Venue</th>\n",
       "    </tr>\n",
       "  </thead>\n",
       "  <tbody>\n",
       "    <tr>\n",
       "      <th>0</th>\n",
       "      <td>Ahmedabad Cantonment</td>\n",
       "      <td>River</td>\n",
       "      <td>Art Gallery</td>\n",
       "      <td>Park</td>\n",
       "      <td>Castle</td>\n",
       "      <td>Furniture / Home Store</td>\n",
       "      <td>Dessert Shop</td>\n",
       "      <td>Chinese Restaurant</td>\n",
       "      <td>Clothing Store</td>\n",
       "      <td>Cocktail Bar</td>\n",
       "      <td>Garden</td>\n",
       "    </tr>\n",
       "    <tr>\n",
       "      <th>11</th>\n",
       "      <td>Chandlodiya</td>\n",
       "      <td>ATM</td>\n",
       "      <td>Train Station</td>\n",
       "      <td>Platform</td>\n",
       "      <td>Diner</td>\n",
       "      <td>Chinese Restaurant</td>\n",
       "      <td>Clothing Store</td>\n",
       "      <td>Cocktail Bar</td>\n",
       "      <td>Coffee Shop</td>\n",
       "      <td>Cupcake Shop</td>\n",
       "      <td>Department Store</td>\n",
       "    </tr>\n",
       "    <tr>\n",
       "      <th>13</th>\n",
       "      <td>Ghatlodiya</td>\n",
       "      <td>Department Store</td>\n",
       "      <td>Ice Cream Shop</td>\n",
       "      <td>Lake</td>\n",
       "      <td>Yoga Studio</td>\n",
       "      <td>Donut Shop</td>\n",
       "      <td>Clothing Store</td>\n",
       "      <td>Cocktail Bar</td>\n",
       "      <td>Coffee Shop</td>\n",
       "      <td>Cupcake Shop</td>\n",
       "      <td>Dessert Shop</td>\n",
       "    </tr>\n",
       "    <tr>\n",
       "      <th>14</th>\n",
       "      <td>Ghodasar</td>\n",
       "      <td>ATM</td>\n",
       "      <td>Rest Area</td>\n",
       "      <td>American Restaurant</td>\n",
       "      <td>Cocktail Bar</td>\n",
       "      <td>Paper / Office Supplies Store</td>\n",
       "      <td>Australian Restaurant</td>\n",
       "      <td>Liquor Store</td>\n",
       "      <td>Clothing Store</td>\n",
       "      <td>Coffee Shop</td>\n",
       "      <td>Cupcake Shop</td>\n",
       "    </tr>\n",
       "    <tr>\n",
       "      <th>15</th>\n",
       "      <td>Girdharnagar</td>\n",
       "      <td>History Museum</td>\n",
       "      <td>Yoga Studio</td>\n",
       "      <td>Donut Shop</td>\n",
       "      <td>Clothing Store</td>\n",
       "      <td>Cocktail Bar</td>\n",
       "      <td>Coffee Shop</td>\n",
       "      <td>Cupcake Shop</td>\n",
       "      <td>Department Store</td>\n",
       "      <td>Dessert Shop</td>\n",
       "      <td>Diner</td>\n",
       "    </tr>\n",
       "    <tr>\n",
       "      <th>16</th>\n",
       "      <td>Gita Mandir Road</td>\n",
       "      <td>Multiplex</td>\n",
       "      <td>Clothing Store</td>\n",
       "      <td>Bus Station</td>\n",
       "      <td>Tea Room</td>\n",
       "      <td>Fast Food Restaurant</td>\n",
       "      <td>Shopping Mall</td>\n",
       "      <td>Dessert Shop</td>\n",
       "      <td>Chinese Restaurant</td>\n",
       "      <td>Cocktail Bar</td>\n",
       "      <td>Coffee Shop</td>\n",
       "    </tr>\n",
       "    <tr>\n",
       "      <th>19</th>\n",
       "      <td>Gota, Gujarat</td>\n",
       "      <td>Tea Room</td>\n",
       "      <td>Yoga Studio</td>\n",
       "      <td>Donut Shop</td>\n",
       "      <td>Chinese Restaurant</td>\n",
       "      <td>Clothing Store</td>\n",
       "      <td>Cocktail Bar</td>\n",
       "      <td>Coffee Shop</td>\n",
       "      <td>Cupcake Shop</td>\n",
       "      <td>Department Store</td>\n",
       "      <td>Dessert Shop</td>\n",
       "    </tr>\n",
       "    <tr>\n",
       "      <th>21</th>\n",
       "      <td>Jamalpur, Gujarat</td>\n",
       "      <td>Motel</td>\n",
       "      <td>Cafeteria</td>\n",
       "      <td>Boat or Ferry</td>\n",
       "      <td>Diner</td>\n",
       "      <td>Clothing Store</td>\n",
       "      <td>Cocktail Bar</td>\n",
       "      <td>Coffee Shop</td>\n",
       "      <td>Cupcake Shop</td>\n",
       "      <td>Department Store</td>\n",
       "      <td>Dessert Shop</td>\n",
       "    </tr>\n",
       "    <tr>\n",
       "      <th>23</th>\n",
       "      <td>Jodhpur, Gujarat</td>\n",
       "      <td>Café</td>\n",
       "      <td>Restaurant</td>\n",
       "      <td>Food Truck</td>\n",
       "      <td>Asian Restaurant</td>\n",
       "      <td>Pharmacy</td>\n",
       "      <td>Dessert Shop</td>\n",
       "      <td>Clothing Store</td>\n",
       "      <td>Cocktail Bar</td>\n",
       "      <td>Coffee Shop</td>\n",
       "      <td>Cupcake Shop</td>\n",
       "    </tr>\n",
       "    <tr>\n",
       "      <th>24</th>\n",
       "      <td>Juhapura</td>\n",
       "      <td>IT Services</td>\n",
       "      <td>Yoga Studio</td>\n",
       "      <td>Donut Shop</td>\n",
       "      <td>Clothing Store</td>\n",
       "      <td>Cocktail Bar</td>\n",
       "      <td>Coffee Shop</td>\n",
       "      <td>Cupcake Shop</td>\n",
       "      <td>Department Store</td>\n",
       "      <td>Dessert Shop</td>\n",
       "      <td>Diner</td>\n",
       "    </tr>\n",
       "    <tr>\n",
       "      <th>27</th>\n",
       "      <td>Khokhra</td>\n",
       "      <td>Restaurant</td>\n",
       "      <td>Vegetarian / Vegan Restaurant</td>\n",
       "      <td>IT Services</td>\n",
       "      <td>Yoga Studio</td>\n",
       "      <td>Chinese Restaurant</td>\n",
       "      <td>Clothing Store</td>\n",
       "      <td>Cocktail Bar</td>\n",
       "      <td>Coffee Shop</td>\n",
       "      <td>Cupcake Shop</td>\n",
       "      <td>Department Store</td>\n",
       "    </tr>\n",
       "    <tr>\n",
       "      <th>29</th>\n",
       "      <td>Makarba</td>\n",
       "      <td>Office</td>\n",
       "      <td>IT Services</td>\n",
       "      <td>Child Care Service</td>\n",
       "      <td>Diner</td>\n",
       "      <td>Chinese Restaurant</td>\n",
       "      <td>Clothing Store</td>\n",
       "      <td>Cocktail Bar</td>\n",
       "      <td>Coffee Shop</td>\n",
       "      <td>Cupcake Shop</td>\n",
       "      <td>Department Store</td>\n",
       "    </tr>\n",
       "    <tr>\n",
       "      <th>35</th>\n",
       "      <td>Nava Vadaj</td>\n",
       "      <td>Bus Station</td>\n",
       "      <td>Yoga Studio</td>\n",
       "      <td>Donut Shop</td>\n",
       "      <td>Clothing Store</td>\n",
       "      <td>Cocktail Bar</td>\n",
       "      <td>Coffee Shop</td>\n",
       "      <td>Cupcake Shop</td>\n",
       "      <td>Department Store</td>\n",
       "      <td>Dessert Shop</td>\n",
       "      <td>Diner</td>\n",
       "    </tr>\n",
       "    <tr>\n",
       "      <th>38</th>\n",
       "      <td>Paldi</td>\n",
       "      <td>Café</td>\n",
       "      <td>Fast Food Restaurant</td>\n",
       "      <td>Tea Room</td>\n",
       "      <td>Sandwich Place</td>\n",
       "      <td>Ice Cream Shop</td>\n",
       "      <td>Vegetarian / Vegan Restaurant</td>\n",
       "      <td>Food Truck</td>\n",
       "      <td>Dessert Shop</td>\n",
       "      <td>Chinese Restaurant</td>\n",
       "      <td>Clothing Store</td>\n",
       "    </tr>\n",
       "    <tr>\n",
       "      <th>40</th>\n",
       "      <td>Ramol</td>\n",
       "      <td>Moving Target</td>\n",
       "      <td>Brewery</td>\n",
       "      <td>Diner</td>\n",
       "      <td>Chinese Restaurant</td>\n",
       "      <td>Clothing Store</td>\n",
       "      <td>Cocktail Bar</td>\n",
       "      <td>Coffee Shop</td>\n",
       "      <td>Cupcake Shop</td>\n",
       "      <td>Department Store</td>\n",
       "      <td>Dessert Shop</td>\n",
       "    </tr>\n",
       "    <tr>\n",
       "      <th>43</th>\n",
       "      <td>Sardarnagar</td>\n",
       "      <td>Coffee Shop</td>\n",
       "      <td>Flea Market</td>\n",
       "      <td>Yoga Studio</td>\n",
       "      <td>Donut Shop</td>\n",
       "      <td>Clothing Store</td>\n",
       "      <td>Cocktail Bar</td>\n",
       "      <td>Cupcake Shop</td>\n",
       "      <td>Department Store</td>\n",
       "      <td>Dessert Shop</td>\n",
       "      <td>Diner</td>\n",
       "    </tr>\n",
       "    <tr>\n",
       "      <th>50</th>\n",
       "      <td>Usmanpura</td>\n",
       "      <td>River</td>\n",
       "      <td>Arcade</td>\n",
       "      <td>Café</td>\n",
       "      <td>Coffee Shop</td>\n",
       "      <td>Hotel</td>\n",
       "      <td>Dessert Shop</td>\n",
       "      <td>Chinese Restaurant</td>\n",
       "      <td>Bistro</td>\n",
       "      <td>Donut Shop</td>\n",
       "      <td>Cocktail Bar</td>\n",
       "    </tr>\n",
       "    <tr>\n",
       "      <th>53</th>\n",
       "      <td>Vejalpur</td>\n",
       "      <td>Platform</td>\n",
       "      <td>Pool Hall</td>\n",
       "      <td>Light Rail Station</td>\n",
       "      <td>Yoga Studio</td>\n",
       "      <td>Castle</td>\n",
       "      <td>Chinese Restaurant</td>\n",
       "      <td>Clothing Store</td>\n",
       "      <td>Cocktail Bar</td>\n",
       "      <td>Coffee Shop</td>\n",
       "      <td>Cupcake Shop</td>\n",
       "    </tr>\n",
       "  </tbody>\n",
       "</table>\n",
       "</div>"
      ],
      "text/plain": [
       "            Neighborhood 1st Most Common Venue          2nd Most Common Venue  \\\n",
       "0   Ahmedabad Cantonment                 River                    Art Gallery   \n",
       "11           Chandlodiya                   ATM                  Train Station   \n",
       "13            Ghatlodiya      Department Store                 Ice Cream Shop   \n",
       "14              Ghodasar                   ATM                      Rest Area   \n",
       "15          Girdharnagar        History Museum                    Yoga Studio   \n",
       "16      Gita Mandir Road             Multiplex                 Clothing Store   \n",
       "19         Gota, Gujarat              Tea Room                    Yoga Studio   \n",
       "21     Jamalpur, Gujarat                 Motel                      Cafeteria   \n",
       "23      Jodhpur, Gujarat                  Café                     Restaurant   \n",
       "24              Juhapura           IT Services                    Yoga Studio   \n",
       "27               Khokhra            Restaurant  Vegetarian / Vegan Restaurant   \n",
       "29               Makarba                Office                    IT Services   \n",
       "35            Nava Vadaj           Bus Station                    Yoga Studio   \n",
       "38                 Paldi                  Café           Fast Food Restaurant   \n",
       "40                 Ramol         Moving Target                        Brewery   \n",
       "43           Sardarnagar           Coffee Shop                    Flea Market   \n",
       "50             Usmanpura                 River                         Arcade   \n",
       "53              Vejalpur              Platform                      Pool Hall   \n",
       "\n",
       "   3rd Most Common Venue 4th Most Common Venue          5th Most Common Venue  \\\n",
       "0                   Park                Castle         Furniture / Home Store   \n",
       "11              Platform                 Diner             Chinese Restaurant   \n",
       "13                  Lake           Yoga Studio                     Donut Shop   \n",
       "14   American Restaurant          Cocktail Bar  Paper / Office Supplies Store   \n",
       "15            Donut Shop        Clothing Store                   Cocktail Bar   \n",
       "16           Bus Station              Tea Room           Fast Food Restaurant   \n",
       "19            Donut Shop    Chinese Restaurant                 Clothing Store   \n",
       "21         Boat or Ferry                 Diner                 Clothing Store   \n",
       "23            Food Truck      Asian Restaurant                       Pharmacy   \n",
       "24            Donut Shop        Clothing Store                   Cocktail Bar   \n",
       "27           IT Services           Yoga Studio             Chinese Restaurant   \n",
       "29    Child Care Service                 Diner             Chinese Restaurant   \n",
       "35            Donut Shop        Clothing Store                   Cocktail Bar   \n",
       "38              Tea Room        Sandwich Place                 Ice Cream Shop   \n",
       "40                 Diner    Chinese Restaurant                 Clothing Store   \n",
       "43           Yoga Studio            Donut Shop                 Clothing Store   \n",
       "50                  Café           Coffee Shop                          Hotel   \n",
       "53    Light Rail Station           Yoga Studio                         Castle   \n",
       "\n",
       "            6th Most Common Venue 7th Most Common Venue 8th Most Common Venue  \\\n",
       "0                    Dessert Shop    Chinese Restaurant        Clothing Store   \n",
       "11                 Clothing Store          Cocktail Bar           Coffee Shop   \n",
       "13                 Clothing Store          Cocktail Bar           Coffee Shop   \n",
       "14          Australian Restaurant          Liquor Store        Clothing Store   \n",
       "15                    Coffee Shop          Cupcake Shop      Department Store   \n",
       "16                  Shopping Mall          Dessert Shop    Chinese Restaurant   \n",
       "19                   Cocktail Bar           Coffee Shop          Cupcake Shop   \n",
       "21                   Cocktail Bar           Coffee Shop          Cupcake Shop   \n",
       "23                   Dessert Shop        Clothing Store          Cocktail Bar   \n",
       "24                    Coffee Shop          Cupcake Shop      Department Store   \n",
       "27                 Clothing Store          Cocktail Bar           Coffee Shop   \n",
       "29                 Clothing Store          Cocktail Bar           Coffee Shop   \n",
       "35                    Coffee Shop          Cupcake Shop      Department Store   \n",
       "38  Vegetarian / Vegan Restaurant            Food Truck          Dessert Shop   \n",
       "40                   Cocktail Bar           Coffee Shop          Cupcake Shop   \n",
       "43                   Cocktail Bar          Cupcake Shop      Department Store   \n",
       "50                   Dessert Shop    Chinese Restaurant                Bistro   \n",
       "53             Chinese Restaurant        Clothing Store          Cocktail Bar   \n",
       "\n",
       "   9th Most Common Venue 10th Most Common Venue  \n",
       "0           Cocktail Bar                 Garden  \n",
       "11          Cupcake Shop       Department Store  \n",
       "13          Cupcake Shop           Dessert Shop  \n",
       "14           Coffee Shop           Cupcake Shop  \n",
       "15          Dessert Shop                  Diner  \n",
       "16          Cocktail Bar            Coffee Shop  \n",
       "19      Department Store           Dessert Shop  \n",
       "21      Department Store           Dessert Shop  \n",
       "23           Coffee Shop           Cupcake Shop  \n",
       "24          Dessert Shop                  Diner  \n",
       "27          Cupcake Shop       Department Store  \n",
       "29          Cupcake Shop       Department Store  \n",
       "35          Dessert Shop                  Diner  \n",
       "38    Chinese Restaurant         Clothing Store  \n",
       "40      Department Store           Dessert Shop  \n",
       "43          Dessert Shop                  Diner  \n",
       "50            Donut Shop           Cocktail Bar  \n",
       "53           Coffee Shop           Cupcake Shop  "
      ]
     },
     "execution_count": 153,
     "metadata": {},
     "output_type": "execute_result"
    }
   ],
   "source": [
    "cluster1 = ahmedabad_merged.loc[ahmedabad_merged['Cluster Labels'] == 0, ahmedabad_merged.columns[[0] + list(range(4, ahmedabad_merged.shape[1]))]]\n",
    "cluster1"
   ]
  },
  {
   "cell_type": "code",
   "execution_count": 154,
   "metadata": {},
   "outputs": [
    {
     "data": {
      "application/vnd.plotly.v1+json": {
       "config": {
        "plotlyServerURL": "https://plot.ly"
       },
       "data": [
        {
         "alignmentgroup": "True",
         "hoverlabel": {
          "namelength": 0
         },
         "hovertemplate": "Venue Category=%{x}<br>Counts=%{y}",
         "legendgroup": "",
         "marker": {
          "color": "#636efa"
         },
         "name": "",
         "offsetgroup": "",
         "orientation": "v",
         "showlegend": false,
         "textposition": "auto",
         "type": "bar",
         "x": [
          "ATM",
          "American Restaurant",
          "Arcade",
          "Art Gallery",
          "Asian Restaurant",
          "Australian Restaurant",
          "Bistro",
          "Boat or Ferry",
          "Brewery",
          "Bus Station",
          "Cafeteria",
          "Café",
          "Castle",
          "Child Care Service",
          "Chinese Restaurant",
          "Clothing Store",
          "Cocktail Bar",
          "Coffee Shop",
          "Cupcake Shop",
          "Department Store",
          "Dessert Shop",
          "Diner",
          "Donut Shop",
          "Fast Food Restaurant",
          "Flea Market",
          "Food Truck",
          "Furniture / Home Store",
          "Garden",
          "History Museum",
          "Hotel",
          "IT Services",
          "Ice Cream Shop",
          "Lake",
          "Light Rail Station",
          "Liquor Store",
          "Motel",
          "Moving Target",
          "Multiplex",
          "Office",
          "Paper / Office Supplies Store",
          "Park",
          "Pharmacy",
          "Platform",
          "Pool Hall",
          "Rest Area",
          "Restaurant",
          "River",
          "Sandwich Place",
          "Shopping Mall",
          "Tea Room",
          "Train Station",
          "Vegetarian / Vegan Restaurant",
          "Yoga Studio"
         ],
         "xaxis": "x",
         "y": [
          2,
          1,
          1,
          1,
          1,
          1,
          1,
          1,
          1,
          2,
          1,
          3,
          2,
          1,
          10,
          17,
          17,
          16,
          14,
          11,
          13,
          8,
          7,
          2,
          1,
          2,
          1,
          1,
          1,
          1,
          3,
          2,
          1,
          1,
          1,
          1,
          1,
          1,
          1,
          1,
          1,
          1,
          2,
          1,
          1,
          2,
          2,
          1,
          1,
          3,
          1,
          2,
          8
         ],
         "yaxis": "y"
        }
       ],
       "layout": {
        "barmode": "relative",
        "legend": {
         "tracegroupgap": 0
        },
        "margin": {
         "t": 60
        },
        "template": {
         "data": {
          "bar": [
           {
            "error_x": {
             "color": "#2a3f5f"
            },
            "error_y": {
             "color": "#2a3f5f"
            },
            "marker": {
             "line": {
              "color": "#E5ECF6",
              "width": 0.5
             }
            },
            "type": "bar"
           }
          ],
          "barpolar": [
           {
            "marker": {
             "line": {
              "color": "#E5ECF6",
              "width": 0.5
             }
            },
            "type": "barpolar"
           }
          ],
          "carpet": [
           {
            "aaxis": {
             "endlinecolor": "#2a3f5f",
             "gridcolor": "white",
             "linecolor": "white",
             "minorgridcolor": "white",
             "startlinecolor": "#2a3f5f"
            },
            "baxis": {
             "endlinecolor": "#2a3f5f",
             "gridcolor": "white",
             "linecolor": "white",
             "minorgridcolor": "white",
             "startlinecolor": "#2a3f5f"
            },
            "type": "carpet"
           }
          ],
          "choropleth": [
           {
            "colorbar": {
             "outlinewidth": 0,
             "ticks": ""
            },
            "type": "choropleth"
           }
          ],
          "contour": [
           {
            "colorbar": {
             "outlinewidth": 0,
             "ticks": ""
            },
            "colorscale": [
             [
              0,
              "#0d0887"
             ],
             [
              0.1111111111111111,
              "#46039f"
             ],
             [
              0.2222222222222222,
              "#7201a8"
             ],
             [
              0.3333333333333333,
              "#9c179e"
             ],
             [
              0.4444444444444444,
              "#bd3786"
             ],
             [
              0.5555555555555556,
              "#d8576b"
             ],
             [
              0.6666666666666666,
              "#ed7953"
             ],
             [
              0.7777777777777778,
              "#fb9f3a"
             ],
             [
              0.8888888888888888,
              "#fdca26"
             ],
             [
              1,
              "#f0f921"
             ]
            ],
            "type": "contour"
           }
          ],
          "contourcarpet": [
           {
            "colorbar": {
             "outlinewidth": 0,
             "ticks": ""
            },
            "type": "contourcarpet"
           }
          ],
          "heatmap": [
           {
            "colorbar": {
             "outlinewidth": 0,
             "ticks": ""
            },
            "colorscale": [
             [
              0,
              "#0d0887"
             ],
             [
              0.1111111111111111,
              "#46039f"
             ],
             [
              0.2222222222222222,
              "#7201a8"
             ],
             [
              0.3333333333333333,
              "#9c179e"
             ],
             [
              0.4444444444444444,
              "#bd3786"
             ],
             [
              0.5555555555555556,
              "#d8576b"
             ],
             [
              0.6666666666666666,
              "#ed7953"
             ],
             [
              0.7777777777777778,
              "#fb9f3a"
             ],
             [
              0.8888888888888888,
              "#fdca26"
             ],
             [
              1,
              "#f0f921"
             ]
            ],
            "type": "heatmap"
           }
          ],
          "heatmapgl": [
           {
            "colorbar": {
             "outlinewidth": 0,
             "ticks": ""
            },
            "colorscale": [
             [
              0,
              "#0d0887"
             ],
             [
              0.1111111111111111,
              "#46039f"
             ],
             [
              0.2222222222222222,
              "#7201a8"
             ],
             [
              0.3333333333333333,
              "#9c179e"
             ],
             [
              0.4444444444444444,
              "#bd3786"
             ],
             [
              0.5555555555555556,
              "#d8576b"
             ],
             [
              0.6666666666666666,
              "#ed7953"
             ],
             [
              0.7777777777777778,
              "#fb9f3a"
             ],
             [
              0.8888888888888888,
              "#fdca26"
             ],
             [
              1,
              "#f0f921"
             ]
            ],
            "type": "heatmapgl"
           }
          ],
          "histogram": [
           {
            "marker": {
             "colorbar": {
              "outlinewidth": 0,
              "ticks": ""
             }
            },
            "type": "histogram"
           }
          ],
          "histogram2d": [
           {
            "colorbar": {
             "outlinewidth": 0,
             "ticks": ""
            },
            "colorscale": [
             [
              0,
              "#0d0887"
             ],
             [
              0.1111111111111111,
              "#46039f"
             ],
             [
              0.2222222222222222,
              "#7201a8"
             ],
             [
              0.3333333333333333,
              "#9c179e"
             ],
             [
              0.4444444444444444,
              "#bd3786"
             ],
             [
              0.5555555555555556,
              "#d8576b"
             ],
             [
              0.6666666666666666,
              "#ed7953"
             ],
             [
              0.7777777777777778,
              "#fb9f3a"
             ],
             [
              0.8888888888888888,
              "#fdca26"
             ],
             [
              1,
              "#f0f921"
             ]
            ],
            "type": "histogram2d"
           }
          ],
          "histogram2dcontour": [
           {
            "colorbar": {
             "outlinewidth": 0,
             "ticks": ""
            },
            "colorscale": [
             [
              0,
              "#0d0887"
             ],
             [
              0.1111111111111111,
              "#46039f"
             ],
             [
              0.2222222222222222,
              "#7201a8"
             ],
             [
              0.3333333333333333,
              "#9c179e"
             ],
             [
              0.4444444444444444,
              "#bd3786"
             ],
             [
              0.5555555555555556,
              "#d8576b"
             ],
             [
              0.6666666666666666,
              "#ed7953"
             ],
             [
              0.7777777777777778,
              "#fb9f3a"
             ],
             [
              0.8888888888888888,
              "#fdca26"
             ],
             [
              1,
              "#f0f921"
             ]
            ],
            "type": "histogram2dcontour"
           }
          ],
          "mesh3d": [
           {
            "colorbar": {
             "outlinewidth": 0,
             "ticks": ""
            },
            "type": "mesh3d"
           }
          ],
          "parcoords": [
           {
            "line": {
             "colorbar": {
              "outlinewidth": 0,
              "ticks": ""
             }
            },
            "type": "parcoords"
           }
          ],
          "pie": [
           {
            "automargin": true,
            "type": "pie"
           }
          ],
          "scatter": [
           {
            "marker": {
             "colorbar": {
              "outlinewidth": 0,
              "ticks": ""
             }
            },
            "type": "scatter"
           }
          ],
          "scatter3d": [
           {
            "line": {
             "colorbar": {
              "outlinewidth": 0,
              "ticks": ""
             }
            },
            "marker": {
             "colorbar": {
              "outlinewidth": 0,
              "ticks": ""
             }
            },
            "type": "scatter3d"
           }
          ],
          "scattercarpet": [
           {
            "marker": {
             "colorbar": {
              "outlinewidth": 0,
              "ticks": ""
             }
            },
            "type": "scattercarpet"
           }
          ],
          "scattergeo": [
           {
            "marker": {
             "colorbar": {
              "outlinewidth": 0,
              "ticks": ""
             }
            },
            "type": "scattergeo"
           }
          ],
          "scattergl": [
           {
            "marker": {
             "colorbar": {
              "outlinewidth": 0,
              "ticks": ""
             }
            },
            "type": "scattergl"
           }
          ],
          "scattermapbox": [
           {
            "marker": {
             "colorbar": {
              "outlinewidth": 0,
              "ticks": ""
             }
            },
            "type": "scattermapbox"
           }
          ],
          "scatterpolar": [
           {
            "marker": {
             "colorbar": {
              "outlinewidth": 0,
              "ticks": ""
             }
            },
            "type": "scatterpolar"
           }
          ],
          "scatterpolargl": [
           {
            "marker": {
             "colorbar": {
              "outlinewidth": 0,
              "ticks": ""
             }
            },
            "type": "scatterpolargl"
           }
          ],
          "scatterternary": [
           {
            "marker": {
             "colorbar": {
              "outlinewidth": 0,
              "ticks": ""
             }
            },
            "type": "scatterternary"
           }
          ],
          "surface": [
           {
            "colorbar": {
             "outlinewidth": 0,
             "ticks": ""
            },
            "colorscale": [
             [
              0,
              "#0d0887"
             ],
             [
              0.1111111111111111,
              "#46039f"
             ],
             [
              0.2222222222222222,
              "#7201a8"
             ],
             [
              0.3333333333333333,
              "#9c179e"
             ],
             [
              0.4444444444444444,
              "#bd3786"
             ],
             [
              0.5555555555555556,
              "#d8576b"
             ],
             [
              0.6666666666666666,
              "#ed7953"
             ],
             [
              0.7777777777777778,
              "#fb9f3a"
             ],
             [
              0.8888888888888888,
              "#fdca26"
             ],
             [
              1,
              "#f0f921"
             ]
            ],
            "type": "surface"
           }
          ],
          "table": [
           {
            "cells": {
             "fill": {
              "color": "#EBF0F8"
             },
             "line": {
              "color": "white"
             }
            },
            "header": {
             "fill": {
              "color": "#C8D4E3"
             },
             "line": {
              "color": "white"
             }
            },
            "type": "table"
           }
          ]
         },
         "layout": {
          "annotationdefaults": {
           "arrowcolor": "#2a3f5f",
           "arrowhead": 0,
           "arrowwidth": 1
          },
          "coloraxis": {
           "colorbar": {
            "outlinewidth": 0,
            "ticks": ""
           }
          },
          "colorscale": {
           "diverging": [
            [
             0,
             "#8e0152"
            ],
            [
             0.1,
             "#c51b7d"
            ],
            [
             0.2,
             "#de77ae"
            ],
            [
             0.3,
             "#f1b6da"
            ],
            [
             0.4,
             "#fde0ef"
            ],
            [
             0.5,
             "#f7f7f7"
            ],
            [
             0.6,
             "#e6f5d0"
            ],
            [
             0.7,
             "#b8e186"
            ],
            [
             0.8,
             "#7fbc41"
            ],
            [
             0.9,
             "#4d9221"
            ],
            [
             1,
             "#276419"
            ]
           ],
           "sequential": [
            [
             0,
             "#0d0887"
            ],
            [
             0.1111111111111111,
             "#46039f"
            ],
            [
             0.2222222222222222,
             "#7201a8"
            ],
            [
             0.3333333333333333,
             "#9c179e"
            ],
            [
             0.4444444444444444,
             "#bd3786"
            ],
            [
             0.5555555555555556,
             "#d8576b"
            ],
            [
             0.6666666666666666,
             "#ed7953"
            ],
            [
             0.7777777777777778,
             "#fb9f3a"
            ],
            [
             0.8888888888888888,
             "#fdca26"
            ],
            [
             1,
             "#f0f921"
            ]
           ],
           "sequentialminus": [
            [
             0,
             "#0d0887"
            ],
            [
             0.1111111111111111,
             "#46039f"
            ],
            [
             0.2222222222222222,
             "#7201a8"
            ],
            [
             0.3333333333333333,
             "#9c179e"
            ],
            [
             0.4444444444444444,
             "#bd3786"
            ],
            [
             0.5555555555555556,
             "#d8576b"
            ],
            [
             0.6666666666666666,
             "#ed7953"
            ],
            [
             0.7777777777777778,
             "#fb9f3a"
            ],
            [
             0.8888888888888888,
             "#fdca26"
            ],
            [
             1,
             "#f0f921"
            ]
           ]
          },
          "colorway": [
           "#636efa",
           "#EF553B",
           "#00cc96",
           "#ab63fa",
           "#FFA15A",
           "#19d3f3",
           "#FF6692",
           "#B6E880",
           "#FF97FF",
           "#FECB52"
          ],
          "font": {
           "color": "#2a3f5f"
          },
          "geo": {
           "bgcolor": "white",
           "lakecolor": "white",
           "landcolor": "#E5ECF6",
           "showlakes": true,
           "showland": true,
           "subunitcolor": "white"
          },
          "hoverlabel": {
           "align": "left"
          },
          "hovermode": "closest",
          "mapbox": {
           "style": "light"
          },
          "paper_bgcolor": "white",
          "plot_bgcolor": "#E5ECF6",
          "polar": {
           "angularaxis": {
            "gridcolor": "white",
            "linecolor": "white",
            "ticks": ""
           },
           "bgcolor": "#E5ECF6",
           "radialaxis": {
            "gridcolor": "white",
            "linecolor": "white",
            "ticks": ""
           }
          },
          "scene": {
           "xaxis": {
            "backgroundcolor": "#E5ECF6",
            "gridcolor": "white",
            "gridwidth": 2,
            "linecolor": "white",
            "showbackground": true,
            "ticks": "",
            "zerolinecolor": "white"
           },
           "yaxis": {
            "backgroundcolor": "#E5ECF6",
            "gridcolor": "white",
            "gridwidth": 2,
            "linecolor": "white",
            "showbackground": true,
            "ticks": "",
            "zerolinecolor": "white"
           },
           "zaxis": {
            "backgroundcolor": "#E5ECF6",
            "gridcolor": "white",
            "gridwidth": 2,
            "linecolor": "white",
            "showbackground": true,
            "ticks": "",
            "zerolinecolor": "white"
           }
          },
          "shapedefaults": {
           "line": {
            "color": "#2a3f5f"
           }
          },
          "ternary": {
           "aaxis": {
            "gridcolor": "white",
            "linecolor": "white",
            "ticks": ""
           },
           "baxis": {
            "gridcolor": "white",
            "linecolor": "white",
            "ticks": ""
           },
           "bgcolor": "#E5ECF6",
           "caxis": {
            "gridcolor": "white",
            "linecolor": "white",
            "ticks": ""
           }
          },
          "title": {
           "x": 0.05
          },
          "xaxis": {
           "automargin": true,
           "gridcolor": "white",
           "linecolor": "white",
           "ticks": "",
           "title": {
            "standoff": 15
           },
           "zerolinecolor": "white",
           "zerolinewidth": 2
          },
          "yaxis": {
           "automargin": true,
           "gridcolor": "white",
           "linecolor": "white",
           "ticks": "",
           "title": {
            "standoff": 15
           },
           "zerolinecolor": "white",
           "zerolinewidth": 2
          }
         }
        },
        "xaxis": {
         "anchor": "y",
         "domain": [
          0,
          1
         ],
         "title": {
          "text": "Venue Category"
         }
        },
        "yaxis": {
         "anchor": "x",
         "domain": [
          0,
          1
         ],
         "title": {
          "text": "Counts"
         }
        }
       }
      },
      "text/html": [
       "<div>\n",
       "        \n",
       "        \n",
       "            <div id=\"a4838d90-aaf4-4c5d-b404-2b1b6a220ac2\" class=\"plotly-graph-div\" style=\"height:525px; width:100%;\"></div>\n",
       "            <script type=\"text/javascript\">\n",
       "                require([\"plotly\"], function(Plotly) {\n",
       "                    window.PLOTLYENV=window.PLOTLYENV || {};\n",
       "                    \n",
       "                if (document.getElementById(\"a4838d90-aaf4-4c5d-b404-2b1b6a220ac2\")) {\n",
       "                    Plotly.newPlot(\n",
       "                        'a4838d90-aaf4-4c5d-b404-2b1b6a220ac2',\n",
       "                        [{\"alignmentgroup\": \"True\", \"hoverlabel\": {\"namelength\": 0}, \"hovertemplate\": \"Venue Category=%{x}<br>Counts=%{y}\", \"legendgroup\": \"\", \"marker\": {\"color\": \"#636efa\"}, \"name\": \"\", \"offsetgroup\": \"\", \"orientation\": \"v\", \"showlegend\": false, \"textposition\": \"auto\", \"type\": \"bar\", \"x\": [\"ATM\", \"American Restaurant\", \"Arcade\", \"Art Gallery\", \"Asian Restaurant\", \"Australian Restaurant\", \"Bistro\", \"Boat or Ferry\", \"Brewery\", \"Bus Station\", \"Cafeteria\", \"Caf\\u00e9\", \"Castle\", \"Child Care Service\", \"Chinese Restaurant\", \"Clothing Store\", \"Cocktail Bar\", \"Coffee Shop\", \"Cupcake Shop\", \"Department Store\", \"Dessert Shop\", \"Diner\", \"Donut Shop\", \"Fast Food Restaurant\", \"Flea Market\", \"Food Truck\", \"Furniture / Home Store\", \"Garden\", \"History Museum\", \"Hotel\", \"IT Services\", \"Ice Cream Shop\", \"Lake\", \"Light Rail Station\", \"Liquor Store\", \"Motel\", \"Moving Target\", \"Multiplex\", \"Office\", \"Paper / Office Supplies Store\", \"Park\", \"Pharmacy\", \"Platform\", \"Pool Hall\", \"Rest Area\", \"Restaurant\", \"River\", \"Sandwich Place\", \"Shopping Mall\", \"Tea Room\", \"Train Station\", \"Vegetarian / Vegan Restaurant\", \"Yoga Studio\"], \"xaxis\": \"x\", \"y\": [2, 1, 1, 1, 1, 1, 1, 1, 1, 2, 1, 3, 2, 1, 10, 17, 17, 16, 14, 11, 13, 8, 7, 2, 1, 2, 1, 1, 1, 1, 3, 2, 1, 1, 1, 1, 1, 1, 1, 1, 1, 1, 2, 1, 1, 2, 2, 1, 1, 3, 1, 2, 8], \"yaxis\": \"y\"}],\n",
       "                        {\"barmode\": \"relative\", \"legend\": {\"tracegroupgap\": 0}, \"margin\": {\"t\": 60}, \"template\": {\"data\": {\"bar\": [{\"error_x\": {\"color\": \"#2a3f5f\"}, \"error_y\": {\"color\": \"#2a3f5f\"}, \"marker\": {\"line\": {\"color\": \"#E5ECF6\", \"width\": 0.5}}, \"type\": \"bar\"}], \"barpolar\": [{\"marker\": {\"line\": {\"color\": \"#E5ECF6\", \"width\": 0.5}}, \"type\": \"barpolar\"}], \"carpet\": [{\"aaxis\": {\"endlinecolor\": \"#2a3f5f\", \"gridcolor\": \"white\", \"linecolor\": \"white\", \"minorgridcolor\": \"white\", \"startlinecolor\": \"#2a3f5f\"}, \"baxis\": {\"endlinecolor\": \"#2a3f5f\", \"gridcolor\": \"white\", \"linecolor\": \"white\", \"minorgridcolor\": \"white\", \"startlinecolor\": \"#2a3f5f\"}, \"type\": \"carpet\"}], \"choropleth\": [{\"colorbar\": {\"outlinewidth\": 0, \"ticks\": \"\"}, \"type\": \"choropleth\"}], \"contour\": [{\"colorbar\": {\"outlinewidth\": 0, \"ticks\": \"\"}, \"colorscale\": [[0.0, \"#0d0887\"], [0.1111111111111111, \"#46039f\"], [0.2222222222222222, \"#7201a8\"], [0.3333333333333333, \"#9c179e\"], [0.4444444444444444, \"#bd3786\"], [0.5555555555555556, \"#d8576b\"], [0.6666666666666666, \"#ed7953\"], [0.7777777777777778, \"#fb9f3a\"], [0.8888888888888888, \"#fdca26\"], [1.0, \"#f0f921\"]], \"type\": \"contour\"}], \"contourcarpet\": [{\"colorbar\": {\"outlinewidth\": 0, \"ticks\": \"\"}, \"type\": \"contourcarpet\"}], \"heatmap\": [{\"colorbar\": {\"outlinewidth\": 0, \"ticks\": \"\"}, \"colorscale\": [[0.0, \"#0d0887\"], [0.1111111111111111, \"#46039f\"], [0.2222222222222222, \"#7201a8\"], [0.3333333333333333, \"#9c179e\"], [0.4444444444444444, \"#bd3786\"], [0.5555555555555556, \"#d8576b\"], [0.6666666666666666, \"#ed7953\"], [0.7777777777777778, \"#fb9f3a\"], [0.8888888888888888, \"#fdca26\"], [1.0, \"#f0f921\"]], \"type\": \"heatmap\"}], \"heatmapgl\": [{\"colorbar\": {\"outlinewidth\": 0, \"ticks\": \"\"}, \"colorscale\": [[0.0, \"#0d0887\"], [0.1111111111111111, \"#46039f\"], [0.2222222222222222, \"#7201a8\"], [0.3333333333333333, \"#9c179e\"], [0.4444444444444444, \"#bd3786\"], [0.5555555555555556, \"#d8576b\"], [0.6666666666666666, \"#ed7953\"], [0.7777777777777778, \"#fb9f3a\"], [0.8888888888888888, \"#fdca26\"], [1.0, \"#f0f921\"]], \"type\": \"heatmapgl\"}], \"histogram\": [{\"marker\": {\"colorbar\": {\"outlinewidth\": 0, \"ticks\": \"\"}}, \"type\": \"histogram\"}], \"histogram2d\": [{\"colorbar\": {\"outlinewidth\": 0, \"ticks\": \"\"}, \"colorscale\": [[0.0, \"#0d0887\"], [0.1111111111111111, \"#46039f\"], [0.2222222222222222, \"#7201a8\"], [0.3333333333333333, \"#9c179e\"], [0.4444444444444444, \"#bd3786\"], [0.5555555555555556, \"#d8576b\"], [0.6666666666666666, \"#ed7953\"], [0.7777777777777778, \"#fb9f3a\"], [0.8888888888888888, \"#fdca26\"], [1.0, \"#f0f921\"]], \"type\": \"histogram2d\"}], \"histogram2dcontour\": [{\"colorbar\": {\"outlinewidth\": 0, \"ticks\": \"\"}, \"colorscale\": [[0.0, \"#0d0887\"], [0.1111111111111111, \"#46039f\"], [0.2222222222222222, \"#7201a8\"], [0.3333333333333333, \"#9c179e\"], [0.4444444444444444, \"#bd3786\"], [0.5555555555555556, \"#d8576b\"], [0.6666666666666666, \"#ed7953\"], [0.7777777777777778, \"#fb9f3a\"], [0.8888888888888888, \"#fdca26\"], [1.0, \"#f0f921\"]], \"type\": \"histogram2dcontour\"}], \"mesh3d\": [{\"colorbar\": {\"outlinewidth\": 0, \"ticks\": \"\"}, \"type\": \"mesh3d\"}], \"parcoords\": [{\"line\": {\"colorbar\": {\"outlinewidth\": 0, \"ticks\": \"\"}}, \"type\": \"parcoords\"}], \"pie\": [{\"automargin\": true, \"type\": \"pie\"}], \"scatter\": [{\"marker\": {\"colorbar\": {\"outlinewidth\": 0, \"ticks\": \"\"}}, \"type\": \"scatter\"}], \"scatter3d\": [{\"line\": {\"colorbar\": {\"outlinewidth\": 0, \"ticks\": \"\"}}, \"marker\": {\"colorbar\": {\"outlinewidth\": 0, \"ticks\": \"\"}}, \"type\": \"scatter3d\"}], \"scattercarpet\": [{\"marker\": {\"colorbar\": {\"outlinewidth\": 0, \"ticks\": \"\"}}, \"type\": \"scattercarpet\"}], \"scattergeo\": [{\"marker\": {\"colorbar\": {\"outlinewidth\": 0, \"ticks\": \"\"}}, \"type\": \"scattergeo\"}], \"scattergl\": [{\"marker\": {\"colorbar\": {\"outlinewidth\": 0, \"ticks\": \"\"}}, \"type\": \"scattergl\"}], \"scattermapbox\": [{\"marker\": {\"colorbar\": {\"outlinewidth\": 0, \"ticks\": \"\"}}, \"type\": \"scattermapbox\"}], \"scatterpolar\": [{\"marker\": {\"colorbar\": {\"outlinewidth\": 0, \"ticks\": \"\"}}, \"type\": \"scatterpolar\"}], \"scatterpolargl\": [{\"marker\": {\"colorbar\": {\"outlinewidth\": 0, \"ticks\": \"\"}}, \"type\": \"scatterpolargl\"}], \"scatterternary\": [{\"marker\": {\"colorbar\": {\"outlinewidth\": 0, \"ticks\": \"\"}}, \"type\": \"scatterternary\"}], \"surface\": [{\"colorbar\": {\"outlinewidth\": 0, \"ticks\": \"\"}, \"colorscale\": [[0.0, \"#0d0887\"], [0.1111111111111111, \"#46039f\"], [0.2222222222222222, \"#7201a8\"], [0.3333333333333333, \"#9c179e\"], [0.4444444444444444, \"#bd3786\"], [0.5555555555555556, \"#d8576b\"], [0.6666666666666666, \"#ed7953\"], [0.7777777777777778, \"#fb9f3a\"], [0.8888888888888888, \"#fdca26\"], [1.0, \"#f0f921\"]], \"type\": \"surface\"}], \"table\": [{\"cells\": {\"fill\": {\"color\": \"#EBF0F8\"}, \"line\": {\"color\": \"white\"}}, \"header\": {\"fill\": {\"color\": \"#C8D4E3\"}, \"line\": {\"color\": \"white\"}}, \"type\": \"table\"}]}, \"layout\": {\"annotationdefaults\": {\"arrowcolor\": \"#2a3f5f\", \"arrowhead\": 0, \"arrowwidth\": 1}, \"coloraxis\": {\"colorbar\": {\"outlinewidth\": 0, \"ticks\": \"\"}}, \"colorscale\": {\"diverging\": [[0, \"#8e0152\"], [0.1, \"#c51b7d\"], [0.2, \"#de77ae\"], [0.3, \"#f1b6da\"], [0.4, \"#fde0ef\"], [0.5, \"#f7f7f7\"], [0.6, \"#e6f5d0\"], [0.7, \"#b8e186\"], [0.8, \"#7fbc41\"], [0.9, \"#4d9221\"], [1, \"#276419\"]], \"sequential\": [[0.0, \"#0d0887\"], [0.1111111111111111, \"#46039f\"], [0.2222222222222222, \"#7201a8\"], [0.3333333333333333, \"#9c179e\"], [0.4444444444444444, \"#bd3786\"], [0.5555555555555556, \"#d8576b\"], [0.6666666666666666, \"#ed7953\"], [0.7777777777777778, \"#fb9f3a\"], [0.8888888888888888, \"#fdca26\"], [1.0, \"#f0f921\"]], \"sequentialminus\": [[0.0, \"#0d0887\"], [0.1111111111111111, \"#46039f\"], [0.2222222222222222, \"#7201a8\"], [0.3333333333333333, \"#9c179e\"], [0.4444444444444444, \"#bd3786\"], [0.5555555555555556, \"#d8576b\"], [0.6666666666666666, \"#ed7953\"], [0.7777777777777778, \"#fb9f3a\"], [0.8888888888888888, \"#fdca26\"], [1.0, \"#f0f921\"]]}, \"colorway\": [\"#636efa\", \"#EF553B\", \"#00cc96\", \"#ab63fa\", \"#FFA15A\", \"#19d3f3\", \"#FF6692\", \"#B6E880\", \"#FF97FF\", \"#FECB52\"], \"font\": {\"color\": \"#2a3f5f\"}, \"geo\": {\"bgcolor\": \"white\", \"lakecolor\": \"white\", \"landcolor\": \"#E5ECF6\", \"showlakes\": true, \"showland\": true, \"subunitcolor\": \"white\"}, \"hoverlabel\": {\"align\": \"left\"}, \"hovermode\": \"closest\", \"mapbox\": {\"style\": \"light\"}, \"paper_bgcolor\": \"white\", \"plot_bgcolor\": \"#E5ECF6\", \"polar\": {\"angularaxis\": {\"gridcolor\": \"white\", \"linecolor\": \"white\", \"ticks\": \"\"}, \"bgcolor\": \"#E5ECF6\", \"radialaxis\": {\"gridcolor\": \"white\", \"linecolor\": \"white\", \"ticks\": \"\"}}, \"scene\": {\"xaxis\": {\"backgroundcolor\": \"#E5ECF6\", \"gridcolor\": \"white\", \"gridwidth\": 2, \"linecolor\": \"white\", \"showbackground\": true, \"ticks\": \"\", \"zerolinecolor\": \"white\"}, \"yaxis\": {\"backgroundcolor\": \"#E5ECF6\", \"gridcolor\": \"white\", \"gridwidth\": 2, \"linecolor\": \"white\", \"showbackground\": true, \"ticks\": \"\", \"zerolinecolor\": \"white\"}, \"zaxis\": {\"backgroundcolor\": \"#E5ECF6\", \"gridcolor\": \"white\", \"gridwidth\": 2, \"linecolor\": \"white\", \"showbackground\": true, \"ticks\": \"\", \"zerolinecolor\": \"white\"}}, \"shapedefaults\": {\"line\": {\"color\": \"#2a3f5f\"}}, \"ternary\": {\"aaxis\": {\"gridcolor\": \"white\", \"linecolor\": \"white\", \"ticks\": \"\"}, \"baxis\": {\"gridcolor\": \"white\", \"linecolor\": \"white\", \"ticks\": \"\"}, \"bgcolor\": \"#E5ECF6\", \"caxis\": {\"gridcolor\": \"white\", \"linecolor\": \"white\", \"ticks\": \"\"}}, \"title\": {\"x\": 0.05}, \"xaxis\": {\"automargin\": true, \"gridcolor\": \"white\", \"linecolor\": \"white\", \"ticks\": \"\", \"title\": {\"standoff\": 15}, \"zerolinecolor\": \"white\", \"zerolinewidth\": 2}, \"yaxis\": {\"automargin\": true, \"gridcolor\": \"white\", \"linecolor\": \"white\", \"ticks\": \"\", \"title\": {\"standoff\": 15}, \"zerolinecolor\": \"white\", \"zerolinewidth\": 2}}}, \"xaxis\": {\"anchor\": \"y\", \"domain\": [0.0, 1.0], \"title\": {\"text\": \"Venue Category\"}}, \"yaxis\": {\"anchor\": \"x\", \"domain\": [0.0, 1.0], \"title\": {\"text\": \"Counts\"}}},\n",
       "                        {\"responsive\": true}\n",
       "                    ).then(function(){\n",
       "                            \n",
       "var gd = document.getElementById('a4838d90-aaf4-4c5d-b404-2b1b6a220ac2');\n",
       "var x = new MutationObserver(function (mutations, observer) {{\n",
       "        var display = window.getComputedStyle(gd).display;\n",
       "        if (!display || display === 'none') {{\n",
       "            console.log([gd, 'removed!']);\n",
       "            Plotly.purge(gd);\n",
       "            observer.disconnect();\n",
       "        }}\n",
       "}});\n",
       "\n",
       "// Listen for the removal of the full notebook cells\n",
       "var notebookContainer = gd.closest('#notebook-container');\n",
       "if (notebookContainer) {{\n",
       "    x.observe(notebookContainer, {childList: true});\n",
       "}}\n",
       "\n",
       "// Listen for the clearing of the current output cell\n",
       "var outputEl = gd.closest('.output');\n",
       "if (outputEl) {{\n",
       "    x.observe(outputEl, {childList: true});\n",
       "}}\n",
       "\n",
       "                        })\n",
       "                };\n",
       "                });\n",
       "            </script>\n",
       "        </div>"
      ]
     },
     "metadata": {},
     "output_type": "display_data"
    }
   ],
   "source": [
    "ser = pd.Series() \n",
    "temp_c = cluster1.drop('Neighborhood', 1)\n",
    "for c in temp_c.columns:\n",
    "    temp = temp_c[c].value_counts()\n",
    "    ser = ser.append(temp)\n",
    "bar_cluster1 = ser.to_frame()\n",
    "bar_cluster1.reset_index(inplace = True)\n",
    "bar_cluster1.columns = ['Venue','Counts']\n",
    "bar_cluster1 = bar_cluster1.groupby('Venue').sum()\n",
    "fig = px.bar(bar_cluster1, x=bar_cluster1.index, y='Counts', labels={'x':'Venue Category'})\n",
    "fig.show()"
   ]
  },
  {
   "cell_type": "code",
   "execution_count": 155,
   "metadata": {},
   "outputs": [
    {
     "data": {
      "text/html": [
       "<div>\n",
       "<style scoped>\n",
       "    .dataframe tbody tr th:only-of-type {\n",
       "        vertical-align: middle;\n",
       "    }\n",
       "\n",
       "    .dataframe tbody tr th {\n",
       "        vertical-align: top;\n",
       "    }\n",
       "\n",
       "    .dataframe thead th {\n",
       "        text-align: right;\n",
       "    }\n",
       "</style>\n",
       "<table border=\"1\" class=\"dataframe\">\n",
       "  <thead>\n",
       "    <tr style=\"text-align: right;\">\n",
       "      <th></th>\n",
       "      <th>Neighborhood</th>\n",
       "      <th>1st Most Common Venue</th>\n",
       "      <th>2nd Most Common Venue</th>\n",
       "      <th>3rd Most Common Venue</th>\n",
       "      <th>4th Most Common Venue</th>\n",
       "      <th>5th Most Common Venue</th>\n",
       "      <th>6th Most Common Venue</th>\n",
       "      <th>7th Most Common Venue</th>\n",
       "      <th>8th Most Common Venue</th>\n",
       "      <th>9th Most Common Venue</th>\n",
       "      <th>10th Most Common Venue</th>\n",
       "    </tr>\n",
       "  </thead>\n",
       "  <tbody>\n",
       "    <tr>\n",
       "      <th>1</th>\n",
       "      <td>Alam Roza</td>\n",
       "      <td>Food Court</td>\n",
       "      <td>Ice Cream Shop</td>\n",
       "      <td>Yoga Studio</td>\n",
       "      <td>Donut Shop</td>\n",
       "      <td>Clothing Store</td>\n",
       "      <td>Cocktail Bar</td>\n",
       "      <td>Coffee Shop</td>\n",
       "      <td>Cupcake Shop</td>\n",
       "      <td>Department Store</td>\n",
       "      <td>Dessert Shop</td>\n",
       "    </tr>\n",
       "    <tr>\n",
       "      <th>2</th>\n",
       "      <td>Ambawadi</td>\n",
       "      <td>Café</td>\n",
       "      <td>Sporting Goods Shop</td>\n",
       "      <td>Mediterranean Restaurant</td>\n",
       "      <td>Indian Restaurant</td>\n",
       "      <td>Yoga Studio</td>\n",
       "      <td>Diner</td>\n",
       "      <td>Clothing Store</td>\n",
       "      <td>Cocktail Bar</td>\n",
       "      <td>Coffee Shop</td>\n",
       "      <td>Cupcake Shop</td>\n",
       "    </tr>\n",
       "    <tr>\n",
       "      <th>4</th>\n",
       "      <td>Anand Nagar (Ahmedabad)</td>\n",
       "      <td>Fast Food Restaurant</td>\n",
       "      <td>Pizza Place</td>\n",
       "      <td>BBQ Joint</td>\n",
       "      <td>Indian Restaurant</td>\n",
       "      <td>Café</td>\n",
       "      <td>Diner</td>\n",
       "      <td>Restaurant</td>\n",
       "      <td>Bakery</td>\n",
       "      <td>Yoga Studio</td>\n",
       "      <td>Tea Room</td>\n",
       "    </tr>\n",
       "    <tr>\n",
       "      <th>6</th>\n",
       "      <td>Bapunagar</td>\n",
       "      <td>Bakery</td>\n",
       "      <td>Pizza Place</td>\n",
       "      <td>Indian Restaurant</td>\n",
       "      <td>Yoga Studio</td>\n",
       "      <td>Donut Shop</td>\n",
       "      <td>Clothing Store</td>\n",
       "      <td>Cocktail Bar</td>\n",
       "      <td>Coffee Shop</td>\n",
       "      <td>Cupcake Shop</td>\n",
       "      <td>Department Store</td>\n",
       "    </tr>\n",
       "    <tr>\n",
       "      <th>8</th>\n",
       "      <td>Bhairavnath Road</td>\n",
       "      <td>ATM</td>\n",
       "      <td>Fast Food Restaurant</td>\n",
       "      <td>Ice Cream Shop</td>\n",
       "      <td>Indian Restaurant</td>\n",
       "      <td>Pizza Place</td>\n",
       "      <td>Breakfast Spot</td>\n",
       "      <td>Dessert Shop</td>\n",
       "      <td>Clothing Store</td>\n",
       "      <td>Cocktail Bar</td>\n",
       "      <td>Coffee Shop</td>\n",
       "    </tr>\n",
       "    <tr>\n",
       "      <th>9</th>\n",
       "      <td>Bopal</td>\n",
       "      <td>Gym</td>\n",
       "      <td>Park</td>\n",
       "      <td>Diner</td>\n",
       "      <td>Chinese Restaurant</td>\n",
       "      <td>Clothing Store</td>\n",
       "      <td>Cocktail Bar</td>\n",
       "      <td>Coffee Shop</td>\n",
       "      <td>Cupcake Shop</td>\n",
       "      <td>Department Store</td>\n",
       "      <td>Dessert Shop</td>\n",
       "    </tr>\n",
       "    <tr>\n",
       "      <th>10</th>\n",
       "      <td>Chandkheda</td>\n",
       "      <td>Ice Cream Shop</td>\n",
       "      <td>Pizza Place</td>\n",
       "      <td>Indian Restaurant</td>\n",
       "      <td>Farmers Market</td>\n",
       "      <td>Yoga Studio</td>\n",
       "      <td>Diner</td>\n",
       "      <td>Clothing Store</td>\n",
       "      <td>Cocktail Bar</td>\n",
       "      <td>Coffee Shop</td>\n",
       "      <td>Cupcake Shop</td>\n",
       "    </tr>\n",
       "    <tr>\n",
       "      <th>12</th>\n",
       "      <td>Dariapur (Ahmedabad)</td>\n",
       "      <td>Pizza Place</td>\n",
       "      <td>Dessert Shop</td>\n",
       "      <td>Yoga Studio</td>\n",
       "      <td>Diner</td>\n",
       "      <td>Chinese Restaurant</td>\n",
       "      <td>Clothing Store</td>\n",
       "      <td>Cocktail Bar</td>\n",
       "      <td>Coffee Shop</td>\n",
       "      <td>Cupcake Shop</td>\n",
       "      <td>Department Store</td>\n",
       "    </tr>\n",
       "    <tr>\n",
       "      <th>20</th>\n",
       "      <td>Isanpur</td>\n",
       "      <td>Business Service</td>\n",
       "      <td>Indian Restaurant</td>\n",
       "      <td>Dessert Shop</td>\n",
       "      <td>Yoga Studio</td>\n",
       "      <td>Donut Shop</td>\n",
       "      <td>Clothing Store</td>\n",
       "      <td>Cocktail Bar</td>\n",
       "      <td>Coffee Shop</td>\n",
       "      <td>Cupcake Shop</td>\n",
       "      <td>Department Store</td>\n",
       "    </tr>\n",
       "    <tr>\n",
       "      <th>22</th>\n",
       "      <td>Jawahar Chowk</td>\n",
       "      <td>Ice Cream Shop</td>\n",
       "      <td>Gas Station</td>\n",
       "      <td>Pizza Place</td>\n",
       "      <td>Fast Food Restaurant</td>\n",
       "      <td>Electronics Store</td>\n",
       "      <td>Food Court</td>\n",
       "      <td>Flea Market</td>\n",
       "      <td>Food Truck</td>\n",
       "      <td>Furniture / Home Store</td>\n",
       "      <td>Farmers Market</td>\n",
       "    </tr>\n",
       "    <tr>\n",
       "      <th>25</th>\n",
       "      <td>Kalupur</td>\n",
       "      <td>Indian Restaurant</td>\n",
       "      <td>Train Station</td>\n",
       "      <td>Men's Store</td>\n",
       "      <td>Asian Restaurant</td>\n",
       "      <td>Platform</td>\n",
       "      <td>Motel</td>\n",
       "      <td>Dessert Shop</td>\n",
       "      <td>Chinese Restaurant</td>\n",
       "      <td>Clothing Store</td>\n",
       "      <td>Cocktail Bar</td>\n",
       "    </tr>\n",
       "    <tr>\n",
       "      <th>26</th>\n",
       "      <td>Khadia, Ahmedabad</td>\n",
       "      <td>Historic Site</td>\n",
       "      <td>Snack Place</td>\n",
       "      <td>Fast Food Restaurant</td>\n",
       "      <td>Electronics Store</td>\n",
       "      <td>Yoga Studio</td>\n",
       "      <td>Diner</td>\n",
       "      <td>Clothing Store</td>\n",
       "      <td>Cocktail Bar</td>\n",
       "      <td>Coffee Shop</td>\n",
       "      <td>Cupcake Shop</td>\n",
       "    </tr>\n",
       "    <tr>\n",
       "      <th>30</th>\n",
       "      <td>Maninagar</td>\n",
       "      <td>Fast Food Restaurant</td>\n",
       "      <td>Ice Cream Shop</td>\n",
       "      <td>Electronics Store</td>\n",
       "      <td>Clothing Store</td>\n",
       "      <td>Pizza Place</td>\n",
       "      <td>Indian Restaurant</td>\n",
       "      <td>Diner</td>\n",
       "      <td>Cocktail Bar</td>\n",
       "      <td>Coffee Shop</td>\n",
       "      <td>Cupcake Shop</td>\n",
       "    </tr>\n",
       "    <tr>\n",
       "      <th>31</th>\n",
       "      <td>Memnagar</td>\n",
       "      <td>Fast Food Restaurant</td>\n",
       "      <td>Indian Restaurant</td>\n",
       "      <td>Electronics Store</td>\n",
       "      <td>Hotel</td>\n",
       "      <td>Snack Place</td>\n",
       "      <td>Pizza Place</td>\n",
       "      <td>Diner</td>\n",
       "      <td>Clothing Store</td>\n",
       "      <td>Cocktail Bar</td>\n",
       "      <td>Coffee Shop</td>\n",
       "    </tr>\n",
       "    <tr>\n",
       "      <th>34</th>\n",
       "      <td>Naroda</td>\n",
       "      <td>Multiplex</td>\n",
       "      <td>Diner</td>\n",
       "      <td>Fast Food Restaurant</td>\n",
       "      <td>Indian Restaurant</td>\n",
       "      <td>Breakfast Spot</td>\n",
       "      <td>Clothing Store</td>\n",
       "      <td>Cocktail Bar</td>\n",
       "      <td>Coffee Shop</td>\n",
       "      <td>Cupcake Shop</td>\n",
       "      <td>Department Store</td>\n",
       "    </tr>\n",
       "    <tr>\n",
       "      <th>36</th>\n",
       "      <td>Navarangpura</td>\n",
       "      <td>Indian Restaurant</td>\n",
       "      <td>Multiplex</td>\n",
       "      <td>Bookstore</td>\n",
       "      <td>Arts &amp; Crafts Store</td>\n",
       "      <td>Fast Food Restaurant</td>\n",
       "      <td>Hotel</td>\n",
       "      <td>Shoe Store</td>\n",
       "      <td>Sandwich Place</td>\n",
       "      <td>Department Store</td>\n",
       "      <td>Dessert Shop</td>\n",
       "    </tr>\n",
       "    <tr>\n",
       "      <th>41</th>\n",
       "      <td>Ranip</td>\n",
       "      <td>Juice Bar</td>\n",
       "      <td>Indian Restaurant</td>\n",
       "      <td>Electronics Store</td>\n",
       "      <td>Clothing Store</td>\n",
       "      <td>Cocktail Bar</td>\n",
       "      <td>Coffee Shop</td>\n",
       "      <td>Cupcake Shop</td>\n",
       "      <td>Department Store</td>\n",
       "      <td>Dessert Shop</td>\n",
       "      <td>Diner</td>\n",
       "    </tr>\n",
       "    <tr>\n",
       "      <th>42</th>\n",
       "      <td>Sabarmati (area)</td>\n",
       "      <td>Fast Food Restaurant</td>\n",
       "      <td>River</td>\n",
       "      <td>Jewelry Store</td>\n",
       "      <td>Sandwich Place</td>\n",
       "      <td>Diner</td>\n",
       "      <td>Chinese Restaurant</td>\n",
       "      <td>Clothing Store</td>\n",
       "      <td>Cocktail Bar</td>\n",
       "      <td>Coffee Shop</td>\n",
       "      <td>Cupcake Shop</td>\n",
       "    </tr>\n",
       "    <tr>\n",
       "      <th>45</th>\n",
       "      <td>Shahibaug</td>\n",
       "      <td>History Museum</td>\n",
       "      <td>Hotel</td>\n",
       "      <td>Indian Restaurant</td>\n",
       "      <td>Bakery</td>\n",
       "      <td>Yoga Studio</td>\n",
       "      <td>Donut Shop</td>\n",
       "      <td>Cocktail Bar</td>\n",
       "      <td>Coffee Shop</td>\n",
       "      <td>Cupcake Shop</td>\n",
       "      <td>Department Store</td>\n",
       "    </tr>\n",
       "    <tr>\n",
       "      <th>46</th>\n",
       "      <td>Shastrinagar</td>\n",
       "      <td>Indian Restaurant</td>\n",
       "      <td>Sandwich Place</td>\n",
       "      <td>Pizza Place</td>\n",
       "      <td>Gym</td>\n",
       "      <td>Video Store</td>\n",
       "      <td>Food Court</td>\n",
       "      <td>Fast Food Restaurant</td>\n",
       "      <td>Garden</td>\n",
       "      <td>BBQ Joint</td>\n",
       "      <td>Arts &amp; Crafts Store</td>\n",
       "    </tr>\n",
       "    <tr>\n",
       "      <th>47</th>\n",
       "      <td>Subhash Bridge</td>\n",
       "      <td>Indian Restaurant</td>\n",
       "      <td>Garden</td>\n",
       "      <td>Furniture / Home Store</td>\n",
       "      <td>Yoga Studio</td>\n",
       "      <td>Diner</td>\n",
       "      <td>Clothing Store</td>\n",
       "      <td>Cocktail Bar</td>\n",
       "      <td>Coffee Shop</td>\n",
       "      <td>Cupcake Shop</td>\n",
       "      <td>Department Store</td>\n",
       "    </tr>\n",
       "    <tr>\n",
       "      <th>49</th>\n",
       "      <td>Thaltej</td>\n",
       "      <td>Big Box Store</td>\n",
       "      <td>Sandwich Place</td>\n",
       "      <td>Café</td>\n",
       "      <td>Multiplex</td>\n",
       "      <td>Coffee Shop</td>\n",
       "      <td>Pizza Place</td>\n",
       "      <td>Indian Restaurant</td>\n",
       "      <td>Ice Cream Shop</td>\n",
       "      <td>Mediterranean Restaurant</td>\n",
       "      <td>Shopping Mall</td>\n",
       "    </tr>\n",
       "    <tr>\n",
       "      <th>51</th>\n",
       "      <td>Vastral</td>\n",
       "      <td>Metro Station</td>\n",
       "      <td>Pharmacy</td>\n",
       "      <td>Indian Restaurant</td>\n",
       "      <td>Yoga Studio</td>\n",
       "      <td>Diner</td>\n",
       "      <td>Clothing Store</td>\n",
       "      <td>Cocktail Bar</td>\n",
       "      <td>Coffee Shop</td>\n",
       "      <td>Cupcake Shop</td>\n",
       "      <td>Department Store</td>\n",
       "    </tr>\n",
       "    <tr>\n",
       "      <th>52</th>\n",
       "      <td>Vastrapur</td>\n",
       "      <td>Fast Food Restaurant</td>\n",
       "      <td>Donut Shop</td>\n",
       "      <td>Café</td>\n",
       "      <td>Clothing Store</td>\n",
       "      <td>Indian Restaurant</td>\n",
       "      <td>Shopping Mall</td>\n",
       "      <td>Pizza Place</td>\n",
       "      <td>Bakery</td>\n",
       "      <td>Cupcake Shop</td>\n",
       "      <td>Hotel</td>\n",
       "    </tr>\n",
       "  </tbody>\n",
       "</table>\n",
       "</div>"
      ],
      "text/plain": [
       "               Neighborhood 1st Most Common Venue 2nd Most Common Venue  \\\n",
       "1                 Alam Roza            Food Court        Ice Cream Shop   \n",
       "2                  Ambawadi                  Café   Sporting Goods Shop   \n",
       "4   Anand Nagar (Ahmedabad)  Fast Food Restaurant           Pizza Place   \n",
       "6                 Bapunagar                Bakery           Pizza Place   \n",
       "8          Bhairavnath Road                   ATM  Fast Food Restaurant   \n",
       "9                     Bopal                   Gym                  Park   \n",
       "10               Chandkheda        Ice Cream Shop           Pizza Place   \n",
       "12     Dariapur (Ahmedabad)           Pizza Place          Dessert Shop   \n",
       "20                  Isanpur      Business Service     Indian Restaurant   \n",
       "22            Jawahar Chowk        Ice Cream Shop           Gas Station   \n",
       "25                  Kalupur     Indian Restaurant         Train Station   \n",
       "26        Khadia, Ahmedabad         Historic Site           Snack Place   \n",
       "30                Maninagar  Fast Food Restaurant        Ice Cream Shop   \n",
       "31                 Memnagar  Fast Food Restaurant     Indian Restaurant   \n",
       "34                   Naroda             Multiplex                 Diner   \n",
       "36             Navarangpura     Indian Restaurant             Multiplex   \n",
       "41                    Ranip             Juice Bar     Indian Restaurant   \n",
       "42         Sabarmati (area)  Fast Food Restaurant                 River   \n",
       "45                Shahibaug        History Museum                 Hotel   \n",
       "46             Shastrinagar     Indian Restaurant        Sandwich Place   \n",
       "47           Subhash Bridge     Indian Restaurant                Garden   \n",
       "49                  Thaltej         Big Box Store        Sandwich Place   \n",
       "51                  Vastral         Metro Station              Pharmacy   \n",
       "52                Vastrapur  Fast Food Restaurant            Donut Shop   \n",
       "\n",
       "       3rd Most Common Venue 4th Most Common Venue 5th Most Common Venue  \\\n",
       "1                Yoga Studio            Donut Shop        Clothing Store   \n",
       "2   Mediterranean Restaurant     Indian Restaurant           Yoga Studio   \n",
       "4                  BBQ Joint     Indian Restaurant                  Café   \n",
       "6          Indian Restaurant           Yoga Studio            Donut Shop   \n",
       "8             Ice Cream Shop     Indian Restaurant           Pizza Place   \n",
       "9                      Diner    Chinese Restaurant        Clothing Store   \n",
       "10         Indian Restaurant        Farmers Market           Yoga Studio   \n",
       "12               Yoga Studio                 Diner    Chinese Restaurant   \n",
       "20              Dessert Shop           Yoga Studio            Donut Shop   \n",
       "22               Pizza Place  Fast Food Restaurant     Electronics Store   \n",
       "25               Men's Store      Asian Restaurant              Platform   \n",
       "26      Fast Food Restaurant     Electronics Store           Yoga Studio   \n",
       "30         Electronics Store        Clothing Store           Pizza Place   \n",
       "31         Electronics Store                 Hotel           Snack Place   \n",
       "34      Fast Food Restaurant     Indian Restaurant        Breakfast Spot   \n",
       "36                 Bookstore   Arts & Crafts Store  Fast Food Restaurant   \n",
       "41         Electronics Store        Clothing Store          Cocktail Bar   \n",
       "42             Jewelry Store        Sandwich Place                 Diner   \n",
       "45         Indian Restaurant                Bakery           Yoga Studio   \n",
       "46               Pizza Place                   Gym           Video Store   \n",
       "47    Furniture / Home Store           Yoga Studio                 Diner   \n",
       "49                      Café             Multiplex           Coffee Shop   \n",
       "51         Indian Restaurant           Yoga Studio                 Diner   \n",
       "52                      Café        Clothing Store     Indian Restaurant   \n",
       "\n",
       "   6th Most Common Venue 7th Most Common Venue 8th Most Common Venue  \\\n",
       "1           Cocktail Bar           Coffee Shop          Cupcake Shop   \n",
       "2                  Diner        Clothing Store          Cocktail Bar   \n",
       "4                  Diner            Restaurant                Bakery   \n",
       "6         Clothing Store          Cocktail Bar           Coffee Shop   \n",
       "8         Breakfast Spot          Dessert Shop        Clothing Store   \n",
       "9           Cocktail Bar           Coffee Shop          Cupcake Shop   \n",
       "10                 Diner        Clothing Store          Cocktail Bar   \n",
       "12        Clothing Store          Cocktail Bar           Coffee Shop   \n",
       "20        Clothing Store          Cocktail Bar           Coffee Shop   \n",
       "22            Food Court           Flea Market            Food Truck   \n",
       "25                 Motel          Dessert Shop    Chinese Restaurant   \n",
       "26                 Diner        Clothing Store          Cocktail Bar   \n",
       "30     Indian Restaurant                 Diner          Cocktail Bar   \n",
       "31           Pizza Place                 Diner        Clothing Store   \n",
       "34        Clothing Store          Cocktail Bar           Coffee Shop   \n",
       "36                 Hotel            Shoe Store        Sandwich Place   \n",
       "41           Coffee Shop          Cupcake Shop      Department Store   \n",
       "42    Chinese Restaurant        Clothing Store          Cocktail Bar   \n",
       "45            Donut Shop          Cocktail Bar           Coffee Shop   \n",
       "46            Food Court  Fast Food Restaurant                Garden   \n",
       "47        Clothing Store          Cocktail Bar           Coffee Shop   \n",
       "49           Pizza Place     Indian Restaurant        Ice Cream Shop   \n",
       "51        Clothing Store          Cocktail Bar           Coffee Shop   \n",
       "52         Shopping Mall           Pizza Place                Bakery   \n",
       "\n",
       "       9th Most Common Venue 10th Most Common Venue  \n",
       "1           Department Store           Dessert Shop  \n",
       "2                Coffee Shop           Cupcake Shop  \n",
       "4                Yoga Studio               Tea Room  \n",
       "6               Cupcake Shop       Department Store  \n",
       "8               Cocktail Bar            Coffee Shop  \n",
       "9           Department Store           Dessert Shop  \n",
       "10               Coffee Shop           Cupcake Shop  \n",
       "12              Cupcake Shop       Department Store  \n",
       "20              Cupcake Shop       Department Store  \n",
       "22    Furniture / Home Store         Farmers Market  \n",
       "25            Clothing Store           Cocktail Bar  \n",
       "26               Coffee Shop           Cupcake Shop  \n",
       "30               Coffee Shop           Cupcake Shop  \n",
       "31              Cocktail Bar            Coffee Shop  \n",
       "34              Cupcake Shop       Department Store  \n",
       "36          Department Store           Dessert Shop  \n",
       "41              Dessert Shop                  Diner  \n",
       "42               Coffee Shop           Cupcake Shop  \n",
       "45              Cupcake Shop       Department Store  \n",
       "46                 BBQ Joint    Arts & Crafts Store  \n",
       "47              Cupcake Shop       Department Store  \n",
       "49  Mediterranean Restaurant          Shopping Mall  \n",
       "51              Cupcake Shop       Department Store  \n",
       "52              Cupcake Shop                  Hotel  "
      ]
     },
     "execution_count": 155,
     "metadata": {},
     "output_type": "execute_result"
    }
   ],
   "source": [
    "cluster2 = ahmedabad_merged.loc[ahmedabad_merged['Cluster Labels'] == 1, ahmedabad_merged.columns[[0] + list(range(4, ahmedabad_merged.shape[1]))]]\n",
    "cluster2"
   ]
  },
  {
   "cell_type": "code",
   "execution_count": 156,
   "metadata": {},
   "outputs": [
    {
     "data": {
      "application/vnd.plotly.v1+json": {
       "config": {
        "plotlyServerURL": "https://plot.ly"
       },
       "data": [
        {
         "alignmentgroup": "True",
         "hoverlabel": {
          "namelength": 0
         },
         "hovertemplate": "Venue Category=%{x}<br>Counts=%{y}",
         "legendgroup": "",
         "marker": {
          "color": "#636efa"
         },
         "name": "",
         "offsetgroup": "",
         "orientation": "v",
         "showlegend": false,
         "textposition": "auto",
         "type": "bar",
         "x": [
          "ATM",
          "Arts & Crafts Store",
          "Asian Restaurant",
          "BBQ Joint",
          "Bakery",
          "Big Box Store",
          "Bookstore",
          "Breakfast Spot",
          "Business Service",
          "Café",
          "Chinese Restaurant",
          "Clothing Store",
          "Cocktail Bar",
          "Coffee Shop",
          "Cupcake Shop",
          "Department Store",
          "Dessert Shop",
          "Diner",
          "Donut Shop",
          "Electronics Store",
          "Farmers Market",
          "Fast Food Restaurant",
          "Flea Market",
          "Food Court",
          "Food Truck",
          "Furniture / Home Store",
          "Garden",
          "Gas Station",
          "Gym",
          "Historic Site",
          "History Museum",
          "Hotel",
          "Ice Cream Shop",
          "Indian Restaurant",
          "Jewelry Store",
          "Juice Bar",
          "Mediterranean Restaurant",
          "Men's Store",
          "Metro Station",
          "Motel",
          "Multiplex",
          "Park",
          "Pharmacy",
          "Pizza Place",
          "Platform",
          "Restaurant",
          "River",
          "Sandwich Place",
          "Shoe Store",
          "Shopping Mall",
          "Snack Place",
          "Sporting Goods Shop",
          "Tea Room",
          "Train Station",
          "Video Store",
          "Yoga Studio"
         ],
         "xaxis": "x",
         "y": [
          1,
          2,
          1,
          2,
          4,
          1,
          1,
          2,
          1,
          4,
          4,
          18,
          18,
          18,
          16,
          11,
          8,
          13,
          5,
          5,
          2,
          11,
          1,
          3,
          1,
          2,
          2,
          1,
          2,
          1,
          1,
          4,
          6,
          18,
          1,
          1,
          2,
          1,
          1,
          1,
          3,
          1,
          1,
          11,
          1,
          1,
          1,
          4,
          1,
          2,
          2,
          1,
          1,
          1,
          1,
          11
         ],
         "yaxis": "y"
        }
       ],
       "layout": {
        "barmode": "relative",
        "legend": {
         "tracegroupgap": 0
        },
        "margin": {
         "t": 60
        },
        "template": {
         "data": {
          "bar": [
           {
            "error_x": {
             "color": "#2a3f5f"
            },
            "error_y": {
             "color": "#2a3f5f"
            },
            "marker": {
             "line": {
              "color": "#E5ECF6",
              "width": 0.5
             }
            },
            "type": "bar"
           }
          ],
          "barpolar": [
           {
            "marker": {
             "line": {
              "color": "#E5ECF6",
              "width": 0.5
             }
            },
            "type": "barpolar"
           }
          ],
          "carpet": [
           {
            "aaxis": {
             "endlinecolor": "#2a3f5f",
             "gridcolor": "white",
             "linecolor": "white",
             "minorgridcolor": "white",
             "startlinecolor": "#2a3f5f"
            },
            "baxis": {
             "endlinecolor": "#2a3f5f",
             "gridcolor": "white",
             "linecolor": "white",
             "minorgridcolor": "white",
             "startlinecolor": "#2a3f5f"
            },
            "type": "carpet"
           }
          ],
          "choropleth": [
           {
            "colorbar": {
             "outlinewidth": 0,
             "ticks": ""
            },
            "type": "choropleth"
           }
          ],
          "contour": [
           {
            "colorbar": {
             "outlinewidth": 0,
             "ticks": ""
            },
            "colorscale": [
             [
              0,
              "#0d0887"
             ],
             [
              0.1111111111111111,
              "#46039f"
             ],
             [
              0.2222222222222222,
              "#7201a8"
             ],
             [
              0.3333333333333333,
              "#9c179e"
             ],
             [
              0.4444444444444444,
              "#bd3786"
             ],
             [
              0.5555555555555556,
              "#d8576b"
             ],
             [
              0.6666666666666666,
              "#ed7953"
             ],
             [
              0.7777777777777778,
              "#fb9f3a"
             ],
             [
              0.8888888888888888,
              "#fdca26"
             ],
             [
              1,
              "#f0f921"
             ]
            ],
            "type": "contour"
           }
          ],
          "contourcarpet": [
           {
            "colorbar": {
             "outlinewidth": 0,
             "ticks": ""
            },
            "type": "contourcarpet"
           }
          ],
          "heatmap": [
           {
            "colorbar": {
             "outlinewidth": 0,
             "ticks": ""
            },
            "colorscale": [
             [
              0,
              "#0d0887"
             ],
             [
              0.1111111111111111,
              "#46039f"
             ],
             [
              0.2222222222222222,
              "#7201a8"
             ],
             [
              0.3333333333333333,
              "#9c179e"
             ],
             [
              0.4444444444444444,
              "#bd3786"
             ],
             [
              0.5555555555555556,
              "#d8576b"
             ],
             [
              0.6666666666666666,
              "#ed7953"
             ],
             [
              0.7777777777777778,
              "#fb9f3a"
             ],
             [
              0.8888888888888888,
              "#fdca26"
             ],
             [
              1,
              "#f0f921"
             ]
            ],
            "type": "heatmap"
           }
          ],
          "heatmapgl": [
           {
            "colorbar": {
             "outlinewidth": 0,
             "ticks": ""
            },
            "colorscale": [
             [
              0,
              "#0d0887"
             ],
             [
              0.1111111111111111,
              "#46039f"
             ],
             [
              0.2222222222222222,
              "#7201a8"
             ],
             [
              0.3333333333333333,
              "#9c179e"
             ],
             [
              0.4444444444444444,
              "#bd3786"
             ],
             [
              0.5555555555555556,
              "#d8576b"
             ],
             [
              0.6666666666666666,
              "#ed7953"
             ],
             [
              0.7777777777777778,
              "#fb9f3a"
             ],
             [
              0.8888888888888888,
              "#fdca26"
             ],
             [
              1,
              "#f0f921"
             ]
            ],
            "type": "heatmapgl"
           }
          ],
          "histogram": [
           {
            "marker": {
             "colorbar": {
              "outlinewidth": 0,
              "ticks": ""
             }
            },
            "type": "histogram"
           }
          ],
          "histogram2d": [
           {
            "colorbar": {
             "outlinewidth": 0,
             "ticks": ""
            },
            "colorscale": [
             [
              0,
              "#0d0887"
             ],
             [
              0.1111111111111111,
              "#46039f"
             ],
             [
              0.2222222222222222,
              "#7201a8"
             ],
             [
              0.3333333333333333,
              "#9c179e"
             ],
             [
              0.4444444444444444,
              "#bd3786"
             ],
             [
              0.5555555555555556,
              "#d8576b"
             ],
             [
              0.6666666666666666,
              "#ed7953"
             ],
             [
              0.7777777777777778,
              "#fb9f3a"
             ],
             [
              0.8888888888888888,
              "#fdca26"
             ],
             [
              1,
              "#f0f921"
             ]
            ],
            "type": "histogram2d"
           }
          ],
          "histogram2dcontour": [
           {
            "colorbar": {
             "outlinewidth": 0,
             "ticks": ""
            },
            "colorscale": [
             [
              0,
              "#0d0887"
             ],
             [
              0.1111111111111111,
              "#46039f"
             ],
             [
              0.2222222222222222,
              "#7201a8"
             ],
             [
              0.3333333333333333,
              "#9c179e"
             ],
             [
              0.4444444444444444,
              "#bd3786"
             ],
             [
              0.5555555555555556,
              "#d8576b"
             ],
             [
              0.6666666666666666,
              "#ed7953"
             ],
             [
              0.7777777777777778,
              "#fb9f3a"
             ],
             [
              0.8888888888888888,
              "#fdca26"
             ],
             [
              1,
              "#f0f921"
             ]
            ],
            "type": "histogram2dcontour"
           }
          ],
          "mesh3d": [
           {
            "colorbar": {
             "outlinewidth": 0,
             "ticks": ""
            },
            "type": "mesh3d"
           }
          ],
          "parcoords": [
           {
            "line": {
             "colorbar": {
              "outlinewidth": 0,
              "ticks": ""
             }
            },
            "type": "parcoords"
           }
          ],
          "pie": [
           {
            "automargin": true,
            "type": "pie"
           }
          ],
          "scatter": [
           {
            "marker": {
             "colorbar": {
              "outlinewidth": 0,
              "ticks": ""
             }
            },
            "type": "scatter"
           }
          ],
          "scatter3d": [
           {
            "line": {
             "colorbar": {
              "outlinewidth": 0,
              "ticks": ""
             }
            },
            "marker": {
             "colorbar": {
              "outlinewidth": 0,
              "ticks": ""
             }
            },
            "type": "scatter3d"
           }
          ],
          "scattercarpet": [
           {
            "marker": {
             "colorbar": {
              "outlinewidth": 0,
              "ticks": ""
             }
            },
            "type": "scattercarpet"
           }
          ],
          "scattergeo": [
           {
            "marker": {
             "colorbar": {
              "outlinewidth": 0,
              "ticks": ""
             }
            },
            "type": "scattergeo"
           }
          ],
          "scattergl": [
           {
            "marker": {
             "colorbar": {
              "outlinewidth": 0,
              "ticks": ""
             }
            },
            "type": "scattergl"
           }
          ],
          "scattermapbox": [
           {
            "marker": {
             "colorbar": {
              "outlinewidth": 0,
              "ticks": ""
             }
            },
            "type": "scattermapbox"
           }
          ],
          "scatterpolar": [
           {
            "marker": {
             "colorbar": {
              "outlinewidth": 0,
              "ticks": ""
             }
            },
            "type": "scatterpolar"
           }
          ],
          "scatterpolargl": [
           {
            "marker": {
             "colorbar": {
              "outlinewidth": 0,
              "ticks": ""
             }
            },
            "type": "scatterpolargl"
           }
          ],
          "scatterternary": [
           {
            "marker": {
             "colorbar": {
              "outlinewidth": 0,
              "ticks": ""
             }
            },
            "type": "scatterternary"
           }
          ],
          "surface": [
           {
            "colorbar": {
             "outlinewidth": 0,
             "ticks": ""
            },
            "colorscale": [
             [
              0,
              "#0d0887"
             ],
             [
              0.1111111111111111,
              "#46039f"
             ],
             [
              0.2222222222222222,
              "#7201a8"
             ],
             [
              0.3333333333333333,
              "#9c179e"
             ],
             [
              0.4444444444444444,
              "#bd3786"
             ],
             [
              0.5555555555555556,
              "#d8576b"
             ],
             [
              0.6666666666666666,
              "#ed7953"
             ],
             [
              0.7777777777777778,
              "#fb9f3a"
             ],
             [
              0.8888888888888888,
              "#fdca26"
             ],
             [
              1,
              "#f0f921"
             ]
            ],
            "type": "surface"
           }
          ],
          "table": [
           {
            "cells": {
             "fill": {
              "color": "#EBF0F8"
             },
             "line": {
              "color": "white"
             }
            },
            "header": {
             "fill": {
              "color": "#C8D4E3"
             },
             "line": {
              "color": "white"
             }
            },
            "type": "table"
           }
          ]
         },
         "layout": {
          "annotationdefaults": {
           "arrowcolor": "#2a3f5f",
           "arrowhead": 0,
           "arrowwidth": 1
          },
          "coloraxis": {
           "colorbar": {
            "outlinewidth": 0,
            "ticks": ""
           }
          },
          "colorscale": {
           "diverging": [
            [
             0,
             "#8e0152"
            ],
            [
             0.1,
             "#c51b7d"
            ],
            [
             0.2,
             "#de77ae"
            ],
            [
             0.3,
             "#f1b6da"
            ],
            [
             0.4,
             "#fde0ef"
            ],
            [
             0.5,
             "#f7f7f7"
            ],
            [
             0.6,
             "#e6f5d0"
            ],
            [
             0.7,
             "#b8e186"
            ],
            [
             0.8,
             "#7fbc41"
            ],
            [
             0.9,
             "#4d9221"
            ],
            [
             1,
             "#276419"
            ]
           ],
           "sequential": [
            [
             0,
             "#0d0887"
            ],
            [
             0.1111111111111111,
             "#46039f"
            ],
            [
             0.2222222222222222,
             "#7201a8"
            ],
            [
             0.3333333333333333,
             "#9c179e"
            ],
            [
             0.4444444444444444,
             "#bd3786"
            ],
            [
             0.5555555555555556,
             "#d8576b"
            ],
            [
             0.6666666666666666,
             "#ed7953"
            ],
            [
             0.7777777777777778,
             "#fb9f3a"
            ],
            [
             0.8888888888888888,
             "#fdca26"
            ],
            [
             1,
             "#f0f921"
            ]
           ],
           "sequentialminus": [
            [
             0,
             "#0d0887"
            ],
            [
             0.1111111111111111,
             "#46039f"
            ],
            [
             0.2222222222222222,
             "#7201a8"
            ],
            [
             0.3333333333333333,
             "#9c179e"
            ],
            [
             0.4444444444444444,
             "#bd3786"
            ],
            [
             0.5555555555555556,
             "#d8576b"
            ],
            [
             0.6666666666666666,
             "#ed7953"
            ],
            [
             0.7777777777777778,
             "#fb9f3a"
            ],
            [
             0.8888888888888888,
             "#fdca26"
            ],
            [
             1,
             "#f0f921"
            ]
           ]
          },
          "colorway": [
           "#636efa",
           "#EF553B",
           "#00cc96",
           "#ab63fa",
           "#FFA15A",
           "#19d3f3",
           "#FF6692",
           "#B6E880",
           "#FF97FF",
           "#FECB52"
          ],
          "font": {
           "color": "#2a3f5f"
          },
          "geo": {
           "bgcolor": "white",
           "lakecolor": "white",
           "landcolor": "#E5ECF6",
           "showlakes": true,
           "showland": true,
           "subunitcolor": "white"
          },
          "hoverlabel": {
           "align": "left"
          },
          "hovermode": "closest",
          "mapbox": {
           "style": "light"
          },
          "paper_bgcolor": "white",
          "plot_bgcolor": "#E5ECF6",
          "polar": {
           "angularaxis": {
            "gridcolor": "white",
            "linecolor": "white",
            "ticks": ""
           },
           "bgcolor": "#E5ECF6",
           "radialaxis": {
            "gridcolor": "white",
            "linecolor": "white",
            "ticks": ""
           }
          },
          "scene": {
           "xaxis": {
            "backgroundcolor": "#E5ECF6",
            "gridcolor": "white",
            "gridwidth": 2,
            "linecolor": "white",
            "showbackground": true,
            "ticks": "",
            "zerolinecolor": "white"
           },
           "yaxis": {
            "backgroundcolor": "#E5ECF6",
            "gridcolor": "white",
            "gridwidth": 2,
            "linecolor": "white",
            "showbackground": true,
            "ticks": "",
            "zerolinecolor": "white"
           },
           "zaxis": {
            "backgroundcolor": "#E5ECF6",
            "gridcolor": "white",
            "gridwidth": 2,
            "linecolor": "white",
            "showbackground": true,
            "ticks": "",
            "zerolinecolor": "white"
           }
          },
          "shapedefaults": {
           "line": {
            "color": "#2a3f5f"
           }
          },
          "ternary": {
           "aaxis": {
            "gridcolor": "white",
            "linecolor": "white",
            "ticks": ""
           },
           "baxis": {
            "gridcolor": "white",
            "linecolor": "white",
            "ticks": ""
           },
           "bgcolor": "#E5ECF6",
           "caxis": {
            "gridcolor": "white",
            "linecolor": "white",
            "ticks": ""
           }
          },
          "title": {
           "x": 0.05
          },
          "xaxis": {
           "automargin": true,
           "gridcolor": "white",
           "linecolor": "white",
           "ticks": "",
           "title": {
            "standoff": 15
           },
           "zerolinecolor": "white",
           "zerolinewidth": 2
          },
          "yaxis": {
           "automargin": true,
           "gridcolor": "white",
           "linecolor": "white",
           "ticks": "",
           "title": {
            "standoff": 15
           },
           "zerolinecolor": "white",
           "zerolinewidth": 2
          }
         }
        },
        "xaxis": {
         "anchor": "y",
         "domain": [
          0,
          1
         ],
         "title": {
          "text": "Venue Category"
         }
        },
        "yaxis": {
         "anchor": "x",
         "domain": [
          0,
          1
         ],
         "title": {
          "text": "Counts"
         }
        }
       }
      },
      "text/html": [
       "<div>\n",
       "        \n",
       "        \n",
       "            <div id=\"04013a9c-9b69-4791-857f-20ad2346713b\" class=\"plotly-graph-div\" style=\"height:525px; width:100%;\"></div>\n",
       "            <script type=\"text/javascript\">\n",
       "                require([\"plotly\"], function(Plotly) {\n",
       "                    window.PLOTLYENV=window.PLOTLYENV || {};\n",
       "                    \n",
       "                if (document.getElementById(\"04013a9c-9b69-4791-857f-20ad2346713b\")) {\n",
       "                    Plotly.newPlot(\n",
       "                        '04013a9c-9b69-4791-857f-20ad2346713b',\n",
       "                        [{\"alignmentgroup\": \"True\", \"hoverlabel\": {\"namelength\": 0}, \"hovertemplate\": \"Venue Category=%{x}<br>Counts=%{y}\", \"legendgroup\": \"\", \"marker\": {\"color\": \"#636efa\"}, \"name\": \"\", \"offsetgroup\": \"\", \"orientation\": \"v\", \"showlegend\": false, \"textposition\": \"auto\", \"type\": \"bar\", \"x\": [\"ATM\", \"Arts & Crafts Store\", \"Asian Restaurant\", \"BBQ Joint\", \"Bakery\", \"Big Box Store\", \"Bookstore\", \"Breakfast Spot\", \"Business Service\", \"Caf\\u00e9\", \"Chinese Restaurant\", \"Clothing Store\", \"Cocktail Bar\", \"Coffee Shop\", \"Cupcake Shop\", \"Department Store\", \"Dessert Shop\", \"Diner\", \"Donut Shop\", \"Electronics Store\", \"Farmers Market\", \"Fast Food Restaurant\", \"Flea Market\", \"Food Court\", \"Food Truck\", \"Furniture / Home Store\", \"Garden\", \"Gas Station\", \"Gym\", \"Historic Site\", \"History Museum\", \"Hotel\", \"Ice Cream Shop\", \"Indian Restaurant\", \"Jewelry Store\", \"Juice Bar\", \"Mediterranean Restaurant\", \"Men's Store\", \"Metro Station\", \"Motel\", \"Multiplex\", \"Park\", \"Pharmacy\", \"Pizza Place\", \"Platform\", \"Restaurant\", \"River\", \"Sandwich Place\", \"Shoe Store\", \"Shopping Mall\", \"Snack Place\", \"Sporting Goods Shop\", \"Tea Room\", \"Train Station\", \"Video Store\", \"Yoga Studio\"], \"xaxis\": \"x\", \"y\": [1, 2, 1, 2, 4, 1, 1, 2, 1, 4, 4, 18, 18, 18, 16, 11, 8, 13, 5, 5, 2, 11, 1, 3, 1, 2, 2, 1, 2, 1, 1, 4, 6, 18, 1, 1, 2, 1, 1, 1, 3, 1, 1, 11, 1, 1, 1, 4, 1, 2, 2, 1, 1, 1, 1, 11], \"yaxis\": \"y\"}],\n",
       "                        {\"barmode\": \"relative\", \"legend\": {\"tracegroupgap\": 0}, \"margin\": {\"t\": 60}, \"template\": {\"data\": {\"bar\": [{\"error_x\": {\"color\": \"#2a3f5f\"}, \"error_y\": {\"color\": \"#2a3f5f\"}, \"marker\": {\"line\": {\"color\": \"#E5ECF6\", \"width\": 0.5}}, \"type\": \"bar\"}], \"barpolar\": [{\"marker\": {\"line\": {\"color\": \"#E5ECF6\", \"width\": 0.5}}, \"type\": \"barpolar\"}], \"carpet\": [{\"aaxis\": {\"endlinecolor\": \"#2a3f5f\", \"gridcolor\": \"white\", \"linecolor\": \"white\", \"minorgridcolor\": \"white\", \"startlinecolor\": \"#2a3f5f\"}, \"baxis\": {\"endlinecolor\": \"#2a3f5f\", \"gridcolor\": \"white\", \"linecolor\": \"white\", \"minorgridcolor\": \"white\", \"startlinecolor\": \"#2a3f5f\"}, \"type\": \"carpet\"}], \"choropleth\": [{\"colorbar\": {\"outlinewidth\": 0, \"ticks\": \"\"}, \"type\": \"choropleth\"}], \"contour\": [{\"colorbar\": {\"outlinewidth\": 0, \"ticks\": \"\"}, \"colorscale\": [[0.0, \"#0d0887\"], [0.1111111111111111, \"#46039f\"], [0.2222222222222222, \"#7201a8\"], [0.3333333333333333, \"#9c179e\"], [0.4444444444444444, \"#bd3786\"], [0.5555555555555556, \"#d8576b\"], [0.6666666666666666, \"#ed7953\"], [0.7777777777777778, \"#fb9f3a\"], [0.8888888888888888, \"#fdca26\"], [1.0, \"#f0f921\"]], \"type\": \"contour\"}], \"contourcarpet\": [{\"colorbar\": {\"outlinewidth\": 0, \"ticks\": \"\"}, \"type\": \"contourcarpet\"}], \"heatmap\": [{\"colorbar\": {\"outlinewidth\": 0, \"ticks\": \"\"}, \"colorscale\": [[0.0, \"#0d0887\"], [0.1111111111111111, \"#46039f\"], [0.2222222222222222, \"#7201a8\"], [0.3333333333333333, \"#9c179e\"], [0.4444444444444444, \"#bd3786\"], [0.5555555555555556, \"#d8576b\"], [0.6666666666666666, \"#ed7953\"], [0.7777777777777778, \"#fb9f3a\"], [0.8888888888888888, \"#fdca26\"], [1.0, \"#f0f921\"]], \"type\": \"heatmap\"}], \"heatmapgl\": [{\"colorbar\": {\"outlinewidth\": 0, \"ticks\": \"\"}, \"colorscale\": [[0.0, \"#0d0887\"], [0.1111111111111111, \"#46039f\"], [0.2222222222222222, \"#7201a8\"], [0.3333333333333333, \"#9c179e\"], [0.4444444444444444, \"#bd3786\"], [0.5555555555555556, \"#d8576b\"], [0.6666666666666666, \"#ed7953\"], [0.7777777777777778, \"#fb9f3a\"], [0.8888888888888888, \"#fdca26\"], [1.0, \"#f0f921\"]], \"type\": \"heatmapgl\"}], \"histogram\": [{\"marker\": {\"colorbar\": {\"outlinewidth\": 0, \"ticks\": \"\"}}, \"type\": \"histogram\"}], \"histogram2d\": [{\"colorbar\": {\"outlinewidth\": 0, \"ticks\": \"\"}, \"colorscale\": [[0.0, \"#0d0887\"], [0.1111111111111111, \"#46039f\"], [0.2222222222222222, \"#7201a8\"], [0.3333333333333333, \"#9c179e\"], [0.4444444444444444, \"#bd3786\"], [0.5555555555555556, \"#d8576b\"], [0.6666666666666666, \"#ed7953\"], [0.7777777777777778, \"#fb9f3a\"], [0.8888888888888888, \"#fdca26\"], [1.0, \"#f0f921\"]], \"type\": \"histogram2d\"}], \"histogram2dcontour\": [{\"colorbar\": {\"outlinewidth\": 0, \"ticks\": \"\"}, \"colorscale\": [[0.0, \"#0d0887\"], [0.1111111111111111, \"#46039f\"], [0.2222222222222222, \"#7201a8\"], [0.3333333333333333, \"#9c179e\"], [0.4444444444444444, \"#bd3786\"], [0.5555555555555556, \"#d8576b\"], [0.6666666666666666, \"#ed7953\"], [0.7777777777777778, \"#fb9f3a\"], [0.8888888888888888, \"#fdca26\"], [1.0, \"#f0f921\"]], \"type\": \"histogram2dcontour\"}], \"mesh3d\": [{\"colorbar\": {\"outlinewidth\": 0, \"ticks\": \"\"}, \"type\": \"mesh3d\"}], \"parcoords\": [{\"line\": {\"colorbar\": {\"outlinewidth\": 0, \"ticks\": \"\"}}, \"type\": \"parcoords\"}], \"pie\": [{\"automargin\": true, \"type\": \"pie\"}], \"scatter\": [{\"marker\": {\"colorbar\": {\"outlinewidth\": 0, \"ticks\": \"\"}}, \"type\": \"scatter\"}], \"scatter3d\": [{\"line\": {\"colorbar\": {\"outlinewidth\": 0, \"ticks\": \"\"}}, \"marker\": {\"colorbar\": {\"outlinewidth\": 0, \"ticks\": \"\"}}, \"type\": \"scatter3d\"}], \"scattercarpet\": [{\"marker\": {\"colorbar\": {\"outlinewidth\": 0, \"ticks\": \"\"}}, \"type\": \"scattercarpet\"}], \"scattergeo\": [{\"marker\": {\"colorbar\": {\"outlinewidth\": 0, \"ticks\": \"\"}}, \"type\": \"scattergeo\"}], \"scattergl\": [{\"marker\": {\"colorbar\": {\"outlinewidth\": 0, \"ticks\": \"\"}}, \"type\": \"scattergl\"}], \"scattermapbox\": [{\"marker\": {\"colorbar\": {\"outlinewidth\": 0, \"ticks\": \"\"}}, \"type\": \"scattermapbox\"}], \"scatterpolar\": [{\"marker\": {\"colorbar\": {\"outlinewidth\": 0, \"ticks\": \"\"}}, \"type\": \"scatterpolar\"}], \"scatterpolargl\": [{\"marker\": {\"colorbar\": {\"outlinewidth\": 0, \"ticks\": \"\"}}, \"type\": \"scatterpolargl\"}], \"scatterternary\": [{\"marker\": {\"colorbar\": {\"outlinewidth\": 0, \"ticks\": \"\"}}, \"type\": \"scatterternary\"}], \"surface\": [{\"colorbar\": {\"outlinewidth\": 0, \"ticks\": \"\"}, \"colorscale\": [[0.0, \"#0d0887\"], [0.1111111111111111, \"#46039f\"], [0.2222222222222222, \"#7201a8\"], [0.3333333333333333, \"#9c179e\"], [0.4444444444444444, \"#bd3786\"], [0.5555555555555556, \"#d8576b\"], [0.6666666666666666, \"#ed7953\"], [0.7777777777777778, \"#fb9f3a\"], [0.8888888888888888, \"#fdca26\"], [1.0, \"#f0f921\"]], \"type\": \"surface\"}], \"table\": [{\"cells\": {\"fill\": {\"color\": \"#EBF0F8\"}, \"line\": {\"color\": \"white\"}}, \"header\": {\"fill\": {\"color\": \"#C8D4E3\"}, \"line\": {\"color\": \"white\"}}, \"type\": \"table\"}]}, \"layout\": {\"annotationdefaults\": {\"arrowcolor\": \"#2a3f5f\", \"arrowhead\": 0, \"arrowwidth\": 1}, \"coloraxis\": {\"colorbar\": {\"outlinewidth\": 0, \"ticks\": \"\"}}, \"colorscale\": {\"diverging\": [[0, \"#8e0152\"], [0.1, \"#c51b7d\"], [0.2, \"#de77ae\"], [0.3, \"#f1b6da\"], [0.4, \"#fde0ef\"], [0.5, \"#f7f7f7\"], [0.6, \"#e6f5d0\"], [0.7, \"#b8e186\"], [0.8, \"#7fbc41\"], [0.9, \"#4d9221\"], [1, \"#276419\"]], \"sequential\": [[0.0, \"#0d0887\"], [0.1111111111111111, \"#46039f\"], [0.2222222222222222, \"#7201a8\"], [0.3333333333333333, \"#9c179e\"], [0.4444444444444444, \"#bd3786\"], [0.5555555555555556, \"#d8576b\"], [0.6666666666666666, \"#ed7953\"], [0.7777777777777778, \"#fb9f3a\"], [0.8888888888888888, \"#fdca26\"], [1.0, \"#f0f921\"]], \"sequentialminus\": [[0.0, \"#0d0887\"], [0.1111111111111111, \"#46039f\"], [0.2222222222222222, \"#7201a8\"], [0.3333333333333333, \"#9c179e\"], [0.4444444444444444, \"#bd3786\"], [0.5555555555555556, \"#d8576b\"], [0.6666666666666666, \"#ed7953\"], [0.7777777777777778, \"#fb9f3a\"], [0.8888888888888888, \"#fdca26\"], [1.0, \"#f0f921\"]]}, \"colorway\": [\"#636efa\", \"#EF553B\", \"#00cc96\", \"#ab63fa\", \"#FFA15A\", \"#19d3f3\", \"#FF6692\", \"#B6E880\", \"#FF97FF\", \"#FECB52\"], \"font\": {\"color\": \"#2a3f5f\"}, \"geo\": {\"bgcolor\": \"white\", \"lakecolor\": \"white\", \"landcolor\": \"#E5ECF6\", \"showlakes\": true, \"showland\": true, \"subunitcolor\": \"white\"}, \"hoverlabel\": {\"align\": \"left\"}, \"hovermode\": \"closest\", \"mapbox\": {\"style\": \"light\"}, \"paper_bgcolor\": \"white\", \"plot_bgcolor\": \"#E5ECF6\", \"polar\": {\"angularaxis\": {\"gridcolor\": \"white\", \"linecolor\": \"white\", \"ticks\": \"\"}, \"bgcolor\": \"#E5ECF6\", \"radialaxis\": {\"gridcolor\": \"white\", \"linecolor\": \"white\", \"ticks\": \"\"}}, \"scene\": {\"xaxis\": {\"backgroundcolor\": \"#E5ECF6\", \"gridcolor\": \"white\", \"gridwidth\": 2, \"linecolor\": \"white\", \"showbackground\": true, \"ticks\": \"\", \"zerolinecolor\": \"white\"}, \"yaxis\": {\"backgroundcolor\": \"#E5ECF6\", \"gridcolor\": \"white\", \"gridwidth\": 2, \"linecolor\": \"white\", \"showbackground\": true, \"ticks\": \"\", \"zerolinecolor\": \"white\"}, \"zaxis\": {\"backgroundcolor\": \"#E5ECF6\", \"gridcolor\": \"white\", \"gridwidth\": 2, \"linecolor\": \"white\", \"showbackground\": true, \"ticks\": \"\", \"zerolinecolor\": \"white\"}}, \"shapedefaults\": {\"line\": {\"color\": \"#2a3f5f\"}}, \"ternary\": {\"aaxis\": {\"gridcolor\": \"white\", \"linecolor\": \"white\", \"ticks\": \"\"}, \"baxis\": {\"gridcolor\": \"white\", \"linecolor\": \"white\", \"ticks\": \"\"}, \"bgcolor\": \"#E5ECF6\", \"caxis\": {\"gridcolor\": \"white\", \"linecolor\": \"white\", \"ticks\": \"\"}}, \"title\": {\"x\": 0.05}, \"xaxis\": {\"automargin\": true, \"gridcolor\": \"white\", \"linecolor\": \"white\", \"ticks\": \"\", \"title\": {\"standoff\": 15}, \"zerolinecolor\": \"white\", \"zerolinewidth\": 2}, \"yaxis\": {\"automargin\": true, \"gridcolor\": \"white\", \"linecolor\": \"white\", \"ticks\": \"\", \"title\": {\"standoff\": 15}, \"zerolinecolor\": \"white\", \"zerolinewidth\": 2}}}, \"xaxis\": {\"anchor\": \"y\", \"domain\": [0.0, 1.0], \"title\": {\"text\": \"Venue Category\"}}, \"yaxis\": {\"anchor\": \"x\", \"domain\": [0.0, 1.0], \"title\": {\"text\": \"Counts\"}}},\n",
       "                        {\"responsive\": true}\n",
       "                    ).then(function(){\n",
       "                            \n",
       "var gd = document.getElementById('04013a9c-9b69-4791-857f-20ad2346713b');\n",
       "var x = new MutationObserver(function (mutations, observer) {{\n",
       "        var display = window.getComputedStyle(gd).display;\n",
       "        if (!display || display === 'none') {{\n",
       "            console.log([gd, 'removed!']);\n",
       "            Plotly.purge(gd);\n",
       "            observer.disconnect();\n",
       "        }}\n",
       "}});\n",
       "\n",
       "// Listen for the removal of the full notebook cells\n",
       "var notebookContainer = gd.closest('#notebook-container');\n",
       "if (notebookContainer) {{\n",
       "    x.observe(notebookContainer, {childList: true});\n",
       "}}\n",
       "\n",
       "// Listen for the clearing of the current output cell\n",
       "var outputEl = gd.closest('.output');\n",
       "if (outputEl) {{\n",
       "    x.observe(outputEl, {childList: true});\n",
       "}}\n",
       "\n",
       "                        })\n",
       "                };\n",
       "                });\n",
       "            </script>\n",
       "        </div>"
      ]
     },
     "metadata": {},
     "output_type": "display_data"
    }
   ],
   "source": [
    "ser = pd.Series() \n",
    "temp_c = cluster2.drop('Neighborhood', 1)\n",
    "for c in temp_c.columns:\n",
    "    temp = temp_c[c].value_counts()\n",
    "    ser = ser.append(temp)\n",
    "bar_cluster2 = ser.to_frame()\n",
    "bar_cluster2.reset_index(inplace = True)\n",
    "bar_cluster2.columns = ['Venue','Counts']\n",
    "bar_cluster2 = bar_cluster2.groupby('Venue').sum()\n",
    "fig = px.bar(bar_cluster2, x=bar_cluster2.index, y='Counts', labels={'x':'Venue Category'})\n",
    "fig.show()"
   ]
  },
  {
   "cell_type": "code",
   "execution_count": 157,
   "metadata": {},
   "outputs": [
    {
     "data": {
      "text/html": [
       "<div>\n",
       "<style scoped>\n",
       "    .dataframe tbody tr th:only-of-type {\n",
       "        vertical-align: middle;\n",
       "    }\n",
       "\n",
       "    .dataframe tbody tr th {\n",
       "        vertical-align: top;\n",
       "    }\n",
       "\n",
       "    .dataframe thead th {\n",
       "        text-align: right;\n",
       "    }\n",
       "</style>\n",
       "<table border=\"1\" class=\"dataframe\">\n",
       "  <thead>\n",
       "    <tr style=\"text-align: right;\">\n",
       "      <th></th>\n",
       "      <th>Neighborhood</th>\n",
       "      <th>1st Most Common Venue</th>\n",
       "      <th>2nd Most Common Venue</th>\n",
       "      <th>3rd Most Common Venue</th>\n",
       "      <th>4th Most Common Venue</th>\n",
       "      <th>5th Most Common Venue</th>\n",
       "      <th>6th Most Common Venue</th>\n",
       "      <th>7th Most Common Venue</th>\n",
       "      <th>8th Most Common Venue</th>\n",
       "      <th>9th Most Common Venue</th>\n",
       "      <th>10th Most Common Venue</th>\n",
       "    </tr>\n",
       "  </thead>\n",
       "  <tbody>\n",
       "    <tr>\n",
       "      <th>37</th>\n",
       "      <td>Odhav</td>\n",
       "      <td>Kitchen Supply Store</td>\n",
       "      <td>Child Care Service</td>\n",
       "      <td>Clothing Store</td>\n",
       "      <td>Cocktail Bar</td>\n",
       "      <td>Coffee Shop</td>\n",
       "      <td>Cupcake Shop</td>\n",
       "      <td>Department Store</td>\n",
       "      <td>Dessert Shop</td>\n",
       "      <td>Diner</td>\n",
       "      <td>Donut Shop</td>\n",
       "    </tr>\n",
       "  </tbody>\n",
       "</table>\n",
       "</div>"
      ],
      "text/plain": [
       "   Neighborhood 1st Most Common Venue 2nd Most Common Venue  \\\n",
       "37        Odhav  Kitchen Supply Store    Child Care Service   \n",
       "\n",
       "   3rd Most Common Venue 4th Most Common Venue 5th Most Common Venue  \\\n",
       "37        Clothing Store          Cocktail Bar           Coffee Shop   \n",
       "\n",
       "   6th Most Common Venue 7th Most Common Venue 8th Most Common Venue  \\\n",
       "37          Cupcake Shop      Department Store          Dessert Shop   \n",
       "\n",
       "   9th Most Common Venue 10th Most Common Venue  \n",
       "37                 Diner             Donut Shop  "
      ]
     },
     "execution_count": 157,
     "metadata": {},
     "output_type": "execute_result"
    }
   ],
   "source": [
    "cluster3 = ahmedabad_merged.loc[ahmedabad_merged['Cluster Labels'] == 2, ahmedabad_merged.columns[[0] + list(range(4, ahmedabad_merged.shape[1]))]]\n",
    "cluster3"
   ]
  },
  {
   "cell_type": "code",
   "execution_count": 158,
   "metadata": {
    "scrolled": false
   },
   "outputs": [
    {
     "data": {
      "application/vnd.plotly.v1+json": {
       "config": {
        "plotlyServerURL": "https://plot.ly"
       },
       "data": [
        {
         "alignmentgroup": "True",
         "hoverlabel": {
          "namelength": 0
         },
         "hovertemplate": "Venue Category=%{x}<br>Counts=%{y}",
         "legendgroup": "",
         "marker": {
          "color": "#636efa"
         },
         "name": "",
         "offsetgroup": "",
         "orientation": "v",
         "showlegend": false,
         "textposition": "auto",
         "type": "bar",
         "x": [
          "Child Care Service",
          "Clothing Store",
          "Cocktail Bar",
          "Coffee Shop",
          "Cupcake Shop",
          "Department Store",
          "Dessert Shop",
          "Diner",
          "Donut Shop",
          "Kitchen Supply Store"
         ],
         "xaxis": "x",
         "y": [
          1,
          1,
          1,
          1,
          1,
          1,
          1,
          1,
          1,
          1
         ],
         "yaxis": "y"
        }
       ],
       "layout": {
        "barmode": "relative",
        "legend": {
         "tracegroupgap": 0
        },
        "margin": {
         "t": 60
        },
        "template": {
         "data": {
          "bar": [
           {
            "error_x": {
             "color": "#2a3f5f"
            },
            "error_y": {
             "color": "#2a3f5f"
            },
            "marker": {
             "line": {
              "color": "#E5ECF6",
              "width": 0.5
             }
            },
            "type": "bar"
           }
          ],
          "barpolar": [
           {
            "marker": {
             "line": {
              "color": "#E5ECF6",
              "width": 0.5
             }
            },
            "type": "barpolar"
           }
          ],
          "carpet": [
           {
            "aaxis": {
             "endlinecolor": "#2a3f5f",
             "gridcolor": "white",
             "linecolor": "white",
             "minorgridcolor": "white",
             "startlinecolor": "#2a3f5f"
            },
            "baxis": {
             "endlinecolor": "#2a3f5f",
             "gridcolor": "white",
             "linecolor": "white",
             "minorgridcolor": "white",
             "startlinecolor": "#2a3f5f"
            },
            "type": "carpet"
           }
          ],
          "choropleth": [
           {
            "colorbar": {
             "outlinewidth": 0,
             "ticks": ""
            },
            "type": "choropleth"
           }
          ],
          "contour": [
           {
            "colorbar": {
             "outlinewidth": 0,
             "ticks": ""
            },
            "colorscale": [
             [
              0,
              "#0d0887"
             ],
             [
              0.1111111111111111,
              "#46039f"
             ],
             [
              0.2222222222222222,
              "#7201a8"
             ],
             [
              0.3333333333333333,
              "#9c179e"
             ],
             [
              0.4444444444444444,
              "#bd3786"
             ],
             [
              0.5555555555555556,
              "#d8576b"
             ],
             [
              0.6666666666666666,
              "#ed7953"
             ],
             [
              0.7777777777777778,
              "#fb9f3a"
             ],
             [
              0.8888888888888888,
              "#fdca26"
             ],
             [
              1,
              "#f0f921"
             ]
            ],
            "type": "contour"
           }
          ],
          "contourcarpet": [
           {
            "colorbar": {
             "outlinewidth": 0,
             "ticks": ""
            },
            "type": "contourcarpet"
           }
          ],
          "heatmap": [
           {
            "colorbar": {
             "outlinewidth": 0,
             "ticks": ""
            },
            "colorscale": [
             [
              0,
              "#0d0887"
             ],
             [
              0.1111111111111111,
              "#46039f"
             ],
             [
              0.2222222222222222,
              "#7201a8"
             ],
             [
              0.3333333333333333,
              "#9c179e"
             ],
             [
              0.4444444444444444,
              "#bd3786"
             ],
             [
              0.5555555555555556,
              "#d8576b"
             ],
             [
              0.6666666666666666,
              "#ed7953"
             ],
             [
              0.7777777777777778,
              "#fb9f3a"
             ],
             [
              0.8888888888888888,
              "#fdca26"
             ],
             [
              1,
              "#f0f921"
             ]
            ],
            "type": "heatmap"
           }
          ],
          "heatmapgl": [
           {
            "colorbar": {
             "outlinewidth": 0,
             "ticks": ""
            },
            "colorscale": [
             [
              0,
              "#0d0887"
             ],
             [
              0.1111111111111111,
              "#46039f"
             ],
             [
              0.2222222222222222,
              "#7201a8"
             ],
             [
              0.3333333333333333,
              "#9c179e"
             ],
             [
              0.4444444444444444,
              "#bd3786"
             ],
             [
              0.5555555555555556,
              "#d8576b"
             ],
             [
              0.6666666666666666,
              "#ed7953"
             ],
             [
              0.7777777777777778,
              "#fb9f3a"
             ],
             [
              0.8888888888888888,
              "#fdca26"
             ],
             [
              1,
              "#f0f921"
             ]
            ],
            "type": "heatmapgl"
           }
          ],
          "histogram": [
           {
            "marker": {
             "colorbar": {
              "outlinewidth": 0,
              "ticks": ""
             }
            },
            "type": "histogram"
           }
          ],
          "histogram2d": [
           {
            "colorbar": {
             "outlinewidth": 0,
             "ticks": ""
            },
            "colorscale": [
             [
              0,
              "#0d0887"
             ],
             [
              0.1111111111111111,
              "#46039f"
             ],
             [
              0.2222222222222222,
              "#7201a8"
             ],
             [
              0.3333333333333333,
              "#9c179e"
             ],
             [
              0.4444444444444444,
              "#bd3786"
             ],
             [
              0.5555555555555556,
              "#d8576b"
             ],
             [
              0.6666666666666666,
              "#ed7953"
             ],
             [
              0.7777777777777778,
              "#fb9f3a"
             ],
             [
              0.8888888888888888,
              "#fdca26"
             ],
             [
              1,
              "#f0f921"
             ]
            ],
            "type": "histogram2d"
           }
          ],
          "histogram2dcontour": [
           {
            "colorbar": {
             "outlinewidth": 0,
             "ticks": ""
            },
            "colorscale": [
             [
              0,
              "#0d0887"
             ],
             [
              0.1111111111111111,
              "#46039f"
             ],
             [
              0.2222222222222222,
              "#7201a8"
             ],
             [
              0.3333333333333333,
              "#9c179e"
             ],
             [
              0.4444444444444444,
              "#bd3786"
             ],
             [
              0.5555555555555556,
              "#d8576b"
             ],
             [
              0.6666666666666666,
              "#ed7953"
             ],
             [
              0.7777777777777778,
              "#fb9f3a"
             ],
             [
              0.8888888888888888,
              "#fdca26"
             ],
             [
              1,
              "#f0f921"
             ]
            ],
            "type": "histogram2dcontour"
           }
          ],
          "mesh3d": [
           {
            "colorbar": {
             "outlinewidth": 0,
             "ticks": ""
            },
            "type": "mesh3d"
           }
          ],
          "parcoords": [
           {
            "line": {
             "colorbar": {
              "outlinewidth": 0,
              "ticks": ""
             }
            },
            "type": "parcoords"
           }
          ],
          "pie": [
           {
            "automargin": true,
            "type": "pie"
           }
          ],
          "scatter": [
           {
            "marker": {
             "colorbar": {
              "outlinewidth": 0,
              "ticks": ""
             }
            },
            "type": "scatter"
           }
          ],
          "scatter3d": [
           {
            "line": {
             "colorbar": {
              "outlinewidth": 0,
              "ticks": ""
             }
            },
            "marker": {
             "colorbar": {
              "outlinewidth": 0,
              "ticks": ""
             }
            },
            "type": "scatter3d"
           }
          ],
          "scattercarpet": [
           {
            "marker": {
             "colorbar": {
              "outlinewidth": 0,
              "ticks": ""
             }
            },
            "type": "scattercarpet"
           }
          ],
          "scattergeo": [
           {
            "marker": {
             "colorbar": {
              "outlinewidth": 0,
              "ticks": ""
             }
            },
            "type": "scattergeo"
           }
          ],
          "scattergl": [
           {
            "marker": {
             "colorbar": {
              "outlinewidth": 0,
              "ticks": ""
             }
            },
            "type": "scattergl"
           }
          ],
          "scattermapbox": [
           {
            "marker": {
             "colorbar": {
              "outlinewidth": 0,
              "ticks": ""
             }
            },
            "type": "scattermapbox"
           }
          ],
          "scatterpolar": [
           {
            "marker": {
             "colorbar": {
              "outlinewidth": 0,
              "ticks": ""
             }
            },
            "type": "scatterpolar"
           }
          ],
          "scatterpolargl": [
           {
            "marker": {
             "colorbar": {
              "outlinewidth": 0,
              "ticks": ""
             }
            },
            "type": "scatterpolargl"
           }
          ],
          "scatterternary": [
           {
            "marker": {
             "colorbar": {
              "outlinewidth": 0,
              "ticks": ""
             }
            },
            "type": "scatterternary"
           }
          ],
          "surface": [
           {
            "colorbar": {
             "outlinewidth": 0,
             "ticks": ""
            },
            "colorscale": [
             [
              0,
              "#0d0887"
             ],
             [
              0.1111111111111111,
              "#46039f"
             ],
             [
              0.2222222222222222,
              "#7201a8"
             ],
             [
              0.3333333333333333,
              "#9c179e"
             ],
             [
              0.4444444444444444,
              "#bd3786"
             ],
             [
              0.5555555555555556,
              "#d8576b"
             ],
             [
              0.6666666666666666,
              "#ed7953"
             ],
             [
              0.7777777777777778,
              "#fb9f3a"
             ],
             [
              0.8888888888888888,
              "#fdca26"
             ],
             [
              1,
              "#f0f921"
             ]
            ],
            "type": "surface"
           }
          ],
          "table": [
           {
            "cells": {
             "fill": {
              "color": "#EBF0F8"
             },
             "line": {
              "color": "white"
             }
            },
            "header": {
             "fill": {
              "color": "#C8D4E3"
             },
             "line": {
              "color": "white"
             }
            },
            "type": "table"
           }
          ]
         },
         "layout": {
          "annotationdefaults": {
           "arrowcolor": "#2a3f5f",
           "arrowhead": 0,
           "arrowwidth": 1
          },
          "coloraxis": {
           "colorbar": {
            "outlinewidth": 0,
            "ticks": ""
           }
          },
          "colorscale": {
           "diverging": [
            [
             0,
             "#8e0152"
            ],
            [
             0.1,
             "#c51b7d"
            ],
            [
             0.2,
             "#de77ae"
            ],
            [
             0.3,
             "#f1b6da"
            ],
            [
             0.4,
             "#fde0ef"
            ],
            [
             0.5,
             "#f7f7f7"
            ],
            [
             0.6,
             "#e6f5d0"
            ],
            [
             0.7,
             "#b8e186"
            ],
            [
             0.8,
             "#7fbc41"
            ],
            [
             0.9,
             "#4d9221"
            ],
            [
             1,
             "#276419"
            ]
           ],
           "sequential": [
            [
             0,
             "#0d0887"
            ],
            [
             0.1111111111111111,
             "#46039f"
            ],
            [
             0.2222222222222222,
             "#7201a8"
            ],
            [
             0.3333333333333333,
             "#9c179e"
            ],
            [
             0.4444444444444444,
             "#bd3786"
            ],
            [
             0.5555555555555556,
             "#d8576b"
            ],
            [
             0.6666666666666666,
             "#ed7953"
            ],
            [
             0.7777777777777778,
             "#fb9f3a"
            ],
            [
             0.8888888888888888,
             "#fdca26"
            ],
            [
             1,
             "#f0f921"
            ]
           ],
           "sequentialminus": [
            [
             0,
             "#0d0887"
            ],
            [
             0.1111111111111111,
             "#46039f"
            ],
            [
             0.2222222222222222,
             "#7201a8"
            ],
            [
             0.3333333333333333,
             "#9c179e"
            ],
            [
             0.4444444444444444,
             "#bd3786"
            ],
            [
             0.5555555555555556,
             "#d8576b"
            ],
            [
             0.6666666666666666,
             "#ed7953"
            ],
            [
             0.7777777777777778,
             "#fb9f3a"
            ],
            [
             0.8888888888888888,
             "#fdca26"
            ],
            [
             1,
             "#f0f921"
            ]
           ]
          },
          "colorway": [
           "#636efa",
           "#EF553B",
           "#00cc96",
           "#ab63fa",
           "#FFA15A",
           "#19d3f3",
           "#FF6692",
           "#B6E880",
           "#FF97FF",
           "#FECB52"
          ],
          "font": {
           "color": "#2a3f5f"
          },
          "geo": {
           "bgcolor": "white",
           "lakecolor": "white",
           "landcolor": "#E5ECF6",
           "showlakes": true,
           "showland": true,
           "subunitcolor": "white"
          },
          "hoverlabel": {
           "align": "left"
          },
          "hovermode": "closest",
          "mapbox": {
           "style": "light"
          },
          "paper_bgcolor": "white",
          "plot_bgcolor": "#E5ECF6",
          "polar": {
           "angularaxis": {
            "gridcolor": "white",
            "linecolor": "white",
            "ticks": ""
           },
           "bgcolor": "#E5ECF6",
           "radialaxis": {
            "gridcolor": "white",
            "linecolor": "white",
            "ticks": ""
           }
          },
          "scene": {
           "xaxis": {
            "backgroundcolor": "#E5ECF6",
            "gridcolor": "white",
            "gridwidth": 2,
            "linecolor": "white",
            "showbackground": true,
            "ticks": "",
            "zerolinecolor": "white"
           },
           "yaxis": {
            "backgroundcolor": "#E5ECF6",
            "gridcolor": "white",
            "gridwidth": 2,
            "linecolor": "white",
            "showbackground": true,
            "ticks": "",
            "zerolinecolor": "white"
           },
           "zaxis": {
            "backgroundcolor": "#E5ECF6",
            "gridcolor": "white",
            "gridwidth": 2,
            "linecolor": "white",
            "showbackground": true,
            "ticks": "",
            "zerolinecolor": "white"
           }
          },
          "shapedefaults": {
           "line": {
            "color": "#2a3f5f"
           }
          },
          "ternary": {
           "aaxis": {
            "gridcolor": "white",
            "linecolor": "white",
            "ticks": ""
           },
           "baxis": {
            "gridcolor": "white",
            "linecolor": "white",
            "ticks": ""
           },
           "bgcolor": "#E5ECF6",
           "caxis": {
            "gridcolor": "white",
            "linecolor": "white",
            "ticks": ""
           }
          },
          "title": {
           "x": 0.05
          },
          "xaxis": {
           "automargin": true,
           "gridcolor": "white",
           "linecolor": "white",
           "ticks": "",
           "title": {
            "standoff": 15
           },
           "zerolinecolor": "white",
           "zerolinewidth": 2
          },
          "yaxis": {
           "automargin": true,
           "gridcolor": "white",
           "linecolor": "white",
           "ticks": "",
           "title": {
            "standoff": 15
           },
           "zerolinecolor": "white",
           "zerolinewidth": 2
          }
         }
        },
        "xaxis": {
         "anchor": "y",
         "domain": [
          0,
          1
         ],
         "title": {
          "text": "Venue Category"
         }
        },
        "yaxis": {
         "anchor": "x",
         "domain": [
          0,
          1
         ],
         "title": {
          "text": "Counts"
         }
        }
       }
      },
      "text/html": [
       "<div>\n",
       "        \n",
       "        \n",
       "            <div id=\"92ddbb76-b00b-4bb6-b072-bf41111bd895\" class=\"plotly-graph-div\" style=\"height:525px; width:100%;\"></div>\n",
       "            <script type=\"text/javascript\">\n",
       "                require([\"plotly\"], function(Plotly) {\n",
       "                    window.PLOTLYENV=window.PLOTLYENV || {};\n",
       "                    \n",
       "                if (document.getElementById(\"92ddbb76-b00b-4bb6-b072-bf41111bd895\")) {\n",
       "                    Plotly.newPlot(\n",
       "                        '92ddbb76-b00b-4bb6-b072-bf41111bd895',\n",
       "                        [{\"alignmentgroup\": \"True\", \"hoverlabel\": {\"namelength\": 0}, \"hovertemplate\": \"Venue Category=%{x}<br>Counts=%{y}\", \"legendgroup\": \"\", \"marker\": {\"color\": \"#636efa\"}, \"name\": \"\", \"offsetgroup\": \"\", \"orientation\": \"v\", \"showlegend\": false, \"textposition\": \"auto\", \"type\": \"bar\", \"x\": [\"Child Care Service\", \"Clothing Store\", \"Cocktail Bar\", \"Coffee Shop\", \"Cupcake Shop\", \"Department Store\", \"Dessert Shop\", \"Diner\", \"Donut Shop\", \"Kitchen Supply Store\"], \"xaxis\": \"x\", \"y\": [1, 1, 1, 1, 1, 1, 1, 1, 1, 1], \"yaxis\": \"y\"}],\n",
       "                        {\"barmode\": \"relative\", \"legend\": {\"tracegroupgap\": 0}, \"margin\": {\"t\": 60}, \"template\": {\"data\": {\"bar\": [{\"error_x\": {\"color\": \"#2a3f5f\"}, \"error_y\": {\"color\": \"#2a3f5f\"}, \"marker\": {\"line\": {\"color\": \"#E5ECF6\", \"width\": 0.5}}, \"type\": \"bar\"}], \"barpolar\": [{\"marker\": {\"line\": {\"color\": \"#E5ECF6\", \"width\": 0.5}}, \"type\": \"barpolar\"}], \"carpet\": [{\"aaxis\": {\"endlinecolor\": \"#2a3f5f\", \"gridcolor\": \"white\", \"linecolor\": \"white\", \"minorgridcolor\": \"white\", \"startlinecolor\": \"#2a3f5f\"}, \"baxis\": {\"endlinecolor\": \"#2a3f5f\", \"gridcolor\": \"white\", \"linecolor\": \"white\", \"minorgridcolor\": \"white\", \"startlinecolor\": \"#2a3f5f\"}, \"type\": \"carpet\"}], \"choropleth\": [{\"colorbar\": {\"outlinewidth\": 0, \"ticks\": \"\"}, \"type\": \"choropleth\"}], \"contour\": [{\"colorbar\": {\"outlinewidth\": 0, \"ticks\": \"\"}, \"colorscale\": [[0.0, \"#0d0887\"], [0.1111111111111111, \"#46039f\"], [0.2222222222222222, \"#7201a8\"], [0.3333333333333333, \"#9c179e\"], [0.4444444444444444, \"#bd3786\"], [0.5555555555555556, \"#d8576b\"], [0.6666666666666666, \"#ed7953\"], [0.7777777777777778, \"#fb9f3a\"], [0.8888888888888888, \"#fdca26\"], [1.0, \"#f0f921\"]], \"type\": \"contour\"}], \"contourcarpet\": [{\"colorbar\": {\"outlinewidth\": 0, \"ticks\": \"\"}, \"type\": \"contourcarpet\"}], \"heatmap\": [{\"colorbar\": {\"outlinewidth\": 0, \"ticks\": \"\"}, \"colorscale\": [[0.0, \"#0d0887\"], [0.1111111111111111, \"#46039f\"], [0.2222222222222222, \"#7201a8\"], [0.3333333333333333, \"#9c179e\"], [0.4444444444444444, \"#bd3786\"], [0.5555555555555556, \"#d8576b\"], [0.6666666666666666, \"#ed7953\"], [0.7777777777777778, \"#fb9f3a\"], [0.8888888888888888, \"#fdca26\"], [1.0, \"#f0f921\"]], \"type\": \"heatmap\"}], \"heatmapgl\": [{\"colorbar\": {\"outlinewidth\": 0, \"ticks\": \"\"}, \"colorscale\": [[0.0, \"#0d0887\"], [0.1111111111111111, \"#46039f\"], [0.2222222222222222, \"#7201a8\"], [0.3333333333333333, \"#9c179e\"], [0.4444444444444444, \"#bd3786\"], [0.5555555555555556, \"#d8576b\"], [0.6666666666666666, \"#ed7953\"], [0.7777777777777778, \"#fb9f3a\"], [0.8888888888888888, \"#fdca26\"], [1.0, \"#f0f921\"]], \"type\": \"heatmapgl\"}], \"histogram\": [{\"marker\": {\"colorbar\": {\"outlinewidth\": 0, \"ticks\": \"\"}}, \"type\": \"histogram\"}], \"histogram2d\": [{\"colorbar\": {\"outlinewidth\": 0, \"ticks\": \"\"}, \"colorscale\": [[0.0, \"#0d0887\"], [0.1111111111111111, \"#46039f\"], [0.2222222222222222, \"#7201a8\"], [0.3333333333333333, \"#9c179e\"], [0.4444444444444444, \"#bd3786\"], [0.5555555555555556, \"#d8576b\"], [0.6666666666666666, \"#ed7953\"], [0.7777777777777778, \"#fb9f3a\"], [0.8888888888888888, \"#fdca26\"], [1.0, \"#f0f921\"]], \"type\": \"histogram2d\"}], \"histogram2dcontour\": [{\"colorbar\": {\"outlinewidth\": 0, \"ticks\": \"\"}, \"colorscale\": [[0.0, \"#0d0887\"], [0.1111111111111111, \"#46039f\"], [0.2222222222222222, \"#7201a8\"], [0.3333333333333333, \"#9c179e\"], [0.4444444444444444, \"#bd3786\"], [0.5555555555555556, \"#d8576b\"], [0.6666666666666666, \"#ed7953\"], [0.7777777777777778, \"#fb9f3a\"], [0.8888888888888888, \"#fdca26\"], [1.0, \"#f0f921\"]], \"type\": \"histogram2dcontour\"}], \"mesh3d\": [{\"colorbar\": {\"outlinewidth\": 0, \"ticks\": \"\"}, \"type\": \"mesh3d\"}], \"parcoords\": [{\"line\": {\"colorbar\": {\"outlinewidth\": 0, \"ticks\": \"\"}}, \"type\": \"parcoords\"}], \"pie\": [{\"automargin\": true, \"type\": \"pie\"}], \"scatter\": [{\"marker\": {\"colorbar\": {\"outlinewidth\": 0, \"ticks\": \"\"}}, \"type\": \"scatter\"}], \"scatter3d\": [{\"line\": {\"colorbar\": {\"outlinewidth\": 0, \"ticks\": \"\"}}, \"marker\": {\"colorbar\": {\"outlinewidth\": 0, \"ticks\": \"\"}}, \"type\": \"scatter3d\"}], \"scattercarpet\": [{\"marker\": {\"colorbar\": {\"outlinewidth\": 0, \"ticks\": \"\"}}, \"type\": \"scattercarpet\"}], \"scattergeo\": [{\"marker\": {\"colorbar\": {\"outlinewidth\": 0, \"ticks\": \"\"}}, \"type\": \"scattergeo\"}], \"scattergl\": [{\"marker\": {\"colorbar\": {\"outlinewidth\": 0, \"ticks\": \"\"}}, \"type\": \"scattergl\"}], \"scattermapbox\": [{\"marker\": {\"colorbar\": {\"outlinewidth\": 0, \"ticks\": \"\"}}, \"type\": \"scattermapbox\"}], \"scatterpolar\": [{\"marker\": {\"colorbar\": {\"outlinewidth\": 0, \"ticks\": \"\"}}, \"type\": \"scatterpolar\"}], \"scatterpolargl\": [{\"marker\": {\"colorbar\": {\"outlinewidth\": 0, \"ticks\": \"\"}}, \"type\": \"scatterpolargl\"}], \"scatterternary\": [{\"marker\": {\"colorbar\": {\"outlinewidth\": 0, \"ticks\": \"\"}}, \"type\": \"scatterternary\"}], \"surface\": [{\"colorbar\": {\"outlinewidth\": 0, \"ticks\": \"\"}, \"colorscale\": [[0.0, \"#0d0887\"], [0.1111111111111111, \"#46039f\"], [0.2222222222222222, \"#7201a8\"], [0.3333333333333333, \"#9c179e\"], [0.4444444444444444, \"#bd3786\"], [0.5555555555555556, \"#d8576b\"], [0.6666666666666666, \"#ed7953\"], [0.7777777777777778, \"#fb9f3a\"], [0.8888888888888888, \"#fdca26\"], [1.0, \"#f0f921\"]], \"type\": \"surface\"}], \"table\": [{\"cells\": {\"fill\": {\"color\": \"#EBF0F8\"}, \"line\": {\"color\": \"white\"}}, \"header\": {\"fill\": {\"color\": \"#C8D4E3\"}, \"line\": {\"color\": \"white\"}}, \"type\": \"table\"}]}, \"layout\": {\"annotationdefaults\": {\"arrowcolor\": \"#2a3f5f\", \"arrowhead\": 0, \"arrowwidth\": 1}, \"coloraxis\": {\"colorbar\": {\"outlinewidth\": 0, \"ticks\": \"\"}}, \"colorscale\": {\"diverging\": [[0, \"#8e0152\"], [0.1, \"#c51b7d\"], [0.2, \"#de77ae\"], [0.3, \"#f1b6da\"], [0.4, \"#fde0ef\"], [0.5, \"#f7f7f7\"], [0.6, \"#e6f5d0\"], [0.7, \"#b8e186\"], [0.8, \"#7fbc41\"], [0.9, \"#4d9221\"], [1, \"#276419\"]], \"sequential\": [[0.0, \"#0d0887\"], [0.1111111111111111, \"#46039f\"], [0.2222222222222222, \"#7201a8\"], [0.3333333333333333, \"#9c179e\"], [0.4444444444444444, \"#bd3786\"], [0.5555555555555556, \"#d8576b\"], [0.6666666666666666, \"#ed7953\"], [0.7777777777777778, \"#fb9f3a\"], [0.8888888888888888, \"#fdca26\"], [1.0, \"#f0f921\"]], \"sequentialminus\": [[0.0, \"#0d0887\"], [0.1111111111111111, \"#46039f\"], [0.2222222222222222, \"#7201a8\"], [0.3333333333333333, \"#9c179e\"], [0.4444444444444444, \"#bd3786\"], [0.5555555555555556, \"#d8576b\"], [0.6666666666666666, \"#ed7953\"], [0.7777777777777778, \"#fb9f3a\"], [0.8888888888888888, \"#fdca26\"], [1.0, \"#f0f921\"]]}, \"colorway\": [\"#636efa\", \"#EF553B\", \"#00cc96\", \"#ab63fa\", \"#FFA15A\", \"#19d3f3\", \"#FF6692\", \"#B6E880\", \"#FF97FF\", \"#FECB52\"], \"font\": {\"color\": \"#2a3f5f\"}, \"geo\": {\"bgcolor\": \"white\", \"lakecolor\": \"white\", \"landcolor\": \"#E5ECF6\", \"showlakes\": true, \"showland\": true, \"subunitcolor\": \"white\"}, \"hoverlabel\": {\"align\": \"left\"}, \"hovermode\": \"closest\", \"mapbox\": {\"style\": \"light\"}, \"paper_bgcolor\": \"white\", \"plot_bgcolor\": \"#E5ECF6\", \"polar\": {\"angularaxis\": {\"gridcolor\": \"white\", \"linecolor\": \"white\", \"ticks\": \"\"}, \"bgcolor\": \"#E5ECF6\", \"radialaxis\": {\"gridcolor\": \"white\", \"linecolor\": \"white\", \"ticks\": \"\"}}, \"scene\": {\"xaxis\": {\"backgroundcolor\": \"#E5ECF6\", \"gridcolor\": \"white\", \"gridwidth\": 2, \"linecolor\": \"white\", \"showbackground\": true, \"ticks\": \"\", \"zerolinecolor\": \"white\"}, \"yaxis\": {\"backgroundcolor\": \"#E5ECF6\", \"gridcolor\": \"white\", \"gridwidth\": 2, \"linecolor\": \"white\", \"showbackground\": true, \"ticks\": \"\", \"zerolinecolor\": \"white\"}, \"zaxis\": {\"backgroundcolor\": \"#E5ECF6\", \"gridcolor\": \"white\", \"gridwidth\": 2, \"linecolor\": \"white\", \"showbackground\": true, \"ticks\": \"\", \"zerolinecolor\": \"white\"}}, \"shapedefaults\": {\"line\": {\"color\": \"#2a3f5f\"}}, \"ternary\": {\"aaxis\": {\"gridcolor\": \"white\", \"linecolor\": \"white\", \"ticks\": \"\"}, \"baxis\": {\"gridcolor\": \"white\", \"linecolor\": \"white\", \"ticks\": \"\"}, \"bgcolor\": \"#E5ECF6\", \"caxis\": {\"gridcolor\": \"white\", \"linecolor\": \"white\", \"ticks\": \"\"}}, \"title\": {\"x\": 0.05}, \"xaxis\": {\"automargin\": true, \"gridcolor\": \"white\", \"linecolor\": \"white\", \"ticks\": \"\", \"title\": {\"standoff\": 15}, \"zerolinecolor\": \"white\", \"zerolinewidth\": 2}, \"yaxis\": {\"automargin\": true, \"gridcolor\": \"white\", \"linecolor\": \"white\", \"ticks\": \"\", \"title\": {\"standoff\": 15}, \"zerolinecolor\": \"white\", \"zerolinewidth\": 2}}}, \"xaxis\": {\"anchor\": \"y\", \"domain\": [0.0, 1.0], \"title\": {\"text\": \"Venue Category\"}}, \"yaxis\": {\"anchor\": \"x\", \"domain\": [0.0, 1.0], \"title\": {\"text\": \"Counts\"}}},\n",
       "                        {\"responsive\": true}\n",
       "                    ).then(function(){\n",
       "                            \n",
       "var gd = document.getElementById('92ddbb76-b00b-4bb6-b072-bf41111bd895');\n",
       "var x = new MutationObserver(function (mutations, observer) {{\n",
       "        var display = window.getComputedStyle(gd).display;\n",
       "        if (!display || display === 'none') {{\n",
       "            console.log([gd, 'removed!']);\n",
       "            Plotly.purge(gd);\n",
       "            observer.disconnect();\n",
       "        }}\n",
       "}});\n",
       "\n",
       "// Listen for the removal of the full notebook cells\n",
       "var notebookContainer = gd.closest('#notebook-container');\n",
       "if (notebookContainer) {{\n",
       "    x.observe(notebookContainer, {childList: true});\n",
       "}}\n",
       "\n",
       "// Listen for the clearing of the current output cell\n",
       "var outputEl = gd.closest('.output');\n",
       "if (outputEl) {{\n",
       "    x.observe(outputEl, {childList: true});\n",
       "}}\n",
       "\n",
       "                        })\n",
       "                };\n",
       "                });\n",
       "            </script>\n",
       "        </div>"
      ]
     },
     "metadata": {},
     "output_type": "display_data"
    }
   ],
   "source": [
    "ser = pd.Series() \n",
    "temp_c = cluster3.drop('Neighborhood', 1)\n",
    "for c in temp_c.columns:\n",
    "    temp = temp_c[c].value_counts()\n",
    "    ser = ser.append(temp)\n",
    "bar_cluster3 = ser.to_frame()\n",
    "bar_cluster3.reset_index(inplace = True)\n",
    "bar_cluster3.columns = ['Venue','Counts']\n",
    "bar_cluster3 = bar_cluster3.groupby('Venue').sum()\n",
    "fig = px.bar(bar_cluster3, x=bar_cluster3.index, y='Counts', labels={'x':'Venue Category'})\n",
    "fig.show()"
   ]
  },
  {
   "cell_type": "code",
   "execution_count": 160,
   "metadata": {},
   "outputs": [
    {
     "data": {
      "text/html": [
       "<div>\n",
       "<style scoped>\n",
       "    .dataframe tbody tr th:only-of-type {\n",
       "        vertical-align: middle;\n",
       "    }\n",
       "\n",
       "    .dataframe tbody tr th {\n",
       "        vertical-align: top;\n",
       "    }\n",
       "\n",
       "    .dataframe thead th {\n",
       "        text-align: right;\n",
       "    }\n",
       "</style>\n",
       "<table border=\"1\" class=\"dataframe\">\n",
       "  <thead>\n",
       "    <tr style=\"text-align: right;\">\n",
       "      <th></th>\n",
       "      <th>Neighborhood</th>\n",
       "      <th>1st Most Common Venue</th>\n",
       "      <th>2nd Most Common Venue</th>\n",
       "      <th>3rd Most Common Venue</th>\n",
       "      <th>4th Most Common Venue</th>\n",
       "      <th>5th Most Common Venue</th>\n",
       "      <th>6th Most Common Venue</th>\n",
       "      <th>7th Most Common Venue</th>\n",
       "      <th>8th Most Common Venue</th>\n",
       "      <th>9th Most Common Venue</th>\n",
       "      <th>10th Most Common Venue</th>\n",
       "    </tr>\n",
       "  </thead>\n",
       "  <tbody>\n",
       "    <tr>\n",
       "      <th>3</th>\n",
       "      <td>Amraiwadi</td>\n",
       "      <td>ATM</td>\n",
       "      <td>Indian Restaurant</td>\n",
       "      <td>Donut Shop</td>\n",
       "      <td>Clothing Store</td>\n",
       "      <td>Cocktail Bar</td>\n",
       "      <td>Coffee Shop</td>\n",
       "      <td>Cupcake Shop</td>\n",
       "      <td>Department Store</td>\n",
       "      <td>Dessert Shop</td>\n",
       "      <td>Diner</td>\n",
       "    </tr>\n",
       "    <tr>\n",
       "      <th>5</th>\n",
       "      <td>Asarwa</td>\n",
       "      <td>ATM</td>\n",
       "      <td>Child Care Service</td>\n",
       "      <td>Clothing Store</td>\n",
       "      <td>Cocktail Bar</td>\n",
       "      <td>Coffee Shop</td>\n",
       "      <td>Cupcake Shop</td>\n",
       "      <td>Department Store</td>\n",
       "      <td>Dessert Shop</td>\n",
       "      <td>Diner</td>\n",
       "      <td>Donut Shop</td>\n",
       "    </tr>\n",
       "    <tr>\n",
       "      <th>17</th>\n",
       "      <td>Godhavi</td>\n",
       "      <td>ATM</td>\n",
       "      <td>Child Care Service</td>\n",
       "      <td>Clothing Store</td>\n",
       "      <td>Cocktail Bar</td>\n",
       "      <td>Coffee Shop</td>\n",
       "      <td>Cupcake Shop</td>\n",
       "      <td>Department Store</td>\n",
       "      <td>Dessert Shop</td>\n",
       "      <td>Diner</td>\n",
       "      <td>Donut Shop</td>\n",
       "    </tr>\n",
       "    <tr>\n",
       "      <th>48</th>\n",
       "      <td>Sukhrampura</td>\n",
       "      <td>ATM</td>\n",
       "      <td>Child Care Service</td>\n",
       "      <td>Clothing Store</td>\n",
       "      <td>Cocktail Bar</td>\n",
       "      <td>Coffee Shop</td>\n",
       "      <td>Cupcake Shop</td>\n",
       "      <td>Department Store</td>\n",
       "      <td>Dessert Shop</td>\n",
       "      <td>Diner</td>\n",
       "      <td>Donut Shop</td>\n",
       "    </tr>\n",
       "  </tbody>\n",
       "</table>\n",
       "</div>"
      ],
      "text/plain": [
       "   Neighborhood 1st Most Common Venue 2nd Most Common Venue  \\\n",
       "3     Amraiwadi                   ATM     Indian Restaurant   \n",
       "5        Asarwa                   ATM    Child Care Service   \n",
       "17      Godhavi                   ATM    Child Care Service   \n",
       "48  Sukhrampura                   ATM    Child Care Service   \n",
       "\n",
       "   3rd Most Common Venue 4th Most Common Venue 5th Most Common Venue  \\\n",
       "3             Donut Shop        Clothing Store          Cocktail Bar   \n",
       "5         Clothing Store          Cocktail Bar           Coffee Shop   \n",
       "17        Clothing Store          Cocktail Bar           Coffee Shop   \n",
       "48        Clothing Store          Cocktail Bar           Coffee Shop   \n",
       "\n",
       "   6th Most Common Venue 7th Most Common Venue 8th Most Common Venue  \\\n",
       "3            Coffee Shop          Cupcake Shop      Department Store   \n",
       "5           Cupcake Shop      Department Store          Dessert Shop   \n",
       "17          Cupcake Shop      Department Store          Dessert Shop   \n",
       "48          Cupcake Shop      Department Store          Dessert Shop   \n",
       "\n",
       "   9th Most Common Venue 10th Most Common Venue  \n",
       "3           Dessert Shop                  Diner  \n",
       "5                  Diner             Donut Shop  \n",
       "17                 Diner             Donut Shop  \n",
       "48                 Diner             Donut Shop  "
      ]
     },
     "execution_count": 160,
     "metadata": {},
     "output_type": "execute_result"
    }
   ],
   "source": [
    "cluster4 = ahmedabad_merged.loc[ahmedabad_merged['Cluster Labels'] == 3, ahmedabad_merged.columns[[0] + list(range(4, ahmedabad_merged.shape[1]))]]\n",
    "cluster4"
   ]
  },
  {
   "cell_type": "code",
   "execution_count": 161,
   "metadata": {},
   "outputs": [
    {
     "data": {
      "application/vnd.plotly.v1+json": {
       "config": {
        "plotlyServerURL": "https://plot.ly"
       },
       "data": [
        {
         "alignmentgroup": "True",
         "hoverlabel": {
          "namelength": 0
         },
         "hovertemplate": "Venue Category=%{x}<br>Counts=%{y}",
         "legendgroup": "",
         "marker": {
          "color": "#636efa"
         },
         "name": "",
         "offsetgroup": "",
         "orientation": "v",
         "showlegend": false,
         "textposition": "auto",
         "type": "bar",
         "x": [
          "ATM",
          "Child Care Service",
          "Clothing Store",
          "Cocktail Bar",
          "Coffee Shop",
          "Cupcake Shop",
          "Department Store",
          "Dessert Shop",
          "Diner",
          "Donut Shop",
          "Indian Restaurant"
         ],
         "xaxis": "x",
         "y": [
          4,
          3,
          4,
          4,
          4,
          4,
          4,
          4,
          4,
          4,
          1
         ],
         "yaxis": "y"
        }
       ],
       "layout": {
        "barmode": "relative",
        "legend": {
         "tracegroupgap": 0
        },
        "margin": {
         "t": 60
        },
        "template": {
         "data": {
          "bar": [
           {
            "error_x": {
             "color": "#2a3f5f"
            },
            "error_y": {
             "color": "#2a3f5f"
            },
            "marker": {
             "line": {
              "color": "#E5ECF6",
              "width": 0.5
             }
            },
            "type": "bar"
           }
          ],
          "barpolar": [
           {
            "marker": {
             "line": {
              "color": "#E5ECF6",
              "width": 0.5
             }
            },
            "type": "barpolar"
           }
          ],
          "carpet": [
           {
            "aaxis": {
             "endlinecolor": "#2a3f5f",
             "gridcolor": "white",
             "linecolor": "white",
             "minorgridcolor": "white",
             "startlinecolor": "#2a3f5f"
            },
            "baxis": {
             "endlinecolor": "#2a3f5f",
             "gridcolor": "white",
             "linecolor": "white",
             "minorgridcolor": "white",
             "startlinecolor": "#2a3f5f"
            },
            "type": "carpet"
           }
          ],
          "choropleth": [
           {
            "colorbar": {
             "outlinewidth": 0,
             "ticks": ""
            },
            "type": "choropleth"
           }
          ],
          "contour": [
           {
            "colorbar": {
             "outlinewidth": 0,
             "ticks": ""
            },
            "colorscale": [
             [
              0,
              "#0d0887"
             ],
             [
              0.1111111111111111,
              "#46039f"
             ],
             [
              0.2222222222222222,
              "#7201a8"
             ],
             [
              0.3333333333333333,
              "#9c179e"
             ],
             [
              0.4444444444444444,
              "#bd3786"
             ],
             [
              0.5555555555555556,
              "#d8576b"
             ],
             [
              0.6666666666666666,
              "#ed7953"
             ],
             [
              0.7777777777777778,
              "#fb9f3a"
             ],
             [
              0.8888888888888888,
              "#fdca26"
             ],
             [
              1,
              "#f0f921"
             ]
            ],
            "type": "contour"
           }
          ],
          "contourcarpet": [
           {
            "colorbar": {
             "outlinewidth": 0,
             "ticks": ""
            },
            "type": "contourcarpet"
           }
          ],
          "heatmap": [
           {
            "colorbar": {
             "outlinewidth": 0,
             "ticks": ""
            },
            "colorscale": [
             [
              0,
              "#0d0887"
             ],
             [
              0.1111111111111111,
              "#46039f"
             ],
             [
              0.2222222222222222,
              "#7201a8"
             ],
             [
              0.3333333333333333,
              "#9c179e"
             ],
             [
              0.4444444444444444,
              "#bd3786"
             ],
             [
              0.5555555555555556,
              "#d8576b"
             ],
             [
              0.6666666666666666,
              "#ed7953"
             ],
             [
              0.7777777777777778,
              "#fb9f3a"
             ],
             [
              0.8888888888888888,
              "#fdca26"
             ],
             [
              1,
              "#f0f921"
             ]
            ],
            "type": "heatmap"
           }
          ],
          "heatmapgl": [
           {
            "colorbar": {
             "outlinewidth": 0,
             "ticks": ""
            },
            "colorscale": [
             [
              0,
              "#0d0887"
             ],
             [
              0.1111111111111111,
              "#46039f"
             ],
             [
              0.2222222222222222,
              "#7201a8"
             ],
             [
              0.3333333333333333,
              "#9c179e"
             ],
             [
              0.4444444444444444,
              "#bd3786"
             ],
             [
              0.5555555555555556,
              "#d8576b"
             ],
             [
              0.6666666666666666,
              "#ed7953"
             ],
             [
              0.7777777777777778,
              "#fb9f3a"
             ],
             [
              0.8888888888888888,
              "#fdca26"
             ],
             [
              1,
              "#f0f921"
             ]
            ],
            "type": "heatmapgl"
           }
          ],
          "histogram": [
           {
            "marker": {
             "colorbar": {
              "outlinewidth": 0,
              "ticks": ""
             }
            },
            "type": "histogram"
           }
          ],
          "histogram2d": [
           {
            "colorbar": {
             "outlinewidth": 0,
             "ticks": ""
            },
            "colorscale": [
             [
              0,
              "#0d0887"
             ],
             [
              0.1111111111111111,
              "#46039f"
             ],
             [
              0.2222222222222222,
              "#7201a8"
             ],
             [
              0.3333333333333333,
              "#9c179e"
             ],
             [
              0.4444444444444444,
              "#bd3786"
             ],
             [
              0.5555555555555556,
              "#d8576b"
             ],
             [
              0.6666666666666666,
              "#ed7953"
             ],
             [
              0.7777777777777778,
              "#fb9f3a"
             ],
             [
              0.8888888888888888,
              "#fdca26"
             ],
             [
              1,
              "#f0f921"
             ]
            ],
            "type": "histogram2d"
           }
          ],
          "histogram2dcontour": [
           {
            "colorbar": {
             "outlinewidth": 0,
             "ticks": ""
            },
            "colorscale": [
             [
              0,
              "#0d0887"
             ],
             [
              0.1111111111111111,
              "#46039f"
             ],
             [
              0.2222222222222222,
              "#7201a8"
             ],
             [
              0.3333333333333333,
              "#9c179e"
             ],
             [
              0.4444444444444444,
              "#bd3786"
             ],
             [
              0.5555555555555556,
              "#d8576b"
             ],
             [
              0.6666666666666666,
              "#ed7953"
             ],
             [
              0.7777777777777778,
              "#fb9f3a"
             ],
             [
              0.8888888888888888,
              "#fdca26"
             ],
             [
              1,
              "#f0f921"
             ]
            ],
            "type": "histogram2dcontour"
           }
          ],
          "mesh3d": [
           {
            "colorbar": {
             "outlinewidth": 0,
             "ticks": ""
            },
            "type": "mesh3d"
           }
          ],
          "parcoords": [
           {
            "line": {
             "colorbar": {
              "outlinewidth": 0,
              "ticks": ""
             }
            },
            "type": "parcoords"
           }
          ],
          "pie": [
           {
            "automargin": true,
            "type": "pie"
           }
          ],
          "scatter": [
           {
            "marker": {
             "colorbar": {
              "outlinewidth": 0,
              "ticks": ""
             }
            },
            "type": "scatter"
           }
          ],
          "scatter3d": [
           {
            "line": {
             "colorbar": {
              "outlinewidth": 0,
              "ticks": ""
             }
            },
            "marker": {
             "colorbar": {
              "outlinewidth": 0,
              "ticks": ""
             }
            },
            "type": "scatter3d"
           }
          ],
          "scattercarpet": [
           {
            "marker": {
             "colorbar": {
              "outlinewidth": 0,
              "ticks": ""
             }
            },
            "type": "scattercarpet"
           }
          ],
          "scattergeo": [
           {
            "marker": {
             "colorbar": {
              "outlinewidth": 0,
              "ticks": ""
             }
            },
            "type": "scattergeo"
           }
          ],
          "scattergl": [
           {
            "marker": {
             "colorbar": {
              "outlinewidth": 0,
              "ticks": ""
             }
            },
            "type": "scattergl"
           }
          ],
          "scattermapbox": [
           {
            "marker": {
             "colorbar": {
              "outlinewidth": 0,
              "ticks": ""
             }
            },
            "type": "scattermapbox"
           }
          ],
          "scatterpolar": [
           {
            "marker": {
             "colorbar": {
              "outlinewidth": 0,
              "ticks": ""
             }
            },
            "type": "scatterpolar"
           }
          ],
          "scatterpolargl": [
           {
            "marker": {
             "colorbar": {
              "outlinewidth": 0,
              "ticks": ""
             }
            },
            "type": "scatterpolargl"
           }
          ],
          "scatterternary": [
           {
            "marker": {
             "colorbar": {
              "outlinewidth": 0,
              "ticks": ""
             }
            },
            "type": "scatterternary"
           }
          ],
          "surface": [
           {
            "colorbar": {
             "outlinewidth": 0,
             "ticks": ""
            },
            "colorscale": [
             [
              0,
              "#0d0887"
             ],
             [
              0.1111111111111111,
              "#46039f"
             ],
             [
              0.2222222222222222,
              "#7201a8"
             ],
             [
              0.3333333333333333,
              "#9c179e"
             ],
             [
              0.4444444444444444,
              "#bd3786"
             ],
             [
              0.5555555555555556,
              "#d8576b"
             ],
             [
              0.6666666666666666,
              "#ed7953"
             ],
             [
              0.7777777777777778,
              "#fb9f3a"
             ],
             [
              0.8888888888888888,
              "#fdca26"
             ],
             [
              1,
              "#f0f921"
             ]
            ],
            "type": "surface"
           }
          ],
          "table": [
           {
            "cells": {
             "fill": {
              "color": "#EBF0F8"
             },
             "line": {
              "color": "white"
             }
            },
            "header": {
             "fill": {
              "color": "#C8D4E3"
             },
             "line": {
              "color": "white"
             }
            },
            "type": "table"
           }
          ]
         },
         "layout": {
          "annotationdefaults": {
           "arrowcolor": "#2a3f5f",
           "arrowhead": 0,
           "arrowwidth": 1
          },
          "coloraxis": {
           "colorbar": {
            "outlinewidth": 0,
            "ticks": ""
           }
          },
          "colorscale": {
           "diverging": [
            [
             0,
             "#8e0152"
            ],
            [
             0.1,
             "#c51b7d"
            ],
            [
             0.2,
             "#de77ae"
            ],
            [
             0.3,
             "#f1b6da"
            ],
            [
             0.4,
             "#fde0ef"
            ],
            [
             0.5,
             "#f7f7f7"
            ],
            [
             0.6,
             "#e6f5d0"
            ],
            [
             0.7,
             "#b8e186"
            ],
            [
             0.8,
             "#7fbc41"
            ],
            [
             0.9,
             "#4d9221"
            ],
            [
             1,
             "#276419"
            ]
           ],
           "sequential": [
            [
             0,
             "#0d0887"
            ],
            [
             0.1111111111111111,
             "#46039f"
            ],
            [
             0.2222222222222222,
             "#7201a8"
            ],
            [
             0.3333333333333333,
             "#9c179e"
            ],
            [
             0.4444444444444444,
             "#bd3786"
            ],
            [
             0.5555555555555556,
             "#d8576b"
            ],
            [
             0.6666666666666666,
             "#ed7953"
            ],
            [
             0.7777777777777778,
             "#fb9f3a"
            ],
            [
             0.8888888888888888,
             "#fdca26"
            ],
            [
             1,
             "#f0f921"
            ]
           ],
           "sequentialminus": [
            [
             0,
             "#0d0887"
            ],
            [
             0.1111111111111111,
             "#46039f"
            ],
            [
             0.2222222222222222,
             "#7201a8"
            ],
            [
             0.3333333333333333,
             "#9c179e"
            ],
            [
             0.4444444444444444,
             "#bd3786"
            ],
            [
             0.5555555555555556,
             "#d8576b"
            ],
            [
             0.6666666666666666,
             "#ed7953"
            ],
            [
             0.7777777777777778,
             "#fb9f3a"
            ],
            [
             0.8888888888888888,
             "#fdca26"
            ],
            [
             1,
             "#f0f921"
            ]
           ]
          },
          "colorway": [
           "#636efa",
           "#EF553B",
           "#00cc96",
           "#ab63fa",
           "#FFA15A",
           "#19d3f3",
           "#FF6692",
           "#B6E880",
           "#FF97FF",
           "#FECB52"
          ],
          "font": {
           "color": "#2a3f5f"
          },
          "geo": {
           "bgcolor": "white",
           "lakecolor": "white",
           "landcolor": "#E5ECF6",
           "showlakes": true,
           "showland": true,
           "subunitcolor": "white"
          },
          "hoverlabel": {
           "align": "left"
          },
          "hovermode": "closest",
          "mapbox": {
           "style": "light"
          },
          "paper_bgcolor": "white",
          "plot_bgcolor": "#E5ECF6",
          "polar": {
           "angularaxis": {
            "gridcolor": "white",
            "linecolor": "white",
            "ticks": ""
           },
           "bgcolor": "#E5ECF6",
           "radialaxis": {
            "gridcolor": "white",
            "linecolor": "white",
            "ticks": ""
           }
          },
          "scene": {
           "xaxis": {
            "backgroundcolor": "#E5ECF6",
            "gridcolor": "white",
            "gridwidth": 2,
            "linecolor": "white",
            "showbackground": true,
            "ticks": "",
            "zerolinecolor": "white"
           },
           "yaxis": {
            "backgroundcolor": "#E5ECF6",
            "gridcolor": "white",
            "gridwidth": 2,
            "linecolor": "white",
            "showbackground": true,
            "ticks": "",
            "zerolinecolor": "white"
           },
           "zaxis": {
            "backgroundcolor": "#E5ECF6",
            "gridcolor": "white",
            "gridwidth": 2,
            "linecolor": "white",
            "showbackground": true,
            "ticks": "",
            "zerolinecolor": "white"
           }
          },
          "shapedefaults": {
           "line": {
            "color": "#2a3f5f"
           }
          },
          "ternary": {
           "aaxis": {
            "gridcolor": "white",
            "linecolor": "white",
            "ticks": ""
           },
           "baxis": {
            "gridcolor": "white",
            "linecolor": "white",
            "ticks": ""
           },
           "bgcolor": "#E5ECF6",
           "caxis": {
            "gridcolor": "white",
            "linecolor": "white",
            "ticks": ""
           }
          },
          "title": {
           "x": 0.05
          },
          "xaxis": {
           "automargin": true,
           "gridcolor": "white",
           "linecolor": "white",
           "ticks": "",
           "title": {
            "standoff": 15
           },
           "zerolinecolor": "white",
           "zerolinewidth": 2
          },
          "yaxis": {
           "automargin": true,
           "gridcolor": "white",
           "linecolor": "white",
           "ticks": "",
           "title": {
            "standoff": 15
           },
           "zerolinecolor": "white",
           "zerolinewidth": 2
          }
         }
        },
        "xaxis": {
         "anchor": "y",
         "domain": [
          0,
          1
         ],
         "title": {
          "text": "Venue Category"
         }
        },
        "yaxis": {
         "anchor": "x",
         "domain": [
          0,
          1
         ],
         "title": {
          "text": "Counts"
         }
        }
       }
      },
      "text/html": [
       "<div>\n",
       "        \n",
       "        \n",
       "            <div id=\"e921e185-924b-4f15-a96e-624d3aa6378b\" class=\"plotly-graph-div\" style=\"height:525px; width:100%;\"></div>\n",
       "            <script type=\"text/javascript\">\n",
       "                require([\"plotly\"], function(Plotly) {\n",
       "                    window.PLOTLYENV=window.PLOTLYENV || {};\n",
       "                    \n",
       "                if (document.getElementById(\"e921e185-924b-4f15-a96e-624d3aa6378b\")) {\n",
       "                    Plotly.newPlot(\n",
       "                        'e921e185-924b-4f15-a96e-624d3aa6378b',\n",
       "                        [{\"alignmentgroup\": \"True\", \"hoverlabel\": {\"namelength\": 0}, \"hovertemplate\": \"Venue Category=%{x}<br>Counts=%{y}\", \"legendgroup\": \"\", \"marker\": {\"color\": \"#636efa\"}, \"name\": \"\", \"offsetgroup\": \"\", \"orientation\": \"v\", \"showlegend\": false, \"textposition\": \"auto\", \"type\": \"bar\", \"x\": [\"ATM\", \"Child Care Service\", \"Clothing Store\", \"Cocktail Bar\", \"Coffee Shop\", \"Cupcake Shop\", \"Department Store\", \"Dessert Shop\", \"Diner\", \"Donut Shop\", \"Indian Restaurant\"], \"xaxis\": \"x\", \"y\": [4, 3, 4, 4, 4, 4, 4, 4, 4, 4, 1], \"yaxis\": \"y\"}],\n",
       "                        {\"barmode\": \"relative\", \"legend\": {\"tracegroupgap\": 0}, \"margin\": {\"t\": 60}, \"template\": {\"data\": {\"bar\": [{\"error_x\": {\"color\": \"#2a3f5f\"}, \"error_y\": {\"color\": \"#2a3f5f\"}, \"marker\": {\"line\": {\"color\": \"#E5ECF6\", \"width\": 0.5}}, \"type\": \"bar\"}], \"barpolar\": [{\"marker\": {\"line\": {\"color\": \"#E5ECF6\", \"width\": 0.5}}, \"type\": \"barpolar\"}], \"carpet\": [{\"aaxis\": {\"endlinecolor\": \"#2a3f5f\", \"gridcolor\": \"white\", \"linecolor\": \"white\", \"minorgridcolor\": \"white\", \"startlinecolor\": \"#2a3f5f\"}, \"baxis\": {\"endlinecolor\": \"#2a3f5f\", \"gridcolor\": \"white\", \"linecolor\": \"white\", \"minorgridcolor\": \"white\", \"startlinecolor\": \"#2a3f5f\"}, \"type\": \"carpet\"}], \"choropleth\": [{\"colorbar\": {\"outlinewidth\": 0, \"ticks\": \"\"}, \"type\": \"choropleth\"}], \"contour\": [{\"colorbar\": {\"outlinewidth\": 0, \"ticks\": \"\"}, \"colorscale\": [[0.0, \"#0d0887\"], [0.1111111111111111, \"#46039f\"], [0.2222222222222222, \"#7201a8\"], [0.3333333333333333, \"#9c179e\"], [0.4444444444444444, \"#bd3786\"], [0.5555555555555556, \"#d8576b\"], [0.6666666666666666, \"#ed7953\"], [0.7777777777777778, \"#fb9f3a\"], [0.8888888888888888, \"#fdca26\"], [1.0, \"#f0f921\"]], \"type\": \"contour\"}], \"contourcarpet\": [{\"colorbar\": {\"outlinewidth\": 0, \"ticks\": \"\"}, \"type\": \"contourcarpet\"}], \"heatmap\": [{\"colorbar\": {\"outlinewidth\": 0, \"ticks\": \"\"}, \"colorscale\": [[0.0, \"#0d0887\"], [0.1111111111111111, \"#46039f\"], [0.2222222222222222, \"#7201a8\"], [0.3333333333333333, \"#9c179e\"], [0.4444444444444444, \"#bd3786\"], [0.5555555555555556, \"#d8576b\"], [0.6666666666666666, \"#ed7953\"], [0.7777777777777778, \"#fb9f3a\"], [0.8888888888888888, \"#fdca26\"], [1.0, \"#f0f921\"]], \"type\": \"heatmap\"}], \"heatmapgl\": [{\"colorbar\": {\"outlinewidth\": 0, \"ticks\": \"\"}, \"colorscale\": [[0.0, \"#0d0887\"], [0.1111111111111111, \"#46039f\"], [0.2222222222222222, \"#7201a8\"], [0.3333333333333333, \"#9c179e\"], [0.4444444444444444, \"#bd3786\"], [0.5555555555555556, \"#d8576b\"], [0.6666666666666666, \"#ed7953\"], [0.7777777777777778, \"#fb9f3a\"], [0.8888888888888888, \"#fdca26\"], [1.0, \"#f0f921\"]], \"type\": \"heatmapgl\"}], \"histogram\": [{\"marker\": {\"colorbar\": {\"outlinewidth\": 0, \"ticks\": \"\"}}, \"type\": \"histogram\"}], \"histogram2d\": [{\"colorbar\": {\"outlinewidth\": 0, \"ticks\": \"\"}, \"colorscale\": [[0.0, \"#0d0887\"], [0.1111111111111111, \"#46039f\"], [0.2222222222222222, \"#7201a8\"], [0.3333333333333333, \"#9c179e\"], [0.4444444444444444, \"#bd3786\"], [0.5555555555555556, \"#d8576b\"], [0.6666666666666666, \"#ed7953\"], [0.7777777777777778, \"#fb9f3a\"], [0.8888888888888888, \"#fdca26\"], [1.0, \"#f0f921\"]], \"type\": \"histogram2d\"}], \"histogram2dcontour\": [{\"colorbar\": {\"outlinewidth\": 0, \"ticks\": \"\"}, \"colorscale\": [[0.0, \"#0d0887\"], [0.1111111111111111, \"#46039f\"], [0.2222222222222222, \"#7201a8\"], [0.3333333333333333, \"#9c179e\"], [0.4444444444444444, \"#bd3786\"], [0.5555555555555556, \"#d8576b\"], [0.6666666666666666, \"#ed7953\"], [0.7777777777777778, \"#fb9f3a\"], [0.8888888888888888, \"#fdca26\"], [1.0, \"#f0f921\"]], \"type\": \"histogram2dcontour\"}], \"mesh3d\": [{\"colorbar\": {\"outlinewidth\": 0, \"ticks\": \"\"}, \"type\": \"mesh3d\"}], \"parcoords\": [{\"line\": {\"colorbar\": {\"outlinewidth\": 0, \"ticks\": \"\"}}, \"type\": \"parcoords\"}], \"pie\": [{\"automargin\": true, \"type\": \"pie\"}], \"scatter\": [{\"marker\": {\"colorbar\": {\"outlinewidth\": 0, \"ticks\": \"\"}}, \"type\": \"scatter\"}], \"scatter3d\": [{\"line\": {\"colorbar\": {\"outlinewidth\": 0, \"ticks\": \"\"}}, \"marker\": {\"colorbar\": {\"outlinewidth\": 0, \"ticks\": \"\"}}, \"type\": \"scatter3d\"}], \"scattercarpet\": [{\"marker\": {\"colorbar\": {\"outlinewidth\": 0, \"ticks\": \"\"}}, \"type\": \"scattercarpet\"}], \"scattergeo\": [{\"marker\": {\"colorbar\": {\"outlinewidth\": 0, \"ticks\": \"\"}}, \"type\": \"scattergeo\"}], \"scattergl\": [{\"marker\": {\"colorbar\": {\"outlinewidth\": 0, \"ticks\": \"\"}}, \"type\": \"scattergl\"}], \"scattermapbox\": [{\"marker\": {\"colorbar\": {\"outlinewidth\": 0, \"ticks\": \"\"}}, \"type\": \"scattermapbox\"}], \"scatterpolar\": [{\"marker\": {\"colorbar\": {\"outlinewidth\": 0, \"ticks\": \"\"}}, \"type\": \"scatterpolar\"}], \"scatterpolargl\": [{\"marker\": {\"colorbar\": {\"outlinewidth\": 0, \"ticks\": \"\"}}, \"type\": \"scatterpolargl\"}], \"scatterternary\": [{\"marker\": {\"colorbar\": {\"outlinewidth\": 0, \"ticks\": \"\"}}, \"type\": \"scatterternary\"}], \"surface\": [{\"colorbar\": {\"outlinewidth\": 0, \"ticks\": \"\"}, \"colorscale\": [[0.0, \"#0d0887\"], [0.1111111111111111, \"#46039f\"], [0.2222222222222222, \"#7201a8\"], [0.3333333333333333, \"#9c179e\"], [0.4444444444444444, \"#bd3786\"], [0.5555555555555556, \"#d8576b\"], [0.6666666666666666, \"#ed7953\"], [0.7777777777777778, \"#fb9f3a\"], [0.8888888888888888, \"#fdca26\"], [1.0, \"#f0f921\"]], \"type\": \"surface\"}], \"table\": [{\"cells\": {\"fill\": {\"color\": \"#EBF0F8\"}, \"line\": {\"color\": \"white\"}}, \"header\": {\"fill\": {\"color\": \"#C8D4E3\"}, \"line\": {\"color\": \"white\"}}, \"type\": \"table\"}]}, \"layout\": {\"annotationdefaults\": {\"arrowcolor\": \"#2a3f5f\", \"arrowhead\": 0, \"arrowwidth\": 1}, \"coloraxis\": {\"colorbar\": {\"outlinewidth\": 0, \"ticks\": \"\"}}, \"colorscale\": {\"diverging\": [[0, \"#8e0152\"], [0.1, \"#c51b7d\"], [0.2, \"#de77ae\"], [0.3, \"#f1b6da\"], [0.4, \"#fde0ef\"], [0.5, \"#f7f7f7\"], [0.6, \"#e6f5d0\"], [0.7, \"#b8e186\"], [0.8, \"#7fbc41\"], [0.9, \"#4d9221\"], [1, \"#276419\"]], \"sequential\": [[0.0, \"#0d0887\"], [0.1111111111111111, \"#46039f\"], [0.2222222222222222, \"#7201a8\"], [0.3333333333333333, \"#9c179e\"], [0.4444444444444444, \"#bd3786\"], [0.5555555555555556, \"#d8576b\"], [0.6666666666666666, \"#ed7953\"], [0.7777777777777778, \"#fb9f3a\"], [0.8888888888888888, \"#fdca26\"], [1.0, \"#f0f921\"]], \"sequentialminus\": [[0.0, \"#0d0887\"], [0.1111111111111111, \"#46039f\"], [0.2222222222222222, \"#7201a8\"], [0.3333333333333333, \"#9c179e\"], [0.4444444444444444, \"#bd3786\"], [0.5555555555555556, \"#d8576b\"], [0.6666666666666666, \"#ed7953\"], [0.7777777777777778, \"#fb9f3a\"], [0.8888888888888888, \"#fdca26\"], [1.0, \"#f0f921\"]]}, \"colorway\": [\"#636efa\", \"#EF553B\", \"#00cc96\", \"#ab63fa\", \"#FFA15A\", \"#19d3f3\", \"#FF6692\", \"#B6E880\", \"#FF97FF\", \"#FECB52\"], \"font\": {\"color\": \"#2a3f5f\"}, \"geo\": {\"bgcolor\": \"white\", \"lakecolor\": \"white\", \"landcolor\": \"#E5ECF6\", \"showlakes\": true, \"showland\": true, \"subunitcolor\": \"white\"}, \"hoverlabel\": {\"align\": \"left\"}, \"hovermode\": \"closest\", \"mapbox\": {\"style\": \"light\"}, \"paper_bgcolor\": \"white\", \"plot_bgcolor\": \"#E5ECF6\", \"polar\": {\"angularaxis\": {\"gridcolor\": \"white\", \"linecolor\": \"white\", \"ticks\": \"\"}, \"bgcolor\": \"#E5ECF6\", \"radialaxis\": {\"gridcolor\": \"white\", \"linecolor\": \"white\", \"ticks\": \"\"}}, \"scene\": {\"xaxis\": {\"backgroundcolor\": \"#E5ECF6\", \"gridcolor\": \"white\", \"gridwidth\": 2, \"linecolor\": \"white\", \"showbackground\": true, \"ticks\": \"\", \"zerolinecolor\": \"white\"}, \"yaxis\": {\"backgroundcolor\": \"#E5ECF6\", \"gridcolor\": \"white\", \"gridwidth\": 2, \"linecolor\": \"white\", \"showbackground\": true, \"ticks\": \"\", \"zerolinecolor\": \"white\"}, \"zaxis\": {\"backgroundcolor\": \"#E5ECF6\", \"gridcolor\": \"white\", \"gridwidth\": 2, \"linecolor\": \"white\", \"showbackground\": true, \"ticks\": \"\", \"zerolinecolor\": \"white\"}}, \"shapedefaults\": {\"line\": {\"color\": \"#2a3f5f\"}}, \"ternary\": {\"aaxis\": {\"gridcolor\": \"white\", \"linecolor\": \"white\", \"ticks\": \"\"}, \"baxis\": {\"gridcolor\": \"white\", \"linecolor\": \"white\", \"ticks\": \"\"}, \"bgcolor\": \"#E5ECF6\", \"caxis\": {\"gridcolor\": \"white\", \"linecolor\": \"white\", \"ticks\": \"\"}}, \"title\": {\"x\": 0.05}, \"xaxis\": {\"automargin\": true, \"gridcolor\": \"white\", \"linecolor\": \"white\", \"ticks\": \"\", \"title\": {\"standoff\": 15}, \"zerolinecolor\": \"white\", \"zerolinewidth\": 2}, \"yaxis\": {\"automargin\": true, \"gridcolor\": \"white\", \"linecolor\": \"white\", \"ticks\": \"\", \"title\": {\"standoff\": 15}, \"zerolinecolor\": \"white\", \"zerolinewidth\": 2}}}, \"xaxis\": {\"anchor\": \"y\", \"domain\": [0.0, 1.0], \"title\": {\"text\": \"Venue Category\"}}, \"yaxis\": {\"anchor\": \"x\", \"domain\": [0.0, 1.0], \"title\": {\"text\": \"Counts\"}}},\n",
       "                        {\"responsive\": true}\n",
       "                    ).then(function(){\n",
       "                            \n",
       "var gd = document.getElementById('e921e185-924b-4f15-a96e-624d3aa6378b');\n",
       "var x = new MutationObserver(function (mutations, observer) {{\n",
       "        var display = window.getComputedStyle(gd).display;\n",
       "        if (!display || display === 'none') {{\n",
       "            console.log([gd, 'removed!']);\n",
       "            Plotly.purge(gd);\n",
       "            observer.disconnect();\n",
       "        }}\n",
       "}});\n",
       "\n",
       "// Listen for the removal of the full notebook cells\n",
       "var notebookContainer = gd.closest('#notebook-container');\n",
       "if (notebookContainer) {{\n",
       "    x.observe(notebookContainer, {childList: true});\n",
       "}}\n",
       "\n",
       "// Listen for the clearing of the current output cell\n",
       "var outputEl = gd.closest('.output');\n",
       "if (outputEl) {{\n",
       "    x.observe(outputEl, {childList: true});\n",
       "}}\n",
       "\n",
       "                        })\n",
       "                };\n",
       "                });\n",
       "            </script>\n",
       "        </div>"
      ]
     },
     "metadata": {},
     "output_type": "display_data"
    }
   ],
   "source": [
    "ser = pd.Series() \n",
    "temp_c = cluster4.drop('Neighborhood', 1)\n",
    "for c in temp_c.columns:\n",
    "    temp = temp_c[c].value_counts()\n",
    "    ser = ser.append(temp)\n",
    "bar_cluster4 = ser.to_frame()\n",
    "bar_cluster4.reset_index(inplace = True)\n",
    "bar_cluster4.columns = ['Venue','Counts']\n",
    "bar_cluster4 = bar_cluster4.groupby('Venue').sum()\n",
    "fig = px.bar(bar_cluster4, x=bar_cluster4.index, y='Counts', labels={'x':'Venue Category'})\n",
    "fig.show()"
   ]
  },
  {
   "cell_type": "markdown",
   "metadata": {},
   "source": [
    "### Conclusion\n",
    "At the end we were able to form 3 Clusters. We can see top 10 most common venues in each of the clusters. From the Bar Chart, we can see that in Cluster-1, there are a lot of Department Stores,Cupcake Shop & Yoga Studio. In Cluster-2, India Restaurant seems to be the most common. Cluster-3 is pretty mixed but unlike other clusters, ATM is the most common. Apart from the common venues, distinct venues can also be seen each of the Clusters. For example, Construction & Landscaping in Cluster-1, Fast Food Restaurant & Farmers Market in Cluster 2."
   ]
  },
  {
   "cell_type": "markdown",
   "metadata": {},
   "source": [
    "**I wrote a Linkedin Article about this project, Check it out**\n",
    "<a href=''> </a>"
   ]
  }
 ],
 "metadata": {
  "kernelspec": {
   "display_name": "Python 3",
   "language": "python",
   "name": "python3"
  },
  "language_info": {
   "codemirror_mode": {
    "name": "ipython",
    "version": 3
   },
   "file_extension": ".py",
   "mimetype": "text/x-python",
   "name": "python",
   "nbconvert_exporter": "python",
   "pygments_lexer": "ipython3",
   "version": "3.7.3"
  }
 },
 "nbformat": 4,
 "nbformat_minor": 2
}
