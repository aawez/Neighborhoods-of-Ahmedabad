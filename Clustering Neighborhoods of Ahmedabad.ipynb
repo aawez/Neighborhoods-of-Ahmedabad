{
 "cells": [
  {
   "cell_type": "markdown",
   "metadata": {},
   "source": [
    "## Detailed Description"
   ]
  },
  {
   "cell_type": "markdown",
   "metadata": {},
   "source": [
    "### Introduction\n",
    "**Ahmedabad** is the largest city of the Indian state of **Gujarat**. Ahmedabad has emerged as an important economic and industrial hub in India. In 2010, Ahmedabad was ranked third in *Forbes's* list of fastest-growing cities of the decade. There are around **<a href='https://en.wikipedia.org/wiki/Category:Neighbourhoods_in_Ahmedabad'>81  Neighborhoods</a>** in Ahmedabad. Each Neighborhood may have different popular venues, and thus if we can find similar neighbors and their popular venue categories, it may help Businesses in making Investment Decisions."
   ]
  },
  {
   "cell_type": "markdown",
   "metadata": {},
   "source": [
    "The target audience for this project are the Entrepreneurs, Investors or the Organizations who is planning to expand/start their business."
   ]
  },
  {
   "cell_type": "markdown",
   "metadata": {},
   "source": [
    "<img src = 'https://i.ibb.co/3vrJyWq/Marketing-Business-Corporate-Start-up-Facebook-Cover.png'>"
   ]
  },
  {
   "cell_type": "markdown",
   "metadata": {},
   "source": [
    "### Problem Statement\n",
    "Our main goal of this project is to find common venues of the Neighborhoods of Ahmedabad & cluster them based on the similar categories of venues. This will help us identifying similar Neighborhoods, which could help potential investors for choosing appropriate Neighborhood for their choice of venues. For example, Let's say we find that **Anand Nagar** is more famous for *Fast Food Restaurants* then this information could be helpful for an Organization/Investor who is looking for Investing in Fast Food Restaurant. "
   ]
  },
  {
   "cell_type": "markdown",
   "metadata": {},
   "source": [
    "### Data\n",
    "First, we have to find out all the Neighborhoods of Ahmedabad. We will web scrape the data from <a href='https://en.wikipedia.org/wiki/Category:Neighbourhoods_in_Ahmedabad'>this</a> Wikipedia page which contains the names of all the Neighborhoods of Ahmedabad. Next, we would need location data (coordinates) of each of these Neighborhoods, which we will get using the Geopy library. Lastly, we will pass these coordinates using Foursquare API to fetch the nearby venue details of each Neighborhood."
   ]
  },
  {
   "cell_type": "markdown",
   "metadata": {},
   "source": [
    "### Required Libraries\n",
    "- Pandas\n",
    "- Numpy\n",
    "- Json\n",
    "- Geopy\n",
    "- Matplotlib\n",
    "- Folium\n",
    "- Sklearn\n",
    "- BeautifulSoup"
   ]
  },
  {
   "cell_type": "markdown",
   "metadata": {},
   "source": [
    "## Implementation"
   ]
  },
  {
   "cell_type": "markdown",
   "metadata": {},
   "source": [
    "### Importing required Libraries"
   ]
  },
  {
   "cell_type": "code",
   "execution_count": 2,
   "metadata": {},
   "outputs": [],
   "source": [
    "import numpy as np # library to handle data in a vectorized manner\n",
    "import pandas as pd # library for data analsysis\n",
    "pd.set_option('display.max_columns', None)\n",
    "pd.set_option('display.max_rows', None)\n",
    "import json # library to handle JSON files\n",
    "from geopy.geocoders import Nominatim # convert an address into latitude and longitude values\n",
    "import requests # library to handle requests\n",
    "from pandas.io.json import json_normalize # tranform JSON file into a pandas dataframe\n",
    "# Matplotlib and associated plotting modules\n",
    "import matplotlib.cm as cm\n",
    "import matplotlib.colors as colors\n",
    "# import k-means from clustering stage\n",
    "from sklearn.cluster import KMeans\n",
    "import folium # map rendering library\n",
    "from bs4 import BeautifulSoup # for web scraping\n",
    "from urllib.request import urlopen"
   ]
  },
  {
   "cell_type": "markdown",
   "metadata": {},
   "source": [
    "### Web Scraping to get required data\n",
    "Web scraping Wikipedia page to get names of all the Neighborhoods of Ahmedabad"
   ]
  },
  {
   "cell_type": "code",
   "execution_count": 3,
   "metadata": {},
   "outputs": [],
   "source": [
    "data = pd.DataFrame(columns = ['Neighborhood','Latitude','Longitude'])"
   ]
  },
  {
   "cell_type": "code",
   "execution_count": 4,
   "metadata": {},
   "outputs": [],
   "source": [
    "from bs4 import BeautifulSoup\n",
    "from urllib.request import urlopen\n",
    "url = 'https://en.wikipedia.org/wiki/Category:Neighbourhoods_in_Ahmedabad'\n",
    "html = urlopen(url) \n",
    "soup = BeautifulSoup(html, 'html.parser')\n",
    "#soup = soup.find_all('ul')\n",
    "scrap = soup.find_all('li')\n",
    "for i in range(81):\n",
    "    data = data.append({'Neighborhood':scrap[i].text},ignore_index=True)"
   ]
  },
  {
   "cell_type": "code",
   "execution_count": 5,
   "metadata": {},
   "outputs": [
    {
     "data": {
      "text/html": [
       "<div>\n",
       "<style scoped>\n",
       "    .dataframe tbody tr th:only-of-type {\n",
       "        vertical-align: middle;\n",
       "    }\n",
       "\n",
       "    .dataframe tbody tr th {\n",
       "        vertical-align: top;\n",
       "    }\n",
       "\n",
       "    .dataframe thead th {\n",
       "        text-align: right;\n",
       "    }\n",
       "</style>\n",
       "<table border=\"1\" class=\"dataframe\">\n",
       "  <thead>\n",
       "    <tr style=\"text-align: right;\">\n",
       "      <th></th>\n",
       "      <th>Neighborhood</th>\n",
       "      <th>Latitude</th>\n",
       "      <th>Longitude</th>\n",
       "    </tr>\n",
       "  </thead>\n",
       "  <tbody>\n",
       "    <tr>\n",
       "      <th>0</th>\n",
       "      <td>Agol</td>\n",
       "      <td>NaN</td>\n",
       "      <td>NaN</td>\n",
       "    </tr>\n",
       "    <tr>\n",
       "      <th>1</th>\n",
       "      <td>Ahmedabad Cantonment</td>\n",
       "      <td>NaN</td>\n",
       "      <td>NaN</td>\n",
       "    </tr>\n",
       "    <tr>\n",
       "      <th>2</th>\n",
       "      <td>Alam Roza</td>\n",
       "      <td>NaN</td>\n",
       "      <td>NaN</td>\n",
       "    </tr>\n",
       "    <tr>\n",
       "      <th>3</th>\n",
       "      <td>Ambawadi</td>\n",
       "      <td>NaN</td>\n",
       "      <td>NaN</td>\n",
       "    </tr>\n",
       "    <tr>\n",
       "      <th>4</th>\n",
       "      <td>Amraiwadi</td>\n",
       "      <td>NaN</td>\n",
       "      <td>NaN</td>\n",
       "    </tr>\n",
       "  </tbody>\n",
       "</table>\n",
       "</div>"
      ],
      "text/plain": [
       "           Neighborhood Latitude Longitude\n",
       "0                  Agol      NaN       NaN\n",
       "1  Ahmedabad Cantonment      NaN       NaN\n",
       "2             Alam Roza      NaN       NaN\n",
       "3              Ambawadi      NaN       NaN\n",
       "4             Amraiwadi      NaN       NaN"
      ]
     },
     "execution_count": 5,
     "metadata": {},
     "output_type": "execute_result"
    }
   ],
   "source": [
    "data.head()"
   ]
  },
  {
   "cell_type": "markdown",
   "metadata": {},
   "source": [
    "### Getting coordinates of all the Neighborhoods using GEOPY\n",
    "We require coordinates to find nearby venues from Foursquare API."
   ]
  },
  {
   "cell_type": "code",
   "execution_count": 6,
   "metadata": {},
   "outputs": [
    {
     "name": "stdout",
     "output_type": "stream",
     "text": [
      "Agol, Ahmedabad, Gujarat, India Latitude: 23.1357599, Longitude: 72.2528448\n",
      "Ahmedabad Cantonment, Ahmedabad, Gujarat, India Latitude: 23.0216238, Longitude: 72.5797068\n",
      "Alam Roza, Ahmedabad, Gujarat, India Latitude: 22.9940973, Longitude: 72.5895788\n",
      "Ambawadi, Ahmedabad, Gujarat, India Latitude: 23.0226117, Longitude: 72.5490834\n",
      "Amraiwadi, Ahmedabad, Gujarat, India Latitude: 23.0057574, Longitude: 72.6269822\n",
      "Anand Nagar (Ahmedabad), Ahmedabad, Gujarat, India Latitude: 23.0110669, Longitude: 72.5137432\n",
      "Asarwa, Ahmedabad, Gujarat, India Latitude: 23.0472488, Longitude: 72.6088046\n",
      "Bapunagar, Ahmedabad, Gujarat, India Latitude: 23.0362408, Longitude: 72.630339\n",
      "Behrampura, Ahmedabad, Gujarat, India Latitude: 23.0035894, Longitude: 72.58384\n",
      "Bhairavnath Road, Ahmedabad, Gujarat, India Latitude: 22.995457, Longitude: 72.5990646\n",
      "Bopal, Ahmedabad, Gujarat, India Latitude: 23.02969935, Longitude: 72.46557868354866\n",
      "Chandkheda, Ahmedabad, Gujarat, India Latitude: 23.1100643, Longitude: 72.5811205\n",
      "Chandlodiya, Ahmedabad, Gujarat, India Latitude: 23.0751633, Longitude: 72.5440359\n",
      "Dariapur (Ahmedabad), Ahmedabad, Gujarat, India Latitude: 23.0374309, Longitude: 72.5929628\n",
      "Detroj, Ahmedabad, Gujarat, India Latitude: 23.3400361, Longitude: 72.1844358\n",
      "Ghatlodiya, Ahmedabad, Gujarat, India Latitude: 23.075569, Longitude: 72.549728\n",
      "Ghodasar, Ahmedabad, Gujarat, India Latitude: 22.99124285, Longitude: 72.61642315668566\n",
      "Girdharnagar, Ahmedabad, Gujarat, India Latitude: 23.0502144, Longitude: 72.5978915\n",
      "Gita Mandir Road, Ahmedabad, Gujarat, India Latitude: 23.0151998, Longitude: 72.5932216\n",
      "Godhavi, Ahmedabad, Gujarat, India Latitude: 23.0233196, Longitude: 72.4087089\n",
      "Gomtipur, Ahmedabad, Gujarat, India Latitude: 23.0136957, Longitude: 72.620581\n",
      "Gota, Gujarat, Ahmedabad, Gujarat, India Latitude: 23.071295, Longitude: 72.5589326\n",
      "Isanpur, Ahmedabad, Gujarat, India Latitude: 22.9811295, Longitude: 72.6012948\n",
      "Jamalpur, Gujarat, Ahmedabad, Gujarat, India Latitude: 23.0139241, Longitude: 72.5820624\n",
      "Jawahar Chowk, Ahmedabad, Gujarat, India Latitude: 22.9951368, Longitude: 72.6050988\n",
      "Jodhpur, Gujarat, Ahmedabad, Gujarat, India Latitude: 23.0180777, Longitude: 72.5194323\n",
      "Juhapura, Ahmedabad, Gujarat, India Latitude: 23.0056298, Longitude: 72.5231013\n",
      "Kalupur, Ahmedabad, Gujarat, India Latitude: 23.0263312, Longitude: 72.601\n",
      "Khadia, Ahmedabad, Ahmedabad, Gujarat, India Latitude: 23.02139, Longitude: 72.5892915\n",
      "Khokhra, Ahmedabad, Gujarat, India Latitude: 23.0008422, Longitude: 72.6186315\n",
      "Lambha, Ahmedabad, Gujarat, India Latitude: 22.9317728, Longitude: 72.5749418\n",
      "Makarba, Ahmedabad, Gujarat, India Latitude: 22.996342, Longitude: 72.5043085\n",
      "Maninagar, Ahmedabad, Gujarat, India Latitude: 22.9977135, Longitude: 72.6067174\n",
      "Memnagar, Ahmedabad, Gujarat, India Latitude: 23.0530844, Longitude: 72.5329308\n",
      "Motera, Ahmedabad, Gujarat, India Latitude: 23.0797224, Longitude: 72.5941147\n",
      "Naranpura, Ahmedabad, Gujarat, India Latitude: 23.0567133, Longitude: 72.5508575\n",
      "Naroda, Ahmedabad, Gujarat, India Latitude: 23.0732586, Longitude: 72.6508299\n",
      "Nava Vadaj, Ahmedabad, Gujarat, India Latitude: 23.0682238, Longitude: 72.5640995\n",
      "Navarangpura, Ahmedabad, Gujarat, India Latitude: 23.03498285, Longitude: 72.56721890910065\n",
      "Odhav, Ahmedabad, Gujarat, India Latitude: 23.0227419, Longitude: 72.66068540365957\n",
      "Paldi, Ahmedabad, Gujarat, India Latitude: 23.0145531, Longitude: 72.5635432\n",
      "Rajpur Gomtipur, Ahmedabad, Gujarat, India Latitude: 23.0136957, Longitude: 72.620581\n",
      "Ramol, Ahmedabad, Gujarat, India Latitude: 23.0080221, Longitude: 72.6303338\n",
      "Ranip, Ahmedabad, Gujarat, India Latitude: 23.0766234, Longitude: 72.5764197\n",
      "Sabarmati (area), Ahmedabad, Gujarat, India Latitude: 23.0839931, Longitude: 72.5876185\n",
      "Sardarnagar, Ahmedabad, Gujarat, India Latitude: 23.0835832, Longitude: 72.6248611\n",
      "Sarkhej, Ahmedabad, Gujarat, India Latitude: 22.983483, Longitude: 72.5007203\n",
      "Shahibaug, Ahmedabad, Gujarat, India Latitude: 23.0556364, Longitude: 72.5965538\n",
      "Shastrinagar, Ahmedabad, Gujarat, India Latitude: 23.0623814, Longitude: 72.5532282\n",
      "Subhash Bridge, Ahmedabad, Gujarat, India Latitude: 23.0611728, Longitude: 72.5859584\n",
      "Sukhrampura, Ahmedabad, Gujarat, India Latitude: 23.0225452, Longitude: 72.6146603\n",
      "Thaltej, Ahmedabad, Gujarat, India Latitude: 23.0485393, Longitude: 72.511742\n",
      "Usmanpura, Ahmedabad, Gujarat, India Latitude: 23.0494863, Longitude: 72.5672615\n",
      "Vastral, Ahmedabad, Gujarat, India Latitude: 22.9948656, Longitude: 72.6624431\n",
      "Vastrapur, Ahmedabad, Gujarat, India Latitude: 23.0400861, Longitude: 72.5290418\n",
      "Vejalpur, Ahmedabad, Gujarat, India Latitude: 23.0069372, Longitude: 72.5208415\n",
      "Virochannagar, Ahmedabad, Gujarat, India Latitude: 23.0649138, Longitude: 72.2215612\n"
     ]
    }
   ],
   "source": [
    "geolocator = Nominatim(user_agent=\"abd_explorer\", timeout = 5)\n",
    "for i in range(len(data['Neighborhood'])):\n",
    "    address = data.at[i,'Neighborhood'] + ', Ahmedabad, Gujarat, India'\n",
    "    location = geolocator.geocode(address)\n",
    "    try:\n",
    "        data.at[i,'Latitude'] = location.latitude\n",
    "        data.at[i,'Longitude'] = location.longitude\n",
    "        print(address + ' Latitude: {}, Longitude: {}'.format(location.latitude,location.longitude))\n",
    "    except AttributeError:\n",
    "        data.drop(i, inplace = True)\n",
    "    "
   ]
  },
  {
   "cell_type": "code",
   "execution_count": 7,
   "metadata": {
    "scrolled": true
   },
   "outputs": [
    {
     "data": {
      "text/html": [
       "<div>\n",
       "<style scoped>\n",
       "    .dataframe tbody tr th:only-of-type {\n",
       "        vertical-align: middle;\n",
       "    }\n",
       "\n",
       "    .dataframe tbody tr th {\n",
       "        vertical-align: top;\n",
       "    }\n",
       "\n",
       "    .dataframe thead th {\n",
       "        text-align: right;\n",
       "    }\n",
       "</style>\n",
       "<table border=\"1\" class=\"dataframe\">\n",
       "  <thead>\n",
       "    <tr style=\"text-align: right;\">\n",
       "      <th></th>\n",
       "      <th>Neighborhood</th>\n",
       "      <th>Latitude</th>\n",
       "      <th>Longitude</th>\n",
       "    </tr>\n",
       "  </thead>\n",
       "  <tbody>\n",
       "    <tr>\n",
       "      <th>0</th>\n",
       "      <td>Agol</td>\n",
       "      <td>23.1358</td>\n",
       "      <td>72.2528</td>\n",
       "    </tr>\n",
       "    <tr>\n",
       "      <th>1</th>\n",
       "      <td>Ahmedabad Cantonment</td>\n",
       "      <td>23.0216</td>\n",
       "      <td>72.5797</td>\n",
       "    </tr>\n",
       "    <tr>\n",
       "      <th>2</th>\n",
       "      <td>Alam Roza</td>\n",
       "      <td>22.9941</td>\n",
       "      <td>72.5896</td>\n",
       "    </tr>\n",
       "    <tr>\n",
       "      <th>3</th>\n",
       "      <td>Ambawadi</td>\n",
       "      <td>23.0226</td>\n",
       "      <td>72.5491</td>\n",
       "    </tr>\n",
       "    <tr>\n",
       "      <th>4</th>\n",
       "      <td>Amraiwadi</td>\n",
       "      <td>23.0058</td>\n",
       "      <td>72.627</td>\n",
       "    </tr>\n",
       "  </tbody>\n",
       "</table>\n",
       "</div>"
      ],
      "text/plain": [
       "           Neighborhood Latitude Longitude\n",
       "0                  Agol  23.1358   72.2528\n",
       "1  Ahmedabad Cantonment  23.0216   72.5797\n",
       "2             Alam Roza  22.9941   72.5896\n",
       "3              Ambawadi  23.0226   72.5491\n",
       "4             Amraiwadi  23.0058    72.627"
      ]
     },
     "execution_count": 7,
     "metadata": {},
     "output_type": "execute_result"
    }
   ],
   "source": [
    "data.head()"
   ]
  },
  {
   "cell_type": "markdown",
   "metadata": {},
   "source": [
    "### Creating the map of Ahmedabad displaying all the Neighborhoods "
   ]
  },
  {
   "cell_type": "code",
   "execution_count": 8,
   "metadata": {},
   "outputs": [],
   "source": [
    "#Finding coordinates of Ahmedabad \n",
    "address_amd = 'Ahmedabad, Gujarat, India'\n",
    "location = geolocator.geocode(address)\n",
    "latitude = location.latitude\n",
    "longitude = location.longitude"
   ]
  },
  {
   "cell_type": "code",
   "execution_count": 9,
   "metadata": {
    "scrolled": true
   },
   "outputs": [
    {
     "data": {
      "text/html": [
       "<div style=\"width:100%;\"><div style=\"position:relative;width:100%;height:0;padding-bottom:60%;\"><iframe src=\"about:blank\" style=\"position:absolute;width:100%;height:100%;left:0;top:0;border:none !important;\" data-html=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 onload=\"this.contentDocument.open();this.contentDocument.write(atob(this.getAttribute('data-html')));this.contentDocument.close();\" allowfullscreen webkitallowfullscreen mozallowfullscreen></iframe></div></div>"
      ],
      "text/plain": [
       "<folium.folium.Map at 0x2863c52f4a8>"
      ]
     },
     "execution_count": 9,
     "metadata": {},
     "output_type": "execute_result"
    }
   ],
   "source": [
    "# create map of Ahmedabad using Folium\n",
    "map_ahmedabad = folium.Map(location=[latitude, longitude], zoom_start=11)\n",
    "\n",
    "# add markers to map\n",
    "for lat, lng, label in zip(data['Latitude'], data['Longitude'], data['Neighborhood']):\n",
    "    label = folium.Popup(label, parse_html=True)\n",
    "    folium.CircleMarker(\n",
    "        [lat, lng],\n",
    "        radius=5,\n",
    "        popup=label,\n",
    "        color='blue',\n",
    "        fill=True,\n",
    "        fill_color='#3186cc',\n",
    "        fill_opacity=0.7,\n",
    "        parse_html=False).add_to(map_ahmedabad)  \n",
    "    \n",
    "map_ahmedabad"
   ]
  },
  {
   "cell_type": "markdown",
   "metadata": {},
   "source": [
    "**As it can be seen from the map above that 'Virochannagar', 'Detroj' and 'Agol' are too far from Ahmedabad City, so we will remove them.**"
   ]
  },
  {
   "cell_type": "code",
   "execution_count": 10,
   "metadata": {},
   "outputs": [],
   "source": [
    "#Dropping the neighborhoods which are too far from Ahmedabad City, They are 'Virochannagar', 'Detroj', 'Agol'\n",
    "outliers = ['Virochannagar', 'Detroj', 'Agol']\n",
    "data = data[~data['Neighborhood'].isin(outliers)]  # OR data.drop(data[data['Neighborhood'].isin(outliers)].index) \n",
    "data.reset_index(inplace = True, drop = True)"
   ]
  },
  {
   "cell_type": "code",
   "execution_count": 11,
   "metadata": {},
   "outputs": [
    {
     "data": {
      "text/html": [
       "<div style=\"width:100%;\"><div style=\"position:relative;width:100%;height:0;padding-bottom:60%;\"><iframe src=\"about:blank\" style=\"position:absolute;width:100%;height:100%;left:0;top:0;border:none !important;\" data-html=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 onload=\"this.contentDocument.open();this.contentDocument.write(atob(this.getAttribute('data-html')));this.contentDocument.close();\" allowfullscreen webkitallowfullscreen mozallowfullscreen></iframe></div></div>"
      ],
      "text/plain": [
       "<folium.folium.Map at 0x2863c5eb860>"
      ]
     },
     "execution_count": 11,
     "metadata": {},
     "output_type": "execute_result"
    }
   ],
   "source": [
    "# create map of Ahmedabad\n",
    "map_ahmedabad = folium.Map(location=[latitude, longitude], zoom_start=11)\n",
    "\n",
    "# add markers to map\n",
    "for lat, lng, label in zip(data['Latitude'], data['Longitude'], data['Neighborhood']):\n",
    "    label = folium.Popup(label, parse_html=True)\n",
    "    folium.CircleMarker(\n",
    "        [lat, lng],\n",
    "        radius=5,\n",
    "        popup=label,\n",
    "        color='blue',\n",
    "        fill=True,\n",
    "        fill_color='#3186cc',\n",
    "        fill_opacity=0.7,\n",
    "        parse_html=False).add_to(map_ahmedabad)  \n",
    "    \n",
    "map_ahmedabad"
   ]
  },
  {
   "cell_type": "markdown",
   "metadata": {},
   "source": [
    "### Exploring a Neighborhood\n",
    "Lets first explore a single Neighborhood for demonstration and understanding purpose. We will be exploring 'Ahmedabad Cantonment', as we already have its coordinates we will use them to fetch nearby venues using Foursquare API. To understand more about how Foursquare API work, I recommend you to read <a href='https://developer.foursquare.com/docs/places-api'>this</a> documentation."
   ]
  },
  {
   "cell_type": "code",
   "execution_count": 12,
   "metadata": {},
   "outputs": [
    {
     "name": "stdout",
     "output_type": "stream",
     "text": [
      "Latitude and longitude values of Ahmedabad Cantonment are 23.0216238, 72.5797068.\n"
     ]
    }
   ],
   "source": [
    "#lets explore a bit\n",
    "data.loc[0, 'Neighborhood']\n",
    "neighborhood_latitude = data.loc[0, 'Latitude'] # neighborhood latitude value\n",
    "neighborhood_longitude = data.loc[0, 'Longitude'] # neighborhood longitude value\n",
    "\n",
    "neighborhood_name = data.loc[0, 'Neighborhood'] # neighborhood name\n",
    "\n",
    "print('Latitude and longitude values of {} are {}, {}.'.format(neighborhood_name, \n",
    "                                                               neighborhood_latitude, \n",
    "                                                               neighborhood_longitude))"
   ]
  },
  {
   "cell_type": "code",
   "execution_count": 13,
   "metadata": {},
   "outputs": [],
   "source": [
    "url = 'https://api.foursquare.com/v2/venues/explore'\n",
    "\n",
    "params = dict(\n",
    "client_id='CCIPBGWW43TTYVCKSROHSRQZFBZXWQUZD2HMUBDX2OKNQALG',\n",
    "client_secret='JB3TB5PUQ1UAQJHFJKPZW0SL14VANKHG3UIPQAXBXLQRXSNL',\n",
    "v='20180323',\n",
    "ll=  str(neighborhood_latitude) +','+ str(neighborhood_longitude),\n",
    "limit=100,\n",
    "radius=500\n",
    ")\n",
    "resp = requests.get(url=url, params=params)\n",
    "data_venues = json.loads(resp.text)"
   ]
  },
  {
   "cell_type": "code",
   "execution_count": 14,
   "metadata": {},
   "outputs": [
    {
     "data": {
      "text/plain": [
       "{'meta': {'code': 200, 'requestId': '5e8ef1d1dd0f850028bca29e'},\n",
       " 'response': {'headerLocation': 'Ahmedabad',\n",
       "  'headerFullLocation': 'Ahmedabad',\n",
       "  'headerLocationGranularity': 'city',\n",
       "  'totalResults': 4,\n",
       "  'suggestedBounds': {'ne': {'lat': 23.026123804500006,\n",
       "    'lng': 72.58458708112815},\n",
       "   'sw': {'lat': 23.017123795499995, 'lng': 72.57482651887184}},\n",
       "  'groups': [{'type': 'Recommended Places',\n",
       "    'name': 'recommended',\n",
       "    'items': [{'reasons': {'count': 0,\n",
       "       'items': [{'summary': 'This spot is popular',\n",
       "         'type': 'general',\n",
       "         'reasonName': 'globalInteractionReason'}]},\n",
       "      'venue': {'id': '4f03db6c9911be1fbce68d8b',\n",
       "       'name': 'Victoria Garden',\n",
       "       'contact': {},\n",
       "       'location': {'address': 'Near Ellis Bridge',\n",
       "        'lat': 23.022117010866076,\n",
       "        'lng': 72.57916816070612,\n",
       "        'labeledLatLngs': [{'label': 'display',\n",
       "          'lat': 23.022117010866076,\n",
       "          'lng': 72.57916816070612}],\n",
       "        'distance': 77,\n",
       "        'cc': 'IN',\n",
       "        'city': 'Ahmedabad',\n",
       "        'state': 'Gujarāt',\n",
       "        'country': 'India',\n",
       "        'formattedAddress': ['Near Ellis Bridge',\n",
       "         'Ahmedabad',\n",
       "         'Gujarāt',\n",
       "         'India']},\n",
       "       'categories': [{'id': '4bf58dd8d48988d163941735',\n",
       "         'name': 'Park',\n",
       "         'pluralName': 'Parks',\n",
       "         'shortName': 'Park',\n",
       "         'icon': {'prefix': 'https://ss3.4sqi.net/img/categories_v2/parks_outdoors/park_',\n",
       "          'suffix': '.png'},\n",
       "         'primary': True}],\n",
       "       'verified': False,\n",
       "       'stats': {'tipCount': 0,\n",
       "        'usersCount': 0,\n",
       "        'checkinsCount': 0,\n",
       "        'visitsCount': 0},\n",
       "       'beenHere': {'count': 0,\n",
       "        'lastCheckinExpiredAt': 0,\n",
       "        'marked': False,\n",
       "        'unconfirmedCount': 0},\n",
       "       'photos': {'count': 0, 'groups': []},\n",
       "       'hereNow': {'count': 0, 'summary': 'Nobody here', 'groups': []}},\n",
       "      'referralId': 'e-0-4f03db6c9911be1fbce68d8b-0'},\n",
       "     {'reasons': {'count': 0,\n",
       "       'items': [{'summary': 'This spot is popular',\n",
       "         'type': 'general',\n",
       "         'reasonName': 'globalInteractionReason'}]},\n",
       "      'venue': {'id': '4f222f39e4b04f6e66de6799',\n",
       "       'name': 'Sabarmati River',\n",
       "       'contact': {},\n",
       "       'location': {'address': 'Ellisbrige',\n",
       "        'lat': 23.0221644165929,\n",
       "        'lng': 72.57986702632688,\n",
       "        'labeledLatLngs': [{'label': 'display',\n",
       "          'lat': 23.0221644165929,\n",
       "          'lng': 72.57986702632688}],\n",
       "        'distance': 62,\n",
       "        'cc': 'IN',\n",
       "        'city': 'Ahmedabad',\n",
       "        'state': 'Gujarāt',\n",
       "        'country': 'India',\n",
       "        'formattedAddress': ['Ellisbrige', 'Ahmedabad', 'Gujarāt', 'India']},\n",
       "       'categories': [{'id': '4eb1d4dd4b900d56c88a45fd',\n",
       "         'name': 'River',\n",
       "         'pluralName': 'Rivers',\n",
       "         'shortName': 'River',\n",
       "         'icon': {'prefix': 'https://ss3.4sqi.net/img/categories_v2/parks_outdoors/river_',\n",
       "          'suffix': '.png'},\n",
       "         'primary': True}],\n",
       "       'verified': False,\n",
       "       'stats': {'tipCount': 0,\n",
       "        'usersCount': 0,\n",
       "        'checkinsCount': 0,\n",
       "        'visitsCount': 0},\n",
       "       'beenHere': {'count': 0,\n",
       "        'lastCheckinExpiredAt': 0,\n",
       "        'marked': False,\n",
       "        'unconfirmedCount': 0},\n",
       "       'photos': {'count': 0, 'groups': []},\n",
       "       'hereNow': {'count': 0, 'summary': 'Nobody here', 'groups': []}},\n",
       "      'referralId': 'e-0-4f222f39e4b04f6e66de6799-1'},\n",
       "     {'reasons': {'count': 0,\n",
       "       'items': [{'summary': 'This spot is popular',\n",
       "         'type': 'general',\n",
       "         'reasonName': 'globalInteractionReason'}]},\n",
       "      'venue': {'id': '4e609712091afcffd97aecb8',\n",
       "       'name': 'Bhadra Fort',\n",
       "       'contact': {},\n",
       "       'location': {'address': 'Lal Darwaja',\n",
       "        'lat': 23.023140547252776,\n",
       "        'lng': 72.58176483164557,\n",
       "        'labeledLatLngs': [{'label': 'display',\n",
       "          'lat': 23.023140547252776,\n",
       "          'lng': 72.58176483164557}],\n",
       "        'distance': 270,\n",
       "        'cc': 'IN',\n",
       "        'city': 'Ahmedabad',\n",
       "        'state': 'Gujarāt',\n",
       "        'country': 'India',\n",
       "        'formattedAddress': ['Lal Darwaja', 'Ahmedabad', 'Gujarāt', 'India']},\n",
       "       'categories': [{'id': '50aaa49e4b90af0d42d5de11',\n",
       "         'name': 'Castle',\n",
       "         'pluralName': 'Castles',\n",
       "         'shortName': 'Castle',\n",
       "         'icon': {'prefix': 'https://ss3.4sqi.net/img/categories_v2/parks_outdoors/beach_',\n",
       "          'suffix': '.png'},\n",
       "         'primary': True}],\n",
       "       'verified': False,\n",
       "       'stats': {'tipCount': 0,\n",
       "        'usersCount': 0,\n",
       "        'checkinsCount': 0,\n",
       "        'visitsCount': 0},\n",
       "       'beenHere': {'count': 0,\n",
       "        'lastCheckinExpiredAt': 0,\n",
       "        'marked': False,\n",
       "        'unconfirmedCount': 0},\n",
       "       'photos': {'count': 0, 'groups': []},\n",
       "       'hereNow': {'count': 0, 'summary': 'Nobody here', 'groups': []}},\n",
       "      'referralId': 'e-0-4e609712091afcffd97aecb8-2'},\n",
       "     {'reasons': {'count': 0,\n",
       "       'items': [{'summary': 'This spot is popular',\n",
       "         'type': 'general',\n",
       "         'reasonName': 'globalInteractionReason'}]},\n",
       "      'venue': {'id': '4d3c44646b3d236a5b815f64',\n",
       "       'name': 'Jai Shankar Sundri Hall',\n",
       "       'contact': {},\n",
       "       'location': {'lat': 23.01978235088499,\n",
       "        'lng': 72.58359812822106,\n",
       "        'labeledLatLngs': [{'label': 'display',\n",
       "          'lat': 23.01978235088499,\n",
       "          'lng': 72.58359812822106}],\n",
       "        'distance': 448,\n",
       "        'cc': 'IN',\n",
       "        'city': 'Ahmedabad',\n",
       "        'state': 'Gujarāt',\n",
       "        'country': 'India',\n",
       "        'formattedAddress': ['Ahmedabad', 'Gujarāt', 'India']},\n",
       "       'categories': [{'id': '4bf58dd8d48988d1e2931735',\n",
       "         'name': 'Art Gallery',\n",
       "         'pluralName': 'Art Galleries',\n",
       "         'shortName': 'Art Gallery',\n",
       "         'icon': {'prefix': 'https://ss3.4sqi.net/img/categories_v2/arts_entertainment/artgallery_',\n",
       "          'suffix': '.png'},\n",
       "         'primary': True}],\n",
       "       'verified': False,\n",
       "       'stats': {'tipCount': 0,\n",
       "        'usersCount': 0,\n",
       "        'checkinsCount': 0,\n",
       "        'visitsCount': 0},\n",
       "       'beenHere': {'count': 0,\n",
       "        'lastCheckinExpiredAt': 0,\n",
       "        'marked': False,\n",
       "        'unconfirmedCount': 0},\n",
       "       'photos': {'count': 0, 'groups': []},\n",
       "       'hereNow': {'count': 0, 'summary': 'Nobody here', 'groups': []}},\n",
       "      'referralId': 'e-0-4d3c44646b3d236a5b815f64-3'}]}]}}"
      ]
     },
     "execution_count": 14,
     "metadata": {},
     "output_type": "execute_result"
    }
   ],
   "source": [
    "data_venues"
   ]
  },
  {
   "cell_type": "markdown",
   "metadata": {},
   "source": [
    "**As we can see above, there are details regarding the nearby venues of 'Ahmedabad Cantonment' Neighborhood. We will now fetch the name of venue and its category.**"
   ]
  },
  {
   "cell_type": "code",
   "execution_count": 15,
   "metadata": {},
   "outputs": [],
   "source": [
    "# function that extracts the category of the venue\n",
    "def get_category_type(row):\n",
    "    try:\n",
    "        categories_list = row['categories']\n",
    "    except:\n",
    "        categories_list = row['venue.categories']\n",
    "        \n",
    "    if len(categories_list) == 0:\n",
    "        return None\n",
    "    else:\n",
    "        return categories_list[0]['name']"
   ]
  },
  {
   "cell_type": "code",
   "execution_count": 16,
   "metadata": {},
   "outputs": [
    {
     "data": {
      "text/html": [
       "<div>\n",
       "<style scoped>\n",
       "    .dataframe tbody tr th:only-of-type {\n",
       "        vertical-align: middle;\n",
       "    }\n",
       "\n",
       "    .dataframe tbody tr th {\n",
       "        vertical-align: top;\n",
       "    }\n",
       "\n",
       "    .dataframe thead th {\n",
       "        text-align: right;\n",
       "    }\n",
       "</style>\n",
       "<table border=\"1\" class=\"dataframe\">\n",
       "  <thead>\n",
       "    <tr style=\"text-align: right;\">\n",
       "      <th></th>\n",
       "      <th>name</th>\n",
       "      <th>categories</th>\n",
       "      <th>lat</th>\n",
       "      <th>lng</th>\n",
       "    </tr>\n",
       "  </thead>\n",
       "  <tbody>\n",
       "    <tr>\n",
       "      <th>0</th>\n",
       "      <td>Victoria Garden</td>\n",
       "      <td>Park</td>\n",
       "      <td>23.022117</td>\n",
       "      <td>72.579168</td>\n",
       "    </tr>\n",
       "    <tr>\n",
       "      <th>1</th>\n",
       "      <td>Sabarmati River</td>\n",
       "      <td>River</td>\n",
       "      <td>23.022164</td>\n",
       "      <td>72.579867</td>\n",
       "    </tr>\n",
       "    <tr>\n",
       "      <th>2</th>\n",
       "      <td>Bhadra Fort</td>\n",
       "      <td>Castle</td>\n",
       "      <td>23.023141</td>\n",
       "      <td>72.581765</td>\n",
       "    </tr>\n",
       "    <tr>\n",
       "      <th>3</th>\n",
       "      <td>Jai Shankar Sundri Hall</td>\n",
       "      <td>Art Gallery</td>\n",
       "      <td>23.019782</td>\n",
       "      <td>72.583598</td>\n",
       "    </tr>\n",
       "  </tbody>\n",
       "</table>\n",
       "</div>"
      ],
      "text/plain": [
       "                      name   categories        lat        lng\n",
       "0          Victoria Garden         Park  23.022117  72.579168\n",
       "1          Sabarmati River        River  23.022164  72.579867\n",
       "2              Bhadra Fort       Castle  23.023141  72.581765\n",
       "3  Jai Shankar Sundri Hall  Art Gallery  23.019782  72.583598"
      ]
     },
     "execution_count": 16,
     "metadata": {},
     "output_type": "execute_result"
    }
   ],
   "source": [
    "venues = data_venues['response']['groups'][0]['items']\n",
    "    \n",
    "nearby_venues = json_normalize(venues) # flatten JSON\n",
    "\n",
    "# filter columns\n",
    "filtered_columns = ['venue.name', 'venue.categories', 'venue.location.lat', 'venue.location.lng']\n",
    "nearby_venues =nearby_venues.loc[:, filtered_columns]\n",
    "\n",
    "# filter the category for each row\n",
    "nearby_venues['venue.categories'] = nearby_venues.apply(get_category_type, axis=1)\n",
    "\n",
    "# clean columns\n",
    "nearby_venues.columns = [col.split(\".\")[-1] for col in nearby_venues.columns]\n",
    "\n",
    "nearby_venues.head()"
   ]
  },
  {
   "cell_type": "markdown",
   "metadata": {},
   "source": [
    "**Above you can see the Venue name and Venue Category**"
   ]
  },
  {
   "cell_type": "markdown",
   "metadata": {},
   "source": [
    "### Finding Venues and their Category for every Neighborhood\n",
    "We will repeat the same process for every neighborhood which we did above for 'Ahmedabad Cantonment'."
   ]
  },
  {
   "cell_type": "code",
   "execution_count": 17,
   "metadata": {},
   "outputs": [],
   "source": [
    "#Foursquare Credentials\n",
    "client_id='CCIPBGWW43TTYVCKSROHSRQZFBZXWQUZD2HMUBDX2OKNQALG'\n",
    "client_secret='JB3TB5PUQ1UAQJHFJKPZW0SL14VANKHG3UIPQAXBXLQRXSNL'\n",
    "VERSION = '20180605'\n",
    "LIMIT = 100"
   ]
  },
  {
   "cell_type": "code",
   "execution_count": 18,
   "metadata": {},
   "outputs": [],
   "source": [
    "def getNearbyVenues(names, latitudes, longitudes, radius=500):\n",
    "    \n",
    "    venues_list=[]\n",
    "    for name, lat, lng in zip(names, latitudes, longitudes):\n",
    "        print(name)\n",
    "            \n",
    "        # create the API request URL\n",
    "        url = 'https://api.foursquare.com/v2/venues/explore?&client_id={}&client_secret={}&v={}&ll={},{}&radius={}&limit={}'.format(\n",
    "            client_id, \n",
    "            client_secret, \n",
    "            VERSION, \n",
    "            lat, \n",
    "            lng, \n",
    "            radius, \n",
    "            LIMIT)\n",
    "            \n",
    "        # make the GET request\n",
    "        results = requests.get(url).json()[\"response\"]['groups'][0]['items']\n",
    "        \n",
    "        # return only relevant information for each nearby venue\n",
    "        venues_list.append([(\n",
    "            name, \n",
    "            lat, \n",
    "            lng, \n",
    "            v['venue']['name'], \n",
    "            v['venue']['location']['lat'], \n",
    "            v['venue']['location']['lng'],  \n",
    "            v['venue']['categories'][0]['name']) for v in results])\n",
    "\n",
    "    nearby_venues = pd.DataFrame([item for venue_list in venues_list for item in venue_list])\n",
    "    nearby_venues.columns = ['Neighborhood', \n",
    "                  'Neighborhood Latitude', \n",
    "                  'Neighborhood Longitude', \n",
    "                  'Venue', \n",
    "                  'Venue Latitude', \n",
    "                  'Venue Longitude', \n",
    "                  'Venue Category']\n",
    "    \n",
    "    return(nearby_venues)"
   ]
  },
  {
   "cell_type": "code",
   "execution_count": 19,
   "metadata": {},
   "outputs": [
    {
     "name": "stdout",
     "output_type": "stream",
     "text": [
      "Ahmedabad Cantonment\n",
      "Alam Roza\n",
      "Ambawadi\n",
      "Amraiwadi\n",
      "Anand Nagar (Ahmedabad)\n",
      "Asarwa\n",
      "Bapunagar\n",
      "Behrampura\n",
      "Bhairavnath Road\n",
      "Bopal\n",
      "Chandkheda\n",
      "Chandlodiya\n",
      "Dariapur (Ahmedabad)\n",
      "Ghatlodiya\n",
      "Ghodasar\n",
      "Girdharnagar\n",
      "Gita Mandir Road\n",
      "Godhavi\n",
      "Gomtipur\n",
      "Gota, Gujarat\n",
      "Isanpur\n",
      "Jamalpur, Gujarat\n",
      "Jawahar Chowk\n",
      "Jodhpur, Gujarat\n",
      "Juhapura\n",
      "Kalupur\n",
      "Khadia, Ahmedabad\n",
      "Khokhra\n",
      "Lambha\n",
      "Makarba\n",
      "Maninagar\n",
      "Memnagar\n",
      "Motera\n",
      "Naranpura\n",
      "Naroda\n",
      "Nava Vadaj\n",
      "Navarangpura\n",
      "Odhav\n",
      "Paldi\n",
      "Rajpur Gomtipur\n",
      "Ramol\n",
      "Ranip\n",
      "Sabarmati (area)\n",
      "Sardarnagar\n",
      "Sarkhej\n",
      "Shahibaug\n",
      "Shastrinagar\n",
      "Subhash Bridge\n",
      "Sukhrampura\n",
      "Thaltej\n",
      "Usmanpura\n",
      "Vastral\n",
      "Vastrapur\n",
      "Vejalpur\n"
     ]
    }
   ],
   "source": [
    "ahmedabad_venues = getNearbyVenues(names=data['Neighborhood'],\n",
    "                                   latitudes=data['Latitude'],\n",
    "                                   longitudes=data['Longitude']\n",
    "                                  )\n"
   ]
  },
  {
   "cell_type": "code",
   "execution_count": 20,
   "metadata": {},
   "outputs": [
    {
     "name": "stdout",
     "output_type": "stream",
     "text": [
      "(240, 7)\n"
     ]
    },
    {
     "data": {
      "text/html": [
       "<div>\n",
       "<style scoped>\n",
       "    .dataframe tbody tr th:only-of-type {\n",
       "        vertical-align: middle;\n",
       "    }\n",
       "\n",
       "    .dataframe tbody tr th {\n",
       "        vertical-align: top;\n",
       "    }\n",
       "\n",
       "    .dataframe thead th {\n",
       "        text-align: right;\n",
       "    }\n",
       "</style>\n",
       "<table border=\"1\" class=\"dataframe\">\n",
       "  <thead>\n",
       "    <tr style=\"text-align: right;\">\n",
       "      <th></th>\n",
       "      <th>Neighborhood</th>\n",
       "      <th>Neighborhood Latitude</th>\n",
       "      <th>Neighborhood Longitude</th>\n",
       "      <th>Venue</th>\n",
       "      <th>Venue Latitude</th>\n",
       "      <th>Venue Longitude</th>\n",
       "      <th>Venue Category</th>\n",
       "    </tr>\n",
       "  </thead>\n",
       "  <tbody>\n",
       "    <tr>\n",
       "      <th>0</th>\n",
       "      <td>Ahmedabad Cantonment</td>\n",
       "      <td>23.021624</td>\n",
       "      <td>72.579707</td>\n",
       "      <td>Victoria Garden</td>\n",
       "      <td>23.022117</td>\n",
       "      <td>72.579168</td>\n",
       "      <td>Park</td>\n",
       "    </tr>\n",
       "    <tr>\n",
       "      <th>1</th>\n",
       "      <td>Ahmedabad Cantonment</td>\n",
       "      <td>23.021624</td>\n",
       "      <td>72.579707</td>\n",
       "      <td>Sabarmati River</td>\n",
       "      <td>23.022164</td>\n",
       "      <td>72.579867</td>\n",
       "      <td>River</td>\n",
       "    </tr>\n",
       "    <tr>\n",
       "      <th>2</th>\n",
       "      <td>Ahmedabad Cantonment</td>\n",
       "      <td>23.021624</td>\n",
       "      <td>72.579707</td>\n",
       "      <td>Bhadra Fort</td>\n",
       "      <td>23.023141</td>\n",
       "      <td>72.581765</td>\n",
       "      <td>Castle</td>\n",
       "    </tr>\n",
       "    <tr>\n",
       "      <th>3</th>\n",
       "      <td>Ahmedabad Cantonment</td>\n",
       "      <td>23.021624</td>\n",
       "      <td>72.579707</td>\n",
       "      <td>Jai Shankar Sundri Hall</td>\n",
       "      <td>23.019782</td>\n",
       "      <td>72.583598</td>\n",
       "      <td>Art Gallery</td>\n",
       "    </tr>\n",
       "    <tr>\n",
       "      <th>4</th>\n",
       "      <td>Alam Roza</td>\n",
       "      <td>22.994097</td>\n",
       "      <td>72.589579</td>\n",
       "      <td>Food Gallery Restora</td>\n",
       "      <td>22.996895</td>\n",
       "      <td>72.588965</td>\n",
       "      <td>Asian Restaurant</td>\n",
       "    </tr>\n",
       "  </tbody>\n",
       "</table>\n",
       "</div>"
      ],
      "text/plain": [
       "           Neighborhood  Neighborhood Latitude  Neighborhood Longitude  \\\n",
       "0  Ahmedabad Cantonment              23.021624               72.579707   \n",
       "1  Ahmedabad Cantonment              23.021624               72.579707   \n",
       "2  Ahmedabad Cantonment              23.021624               72.579707   \n",
       "3  Ahmedabad Cantonment              23.021624               72.579707   \n",
       "4             Alam Roza              22.994097               72.589579   \n",
       "\n",
       "                     Venue  Venue Latitude  Venue Longitude    Venue Category  \n",
       "0          Victoria Garden       23.022117        72.579168              Park  \n",
       "1          Sabarmati River       23.022164        72.579867             River  \n",
       "2              Bhadra Fort       23.023141        72.581765            Castle  \n",
       "3  Jai Shankar Sundri Hall       23.019782        72.583598       Art Gallery  \n",
       "4     Food Gallery Restora       22.996895        72.588965  Asian Restaurant  "
      ]
     },
     "execution_count": 20,
     "metadata": {},
     "output_type": "execute_result"
    }
   ],
   "source": [
    "print(ahmedabad_venues.shape)\n",
    "ahmedabad_venues.head()"
   ]
  },
  {
   "cell_type": "code",
   "execution_count": 21,
   "metadata": {},
   "outputs": [
    {
     "name": "stdout",
     "output_type": "stream",
     "text": [
      "There are 79 uniques categories.\n"
     ]
    }
   ],
   "source": [
    "print('There are {} uniques categories.'.format(len(ahmedabad_venues['Venue Category'].unique())))"
   ]
  },
  {
   "cell_type": "markdown",
   "metadata": {},
   "source": [
    "### Finding top common venues for each Neighborhood\n",
    "Now we will find top 10 common venues for each of the Neighborhood. First, we will perform one hot encoding and then group all the values by mean. After that, we will be able to know which venue category are most common by their frequency."
   ]
  },
  {
   "cell_type": "code",
   "execution_count": 47,
   "metadata": {},
   "outputs": [
    {
     "data": {
      "text/html": [
       "<div>\n",
       "<style scoped>\n",
       "    .dataframe tbody tr th:only-of-type {\n",
       "        vertical-align: middle;\n",
       "    }\n",
       "\n",
       "    .dataframe tbody tr th {\n",
       "        vertical-align: top;\n",
       "    }\n",
       "\n",
       "    .dataframe thead th {\n",
       "        text-align: right;\n",
       "    }\n",
       "</style>\n",
       "<table border=\"1\" class=\"dataframe\">\n",
       "  <thead>\n",
       "    <tr style=\"text-align: right;\">\n",
       "      <th></th>\n",
       "      <th>Neighborhood</th>\n",
       "      <th>ATM</th>\n",
       "      <th>Arcade</th>\n",
       "      <th>Art Gallery</th>\n",
       "      <th>Arts &amp; Crafts Store</th>\n",
       "      <th>Asian Restaurant</th>\n",
       "      <th>BBQ Joint</th>\n",
       "      <th>Bakery</th>\n",
       "      <th>Big Box Store</th>\n",
       "      <th>Bistro</th>\n",
       "      <th>Boat or Ferry</th>\n",
       "      <th>Bookstore</th>\n",
       "      <th>Breakfast Spot</th>\n",
       "      <th>Bus Station</th>\n",
       "      <th>Business Service</th>\n",
       "      <th>Café</th>\n",
       "      <th>Castle</th>\n",
       "      <th>Child Care Service</th>\n",
       "      <th>Chinese Restaurant</th>\n",
       "      <th>Clothing Store</th>\n",
       "      <th>Coffee Shop</th>\n",
       "      <th>Construction &amp; Landscaping</th>\n",
       "      <th>Convenience Store</th>\n",
       "      <th>Cupcake Shop</th>\n",
       "      <th>Department Store</th>\n",
       "      <th>Dessert Shop</th>\n",
       "      <th>Diner</th>\n",
       "      <th>Donut Shop</th>\n",
       "      <th>Electronics Store</th>\n",
       "      <th>Farmers Market</th>\n",
       "      <th>Fast Food Restaurant</th>\n",
       "      <th>Flea Market</th>\n",
       "      <th>Food Court</th>\n",
       "      <th>Food Truck</th>\n",
       "      <th>Furniture / Home Store</th>\n",
       "      <th>Garden</th>\n",
       "      <th>Gas Station</th>\n",
       "      <th>Gourmet Shop</th>\n",
       "      <th>Gym</th>\n",
       "      <th>Historic Site</th>\n",
       "      <th>History Museum</th>\n",
       "      <th>Hotel</th>\n",
       "      <th>IT Services</th>\n",
       "      <th>Ice Cream Shop</th>\n",
       "      <th>Indian Restaurant</th>\n",
       "      <th>Jewelry Store</th>\n",
       "      <th>Juice Bar</th>\n",
       "      <th>Lake</th>\n",
       "      <th>Light Rail Station</th>\n",
       "      <th>Liquor Store</th>\n",
       "      <th>Mediterranean Restaurant</th>\n",
       "      <th>Men's Store</th>\n",
       "      <th>Mexican Restaurant</th>\n",
       "      <th>Motel</th>\n",
       "      <th>Moving Target</th>\n",
       "      <th>Multiplex</th>\n",
       "      <th>Office</th>\n",
       "      <th>Optical Shop</th>\n",
       "      <th>Park</th>\n",
       "      <th>Pharmacy</th>\n",
       "      <th>Pier</th>\n",
       "      <th>Pizza Place</th>\n",
       "      <th>Platform</th>\n",
       "      <th>Rental Car Location</th>\n",
       "      <th>Rest Area</th>\n",
       "      <th>Restaurant</th>\n",
       "      <th>River</th>\n",
       "      <th>Sandwich Place</th>\n",
       "      <th>Shoe Store</th>\n",
       "      <th>Shopping Mall</th>\n",
       "      <th>Smoke Shop</th>\n",
       "      <th>Snack Place</th>\n",
       "      <th>South Indian Restaurant</th>\n",
       "      <th>Sporting Goods Shop</th>\n",
       "      <th>Tea Room</th>\n",
       "      <th>Toy / Game Store</th>\n",
       "      <th>Train Station</th>\n",
       "      <th>Vegetarian / Vegan Restaurant</th>\n",
       "      <th>Video Store</th>\n",
       "      <th>Yoga Studio</th>\n",
       "    </tr>\n",
       "  </thead>\n",
       "  <tbody>\n",
       "    <tr>\n",
       "      <th>0</th>\n",
       "      <td>Ahmedabad Cantonment</td>\n",
       "      <td>0</td>\n",
       "      <td>0</td>\n",
       "      <td>0</td>\n",
       "      <td>0</td>\n",
       "      <td>0</td>\n",
       "      <td>0</td>\n",
       "      <td>0</td>\n",
       "      <td>0</td>\n",
       "      <td>0</td>\n",
       "      <td>0</td>\n",
       "      <td>0</td>\n",
       "      <td>0</td>\n",
       "      <td>0</td>\n",
       "      <td>0</td>\n",
       "      <td>0</td>\n",
       "      <td>0</td>\n",
       "      <td>0</td>\n",
       "      <td>0</td>\n",
       "      <td>0</td>\n",
       "      <td>0</td>\n",
       "      <td>0</td>\n",
       "      <td>0</td>\n",
       "      <td>0</td>\n",
       "      <td>0</td>\n",
       "      <td>0</td>\n",
       "      <td>0</td>\n",
       "      <td>0</td>\n",
       "      <td>0</td>\n",
       "      <td>0</td>\n",
       "      <td>0</td>\n",
       "      <td>0</td>\n",
       "      <td>0</td>\n",
       "      <td>0</td>\n",
       "      <td>0</td>\n",
       "      <td>0</td>\n",
       "      <td>0</td>\n",
       "      <td>0</td>\n",
       "      <td>0</td>\n",
       "      <td>0</td>\n",
       "      <td>0</td>\n",
       "      <td>0</td>\n",
       "      <td>0</td>\n",
       "      <td>0</td>\n",
       "      <td>0</td>\n",
       "      <td>0</td>\n",
       "      <td>0</td>\n",
       "      <td>0</td>\n",
       "      <td>0</td>\n",
       "      <td>0</td>\n",
       "      <td>0</td>\n",
       "      <td>0</td>\n",
       "      <td>0</td>\n",
       "      <td>0</td>\n",
       "      <td>0</td>\n",
       "      <td>0</td>\n",
       "      <td>0</td>\n",
       "      <td>0</td>\n",
       "      <td>1</td>\n",
       "      <td>0</td>\n",
       "      <td>0</td>\n",
       "      <td>0</td>\n",
       "      <td>0</td>\n",
       "      <td>0</td>\n",
       "      <td>0</td>\n",
       "      <td>0</td>\n",
       "      <td>0</td>\n",
       "      <td>0</td>\n",
       "      <td>0</td>\n",
       "      <td>0</td>\n",
       "      <td>0</td>\n",
       "      <td>0</td>\n",
       "      <td>0</td>\n",
       "      <td>0</td>\n",
       "      <td>0</td>\n",
       "      <td>0</td>\n",
       "      <td>0</td>\n",
       "      <td>0</td>\n",
       "      <td>0</td>\n",
       "      <td>0</td>\n",
       "    </tr>\n",
       "    <tr>\n",
       "      <th>1</th>\n",
       "      <td>Ahmedabad Cantonment</td>\n",
       "      <td>0</td>\n",
       "      <td>0</td>\n",
       "      <td>0</td>\n",
       "      <td>0</td>\n",
       "      <td>0</td>\n",
       "      <td>0</td>\n",
       "      <td>0</td>\n",
       "      <td>0</td>\n",
       "      <td>0</td>\n",
       "      <td>0</td>\n",
       "      <td>0</td>\n",
       "      <td>0</td>\n",
       "      <td>0</td>\n",
       "      <td>0</td>\n",
       "      <td>0</td>\n",
       "      <td>0</td>\n",
       "      <td>0</td>\n",
       "      <td>0</td>\n",
       "      <td>0</td>\n",
       "      <td>0</td>\n",
       "      <td>0</td>\n",
       "      <td>0</td>\n",
       "      <td>0</td>\n",
       "      <td>0</td>\n",
       "      <td>0</td>\n",
       "      <td>0</td>\n",
       "      <td>0</td>\n",
       "      <td>0</td>\n",
       "      <td>0</td>\n",
       "      <td>0</td>\n",
       "      <td>0</td>\n",
       "      <td>0</td>\n",
       "      <td>0</td>\n",
       "      <td>0</td>\n",
       "      <td>0</td>\n",
       "      <td>0</td>\n",
       "      <td>0</td>\n",
       "      <td>0</td>\n",
       "      <td>0</td>\n",
       "      <td>0</td>\n",
       "      <td>0</td>\n",
       "      <td>0</td>\n",
       "      <td>0</td>\n",
       "      <td>0</td>\n",
       "      <td>0</td>\n",
       "      <td>0</td>\n",
       "      <td>0</td>\n",
       "      <td>0</td>\n",
       "      <td>0</td>\n",
       "      <td>0</td>\n",
       "      <td>0</td>\n",
       "      <td>0</td>\n",
       "      <td>0</td>\n",
       "      <td>0</td>\n",
       "      <td>0</td>\n",
       "      <td>0</td>\n",
       "      <td>0</td>\n",
       "      <td>0</td>\n",
       "      <td>0</td>\n",
       "      <td>0</td>\n",
       "      <td>0</td>\n",
       "      <td>0</td>\n",
       "      <td>0</td>\n",
       "      <td>0</td>\n",
       "      <td>0</td>\n",
       "      <td>1</td>\n",
       "      <td>0</td>\n",
       "      <td>0</td>\n",
       "      <td>0</td>\n",
       "      <td>0</td>\n",
       "      <td>0</td>\n",
       "      <td>0</td>\n",
       "      <td>0</td>\n",
       "      <td>0</td>\n",
       "      <td>0</td>\n",
       "      <td>0</td>\n",
       "      <td>0</td>\n",
       "      <td>0</td>\n",
       "      <td>0</td>\n",
       "    </tr>\n",
       "    <tr>\n",
       "      <th>2</th>\n",
       "      <td>Ahmedabad Cantonment</td>\n",
       "      <td>0</td>\n",
       "      <td>0</td>\n",
       "      <td>0</td>\n",
       "      <td>0</td>\n",
       "      <td>0</td>\n",
       "      <td>0</td>\n",
       "      <td>0</td>\n",
       "      <td>0</td>\n",
       "      <td>0</td>\n",
       "      <td>0</td>\n",
       "      <td>0</td>\n",
       "      <td>0</td>\n",
       "      <td>0</td>\n",
       "      <td>0</td>\n",
       "      <td>0</td>\n",
       "      <td>1</td>\n",
       "      <td>0</td>\n",
       "      <td>0</td>\n",
       "      <td>0</td>\n",
       "      <td>0</td>\n",
       "      <td>0</td>\n",
       "      <td>0</td>\n",
       "      <td>0</td>\n",
       "      <td>0</td>\n",
       "      <td>0</td>\n",
       "      <td>0</td>\n",
       "      <td>0</td>\n",
       "      <td>0</td>\n",
       "      <td>0</td>\n",
       "      <td>0</td>\n",
       "      <td>0</td>\n",
       "      <td>0</td>\n",
       "      <td>0</td>\n",
       "      <td>0</td>\n",
       "      <td>0</td>\n",
       "      <td>0</td>\n",
       "      <td>0</td>\n",
       "      <td>0</td>\n",
       "      <td>0</td>\n",
       "      <td>0</td>\n",
       "      <td>0</td>\n",
       "      <td>0</td>\n",
       "      <td>0</td>\n",
       "      <td>0</td>\n",
       "      <td>0</td>\n",
       "      <td>0</td>\n",
       "      <td>0</td>\n",
       "      <td>0</td>\n",
       "      <td>0</td>\n",
       "      <td>0</td>\n",
       "      <td>0</td>\n",
       "      <td>0</td>\n",
       "      <td>0</td>\n",
       "      <td>0</td>\n",
       "      <td>0</td>\n",
       "      <td>0</td>\n",
       "      <td>0</td>\n",
       "      <td>0</td>\n",
       "      <td>0</td>\n",
       "      <td>0</td>\n",
       "      <td>0</td>\n",
       "      <td>0</td>\n",
       "      <td>0</td>\n",
       "      <td>0</td>\n",
       "      <td>0</td>\n",
       "      <td>0</td>\n",
       "      <td>0</td>\n",
       "      <td>0</td>\n",
       "      <td>0</td>\n",
       "      <td>0</td>\n",
       "      <td>0</td>\n",
       "      <td>0</td>\n",
       "      <td>0</td>\n",
       "      <td>0</td>\n",
       "      <td>0</td>\n",
       "      <td>0</td>\n",
       "      <td>0</td>\n",
       "      <td>0</td>\n",
       "      <td>0</td>\n",
       "    </tr>\n",
       "    <tr>\n",
       "      <th>3</th>\n",
       "      <td>Ahmedabad Cantonment</td>\n",
       "      <td>0</td>\n",
       "      <td>0</td>\n",
       "      <td>1</td>\n",
       "      <td>0</td>\n",
       "      <td>0</td>\n",
       "      <td>0</td>\n",
       "      <td>0</td>\n",
       "      <td>0</td>\n",
       "      <td>0</td>\n",
       "      <td>0</td>\n",
       "      <td>0</td>\n",
       "      <td>0</td>\n",
       "      <td>0</td>\n",
       "      <td>0</td>\n",
       "      <td>0</td>\n",
       "      <td>0</td>\n",
       "      <td>0</td>\n",
       "      <td>0</td>\n",
       "      <td>0</td>\n",
       "      <td>0</td>\n",
       "      <td>0</td>\n",
       "      <td>0</td>\n",
       "      <td>0</td>\n",
       "      <td>0</td>\n",
       "      <td>0</td>\n",
       "      <td>0</td>\n",
       "      <td>0</td>\n",
       "      <td>0</td>\n",
       "      <td>0</td>\n",
       "      <td>0</td>\n",
       "      <td>0</td>\n",
       "      <td>0</td>\n",
       "      <td>0</td>\n",
       "      <td>0</td>\n",
       "      <td>0</td>\n",
       "      <td>0</td>\n",
       "      <td>0</td>\n",
       "      <td>0</td>\n",
       "      <td>0</td>\n",
       "      <td>0</td>\n",
       "      <td>0</td>\n",
       "      <td>0</td>\n",
       "      <td>0</td>\n",
       "      <td>0</td>\n",
       "      <td>0</td>\n",
       "      <td>0</td>\n",
       "      <td>0</td>\n",
       "      <td>0</td>\n",
       "      <td>0</td>\n",
       "      <td>0</td>\n",
       "      <td>0</td>\n",
       "      <td>0</td>\n",
       "      <td>0</td>\n",
       "      <td>0</td>\n",
       "      <td>0</td>\n",
       "      <td>0</td>\n",
       "      <td>0</td>\n",
       "      <td>0</td>\n",
       "      <td>0</td>\n",
       "      <td>0</td>\n",
       "      <td>0</td>\n",
       "      <td>0</td>\n",
       "      <td>0</td>\n",
       "      <td>0</td>\n",
       "      <td>0</td>\n",
       "      <td>0</td>\n",
       "      <td>0</td>\n",
       "      <td>0</td>\n",
       "      <td>0</td>\n",
       "      <td>0</td>\n",
       "      <td>0</td>\n",
       "      <td>0</td>\n",
       "      <td>0</td>\n",
       "      <td>0</td>\n",
       "      <td>0</td>\n",
       "      <td>0</td>\n",
       "      <td>0</td>\n",
       "      <td>0</td>\n",
       "      <td>0</td>\n",
       "    </tr>\n",
       "    <tr>\n",
       "      <th>4</th>\n",
       "      <td>Alam Roza</td>\n",
       "      <td>0</td>\n",
       "      <td>0</td>\n",
       "      <td>0</td>\n",
       "      <td>0</td>\n",
       "      <td>1</td>\n",
       "      <td>0</td>\n",
       "      <td>0</td>\n",
       "      <td>0</td>\n",
       "      <td>0</td>\n",
       "      <td>0</td>\n",
       "      <td>0</td>\n",
       "      <td>0</td>\n",
       "      <td>0</td>\n",
       "      <td>0</td>\n",
       "      <td>0</td>\n",
       "      <td>0</td>\n",
       "      <td>0</td>\n",
       "      <td>0</td>\n",
       "      <td>0</td>\n",
       "      <td>0</td>\n",
       "      <td>0</td>\n",
       "      <td>0</td>\n",
       "      <td>0</td>\n",
       "      <td>0</td>\n",
       "      <td>0</td>\n",
       "      <td>0</td>\n",
       "      <td>0</td>\n",
       "      <td>0</td>\n",
       "      <td>0</td>\n",
       "      <td>0</td>\n",
       "      <td>0</td>\n",
       "      <td>0</td>\n",
       "      <td>0</td>\n",
       "      <td>0</td>\n",
       "      <td>0</td>\n",
       "      <td>0</td>\n",
       "      <td>0</td>\n",
       "      <td>0</td>\n",
       "      <td>0</td>\n",
       "      <td>0</td>\n",
       "      <td>0</td>\n",
       "      <td>0</td>\n",
       "      <td>0</td>\n",
       "      <td>0</td>\n",
       "      <td>0</td>\n",
       "      <td>0</td>\n",
       "      <td>0</td>\n",
       "      <td>0</td>\n",
       "      <td>0</td>\n",
       "      <td>0</td>\n",
       "      <td>0</td>\n",
       "      <td>0</td>\n",
       "      <td>0</td>\n",
       "      <td>0</td>\n",
       "      <td>0</td>\n",
       "      <td>0</td>\n",
       "      <td>0</td>\n",
       "      <td>0</td>\n",
       "      <td>0</td>\n",
       "      <td>0</td>\n",
       "      <td>0</td>\n",
       "      <td>0</td>\n",
       "      <td>0</td>\n",
       "      <td>0</td>\n",
       "      <td>0</td>\n",
       "      <td>0</td>\n",
       "      <td>0</td>\n",
       "      <td>0</td>\n",
       "      <td>0</td>\n",
       "      <td>0</td>\n",
       "      <td>0</td>\n",
       "      <td>0</td>\n",
       "      <td>0</td>\n",
       "      <td>0</td>\n",
       "      <td>0</td>\n",
       "      <td>0</td>\n",
       "      <td>0</td>\n",
       "      <td>0</td>\n",
       "      <td>0</td>\n",
       "    </tr>\n",
       "  </tbody>\n",
       "</table>\n",
       "</div>"
      ],
      "text/plain": [
       "           Neighborhood  ATM  Arcade  Art Gallery  Arts & Crafts Store  \\\n",
       "0  Ahmedabad Cantonment    0       0            0                    0   \n",
       "1  Ahmedabad Cantonment    0       0            0                    0   \n",
       "2  Ahmedabad Cantonment    0       0            0                    0   \n",
       "3  Ahmedabad Cantonment    0       0            1                    0   \n",
       "4             Alam Roza    0       0            0                    0   \n",
       "\n",
       "   Asian Restaurant  BBQ Joint  Bakery  Big Box Store  Bistro  Boat or Ferry  \\\n",
       "0                 0          0       0              0       0              0   \n",
       "1                 0          0       0              0       0              0   \n",
       "2                 0          0       0              0       0              0   \n",
       "3                 0          0       0              0       0              0   \n",
       "4                 1          0       0              0       0              0   \n",
       "\n",
       "   Bookstore  Breakfast Spot  Bus Station  Business Service  Café  Castle  \\\n",
       "0          0               0            0                 0     0       0   \n",
       "1          0               0            0                 0     0       0   \n",
       "2          0               0            0                 0     0       1   \n",
       "3          0               0            0                 0     0       0   \n",
       "4          0               0            0                 0     0       0   \n",
       "\n",
       "   Child Care Service  Chinese Restaurant  Clothing Store  Coffee Shop  \\\n",
       "0                   0                   0               0            0   \n",
       "1                   0                   0               0            0   \n",
       "2                   0                   0               0            0   \n",
       "3                   0                   0               0            0   \n",
       "4                   0                   0               0            0   \n",
       "\n",
       "   Construction & Landscaping  Convenience Store  Cupcake Shop  \\\n",
       "0                           0                  0             0   \n",
       "1                           0                  0             0   \n",
       "2                           0                  0             0   \n",
       "3                           0                  0             0   \n",
       "4                           0                  0             0   \n",
       "\n",
       "   Department Store  Dessert Shop  Diner  Donut Shop  Electronics Store  \\\n",
       "0                 0             0      0           0                  0   \n",
       "1                 0             0      0           0                  0   \n",
       "2                 0             0      0           0                  0   \n",
       "3                 0             0      0           0                  0   \n",
       "4                 0             0      0           0                  0   \n",
       "\n",
       "   Farmers Market  Fast Food Restaurant  Flea Market  Food Court  Food Truck  \\\n",
       "0               0                     0            0           0           0   \n",
       "1               0                     0            0           0           0   \n",
       "2               0                     0            0           0           0   \n",
       "3               0                     0            0           0           0   \n",
       "4               0                     0            0           0           0   \n",
       "\n",
       "   Furniture / Home Store  Garden  Gas Station  Gourmet Shop  Gym  \\\n",
       "0                       0       0            0             0    0   \n",
       "1                       0       0            0             0    0   \n",
       "2                       0       0            0             0    0   \n",
       "3                       0       0            0             0    0   \n",
       "4                       0       0            0             0    0   \n",
       "\n",
       "   Historic Site  History Museum  Hotel  IT Services  Ice Cream Shop  \\\n",
       "0              0               0      0            0               0   \n",
       "1              0               0      0            0               0   \n",
       "2              0               0      0            0               0   \n",
       "3              0               0      0            0               0   \n",
       "4              0               0      0            0               0   \n",
       "\n",
       "   Indian Restaurant  Jewelry Store  Juice Bar  Lake  Light Rail Station  \\\n",
       "0                  0              0          0     0                   0   \n",
       "1                  0              0          0     0                   0   \n",
       "2                  0              0          0     0                   0   \n",
       "3                  0              0          0     0                   0   \n",
       "4                  0              0          0     0                   0   \n",
       "\n",
       "   Liquor Store  Mediterranean Restaurant  Men's Store  Mexican Restaurant  \\\n",
       "0             0                         0            0                   0   \n",
       "1             0                         0            0                   0   \n",
       "2             0                         0            0                   0   \n",
       "3             0                         0            0                   0   \n",
       "4             0                         0            0                   0   \n",
       "\n",
       "   Motel  Moving Target  Multiplex  Office  Optical Shop  Park  Pharmacy  \\\n",
       "0      0              0          0       0             0     1         0   \n",
       "1      0              0          0       0             0     0         0   \n",
       "2      0              0          0       0             0     0         0   \n",
       "3      0              0          0       0             0     0         0   \n",
       "4      0              0          0       0             0     0         0   \n",
       "\n",
       "   Pier  Pizza Place  Platform  Rental Car Location  Rest Area  Restaurant  \\\n",
       "0     0            0         0                    0          0           0   \n",
       "1     0            0         0                    0          0           0   \n",
       "2     0            0         0                    0          0           0   \n",
       "3     0            0         0                    0          0           0   \n",
       "4     0            0         0                    0          0           0   \n",
       "\n",
       "   River  Sandwich Place  Shoe Store  Shopping Mall  Smoke Shop  Snack Place  \\\n",
       "0      0               0           0              0           0            0   \n",
       "1      1               0           0              0           0            0   \n",
       "2      0               0           0              0           0            0   \n",
       "3      0               0           0              0           0            0   \n",
       "4      0               0           0              0           0            0   \n",
       "\n",
       "   South Indian Restaurant  Sporting Goods Shop  Tea Room  Toy / Game Store  \\\n",
       "0                        0                    0         0                 0   \n",
       "1                        0                    0         0                 0   \n",
       "2                        0                    0         0                 0   \n",
       "3                        0                    0         0                 0   \n",
       "4                        0                    0         0                 0   \n",
       "\n",
       "   Train Station  Vegetarian / Vegan Restaurant  Video Store  Yoga Studio  \n",
       "0              0                              0            0            0  \n",
       "1              0                              0            0            0  \n",
       "2              0                              0            0            0  \n",
       "3              0                              0            0            0  \n",
       "4              0                              0            0            0  "
      ]
     },
     "execution_count": 47,
     "metadata": {},
     "output_type": "execute_result"
    }
   ],
   "source": [
    "# one hot encoding\n",
    "ahmedabad_onehot = pd.get_dummies(ahmedabad_venues[['Venue Category']], prefix=\"\", prefix_sep=\"\")\n",
    "\n",
    "# add neighborhood column back to dataframe\n",
    "ahmedabad_onehot['Neighborhood'] = ahmedabad_venues['Neighborhood'] \n",
    "\n",
    "# move neighborhood column to the first column\n",
    "fixed_columns = [ahmedabad_onehot.columns[-1]] + list(ahmedabad_onehot.columns[:-1])\n",
    "ahmedabad_onehot = ahmedabad_onehot[fixed_columns]\n",
    "\n",
    "ahmedabad_onehot.head()"
   ]
  },
  {
   "cell_type": "code",
   "execution_count": 49,
   "metadata": {},
   "outputs": [
    {
     "data": {
      "text/html": [
       "<div>\n",
       "<style scoped>\n",
       "    .dataframe tbody tr th:only-of-type {\n",
       "        vertical-align: middle;\n",
       "    }\n",
       "\n",
       "    .dataframe tbody tr th {\n",
       "        vertical-align: top;\n",
       "    }\n",
       "\n",
       "    .dataframe thead th {\n",
       "        text-align: right;\n",
       "    }\n",
       "</style>\n",
       "<table border=\"1\" class=\"dataframe\">\n",
       "  <thead>\n",
       "    <tr style=\"text-align: right;\">\n",
       "      <th></th>\n",
       "      <th>Neighborhood</th>\n",
       "      <th>ATM</th>\n",
       "      <th>Arcade</th>\n",
       "      <th>Art Gallery</th>\n",
       "      <th>Arts &amp; Crafts Store</th>\n",
       "      <th>Asian Restaurant</th>\n",
       "      <th>BBQ Joint</th>\n",
       "      <th>Bakery</th>\n",
       "      <th>Big Box Store</th>\n",
       "      <th>Bistro</th>\n",
       "      <th>Boat or Ferry</th>\n",
       "      <th>Bookstore</th>\n",
       "      <th>Breakfast Spot</th>\n",
       "      <th>Bus Station</th>\n",
       "      <th>Business Service</th>\n",
       "      <th>Café</th>\n",
       "      <th>Castle</th>\n",
       "      <th>Child Care Service</th>\n",
       "      <th>Chinese Restaurant</th>\n",
       "      <th>Clothing Store</th>\n",
       "      <th>Coffee Shop</th>\n",
       "      <th>Construction &amp; Landscaping</th>\n",
       "      <th>Convenience Store</th>\n",
       "      <th>Cupcake Shop</th>\n",
       "      <th>Department Store</th>\n",
       "      <th>Dessert Shop</th>\n",
       "      <th>Diner</th>\n",
       "      <th>Donut Shop</th>\n",
       "      <th>Electronics Store</th>\n",
       "      <th>Farmers Market</th>\n",
       "      <th>Fast Food Restaurant</th>\n",
       "      <th>Flea Market</th>\n",
       "      <th>Food Court</th>\n",
       "      <th>Food Truck</th>\n",
       "      <th>Furniture / Home Store</th>\n",
       "      <th>Garden</th>\n",
       "      <th>Gas Station</th>\n",
       "      <th>Gourmet Shop</th>\n",
       "      <th>Gym</th>\n",
       "      <th>Historic Site</th>\n",
       "      <th>History Museum</th>\n",
       "      <th>Hotel</th>\n",
       "      <th>IT Services</th>\n",
       "      <th>Ice Cream Shop</th>\n",
       "      <th>Indian Restaurant</th>\n",
       "      <th>Jewelry Store</th>\n",
       "      <th>Juice Bar</th>\n",
       "      <th>Lake</th>\n",
       "      <th>Light Rail Station</th>\n",
       "      <th>Liquor Store</th>\n",
       "      <th>Mediterranean Restaurant</th>\n",
       "      <th>Men's Store</th>\n",
       "      <th>Mexican Restaurant</th>\n",
       "      <th>Motel</th>\n",
       "      <th>Moving Target</th>\n",
       "      <th>Multiplex</th>\n",
       "      <th>Office</th>\n",
       "      <th>Optical Shop</th>\n",
       "      <th>Park</th>\n",
       "      <th>Pharmacy</th>\n",
       "      <th>Pier</th>\n",
       "      <th>Pizza Place</th>\n",
       "      <th>Platform</th>\n",
       "      <th>Rental Car Location</th>\n",
       "      <th>Rest Area</th>\n",
       "      <th>Restaurant</th>\n",
       "      <th>River</th>\n",
       "      <th>Sandwich Place</th>\n",
       "      <th>Shoe Store</th>\n",
       "      <th>Shopping Mall</th>\n",
       "      <th>Smoke Shop</th>\n",
       "      <th>Snack Place</th>\n",
       "      <th>South Indian Restaurant</th>\n",
       "      <th>Sporting Goods Shop</th>\n",
       "      <th>Tea Room</th>\n",
       "      <th>Toy / Game Store</th>\n",
       "      <th>Train Station</th>\n",
       "      <th>Vegetarian / Vegan Restaurant</th>\n",
       "      <th>Video Store</th>\n",
       "      <th>Yoga Studio</th>\n",
       "    </tr>\n",
       "  </thead>\n",
       "  <tbody>\n",
       "    <tr>\n",
       "      <th>0</th>\n",
       "      <td>Ahmedabad Cantonment</td>\n",
       "      <td>0.00</td>\n",
       "      <td>0.0</td>\n",
       "      <td>0.25</td>\n",
       "      <td>0.0</td>\n",
       "      <td>0.000000</td>\n",
       "      <td>0.000000</td>\n",
       "      <td>0.000000</td>\n",
       "      <td>0.0</td>\n",
       "      <td>0.0</td>\n",
       "      <td>0.0</td>\n",
       "      <td>0.0</td>\n",
       "      <td>0.0</td>\n",
       "      <td>0.0</td>\n",
       "      <td>0.0</td>\n",
       "      <td>0.000000</td>\n",
       "      <td>0.25</td>\n",
       "      <td>0.0</td>\n",
       "      <td>0.0</td>\n",
       "      <td>0.000000</td>\n",
       "      <td>0.0</td>\n",
       "      <td>0.0</td>\n",
       "      <td>0.0</td>\n",
       "      <td>0.0</td>\n",
       "      <td>0.0</td>\n",
       "      <td>0.0</td>\n",
       "      <td>0.000000</td>\n",
       "      <td>0.0</td>\n",
       "      <td>0.0</td>\n",
       "      <td>0.0</td>\n",
       "      <td>0.000000</td>\n",
       "      <td>0.0</td>\n",
       "      <td>0.0</td>\n",
       "      <td>0.0</td>\n",
       "      <td>0.0</td>\n",
       "      <td>0.0</td>\n",
       "      <td>0.0</td>\n",
       "      <td>0.0</td>\n",
       "      <td>0.0</td>\n",
       "      <td>0.0</td>\n",
       "      <td>0.0</td>\n",
       "      <td>0.0</td>\n",
       "      <td>0.0</td>\n",
       "      <td>0.000000</td>\n",
       "      <td>0.000000</td>\n",
       "      <td>0.0</td>\n",
       "      <td>0.0</td>\n",
       "      <td>0.000000</td>\n",
       "      <td>0.0</td>\n",
       "      <td>0.0</td>\n",
       "      <td>0.0</td>\n",
       "      <td>0.0</td>\n",
       "      <td>0.000000</td>\n",
       "      <td>0.0</td>\n",
       "      <td>0.0</td>\n",
       "      <td>0.0</td>\n",
       "      <td>0.0</td>\n",
       "      <td>0.0</td>\n",
       "      <td>0.25</td>\n",
       "      <td>0.0</td>\n",
       "      <td>0.0</td>\n",
       "      <td>0.000000</td>\n",
       "      <td>0.0</td>\n",
       "      <td>0.0</td>\n",
       "      <td>0.0</td>\n",
       "      <td>0.000000</td>\n",
       "      <td>0.25</td>\n",
       "      <td>0.0</td>\n",
       "      <td>0.0</td>\n",
       "      <td>0.0</td>\n",
       "      <td>0.0</td>\n",
       "      <td>0.0</td>\n",
       "      <td>0.0</td>\n",
       "      <td>0.000000</td>\n",
       "      <td>0.000000</td>\n",
       "      <td>0.0</td>\n",
       "      <td>0.0</td>\n",
       "      <td>0.000000</td>\n",
       "      <td>0.0</td>\n",
       "      <td>0.000000</td>\n",
       "    </tr>\n",
       "    <tr>\n",
       "      <th>1</th>\n",
       "      <td>Alam Roza</td>\n",
       "      <td>0.00</td>\n",
       "      <td>0.0</td>\n",
       "      <td>0.00</td>\n",
       "      <td>0.0</td>\n",
       "      <td>0.333333</td>\n",
       "      <td>0.000000</td>\n",
       "      <td>0.000000</td>\n",
       "      <td>0.0</td>\n",
       "      <td>0.0</td>\n",
       "      <td>0.0</td>\n",
       "      <td>0.0</td>\n",
       "      <td>0.0</td>\n",
       "      <td>0.0</td>\n",
       "      <td>0.0</td>\n",
       "      <td>0.000000</td>\n",
       "      <td>0.00</td>\n",
       "      <td>0.0</td>\n",
       "      <td>0.0</td>\n",
       "      <td>0.000000</td>\n",
       "      <td>0.0</td>\n",
       "      <td>0.0</td>\n",
       "      <td>0.0</td>\n",
       "      <td>0.0</td>\n",
       "      <td>0.0</td>\n",
       "      <td>0.0</td>\n",
       "      <td>0.000000</td>\n",
       "      <td>0.0</td>\n",
       "      <td>0.0</td>\n",
       "      <td>0.0</td>\n",
       "      <td>0.000000</td>\n",
       "      <td>0.0</td>\n",
       "      <td>0.0</td>\n",
       "      <td>0.0</td>\n",
       "      <td>0.0</td>\n",
       "      <td>0.0</td>\n",
       "      <td>0.0</td>\n",
       "      <td>0.0</td>\n",
       "      <td>0.0</td>\n",
       "      <td>0.0</td>\n",
       "      <td>0.0</td>\n",
       "      <td>0.0</td>\n",
       "      <td>0.0</td>\n",
       "      <td>0.333333</td>\n",
       "      <td>0.000000</td>\n",
       "      <td>0.0</td>\n",
       "      <td>0.0</td>\n",
       "      <td>0.333333</td>\n",
       "      <td>0.0</td>\n",
       "      <td>0.0</td>\n",
       "      <td>0.0</td>\n",
       "      <td>0.0</td>\n",
       "      <td>0.000000</td>\n",
       "      <td>0.0</td>\n",
       "      <td>0.0</td>\n",
       "      <td>0.0</td>\n",
       "      <td>0.0</td>\n",
       "      <td>0.0</td>\n",
       "      <td>0.00</td>\n",
       "      <td>0.0</td>\n",
       "      <td>0.0</td>\n",
       "      <td>0.000000</td>\n",
       "      <td>0.0</td>\n",
       "      <td>0.0</td>\n",
       "      <td>0.0</td>\n",
       "      <td>0.000000</td>\n",
       "      <td>0.00</td>\n",
       "      <td>0.0</td>\n",
       "      <td>0.0</td>\n",
       "      <td>0.0</td>\n",
       "      <td>0.0</td>\n",
       "      <td>0.0</td>\n",
       "      <td>0.0</td>\n",
       "      <td>0.000000</td>\n",
       "      <td>0.000000</td>\n",
       "      <td>0.0</td>\n",
       "      <td>0.0</td>\n",
       "      <td>0.000000</td>\n",
       "      <td>0.0</td>\n",
       "      <td>0.000000</td>\n",
       "    </tr>\n",
       "    <tr>\n",
       "      <th>2</th>\n",
       "      <td>Ambawadi</td>\n",
       "      <td>0.00</td>\n",
       "      <td>0.0</td>\n",
       "      <td>0.00</td>\n",
       "      <td>0.0</td>\n",
       "      <td>0.000000</td>\n",
       "      <td>0.000000</td>\n",
       "      <td>0.000000</td>\n",
       "      <td>0.0</td>\n",
       "      <td>0.0</td>\n",
       "      <td>0.0</td>\n",
       "      <td>0.0</td>\n",
       "      <td>0.0</td>\n",
       "      <td>0.0</td>\n",
       "      <td>0.0</td>\n",
       "      <td>0.333333</td>\n",
       "      <td>0.00</td>\n",
       "      <td>0.0</td>\n",
       "      <td>0.0</td>\n",
       "      <td>0.000000</td>\n",
       "      <td>0.0</td>\n",
       "      <td>0.0</td>\n",
       "      <td>0.0</td>\n",
       "      <td>0.0</td>\n",
       "      <td>0.0</td>\n",
       "      <td>0.0</td>\n",
       "      <td>0.000000</td>\n",
       "      <td>0.0</td>\n",
       "      <td>0.0</td>\n",
       "      <td>0.0</td>\n",
       "      <td>0.000000</td>\n",
       "      <td>0.0</td>\n",
       "      <td>0.0</td>\n",
       "      <td>0.0</td>\n",
       "      <td>0.0</td>\n",
       "      <td>0.0</td>\n",
       "      <td>0.0</td>\n",
       "      <td>0.0</td>\n",
       "      <td>0.0</td>\n",
       "      <td>0.0</td>\n",
       "      <td>0.0</td>\n",
       "      <td>0.0</td>\n",
       "      <td>0.0</td>\n",
       "      <td>0.000000</td>\n",
       "      <td>0.333333</td>\n",
       "      <td>0.0</td>\n",
       "      <td>0.0</td>\n",
       "      <td>0.000000</td>\n",
       "      <td>0.0</td>\n",
       "      <td>0.0</td>\n",
       "      <td>0.0</td>\n",
       "      <td>0.0</td>\n",
       "      <td>0.000000</td>\n",
       "      <td>0.0</td>\n",
       "      <td>0.0</td>\n",
       "      <td>0.0</td>\n",
       "      <td>0.0</td>\n",
       "      <td>0.0</td>\n",
       "      <td>0.00</td>\n",
       "      <td>0.0</td>\n",
       "      <td>0.0</td>\n",
       "      <td>0.000000</td>\n",
       "      <td>0.0</td>\n",
       "      <td>0.0</td>\n",
       "      <td>0.0</td>\n",
       "      <td>0.000000</td>\n",
       "      <td>0.00</td>\n",
       "      <td>0.0</td>\n",
       "      <td>0.0</td>\n",
       "      <td>0.0</td>\n",
       "      <td>0.0</td>\n",
       "      <td>0.0</td>\n",
       "      <td>0.0</td>\n",
       "      <td>0.333333</td>\n",
       "      <td>0.000000</td>\n",
       "      <td>0.0</td>\n",
       "      <td>0.0</td>\n",
       "      <td>0.000000</td>\n",
       "      <td>0.0</td>\n",
       "      <td>0.000000</td>\n",
       "    </tr>\n",
       "    <tr>\n",
       "      <th>3</th>\n",
       "      <td>Amraiwadi</td>\n",
       "      <td>0.75</td>\n",
       "      <td>0.0</td>\n",
       "      <td>0.00</td>\n",
       "      <td>0.0</td>\n",
       "      <td>0.000000</td>\n",
       "      <td>0.000000</td>\n",
       "      <td>0.000000</td>\n",
       "      <td>0.0</td>\n",
       "      <td>0.0</td>\n",
       "      <td>0.0</td>\n",
       "      <td>0.0</td>\n",
       "      <td>0.0</td>\n",
       "      <td>0.0</td>\n",
       "      <td>0.0</td>\n",
       "      <td>0.000000</td>\n",
       "      <td>0.00</td>\n",
       "      <td>0.0</td>\n",
       "      <td>0.0</td>\n",
       "      <td>0.000000</td>\n",
       "      <td>0.0</td>\n",
       "      <td>0.0</td>\n",
       "      <td>0.0</td>\n",
       "      <td>0.0</td>\n",
       "      <td>0.0</td>\n",
       "      <td>0.0</td>\n",
       "      <td>0.000000</td>\n",
       "      <td>0.0</td>\n",
       "      <td>0.0</td>\n",
       "      <td>0.0</td>\n",
       "      <td>0.000000</td>\n",
       "      <td>0.0</td>\n",
       "      <td>0.0</td>\n",
       "      <td>0.0</td>\n",
       "      <td>0.0</td>\n",
       "      <td>0.0</td>\n",
       "      <td>0.0</td>\n",
       "      <td>0.0</td>\n",
       "      <td>0.0</td>\n",
       "      <td>0.0</td>\n",
       "      <td>0.0</td>\n",
       "      <td>0.0</td>\n",
       "      <td>0.0</td>\n",
       "      <td>0.000000</td>\n",
       "      <td>0.250000</td>\n",
       "      <td>0.0</td>\n",
       "      <td>0.0</td>\n",
       "      <td>0.000000</td>\n",
       "      <td>0.0</td>\n",
       "      <td>0.0</td>\n",
       "      <td>0.0</td>\n",
       "      <td>0.0</td>\n",
       "      <td>0.000000</td>\n",
       "      <td>0.0</td>\n",
       "      <td>0.0</td>\n",
       "      <td>0.0</td>\n",
       "      <td>0.0</td>\n",
       "      <td>0.0</td>\n",
       "      <td>0.00</td>\n",
       "      <td>0.0</td>\n",
       "      <td>0.0</td>\n",
       "      <td>0.000000</td>\n",
       "      <td>0.0</td>\n",
       "      <td>0.0</td>\n",
       "      <td>0.0</td>\n",
       "      <td>0.000000</td>\n",
       "      <td>0.00</td>\n",
       "      <td>0.0</td>\n",
       "      <td>0.0</td>\n",
       "      <td>0.0</td>\n",
       "      <td>0.0</td>\n",
       "      <td>0.0</td>\n",
       "      <td>0.0</td>\n",
       "      <td>0.000000</td>\n",
       "      <td>0.000000</td>\n",
       "      <td>0.0</td>\n",
       "      <td>0.0</td>\n",
       "      <td>0.000000</td>\n",
       "      <td>0.0</td>\n",
       "      <td>0.000000</td>\n",
       "    </tr>\n",
       "    <tr>\n",
       "      <th>4</th>\n",
       "      <td>Anand Nagar (Ahmedabad)</td>\n",
       "      <td>0.00</td>\n",
       "      <td>0.0</td>\n",
       "      <td>0.00</td>\n",
       "      <td>0.0</td>\n",
       "      <td>0.000000</td>\n",
       "      <td>0.117647</td>\n",
       "      <td>0.058824</td>\n",
       "      <td>0.0</td>\n",
       "      <td>0.0</td>\n",
       "      <td>0.0</td>\n",
       "      <td>0.0</td>\n",
       "      <td>0.0</td>\n",
       "      <td>0.0</td>\n",
       "      <td>0.0</td>\n",
       "      <td>0.058824</td>\n",
       "      <td>0.00</td>\n",
       "      <td>0.0</td>\n",
       "      <td>0.0</td>\n",
       "      <td>0.058824</td>\n",
       "      <td>0.0</td>\n",
       "      <td>0.0</td>\n",
       "      <td>0.0</td>\n",
       "      <td>0.0</td>\n",
       "      <td>0.0</td>\n",
       "      <td>0.0</td>\n",
       "      <td>0.058824</td>\n",
       "      <td>0.0</td>\n",
       "      <td>0.0</td>\n",
       "      <td>0.0</td>\n",
       "      <td>0.176471</td>\n",
       "      <td>0.0</td>\n",
       "      <td>0.0</td>\n",
       "      <td>0.0</td>\n",
       "      <td>0.0</td>\n",
       "      <td>0.0</td>\n",
       "      <td>0.0</td>\n",
       "      <td>0.0</td>\n",
       "      <td>0.0</td>\n",
       "      <td>0.0</td>\n",
       "      <td>0.0</td>\n",
       "      <td>0.0</td>\n",
       "      <td>0.0</td>\n",
       "      <td>0.000000</td>\n",
       "      <td>0.117647</td>\n",
       "      <td>0.0</td>\n",
       "      <td>0.0</td>\n",
       "      <td>0.000000</td>\n",
       "      <td>0.0</td>\n",
       "      <td>0.0</td>\n",
       "      <td>0.0</td>\n",
       "      <td>0.0</td>\n",
       "      <td>0.058824</td>\n",
       "      <td>0.0</td>\n",
       "      <td>0.0</td>\n",
       "      <td>0.0</td>\n",
       "      <td>0.0</td>\n",
       "      <td>0.0</td>\n",
       "      <td>0.00</td>\n",
       "      <td>0.0</td>\n",
       "      <td>0.0</td>\n",
       "      <td>0.058824</td>\n",
       "      <td>0.0</td>\n",
       "      <td>0.0</td>\n",
       "      <td>0.0</td>\n",
       "      <td>0.058824</td>\n",
       "      <td>0.00</td>\n",
       "      <td>0.0</td>\n",
       "      <td>0.0</td>\n",
       "      <td>0.0</td>\n",
       "      <td>0.0</td>\n",
       "      <td>0.0</td>\n",
       "      <td>0.0</td>\n",
       "      <td>0.000000</td>\n",
       "      <td>0.058824</td>\n",
       "      <td>0.0</td>\n",
       "      <td>0.0</td>\n",
       "      <td>0.058824</td>\n",
       "      <td>0.0</td>\n",
       "      <td>0.058824</td>\n",
       "    </tr>\n",
       "  </tbody>\n",
       "</table>\n",
       "</div>"
      ],
      "text/plain": [
       "              Neighborhood   ATM  Arcade  Art Gallery  Arts & Crafts Store  \\\n",
       "0     Ahmedabad Cantonment  0.00     0.0         0.25                  0.0   \n",
       "1                Alam Roza  0.00     0.0         0.00                  0.0   \n",
       "2                 Ambawadi  0.00     0.0         0.00                  0.0   \n",
       "3                Amraiwadi  0.75     0.0         0.00                  0.0   \n",
       "4  Anand Nagar (Ahmedabad)  0.00     0.0         0.00                  0.0   \n",
       "\n",
       "   Asian Restaurant  BBQ Joint    Bakery  Big Box Store  Bistro  \\\n",
       "0          0.000000   0.000000  0.000000            0.0     0.0   \n",
       "1          0.333333   0.000000  0.000000            0.0     0.0   \n",
       "2          0.000000   0.000000  0.000000            0.0     0.0   \n",
       "3          0.000000   0.000000  0.000000            0.0     0.0   \n",
       "4          0.000000   0.117647  0.058824            0.0     0.0   \n",
       "\n",
       "   Boat or Ferry  Bookstore  Breakfast Spot  Bus Station  Business Service  \\\n",
       "0            0.0        0.0             0.0          0.0               0.0   \n",
       "1            0.0        0.0             0.0          0.0               0.0   \n",
       "2            0.0        0.0             0.0          0.0               0.0   \n",
       "3            0.0        0.0             0.0          0.0               0.0   \n",
       "4            0.0        0.0             0.0          0.0               0.0   \n",
       "\n",
       "       Café  Castle  Child Care Service  Chinese Restaurant  Clothing Store  \\\n",
       "0  0.000000    0.25                 0.0                 0.0        0.000000   \n",
       "1  0.000000    0.00                 0.0                 0.0        0.000000   \n",
       "2  0.333333    0.00                 0.0                 0.0        0.000000   \n",
       "3  0.000000    0.00                 0.0                 0.0        0.000000   \n",
       "4  0.058824    0.00                 0.0                 0.0        0.058824   \n",
       "\n",
       "   Coffee Shop  Construction & Landscaping  Convenience Store  Cupcake Shop  \\\n",
       "0          0.0                         0.0                0.0           0.0   \n",
       "1          0.0                         0.0                0.0           0.0   \n",
       "2          0.0                         0.0                0.0           0.0   \n",
       "3          0.0                         0.0                0.0           0.0   \n",
       "4          0.0                         0.0                0.0           0.0   \n",
       "\n",
       "   Department Store  Dessert Shop     Diner  Donut Shop  Electronics Store  \\\n",
       "0               0.0           0.0  0.000000         0.0                0.0   \n",
       "1               0.0           0.0  0.000000         0.0                0.0   \n",
       "2               0.0           0.0  0.000000         0.0                0.0   \n",
       "3               0.0           0.0  0.000000         0.0                0.0   \n",
       "4               0.0           0.0  0.058824         0.0                0.0   \n",
       "\n",
       "   Farmers Market  Fast Food Restaurant  Flea Market  Food Court  Food Truck  \\\n",
       "0             0.0              0.000000          0.0         0.0         0.0   \n",
       "1             0.0              0.000000          0.0         0.0         0.0   \n",
       "2             0.0              0.000000          0.0         0.0         0.0   \n",
       "3             0.0              0.000000          0.0         0.0         0.0   \n",
       "4             0.0              0.176471          0.0         0.0         0.0   \n",
       "\n",
       "   Furniture / Home Store  Garden  Gas Station  Gourmet Shop  Gym  \\\n",
       "0                     0.0     0.0          0.0           0.0  0.0   \n",
       "1                     0.0     0.0          0.0           0.0  0.0   \n",
       "2                     0.0     0.0          0.0           0.0  0.0   \n",
       "3                     0.0     0.0          0.0           0.0  0.0   \n",
       "4                     0.0     0.0          0.0           0.0  0.0   \n",
       "\n",
       "   Historic Site  History Museum  Hotel  IT Services  Ice Cream Shop  \\\n",
       "0            0.0             0.0    0.0          0.0        0.000000   \n",
       "1            0.0             0.0    0.0          0.0        0.333333   \n",
       "2            0.0             0.0    0.0          0.0        0.000000   \n",
       "3            0.0             0.0    0.0          0.0        0.000000   \n",
       "4            0.0             0.0    0.0          0.0        0.000000   \n",
       "\n",
       "   Indian Restaurant  Jewelry Store  Juice Bar      Lake  Light Rail Station  \\\n",
       "0           0.000000            0.0        0.0  0.000000                 0.0   \n",
       "1           0.000000            0.0        0.0  0.333333                 0.0   \n",
       "2           0.333333            0.0        0.0  0.000000                 0.0   \n",
       "3           0.250000            0.0        0.0  0.000000                 0.0   \n",
       "4           0.117647            0.0        0.0  0.000000                 0.0   \n",
       "\n",
       "   Liquor Store  Mediterranean Restaurant  Men's Store  Mexican Restaurant  \\\n",
       "0           0.0                       0.0          0.0            0.000000   \n",
       "1           0.0                       0.0          0.0            0.000000   \n",
       "2           0.0                       0.0          0.0            0.000000   \n",
       "3           0.0                       0.0          0.0            0.000000   \n",
       "4           0.0                       0.0          0.0            0.058824   \n",
       "\n",
       "   Motel  Moving Target  Multiplex  Office  Optical Shop  Park  Pharmacy  \\\n",
       "0    0.0            0.0        0.0     0.0           0.0  0.25       0.0   \n",
       "1    0.0            0.0        0.0     0.0           0.0  0.00       0.0   \n",
       "2    0.0            0.0        0.0     0.0           0.0  0.00       0.0   \n",
       "3    0.0            0.0        0.0     0.0           0.0  0.00       0.0   \n",
       "4    0.0            0.0        0.0     0.0           0.0  0.00       0.0   \n",
       "\n",
       "   Pier  Pizza Place  Platform  Rental Car Location  Rest Area  Restaurant  \\\n",
       "0   0.0     0.000000       0.0                  0.0        0.0    0.000000   \n",
       "1   0.0     0.000000       0.0                  0.0        0.0    0.000000   \n",
       "2   0.0     0.000000       0.0                  0.0        0.0    0.000000   \n",
       "3   0.0     0.000000       0.0                  0.0        0.0    0.000000   \n",
       "4   0.0     0.058824       0.0                  0.0        0.0    0.058824   \n",
       "\n",
       "   River  Sandwich Place  Shoe Store  Shopping Mall  Smoke Shop  Snack Place  \\\n",
       "0   0.25             0.0         0.0            0.0         0.0          0.0   \n",
       "1   0.00             0.0         0.0            0.0         0.0          0.0   \n",
       "2   0.00             0.0         0.0            0.0         0.0          0.0   \n",
       "3   0.00             0.0         0.0            0.0         0.0          0.0   \n",
       "4   0.00             0.0         0.0            0.0         0.0          0.0   \n",
       "\n",
       "   South Indian Restaurant  Sporting Goods Shop  Tea Room  Toy / Game Store  \\\n",
       "0                      0.0             0.000000  0.000000               0.0   \n",
       "1                      0.0             0.000000  0.000000               0.0   \n",
       "2                      0.0             0.333333  0.000000               0.0   \n",
       "3                      0.0             0.000000  0.000000               0.0   \n",
       "4                      0.0             0.000000  0.058824               0.0   \n",
       "\n",
       "   Train Station  Vegetarian / Vegan Restaurant  Video Store  Yoga Studio  \n",
       "0            0.0                       0.000000          0.0     0.000000  \n",
       "1            0.0                       0.000000          0.0     0.000000  \n",
       "2            0.0                       0.000000          0.0     0.000000  \n",
       "3            0.0                       0.000000          0.0     0.000000  \n",
       "4            0.0                       0.058824          0.0     0.058824  "
      ]
     },
     "execution_count": 49,
     "metadata": {},
     "output_type": "execute_result"
    }
   ],
   "source": [
    "ahmedabad_grouped = ahmedabad_onehot.groupby('Neighborhood').mean().reset_index()\n",
    "ahmedabad_grouped.head()"
   ]
  },
  {
   "cell_type": "code",
   "execution_count": 51,
   "metadata": {},
   "outputs": [
    {
     "data": {
      "text/plain": [
       "(47, 80)"
      ]
     },
     "execution_count": 51,
     "metadata": {},
     "output_type": "execute_result"
    }
   ],
   "source": [
    "ahmedabad_grouped.shape"
   ]
  },
  {
   "cell_type": "code",
   "execution_count": 52,
   "metadata": {},
   "outputs": [
    {
     "name": "stdout",
     "output_type": "stream",
     "text": [
      "----Ahmedabad Cantonment----\n",
      "         venue  freq\n",
      "0  Art Gallery  0.25\n",
      "1         Park  0.25\n",
      "2        River  0.25\n",
      "3       Castle  0.25\n",
      "4          ATM  0.00\n",
      "\n",
      "\n",
      "----Alam Roza----\n",
      "                venue  freq\n",
      "0      Ice Cream Shop  0.33\n",
      "1    Asian Restaurant  0.33\n",
      "2                Lake  0.33\n",
      "3                 ATM  0.00\n",
      "4  Mexican Restaurant  0.00\n",
      "\n",
      "\n",
      "----Ambawadi----\n",
      "                 venue  freq\n",
      "0    Indian Restaurant  0.33\n",
      "1  Sporting Goods Shop  0.33\n",
      "2                 Café  0.33\n",
      "3                  ATM  0.00\n",
      "4   Mexican Restaurant  0.00\n",
      "\n",
      "\n",
      "----Amraiwadi----\n",
      "               venue  freq\n",
      "0                ATM  0.75\n",
      "1  Indian Restaurant  0.25\n",
      "2        Men's Store  0.00\n",
      "3               Park  0.00\n",
      "4       Optical Shop  0.00\n",
      "\n",
      "\n",
      "----Anand Nagar (Ahmedabad)----\n",
      "                  venue  freq\n",
      "0  Fast Food Restaurant  0.18\n",
      "1     Indian Restaurant  0.12\n",
      "2             BBQ Joint  0.12\n",
      "3           Yoga Studio  0.06\n",
      "4    Mexican Restaurant  0.06\n",
      "\n",
      "\n",
      "----Bapunagar----\n",
      "               venue  freq\n",
      "0                ATM  0.50\n",
      "1  Indian Restaurant  0.25\n",
      "2             Bakery  0.25\n",
      "3        Men's Store  0.00\n",
      "4               Park  0.00\n",
      "\n",
      "\n",
      "----Bhairavnath Road----\n",
      "               venue  freq\n",
      "0                ATM  0.43\n",
      "1  Indian Restaurant  0.29\n",
      "2     Breakfast Spot  0.14\n",
      "3        Pizza Place  0.14\n",
      "4      Train Station  0.00\n",
      "\n",
      "\n",
      "----Bopal----\n",
      "          venue  freq\n",
      "0          Park   1.0\n",
      "1           ATM   0.0\n",
      "2   Men's Store   0.0\n",
      "3  Optical Shop   0.0\n",
      "4        Office   0.0\n",
      "\n",
      "\n",
      "----Chandkheda----\n",
      "                venue  freq\n",
      "0      Ice Cream Shop   0.4\n",
      "1         Pizza Place   0.2\n",
      "2   Indian Restaurant   0.2\n",
      "3      Farmers Market   0.2\n",
      "4  Mexican Restaurant   0.0\n",
      "\n",
      "\n",
      "----Chandlodiya----\n",
      "                 venue  freq\n",
      "0                  ATM  0.25\n",
      "1             Platform  0.25\n",
      "2        Train Station  0.25\n",
      "3  Rental Car Location  0.25\n",
      "4          Men's Store  0.00\n",
      "\n",
      "\n",
      "----Dariapur (Ahmedabad)----\n",
      "               venue  freq\n",
      "0               Pier  0.33\n",
      "1       Dessert Shop  0.33\n",
      "2        Pizza Place  0.33\n",
      "3  Indian Restaurant  0.00\n",
      "4              Motel  0.00\n",
      "\n",
      "\n",
      "----Ghatlodiya----\n",
      "                venue  freq\n",
      "0            Pharmacy  0.25\n",
      "1      Ice Cream Shop  0.25\n",
      "2    Department Store  0.25\n",
      "3                Lake  0.25\n",
      "4  Mexican Restaurant  0.00\n",
      "\n",
      "\n",
      "----Ghodasar----\n",
      "               venue  freq\n",
      "0                ATM  0.17\n",
      "1       Liquor Store  0.17\n",
      "2       Optical Shop  0.17\n",
      "3          Rest Area  0.17\n",
      "4  Convenience Store  0.17\n",
      "\n",
      "\n",
      "----Girdharnagar----\n",
      "                venue  freq\n",
      "0      History Museum   0.5\n",
      "1         Yoga Studio   0.5\n",
      "2         Art Gallery   0.0\n",
      "3  Mexican Restaurant   0.0\n",
      "4            Pharmacy   0.0\n",
      "\n",
      "\n",
      "----Gita Mandir Road----\n",
      "            venue  freq\n",
      "0   Shopping Mall  0.22\n",
      "1     Bus Station  0.22\n",
      "2       Multiplex  0.22\n",
      "3  Clothing Store  0.11\n",
      "4        Tea Room  0.11\n",
      "\n",
      "\n",
      "----Godhavi----\n",
      "          venue  freq\n",
      "0           ATM   1.0\n",
      "1   Men's Store   0.0\n",
      "2          Park   0.0\n",
      "3  Optical Shop   0.0\n",
      "4        Office   0.0\n",
      "\n",
      "\n",
      "----Gota, Gujarat----\n",
      "          venue  freq\n",
      "0      Tea Room   1.0\n",
      "1           ATM   0.0\n",
      "2   Men's Store   0.0\n",
      "3          Park   0.0\n",
      "4  Optical Shop   0.0\n",
      "\n",
      "\n",
      "----Isanpur----\n",
      "               venue  freq\n",
      "0  Indian Restaurant  0.33\n",
      "1       Dessert Shop  0.33\n",
      "2   Business Service  0.33\n",
      "3                ATM  0.00\n",
      "4              Motel  0.00\n",
      "\n",
      "\n",
      "----Jamalpur, Gujarat----\n",
      "           venue  freq\n",
      "0          Motel   0.5\n",
      "1  Boat or Ferry   0.5\n",
      "2            ATM   0.0\n",
      "3    Men's Store   0.0\n",
      "4           Park   0.0\n",
      "\n",
      "\n",
      "----Jawahar Chowk----\n",
      "                  venue  freq\n",
      "0        Ice Cream Shop   0.2\n",
      "1           Pizza Place   0.2\n",
      "2           Gas Station   0.2\n",
      "3     Electronics Store   0.2\n",
      "4  Fast Food Restaurant   0.2\n",
      "\n",
      "\n",
      "----Jodhpur, Gujarat----\n",
      "              venue  freq\n",
      "0  Asian Restaurant  0.29\n",
      "1          Pharmacy  0.14\n",
      "2      Dessert Shop  0.14\n",
      "3        Restaurant  0.14\n",
      "4              Café  0.14\n",
      "\n",
      "\n",
      "----Kalupur----\n",
      "               venue  freq\n",
      "0  Indian Restaurant  0.33\n",
      "1   Asian Restaurant  0.17\n",
      "2      Train Station  0.17\n",
      "3     Clothing Store  0.17\n",
      "4        Men's Store  0.17\n",
      "\n",
      "\n",
      "----Khadia, Ahmedabad----\n",
      "                  venue  freq\n",
      "0                 Hotel   0.2\n",
      "1         Historic Site   0.2\n",
      "2     Electronics Store   0.2\n",
      "3           Snack Place   0.2\n",
      "4  Fast Food Restaurant   0.2\n",
      "\n",
      "\n",
      "----Khokhra----\n",
      "               venue  freq\n",
      "0        IT Services   0.5\n",
      "1  Indian Restaurant   0.5\n",
      "2        Men's Store   0.0\n",
      "3               Park   0.0\n",
      "4       Optical Shop   0.0\n",
      "\n",
      "\n",
      "----Makarba----\n",
      "                venue  freq\n",
      "0         Art Gallery  0.33\n",
      "1  Child Care Service  0.33\n",
      "2              Office  0.33\n",
      "3                 ATM  0.00\n",
      "4  Mexican Restaurant  0.00\n",
      "\n",
      "\n",
      "----Maninagar----\n",
      "                  venue  freq\n",
      "0  Fast Food Restaurant  0.29\n",
      "1           Pizza Place  0.14\n",
      "2        Clothing Store  0.14\n",
      "3     Indian Restaurant  0.14\n",
      "4     Electronics Store  0.14\n",
      "\n",
      "\n",
      "----Memnagar----\n",
      "                  venue  freq\n",
      "0     Indian Restaurant  0.25\n",
      "1  Fast Food Restaurant  0.25\n",
      "2                 Hotel  0.12\n",
      "3           Pizza Place  0.12\n",
      "4     Electronics Store  0.12\n",
      "\n",
      "\n",
      "----Motera----\n",
      "           venue  freq\n",
      "0  Jewelry Store   1.0\n",
      "1            ATM   0.0\n",
      "2    Men's Store   0.0\n",
      "3           Park   0.0\n",
      "4   Optical Shop   0.0\n",
      "\n",
      "\n",
      "----Naranpura----\n",
      "               venue  freq\n",
      "0     History Museum   0.5\n",
      "1  Indian Restaurant   0.5\n",
      "2        Men's Store   0.0\n",
      "3               Park   0.0\n",
      "4       Optical Shop   0.0\n",
      "\n",
      "\n",
      "----Naroda----\n",
      "                  venue  freq\n",
      "0     Indian Restaurant  0.17\n",
      "1        Breakfast Spot  0.17\n",
      "2                 Diner  0.17\n",
      "3             Multiplex  0.17\n",
      "4  Fast Food Restaurant  0.17\n",
      "\n",
      "\n",
      "----Nava Vadaj----\n",
      "          venue  freq\n",
      "0   Bus Station   1.0\n",
      "1           ATM   0.0\n",
      "2          Pier   0.0\n",
      "3          Park   0.0\n",
      "4  Optical Shop   0.0\n",
      "\n",
      "\n",
      "----Navarangpura----\n",
      "                  venue  freq\n",
      "0     Indian Restaurant  0.25\n",
      "1          Dessert Shop  0.12\n",
      "2             Multiplex  0.12\n",
      "3  Fast Food Restaurant  0.12\n",
      "4        Sandwich Place  0.12\n",
      "\n",
      "\n",
      "----Odhav----\n",
      "                        venue  freq\n",
      "0  Construction & Landscaping   1.0\n",
      "1                       Hotel   0.0\n",
      "2                    Pharmacy   0.0\n",
      "3                        Park   0.0\n",
      "4                Optical Shop   0.0\n",
      "\n",
      "\n",
      "----Paldi----\n",
      "                           venue  freq\n",
      "0           Fast Food Restaurant   0.2\n",
      "1                           Café   0.2\n",
      "2                          Hotel   0.1\n",
      "3  Vegetarian / Vegan Restaurant   0.1\n",
      "4                 Ice Cream Shop   0.1\n",
      "\n",
      "\n",
      "----Ramol----\n",
      "           venue  freq\n",
      "0            ATM   0.5\n",
      "1  Moving Target   0.5\n",
      "2    Men's Store   0.0\n",
      "3           Park   0.0\n",
      "4   Optical Shop   0.0\n",
      "\n",
      "\n",
      "----Ranip----\n",
      "                  venue  freq\n",
      "0  Fast Food Restaurant  0.33\n",
      "1     Indian Restaurant  0.33\n",
      "2             Juice Bar  0.33\n",
      "3                   ATM  0.00\n",
      "4                  Park  0.00\n",
      "\n",
      "\n",
      "----Sabarmati (area)----\n",
      "                     venue  freq\n",
      "0     Fast Food Restaurant   0.2\n",
      "1            Jewelry Store   0.2\n",
      "2  South Indian Restaurant   0.2\n",
      "3                    River   0.2\n",
      "4           Sandwich Place   0.2\n",
      "\n",
      "\n",
      "----Sardarnagar----\n",
      "               venue  freq\n",
      "0        Flea Market   0.5\n",
      "1        Coffee Shop   0.5\n",
      "2  Indian Restaurant   0.0\n",
      "3      Jewelry Store   0.0\n",
      "4           Pharmacy   0.0\n",
      "\n",
      "\n",
      "----Shahibaug----\n",
      "               venue  freq\n",
      "0     History Museum  0.25\n",
      "1  Indian Restaurant  0.25\n",
      "2             Bakery  0.25\n",
      "3              Hotel  0.25\n",
      "4      Jewelry Store  0.00\n",
      "\n",
      "\n",
      "----Shastrinagar----\n",
      "                  venue  freq\n",
      "0     Indian Restaurant  0.25\n",
      "1           Pizza Place  0.17\n",
      "2        Sandwich Place  0.17\n",
      "3                Garden  0.08\n",
      "4  Fast Food Restaurant  0.08\n",
      "\n",
      "\n",
      "----Subhash Bridge----\n",
      "                    venue  freq\n",
      "0       Indian Restaurant  0.50\n",
      "1                  Garden  0.25\n",
      "2  Furniture / Home Store  0.25\n",
      "3                     ATM  0.00\n",
      "4      Mexican Restaurant  0.00\n",
      "\n",
      "\n",
      "----Sukhrampura----\n",
      "          venue  freq\n",
      "0           ATM   1.0\n",
      "1   Men's Store   0.0\n",
      "2          Park   0.0\n",
      "3  Optical Shop   0.0\n",
      "4        Office   0.0\n",
      "\n",
      "\n",
      "----Thaltej----\n",
      "                      venue  freq\n",
      "0            Ice Cream Shop   0.1\n",
      "1  Mediterranean Restaurant   0.1\n",
      "2               Coffee Shop   0.1\n",
      "3                 Multiplex   0.1\n",
      "4            Sandwich Place   0.1\n",
      "\n",
      "\n",
      "----Usmanpura----\n",
      "         venue  freq\n",
      "0         Café  0.12\n",
      "1        Hotel  0.12\n",
      "2       Arcade  0.12\n",
      "3  Coffee Shop  0.12\n",
      "4       Bistro  0.12\n",
      "\n",
      "\n",
      "----Vastral----\n",
      "               venue  freq\n",
      "0        Pizza Place  0.33\n",
      "1  Indian Restaurant  0.33\n",
      "2           Pharmacy  0.33\n",
      "3     Ice Cream Shop  0.00\n",
      "4      Jewelry Store  0.00\n",
      "\n",
      "\n",
      "----Vastrapur----\n",
      "                  venue  freq\n",
      "0  Fast Food Restaurant  0.14\n",
      "1                  Café  0.07\n",
      "2         Shopping Mall  0.07\n",
      "3            Donut Shop  0.07\n",
      "4           Pizza Place  0.07\n",
      "\n",
      "\n",
      "----Vejalpur----\n"
     ]
    },
    {
     "name": "stdout",
     "output_type": "stream",
     "text": [
      "                venue  freq\n",
      "0            Platform   0.5\n",
      "1  Light Rail Station   0.5\n",
      "2                 ATM   0.0\n",
      "3  Mexican Restaurant   0.0\n",
      "4                Park   0.0\n",
      "\n",
      "\n"
     ]
    }
   ],
   "source": [
    "num_top_venues = 5\n",
    "\n",
    "for hood in ahmedabad_grouped['Neighborhood']:\n",
    "    print(\"----\"+hood+\"----\")\n",
    "    temp = ahmedabad_grouped[ahmedabad_grouped['Neighborhood'] == hood].T.reset_index()\n",
    "    temp.columns = ['venue','freq']\n",
    "    temp = temp.iloc[1:]\n",
    "    temp['freq'] = temp['freq'].astype(float)\n",
    "    temp = temp.round({'freq': 2})\n",
    "    print(temp.sort_values('freq', ascending=False).reset_index(drop=True).head(num_top_venues))\n",
    "    print('\\n')"
   ]
  },
  {
   "cell_type": "markdown",
   "metadata": {},
   "source": [
    "Above you can see top most popular venue by frequency in each Neighborhood. Some of them have 0 frequency but that due to lack of venues in that particular region."
   ]
  },
  {
   "cell_type": "code",
   "execution_count": 53,
   "metadata": {},
   "outputs": [],
   "source": [
    "def return_most_common_venues(row, num_top_venues):\n",
    "    row_categories = row.iloc[1:]\n",
    "    row_categories_sorted = row_categories.sort_values(ascending=False)\n",
    "    \n",
    "    return row_categories_sorted.index.values[0:num_top_venues]"
   ]
  },
  {
   "cell_type": "code",
   "execution_count": 123,
   "metadata": {
    "scrolled": true
   },
   "outputs": [
    {
     "data": {
      "text/html": [
       "<div>\n",
       "<style scoped>\n",
       "    .dataframe tbody tr th:only-of-type {\n",
       "        vertical-align: middle;\n",
       "    }\n",
       "\n",
       "    .dataframe tbody tr th {\n",
       "        vertical-align: top;\n",
       "    }\n",
       "\n",
       "    .dataframe thead th {\n",
       "        text-align: right;\n",
       "    }\n",
       "</style>\n",
       "<table border=\"1\" class=\"dataframe\">\n",
       "  <thead>\n",
       "    <tr style=\"text-align: right;\">\n",
       "      <th></th>\n",
       "      <th>Neighborhood</th>\n",
       "      <th>1st Most Common Venue</th>\n",
       "      <th>2nd Most Common Venue</th>\n",
       "      <th>3rd Most Common Venue</th>\n",
       "      <th>4th Most Common Venue</th>\n",
       "      <th>5th Most Common Venue</th>\n",
       "      <th>6th Most Common Venue</th>\n",
       "      <th>7th Most Common Venue</th>\n",
       "      <th>8th Most Common Venue</th>\n",
       "      <th>9th Most Common Venue</th>\n",
       "      <th>10th Most Common Venue</th>\n",
       "    </tr>\n",
       "  </thead>\n",
       "  <tbody>\n",
       "    <tr>\n",
       "      <th>0</th>\n",
       "      <td>Ahmedabad Cantonment</td>\n",
       "      <td>Park</td>\n",
       "      <td>Art Gallery</td>\n",
       "      <td>Castle</td>\n",
       "      <td>River</td>\n",
       "      <td>Donut Shop</td>\n",
       "      <td>Construction &amp; Landscaping</td>\n",
       "      <td>Convenience Store</td>\n",
       "      <td>Cupcake Shop</td>\n",
       "      <td>Department Store</td>\n",
       "      <td>Dessert Shop</td>\n",
       "    </tr>\n",
       "    <tr>\n",
       "      <th>1</th>\n",
       "      <td>Alam Roza</td>\n",
       "      <td>Ice Cream Shop</td>\n",
       "      <td>Asian Restaurant</td>\n",
       "      <td>Lake</td>\n",
       "      <td>Yoga Studio</td>\n",
       "      <td>Farmers Market</td>\n",
       "      <td>Cupcake Shop</td>\n",
       "      <td>Department Store</td>\n",
       "      <td>Dessert Shop</td>\n",
       "      <td>Diner</td>\n",
       "      <td>Donut Shop</td>\n",
       "    </tr>\n",
       "    <tr>\n",
       "      <th>2</th>\n",
       "      <td>Ambawadi</td>\n",
       "      <td>Indian Restaurant</td>\n",
       "      <td>Sporting Goods Shop</td>\n",
       "      <td>Café</td>\n",
       "      <td>Yoga Studio</td>\n",
       "      <td>Electronics Store</td>\n",
       "      <td>Convenience Store</td>\n",
       "      <td>Cupcake Shop</td>\n",
       "      <td>Department Store</td>\n",
       "      <td>Dessert Shop</td>\n",
       "      <td>Diner</td>\n",
       "    </tr>\n",
       "    <tr>\n",
       "      <th>3</th>\n",
       "      <td>Amraiwadi</td>\n",
       "      <td>ATM</td>\n",
       "      <td>Indian Restaurant</td>\n",
       "      <td>Farmers Market</td>\n",
       "      <td>Convenience Store</td>\n",
       "      <td>Cupcake Shop</td>\n",
       "      <td>Department Store</td>\n",
       "      <td>Dessert Shop</td>\n",
       "      <td>Diner</td>\n",
       "      <td>Donut Shop</td>\n",
       "      <td>Electronics Store</td>\n",
       "    </tr>\n",
       "    <tr>\n",
       "      <th>4</th>\n",
       "      <td>Anand Nagar (Ahmedabad)</td>\n",
       "      <td>Fast Food Restaurant</td>\n",
       "      <td>BBQ Joint</td>\n",
       "      <td>Indian Restaurant</td>\n",
       "      <td>Yoga Studio</td>\n",
       "      <td>Diner</td>\n",
       "      <td>Vegetarian / Vegan Restaurant</td>\n",
       "      <td>Clothing Store</td>\n",
       "      <td>Mexican Restaurant</td>\n",
       "      <td>Tea Room</td>\n",
       "      <td>Bakery</td>\n",
       "    </tr>\n",
       "  </tbody>\n",
       "</table>\n",
       "</div>"
      ],
      "text/plain": [
       "              Neighborhood 1st Most Common Venue 2nd Most Common Venue  \\\n",
       "0     Ahmedabad Cantonment                  Park           Art Gallery   \n",
       "1                Alam Roza        Ice Cream Shop      Asian Restaurant   \n",
       "2                 Ambawadi     Indian Restaurant   Sporting Goods Shop   \n",
       "3                Amraiwadi                   ATM     Indian Restaurant   \n",
       "4  Anand Nagar (Ahmedabad)  Fast Food Restaurant             BBQ Joint   \n",
       "\n",
       "  3rd Most Common Venue 4th Most Common Venue 5th Most Common Venue  \\\n",
       "0                Castle                 River            Donut Shop   \n",
       "1                  Lake           Yoga Studio        Farmers Market   \n",
       "2                  Café           Yoga Studio     Electronics Store   \n",
       "3        Farmers Market     Convenience Store          Cupcake Shop   \n",
       "4     Indian Restaurant           Yoga Studio                 Diner   \n",
       "\n",
       "           6th Most Common Venue 7th Most Common Venue 8th Most Common Venue  \\\n",
       "0     Construction & Landscaping     Convenience Store          Cupcake Shop   \n",
       "1                   Cupcake Shop      Department Store          Dessert Shop   \n",
       "2              Convenience Store          Cupcake Shop      Department Store   \n",
       "3               Department Store          Dessert Shop                 Diner   \n",
       "4  Vegetarian / Vegan Restaurant        Clothing Store    Mexican Restaurant   \n",
       "\n",
       "  9th Most Common Venue 10th Most Common Venue  \n",
       "0      Department Store           Dessert Shop  \n",
       "1                 Diner             Donut Shop  \n",
       "2          Dessert Shop                  Diner  \n",
       "3            Donut Shop      Electronics Store  \n",
       "4              Tea Room                 Bakery  "
      ]
     },
     "execution_count": 123,
     "metadata": {},
     "output_type": "execute_result"
    }
   ],
   "source": [
    "num_top_venues = 10\n",
    "\n",
    "indicators = ['st', 'nd', 'rd']\n",
    "\n",
    "# create columns according to number of top venues\n",
    "columns = ['Neighborhood']\n",
    "for ind in np.arange(num_top_venues):\n",
    "    try:\n",
    "        columns.append('{}{} Most Common Venue'.format(ind+1, indicators[ind]))\n",
    "    except:\n",
    "        columns.append('{}th Most Common Venue'.format(ind+1))\n",
    "\n",
    "# create a new dataframe\n",
    "neighborhoods_venues_sorted = pd.DataFrame(columns=columns)\n",
    "neighborhoods_venues_sorted['Neighborhood'] = ahmedabad_grouped['Neighborhood']\n",
    "\n",
    "for ind in np.arange(ahmedabad_grouped.shape[0]):\n",
    "    neighborhoods_venues_sorted.iloc[ind, 1:] = return_most_common_venues(ahmedabad_grouped.iloc[ind, :], num_top_venues)\n",
    "\n",
    "neighborhoods_venues_sorted.head()"
   ]
  },
  {
   "cell_type": "markdown",
   "metadata": {},
   "source": [
    "**Above you can see Top 10 most common venue for each Neighborhood, Now we will cluster them on the basis Venue Similarity**"
   ]
  },
  {
   "cell_type": "markdown",
   "metadata": {},
   "source": [
    "### Clustering"
   ]
  },
  {
   "cell_type": "code",
   "execution_count": 124,
   "metadata": {},
   "outputs": [
    {
     "data": {
      "text/plain": [
       "array([0, 0, 1, 2, 1, 2, 2, 0, 1, 0])"
      ]
     },
     "execution_count": 124,
     "metadata": {},
     "output_type": "execute_result"
    }
   ],
   "source": [
    "# set number of clusters\n",
    "kclusters = 3\n",
    "\n",
    "ahmedabad_grouped_clustering = ahmedabad_grouped.drop('Neighborhood', 1)\n",
    "\n",
    "# run k-means clustering\n",
    "kmeans = KMeans(n_clusters=kclusters, random_state=0).fit(ahmedabad_grouped_clustering)\n",
    "\n",
    "# check cluster labels generated for each row in the dataframe\n",
    "kmeans.labels_[0:10] "
   ]
  },
  {
   "cell_type": "code",
   "execution_count": 125,
   "metadata": {},
   "outputs": [],
   "source": [
    "# add clustering labels\n",
    "neighborhoods_venues_sorted.insert(0, 'Cluster Labels', kmeans.labels_)"
   ]
  },
  {
   "cell_type": "code",
   "execution_count": 126,
   "metadata": {},
   "outputs": [
    {
     "data": {
      "text/html": [
       "<div>\n",
       "<style scoped>\n",
       "    .dataframe tbody tr th:only-of-type {\n",
       "        vertical-align: middle;\n",
       "    }\n",
       "\n",
       "    .dataframe tbody tr th {\n",
       "        vertical-align: top;\n",
       "    }\n",
       "\n",
       "    .dataframe thead th {\n",
       "        text-align: right;\n",
       "    }\n",
       "</style>\n",
       "<table border=\"1\" class=\"dataframe\">\n",
       "  <thead>\n",
       "    <tr style=\"text-align: right;\">\n",
       "      <th></th>\n",
       "      <th>Neighborhood</th>\n",
       "      <th>Latitude</th>\n",
       "      <th>Longitude</th>\n",
       "      <th>Cluster Labels</th>\n",
       "      <th>1st Most Common Venue</th>\n",
       "      <th>2nd Most Common Venue</th>\n",
       "      <th>3rd Most Common Venue</th>\n",
       "      <th>4th Most Common Venue</th>\n",
       "      <th>5th Most Common Venue</th>\n",
       "      <th>6th Most Common Venue</th>\n",
       "      <th>7th Most Common Venue</th>\n",
       "      <th>8th Most Common Venue</th>\n",
       "      <th>9th Most Common Venue</th>\n",
       "      <th>10th Most Common Venue</th>\n",
       "    </tr>\n",
       "  </thead>\n",
       "  <tbody>\n",
       "    <tr>\n",
       "      <th>0</th>\n",
       "      <td>Ahmedabad Cantonment</td>\n",
       "      <td>23.0216</td>\n",
       "      <td>72.5797</td>\n",
       "      <td>0</td>\n",
       "      <td>Park</td>\n",
       "      <td>Art Gallery</td>\n",
       "      <td>Castle</td>\n",
       "      <td>River</td>\n",
       "      <td>Donut Shop</td>\n",
       "      <td>Construction &amp; Landscaping</td>\n",
       "      <td>Convenience Store</td>\n",
       "      <td>Cupcake Shop</td>\n",
       "      <td>Department Store</td>\n",
       "      <td>Dessert Shop</td>\n",
       "    </tr>\n",
       "    <tr>\n",
       "      <th>1</th>\n",
       "      <td>Alam Roza</td>\n",
       "      <td>22.9941</td>\n",
       "      <td>72.5896</td>\n",
       "      <td>0</td>\n",
       "      <td>Ice Cream Shop</td>\n",
       "      <td>Asian Restaurant</td>\n",
       "      <td>Lake</td>\n",
       "      <td>Yoga Studio</td>\n",
       "      <td>Farmers Market</td>\n",
       "      <td>Cupcake Shop</td>\n",
       "      <td>Department Store</td>\n",
       "      <td>Dessert Shop</td>\n",
       "      <td>Diner</td>\n",
       "      <td>Donut Shop</td>\n",
       "    </tr>\n",
       "    <tr>\n",
       "      <th>2</th>\n",
       "      <td>Ambawadi</td>\n",
       "      <td>23.0226</td>\n",
       "      <td>72.5491</td>\n",
       "      <td>1</td>\n",
       "      <td>Indian Restaurant</td>\n",
       "      <td>Sporting Goods Shop</td>\n",
       "      <td>Café</td>\n",
       "      <td>Yoga Studio</td>\n",
       "      <td>Electronics Store</td>\n",
       "      <td>Convenience Store</td>\n",
       "      <td>Cupcake Shop</td>\n",
       "      <td>Department Store</td>\n",
       "      <td>Dessert Shop</td>\n",
       "      <td>Diner</td>\n",
       "    </tr>\n",
       "    <tr>\n",
       "      <th>3</th>\n",
       "      <td>Amraiwadi</td>\n",
       "      <td>23.0058</td>\n",
       "      <td>72.627</td>\n",
       "      <td>2</td>\n",
       "      <td>ATM</td>\n",
       "      <td>Indian Restaurant</td>\n",
       "      <td>Farmers Market</td>\n",
       "      <td>Convenience Store</td>\n",
       "      <td>Cupcake Shop</td>\n",
       "      <td>Department Store</td>\n",
       "      <td>Dessert Shop</td>\n",
       "      <td>Diner</td>\n",
       "      <td>Donut Shop</td>\n",
       "      <td>Electronics Store</td>\n",
       "    </tr>\n",
       "    <tr>\n",
       "      <th>4</th>\n",
       "      <td>Anand Nagar (Ahmedabad)</td>\n",
       "      <td>23.0111</td>\n",
       "      <td>72.5137</td>\n",
       "      <td>1</td>\n",
       "      <td>Fast Food Restaurant</td>\n",
       "      <td>BBQ Joint</td>\n",
       "      <td>Indian Restaurant</td>\n",
       "      <td>Yoga Studio</td>\n",
       "      <td>Diner</td>\n",
       "      <td>Vegetarian / Vegan Restaurant</td>\n",
       "      <td>Clothing Store</td>\n",
       "      <td>Mexican Restaurant</td>\n",
       "      <td>Tea Room</td>\n",
       "      <td>Bakery</td>\n",
       "    </tr>\n",
       "  </tbody>\n",
       "</table>\n",
       "</div>"
      ],
      "text/plain": [
       "              Neighborhood Latitude Longitude  Cluster Labels  \\\n",
       "0     Ahmedabad Cantonment  23.0216   72.5797               0   \n",
       "1                Alam Roza  22.9941   72.5896               0   \n",
       "2                 Ambawadi  23.0226   72.5491               1   \n",
       "3                Amraiwadi  23.0058    72.627               2   \n",
       "4  Anand Nagar (Ahmedabad)  23.0111   72.5137               1   \n",
       "\n",
       "  1st Most Common Venue 2nd Most Common Venue 3rd Most Common Venue  \\\n",
       "0                  Park           Art Gallery                Castle   \n",
       "1        Ice Cream Shop      Asian Restaurant                  Lake   \n",
       "2     Indian Restaurant   Sporting Goods Shop                  Café   \n",
       "3                   ATM     Indian Restaurant        Farmers Market   \n",
       "4  Fast Food Restaurant             BBQ Joint     Indian Restaurant   \n",
       "\n",
       "  4th Most Common Venue 5th Most Common Venue          6th Most Common Venue  \\\n",
       "0                 River            Donut Shop     Construction & Landscaping   \n",
       "1           Yoga Studio        Farmers Market                   Cupcake Shop   \n",
       "2           Yoga Studio     Electronics Store              Convenience Store   \n",
       "3     Convenience Store          Cupcake Shop               Department Store   \n",
       "4           Yoga Studio                 Diner  Vegetarian / Vegan Restaurant   \n",
       "\n",
       "  7th Most Common Venue 8th Most Common Venue 9th Most Common Venue  \\\n",
       "0     Convenience Store          Cupcake Shop      Department Store   \n",
       "1      Department Store          Dessert Shop                 Diner   \n",
       "2          Cupcake Shop      Department Store          Dessert Shop   \n",
       "3          Dessert Shop                 Diner            Donut Shop   \n",
       "4        Clothing Store    Mexican Restaurant              Tea Room   \n",
       "\n",
       "  10th Most Common Venue  \n",
       "0           Dessert Shop  \n",
       "1             Donut Shop  \n",
       "2                  Diner  \n",
       "3      Electronics Store  \n",
       "4                 Bakery  "
      ]
     },
     "execution_count": 126,
     "metadata": {},
     "output_type": "execute_result"
    }
   ],
   "source": [
    "ahmedabad_merged = data\n",
    "\n",
    "# merge toronto_grouped with toronto_data to add latitude/longitude for each neighborhood\n",
    "ahmedabad_merged = ahmedabad_merged.join(neighborhoods_venues_sorted.set_index('Neighborhood'), on='Neighborhood')\n",
    "ahmedabad_merged.dropna(inplace = True)\n",
    "ahmedabad_merged['Cluster Labels'] = ahmedabad_merged['Cluster Labels'].astype('int32')\n",
    "ahmedabad_merged.head() # check the last columns!"
   ]
  },
  {
   "cell_type": "code",
   "execution_count": 127,
   "metadata": {},
   "outputs": [
    {
     "data": {
      "text/html": [
       "<div style=\"width:100%;\"><div style=\"position:relative;width:100%;height:0;padding-bottom:60%;\"><iframe src=\"about:blank\" style=\"position:absolute;width:100%;height:100%;left:0;top:0;border:none !important;\" data-html=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 onload=\"this.contentDocument.open();this.contentDocument.write(atob(this.getAttribute('data-html')));this.contentDocument.close();\" allowfullscreen webkitallowfullscreen mozallowfullscreen></iframe></div></div>"
      ],
      "text/plain": [
       "<folium.folium.Map at 0x28644362da0>"
      ]
     },
     "execution_count": 127,
     "metadata": {},
     "output_type": "execute_result"
    }
   ],
   "source": [
    "# create map\n",
    "map_clusters = folium.Map(location=[latitude, longitude], zoom_start=11)\n",
    "\n",
    "# set color scheme for the clusters\n",
    "x = np.arange(kclusters)\n",
    "ys = [i + x + (i*x)**2 for i in range(kclusters)]\n",
    "colors_array = cm.rainbow(np.linspace(0, 1, len(ys)))\n",
    "rainbow = [colors.rgb2hex(i) for i in colors_array]\n",
    "\n",
    "# add markers to the map\n",
    "markers_colors = []\n",
    "for lat, lon, poi, cluster in zip(ahmedabad_merged['Latitude'], ahmedabad_merged['Longitude'], ahmedabad_merged['Neighborhood'], ahmedabad_merged['Cluster Labels']):\n",
    "    label = folium.Popup(str(poi) + ' Cluster ' + str(cluster), parse_html=True)\n",
    "    folium.CircleMarker(\n",
    "        [lat, lon],\n",
    "        radius=5,\n",
    "        popup=label,\n",
    "        color=rainbow[cluster-1],\n",
    "        fill=True,\n",
    "        fill_color=rainbow[cluster-1],\n",
    "        fill_opacity=0.7).add_to(map_clusters)\n",
    "       \n",
    "map_clusters"
   ]
  },
  {
   "cell_type": "markdown",
   "metadata": {},
   "source": [
    "### Examining Each Clusters\n",
    "There are 5 Clusters, now we will explore each cluster."
   ]
  },
  {
   "cell_type": "code",
   "execution_count": 129,
   "metadata": {
    "scrolled": true
   },
   "outputs": [
    {
     "data": {
      "text/html": [
       "<div>\n",
       "<style scoped>\n",
       "    .dataframe tbody tr th:only-of-type {\n",
       "        vertical-align: middle;\n",
       "    }\n",
       "\n",
       "    .dataframe tbody tr th {\n",
       "        vertical-align: top;\n",
       "    }\n",
       "\n",
       "    .dataframe thead th {\n",
       "        text-align: right;\n",
       "    }\n",
       "</style>\n",
       "<table border=\"1\" class=\"dataframe\">\n",
       "  <thead>\n",
       "    <tr style=\"text-align: right;\">\n",
       "      <th></th>\n",
       "      <th>Neighborhood</th>\n",
       "      <th>1st Most Common Venue</th>\n",
       "      <th>2nd Most Common Venue</th>\n",
       "      <th>3rd Most Common Venue</th>\n",
       "      <th>4th Most Common Venue</th>\n",
       "      <th>5th Most Common Venue</th>\n",
       "      <th>6th Most Common Venue</th>\n",
       "      <th>7th Most Common Venue</th>\n",
       "      <th>8th Most Common Venue</th>\n",
       "      <th>9th Most Common Venue</th>\n",
       "      <th>10th Most Common Venue</th>\n",
       "    </tr>\n",
       "  </thead>\n",
       "  <tbody>\n",
       "    <tr>\n",
       "      <th>0</th>\n",
       "      <td>Ahmedabad Cantonment</td>\n",
       "      <td>Park</td>\n",
       "      <td>Art Gallery</td>\n",
       "      <td>Castle</td>\n",
       "      <td>River</td>\n",
       "      <td>Donut Shop</td>\n",
       "      <td>Construction &amp; Landscaping</td>\n",
       "      <td>Convenience Store</td>\n",
       "      <td>Cupcake Shop</td>\n",
       "      <td>Department Store</td>\n",
       "      <td>Dessert Shop</td>\n",
       "    </tr>\n",
       "    <tr>\n",
       "      <th>1</th>\n",
       "      <td>Alam Roza</td>\n",
       "      <td>Ice Cream Shop</td>\n",
       "      <td>Asian Restaurant</td>\n",
       "      <td>Lake</td>\n",
       "      <td>Yoga Studio</td>\n",
       "      <td>Farmers Market</td>\n",
       "      <td>Cupcake Shop</td>\n",
       "      <td>Department Store</td>\n",
       "      <td>Dessert Shop</td>\n",
       "      <td>Diner</td>\n",
       "      <td>Donut Shop</td>\n",
       "    </tr>\n",
       "    <tr>\n",
       "      <th>9</th>\n",
       "      <td>Bopal</td>\n",
       "      <td>Park</td>\n",
       "      <td>Historic Site</td>\n",
       "      <td>Construction &amp; Landscaping</td>\n",
       "      <td>Convenience Store</td>\n",
       "      <td>Cupcake Shop</td>\n",
       "      <td>Department Store</td>\n",
       "      <td>Dessert Shop</td>\n",
       "      <td>Diner</td>\n",
       "      <td>Donut Shop</td>\n",
       "      <td>Electronics Store</td>\n",
       "    </tr>\n",
       "    <tr>\n",
       "      <th>11</th>\n",
       "      <td>Chandlodiya</td>\n",
       "      <td>ATM</td>\n",
       "      <td>Train Station</td>\n",
       "      <td>Platform</td>\n",
       "      <td>Rental Car Location</td>\n",
       "      <td>Donut Shop</td>\n",
       "      <td>Construction &amp; Landscaping</td>\n",
       "      <td>Convenience Store</td>\n",
       "      <td>Cupcake Shop</td>\n",
       "      <td>Department Store</td>\n",
       "      <td>Dessert Shop</td>\n",
       "    </tr>\n",
       "    <tr>\n",
       "      <th>12</th>\n",
       "      <td>Dariapur (Ahmedabad)</td>\n",
       "      <td>Pier</td>\n",
       "      <td>Pizza Place</td>\n",
       "      <td>Dessert Shop</td>\n",
       "      <td>Yoga Studio</td>\n",
       "      <td>Donut Shop</td>\n",
       "      <td>Construction &amp; Landscaping</td>\n",
       "      <td>Convenience Store</td>\n",
       "      <td>Cupcake Shop</td>\n",
       "      <td>Department Store</td>\n",
       "      <td>Diner</td>\n",
       "    </tr>\n",
       "    <tr>\n",
       "      <th>13</th>\n",
       "      <td>Ghatlodiya</td>\n",
       "      <td>Pharmacy</td>\n",
       "      <td>Department Store</td>\n",
       "      <td>Ice Cream Shop</td>\n",
       "      <td>Lake</td>\n",
       "      <td>Farmers Market</td>\n",
       "      <td>Convenience Store</td>\n",
       "      <td>Cupcake Shop</td>\n",
       "      <td>Dessert Shop</td>\n",
       "      <td>Diner</td>\n",
       "      <td>Donut Shop</td>\n",
       "    </tr>\n",
       "    <tr>\n",
       "      <th>14</th>\n",
       "      <td>Ghodasar</td>\n",
       "      <td>ATM</td>\n",
       "      <td>Liquor Store</td>\n",
       "      <td>Convenience Store</td>\n",
       "      <td>Rest Area</td>\n",
       "      <td>Smoke Shop</td>\n",
       "      <td>Optical Shop</td>\n",
       "      <td>Construction &amp; Landscaping</td>\n",
       "      <td>Cupcake Shop</td>\n",
       "      <td>Department Store</td>\n",
       "      <td>Dessert Shop</td>\n",
       "    </tr>\n",
       "    <tr>\n",
       "      <th>15</th>\n",
       "      <td>Girdharnagar</td>\n",
       "      <td>Yoga Studio</td>\n",
       "      <td>History Museum</td>\n",
       "      <td>Vegetarian / Vegan Restaurant</td>\n",
       "      <td>Electronics Store</td>\n",
       "      <td>Construction &amp; Landscaping</td>\n",
       "      <td>Convenience Store</td>\n",
       "      <td>Cupcake Shop</td>\n",
       "      <td>Department Store</td>\n",
       "      <td>Dessert Shop</td>\n",
       "      <td>Diner</td>\n",
       "    </tr>\n",
       "    <tr>\n",
       "      <th>16</th>\n",
       "      <td>Gita Mandir Road</td>\n",
       "      <td>Multiplex</td>\n",
       "      <td>Bus Station</td>\n",
       "      <td>Shopping Mall</td>\n",
       "      <td>Clothing Store</td>\n",
       "      <td>Tea Room</td>\n",
       "      <td>Fast Food Restaurant</td>\n",
       "      <td>Donut Shop</td>\n",
       "      <td>Convenience Store</td>\n",
       "      <td>Cupcake Shop</td>\n",
       "      <td>Department Store</td>\n",
       "    </tr>\n",
       "    <tr>\n",
       "      <th>19</th>\n",
       "      <td>Gota, Gujarat</td>\n",
       "      <td>Tea Room</td>\n",
       "      <td>Yoga Studio</td>\n",
       "      <td>Farmers Market</td>\n",
       "      <td>Convenience Store</td>\n",
       "      <td>Cupcake Shop</td>\n",
       "      <td>Department Store</td>\n",
       "      <td>Dessert Shop</td>\n",
       "      <td>Diner</td>\n",
       "      <td>Donut Shop</td>\n",
       "      <td>Electronics Store</td>\n",
       "    </tr>\n",
       "    <tr>\n",
       "      <th>21</th>\n",
       "      <td>Jamalpur, Gujarat</td>\n",
       "      <td>Boat or Ferry</td>\n",
       "      <td>Motel</td>\n",
       "      <td>Construction &amp; Landscaping</td>\n",
       "      <td>Cupcake Shop</td>\n",
       "      <td>Department Store</td>\n",
       "      <td>Dessert Shop</td>\n",
       "      <td>Diner</td>\n",
       "      <td>Donut Shop</td>\n",
       "      <td>Electronics Store</td>\n",
       "      <td>Farmers Market</td>\n",
       "    </tr>\n",
       "    <tr>\n",
       "      <th>22</th>\n",
       "      <td>Jawahar Chowk</td>\n",
       "      <td>Gas Station</td>\n",
       "      <td>Pizza Place</td>\n",
       "      <td>Ice Cream Shop</td>\n",
       "      <td>Fast Food Restaurant</td>\n",
       "      <td>Electronics Store</td>\n",
       "      <td>Yoga Studio</td>\n",
       "      <td>Donut Shop</td>\n",
       "      <td>Convenience Store</td>\n",
       "      <td>Cupcake Shop</td>\n",
       "      <td>Department Store</td>\n",
       "    </tr>\n",
       "    <tr>\n",
       "      <th>23</th>\n",
       "      <td>Jodhpur, Gujarat</td>\n",
       "      <td>Asian Restaurant</td>\n",
       "      <td>Pharmacy</td>\n",
       "      <td>Food Truck</td>\n",
       "      <td>Café</td>\n",
       "      <td>Dessert Shop</td>\n",
       "      <td>Restaurant</td>\n",
       "      <td>Donut Shop</td>\n",
       "      <td>Convenience Store</td>\n",
       "      <td>Cupcake Shop</td>\n",
       "      <td>Department Store</td>\n",
       "    </tr>\n",
       "    <tr>\n",
       "      <th>26</th>\n",
       "      <td>Khadia, Ahmedabad</td>\n",
       "      <td>Historic Site</td>\n",
       "      <td>Hotel</td>\n",
       "      <td>Snack Place</td>\n",
       "      <td>Electronics Store</td>\n",
       "      <td>Fast Food Restaurant</td>\n",
       "      <td>Farmers Market</td>\n",
       "      <td>Convenience Store</td>\n",
       "      <td>Cupcake Shop</td>\n",
       "      <td>Department Store</td>\n",
       "      <td>Dessert Shop</td>\n",
       "    </tr>\n",
       "    <tr>\n",
       "      <th>29</th>\n",
       "      <td>Makarba</td>\n",
       "      <td>Office</td>\n",
       "      <td>Art Gallery</td>\n",
       "      <td>Child Care Service</td>\n",
       "      <td>Yoga Studio</td>\n",
       "      <td>Farmers Market</td>\n",
       "      <td>Cupcake Shop</td>\n",
       "      <td>Department Store</td>\n",
       "      <td>Dessert Shop</td>\n",
       "      <td>Diner</td>\n",
       "      <td>Donut Shop</td>\n",
       "    </tr>\n",
       "    <tr>\n",
       "      <th>32</th>\n",
       "      <td>Motera</td>\n",
       "      <td>Jewelry Store</td>\n",
       "      <td>Yoga Studio</td>\n",
       "      <td>Farmers Market</td>\n",
       "      <td>Convenience Store</td>\n",
       "      <td>Cupcake Shop</td>\n",
       "      <td>Department Store</td>\n",
       "      <td>Dessert Shop</td>\n",
       "      <td>Diner</td>\n",
       "      <td>Donut Shop</td>\n",
       "      <td>Electronics Store</td>\n",
       "    </tr>\n",
       "    <tr>\n",
       "      <th>35</th>\n",
       "      <td>Nava Vadaj</td>\n",
       "      <td>Bus Station</td>\n",
       "      <td>Yoga Studio</td>\n",
       "      <td>Coffee Shop</td>\n",
       "      <td>Convenience Store</td>\n",
       "      <td>Cupcake Shop</td>\n",
       "      <td>Department Store</td>\n",
       "      <td>Dessert Shop</td>\n",
       "      <td>Diner</td>\n",
       "      <td>Donut Shop</td>\n",
       "      <td>Electronics Store</td>\n",
       "    </tr>\n",
       "    <tr>\n",
       "      <th>37</th>\n",
       "      <td>Odhav</td>\n",
       "      <td>Construction &amp; Landscaping</td>\n",
       "      <td>Farmers Market</td>\n",
       "      <td>Convenience Store</td>\n",
       "      <td>Cupcake Shop</td>\n",
       "      <td>Department Store</td>\n",
       "      <td>Dessert Shop</td>\n",
       "      <td>Diner</td>\n",
       "      <td>Donut Shop</td>\n",
       "      <td>Electronics Store</td>\n",
       "      <td>Yoga Studio</td>\n",
       "    </tr>\n",
       "    <tr>\n",
       "      <th>38</th>\n",
       "      <td>Paldi</td>\n",
       "      <td>Fast Food Restaurant</td>\n",
       "      <td>Café</td>\n",
       "      <td>Vegetarian / Vegan Restaurant</td>\n",
       "      <td>Tea Room</td>\n",
       "      <td>Hotel</td>\n",
       "      <td>Ice Cream Shop</td>\n",
       "      <td>Bus Station</td>\n",
       "      <td>Sandwich Place</td>\n",
       "      <td>Electronics Store</td>\n",
       "      <td>Cupcake Shop</td>\n",
       "    </tr>\n",
       "    <tr>\n",
       "      <th>42</th>\n",
       "      <td>Sabarmati (area)</td>\n",
       "      <td>River</td>\n",
       "      <td>South Indian Restaurant</td>\n",
       "      <td>Jewelry Store</td>\n",
       "      <td>Fast Food Restaurant</td>\n",
       "      <td>Sandwich Place</td>\n",
       "      <td>Yoga Studio</td>\n",
       "      <td>Construction &amp; Landscaping</td>\n",
       "      <td>Convenience Store</td>\n",
       "      <td>Cupcake Shop</td>\n",
       "      <td>Department Store</td>\n",
       "    </tr>\n",
       "    <tr>\n",
       "      <th>43</th>\n",
       "      <td>Sardarnagar</td>\n",
       "      <td>Flea Market</td>\n",
       "      <td>Coffee Shop</td>\n",
       "      <td>Yoga Studio</td>\n",
       "      <td>Electronics Store</td>\n",
       "      <td>Convenience Store</td>\n",
       "      <td>Cupcake Shop</td>\n",
       "      <td>Department Store</td>\n",
       "      <td>Dessert Shop</td>\n",
       "      <td>Diner</td>\n",
       "      <td>Donut Shop</td>\n",
       "    </tr>\n",
       "    <tr>\n",
       "      <th>49</th>\n",
       "      <td>Thaltej</td>\n",
       "      <td>Sandwich Place</td>\n",
       "      <td>Big Box Store</td>\n",
       "      <td>Coffee Shop</td>\n",
       "      <td>Mediterranean Restaurant</td>\n",
       "      <td>Pizza Place</td>\n",
       "      <td>Café</td>\n",
       "      <td>Shopping Mall</td>\n",
       "      <td>Indian Restaurant</td>\n",
       "      <td>Multiplex</td>\n",
       "      <td>Ice Cream Shop</td>\n",
       "    </tr>\n",
       "    <tr>\n",
       "      <th>50</th>\n",
       "      <td>Usmanpura</td>\n",
       "      <td>River</td>\n",
       "      <td>Arcade</td>\n",
       "      <td>Hotel</td>\n",
       "      <td>Coffee Shop</td>\n",
       "      <td>Chinese Restaurant</td>\n",
       "      <td>Dessert Shop</td>\n",
       "      <td>Bistro</td>\n",
       "      <td>Café</td>\n",
       "      <td>Yoga Studio</td>\n",
       "      <td>Department Store</td>\n",
       "    </tr>\n",
       "    <tr>\n",
       "      <th>52</th>\n",
       "      <td>Vastrapur</td>\n",
       "      <td>Fast Food Restaurant</td>\n",
       "      <td>Café</td>\n",
       "      <td>Donut Shop</td>\n",
       "      <td>Shopping Mall</td>\n",
       "      <td>Clothing Store</td>\n",
       "      <td>Pizza Place</td>\n",
       "      <td>Restaurant</td>\n",
       "      <td>Gourmet Shop</td>\n",
       "      <td>Hotel</td>\n",
       "      <td>Indian Restaurant</td>\n",
       "    </tr>\n",
       "    <tr>\n",
       "      <th>53</th>\n",
       "      <td>Vejalpur</td>\n",
       "      <td>Platform</td>\n",
       "      <td>Light Rail Station</td>\n",
       "      <td>Yoga Studio</td>\n",
       "      <td>Electronics Store</td>\n",
       "      <td>Convenience Store</td>\n",
       "      <td>Cupcake Shop</td>\n",
       "      <td>Department Store</td>\n",
       "      <td>Dessert Shop</td>\n",
       "      <td>Diner</td>\n",
       "      <td>Donut Shop</td>\n",
       "    </tr>\n",
       "  </tbody>\n",
       "</table>\n",
       "</div>"
      ],
      "text/plain": [
       "            Neighborhood       1st Most Common Venue    2nd Most Common Venue  \\\n",
       "0   Ahmedabad Cantonment                        Park              Art Gallery   \n",
       "1              Alam Roza              Ice Cream Shop         Asian Restaurant   \n",
       "9                  Bopal                        Park            Historic Site   \n",
       "11           Chandlodiya                         ATM            Train Station   \n",
       "12  Dariapur (Ahmedabad)                        Pier              Pizza Place   \n",
       "13            Ghatlodiya                    Pharmacy         Department Store   \n",
       "14              Ghodasar                         ATM             Liquor Store   \n",
       "15          Girdharnagar                 Yoga Studio           History Museum   \n",
       "16      Gita Mandir Road                   Multiplex              Bus Station   \n",
       "19         Gota, Gujarat                    Tea Room              Yoga Studio   \n",
       "21     Jamalpur, Gujarat               Boat or Ferry                    Motel   \n",
       "22         Jawahar Chowk                 Gas Station              Pizza Place   \n",
       "23      Jodhpur, Gujarat            Asian Restaurant                 Pharmacy   \n",
       "26     Khadia, Ahmedabad               Historic Site                    Hotel   \n",
       "29               Makarba                      Office              Art Gallery   \n",
       "32                Motera               Jewelry Store              Yoga Studio   \n",
       "35            Nava Vadaj                 Bus Station              Yoga Studio   \n",
       "37                 Odhav  Construction & Landscaping           Farmers Market   \n",
       "38                 Paldi        Fast Food Restaurant                     Café   \n",
       "42      Sabarmati (area)                       River  South Indian Restaurant   \n",
       "43           Sardarnagar                 Flea Market              Coffee Shop   \n",
       "49               Thaltej              Sandwich Place            Big Box Store   \n",
       "50             Usmanpura                       River                   Arcade   \n",
       "52             Vastrapur        Fast Food Restaurant                     Café   \n",
       "53              Vejalpur                    Platform       Light Rail Station   \n",
       "\n",
       "            3rd Most Common Venue     4th Most Common Venue  \\\n",
       "0                          Castle                     River   \n",
       "1                            Lake               Yoga Studio   \n",
       "9      Construction & Landscaping         Convenience Store   \n",
       "11                       Platform       Rental Car Location   \n",
       "12                   Dessert Shop               Yoga Studio   \n",
       "13                 Ice Cream Shop                      Lake   \n",
       "14              Convenience Store                 Rest Area   \n",
       "15  Vegetarian / Vegan Restaurant         Electronics Store   \n",
       "16                  Shopping Mall            Clothing Store   \n",
       "19                 Farmers Market         Convenience Store   \n",
       "21     Construction & Landscaping              Cupcake Shop   \n",
       "22                 Ice Cream Shop      Fast Food Restaurant   \n",
       "23                     Food Truck                      Café   \n",
       "26                    Snack Place         Electronics Store   \n",
       "29             Child Care Service               Yoga Studio   \n",
       "32                 Farmers Market         Convenience Store   \n",
       "35                    Coffee Shop         Convenience Store   \n",
       "37              Convenience Store              Cupcake Shop   \n",
       "38  Vegetarian / Vegan Restaurant                  Tea Room   \n",
       "42                  Jewelry Store      Fast Food Restaurant   \n",
       "43                    Yoga Studio         Electronics Store   \n",
       "49                    Coffee Shop  Mediterranean Restaurant   \n",
       "50                          Hotel               Coffee Shop   \n",
       "52                     Donut Shop             Shopping Mall   \n",
       "53                    Yoga Studio         Electronics Store   \n",
       "\n",
       "         5th Most Common Venue       6th Most Common Venue  \\\n",
       "0                   Donut Shop  Construction & Landscaping   \n",
       "1               Farmers Market                Cupcake Shop   \n",
       "9                 Cupcake Shop            Department Store   \n",
       "11                  Donut Shop  Construction & Landscaping   \n",
       "12                  Donut Shop  Construction & Landscaping   \n",
       "13              Farmers Market           Convenience Store   \n",
       "14                  Smoke Shop                Optical Shop   \n",
       "15  Construction & Landscaping           Convenience Store   \n",
       "16                    Tea Room        Fast Food Restaurant   \n",
       "19                Cupcake Shop            Department Store   \n",
       "21            Department Store                Dessert Shop   \n",
       "22           Electronics Store                 Yoga Studio   \n",
       "23                Dessert Shop                  Restaurant   \n",
       "26        Fast Food Restaurant              Farmers Market   \n",
       "29              Farmers Market                Cupcake Shop   \n",
       "32                Cupcake Shop            Department Store   \n",
       "35                Cupcake Shop            Department Store   \n",
       "37            Department Store                Dessert Shop   \n",
       "38                       Hotel              Ice Cream Shop   \n",
       "42              Sandwich Place                 Yoga Studio   \n",
       "43           Convenience Store                Cupcake Shop   \n",
       "49                 Pizza Place                        Café   \n",
       "50          Chinese Restaurant                Dessert Shop   \n",
       "52              Clothing Store                 Pizza Place   \n",
       "53           Convenience Store                Cupcake Shop   \n",
       "\n",
       "         7th Most Common Venue 8th Most Common Venue 9th Most Common Venue  \\\n",
       "0            Convenience Store          Cupcake Shop      Department Store   \n",
       "1             Department Store          Dessert Shop                 Diner   \n",
       "9                 Dessert Shop                 Diner            Donut Shop   \n",
       "11           Convenience Store          Cupcake Shop      Department Store   \n",
       "12           Convenience Store          Cupcake Shop      Department Store   \n",
       "13                Cupcake Shop          Dessert Shop                 Diner   \n",
       "14  Construction & Landscaping          Cupcake Shop      Department Store   \n",
       "15                Cupcake Shop      Department Store          Dessert Shop   \n",
       "16                  Donut Shop     Convenience Store          Cupcake Shop   \n",
       "19                Dessert Shop                 Diner            Donut Shop   \n",
       "21                       Diner            Donut Shop     Electronics Store   \n",
       "22                  Donut Shop     Convenience Store          Cupcake Shop   \n",
       "23                  Donut Shop     Convenience Store          Cupcake Shop   \n",
       "26           Convenience Store          Cupcake Shop      Department Store   \n",
       "29            Department Store          Dessert Shop                 Diner   \n",
       "32                Dessert Shop                 Diner            Donut Shop   \n",
       "35                Dessert Shop                 Diner            Donut Shop   \n",
       "37                       Diner            Donut Shop     Electronics Store   \n",
       "38                 Bus Station        Sandwich Place     Electronics Store   \n",
       "42  Construction & Landscaping     Convenience Store          Cupcake Shop   \n",
       "43            Department Store          Dessert Shop                 Diner   \n",
       "49               Shopping Mall     Indian Restaurant             Multiplex   \n",
       "50                      Bistro                  Café           Yoga Studio   \n",
       "52                  Restaurant          Gourmet Shop                 Hotel   \n",
       "53            Department Store          Dessert Shop                 Diner   \n",
       "\n",
       "   10th Most Common Venue  \n",
       "0            Dessert Shop  \n",
       "1              Donut Shop  \n",
       "9       Electronics Store  \n",
       "11           Dessert Shop  \n",
       "12                  Diner  \n",
       "13             Donut Shop  \n",
       "14           Dessert Shop  \n",
       "15                  Diner  \n",
       "16       Department Store  \n",
       "19      Electronics Store  \n",
       "21         Farmers Market  \n",
       "22       Department Store  \n",
       "23       Department Store  \n",
       "26           Dessert Shop  \n",
       "29             Donut Shop  \n",
       "32      Electronics Store  \n",
       "35      Electronics Store  \n",
       "37            Yoga Studio  \n",
       "38           Cupcake Shop  \n",
       "42       Department Store  \n",
       "43             Donut Shop  \n",
       "49         Ice Cream Shop  \n",
       "50       Department Store  \n",
       "52      Indian Restaurant  \n",
       "53             Donut Shop  "
      ]
     },
     "execution_count": 129,
     "metadata": {},
     "output_type": "execute_result"
    }
   ],
   "source": [
    "cluster1 = ahmedabad_merged.loc[ahmedabad_merged['Cluster Labels'] == 0, ahmedabad_merged.columns[[0] + list(range(4, ahmedabad_merged.shape[1]))]]\n",
    "cluster1"
   ]
  },
  {
   "cell_type": "code",
   "execution_count": 130,
   "metadata": {},
   "outputs": [
    {
     "data": {
      "application/vnd.plotly.v1+json": {
       "config": {
        "plotlyServerURL": "https://plot.ly"
       },
       "data": [
        {
         "alignmentgroup": "True",
         "hoverlabel": {
          "namelength": 0
         },
         "hovertemplate": "Venue Category=%{x}<br>Counts=%{y}",
         "legendgroup": "",
         "marker": {
          "color": "#636efa"
         },
         "name": "",
         "offsetgroup": "",
         "orientation": "v",
         "showlegend": false,
         "textposition": "auto",
         "type": "bar",
         "x": [
          "ATM",
          "Arcade",
          "Art Gallery",
          "Asian Restaurant",
          "Big Box Store",
          "Bistro",
          "Boat or Ferry",
          "Bus Station",
          "Café",
          "Castle",
          "Child Care Service",
          "Chinese Restaurant",
          "Clothing Store",
          "Coffee Shop",
          "Construction & Landscaping",
          "Convenience Store",
          "Cupcake Shop",
          "Department Store",
          "Dessert Shop",
          "Diner",
          "Donut Shop",
          "Electronics Store",
          "Farmers Market",
          "Fast Food Restaurant",
          "Flea Market",
          "Food Truck",
          "Gas Station",
          "Gourmet Shop",
          "Historic Site",
          "History Museum",
          "Hotel",
          "Ice Cream Shop",
          "Indian Restaurant",
          "Jewelry Store",
          "Lake",
          "Light Rail Station",
          "Liquor Store",
          "Mediterranean Restaurant",
          "Motel",
          "Multiplex",
          "Office",
          "Optical Shop",
          "Park",
          "Pharmacy",
          "Pier",
          "Pizza Place",
          "Platform",
          "Rental Car Location",
          "Rest Area",
          "Restaurant",
          "River",
          "Sandwich Place",
          "Shopping Mall",
          "Smoke Shop",
          "Snack Place",
          "South Indian Restaurant",
          "Tea Room",
          "Train Station",
          "Vegetarian / Vegan Restaurant",
          "Yoga Studio"
         ],
         "xaxis": "x",
         "y": [
          2,
          1,
          2,
          2,
          1,
          1,
          1,
          3,
          5,
          1,
          1,
          1,
          2,
          4,
          9,
          18,
          22,
          22,
          19,
          13,
          18,
          12,
          8,
          6,
          1,
          1,
          1,
          1,
          2,
          1,
          4,
          5,
          2,
          2,
          2,
          1,
          1,
          1,
          1,
          2,
          1,
          1,
          2,
          2,
          1,
          4,
          2,
          1,
          1,
          2,
          3,
          3,
          3,
          1,
          1,
          1,
          3,
          1,
          2,
          13
         ],
         "yaxis": "y"
        }
       ],
       "layout": {
        "barmode": "relative",
        "legend": {
         "tracegroupgap": 0
        },
        "margin": {
         "t": 60
        },
        "template": {
         "data": {
          "bar": [
           {
            "error_x": {
             "color": "#2a3f5f"
            },
            "error_y": {
             "color": "#2a3f5f"
            },
            "marker": {
             "line": {
              "color": "#E5ECF6",
              "width": 0.5
             }
            },
            "type": "bar"
           }
          ],
          "barpolar": [
           {
            "marker": {
             "line": {
              "color": "#E5ECF6",
              "width": 0.5
             }
            },
            "type": "barpolar"
           }
          ],
          "carpet": [
           {
            "aaxis": {
             "endlinecolor": "#2a3f5f",
             "gridcolor": "white",
             "linecolor": "white",
             "minorgridcolor": "white",
             "startlinecolor": "#2a3f5f"
            },
            "baxis": {
             "endlinecolor": "#2a3f5f",
             "gridcolor": "white",
             "linecolor": "white",
             "minorgridcolor": "white",
             "startlinecolor": "#2a3f5f"
            },
            "type": "carpet"
           }
          ],
          "choropleth": [
           {
            "colorbar": {
             "outlinewidth": 0,
             "ticks": ""
            },
            "type": "choropleth"
           }
          ],
          "contour": [
           {
            "colorbar": {
             "outlinewidth": 0,
             "ticks": ""
            },
            "colorscale": [
             [
              0,
              "#0d0887"
             ],
             [
              0.1111111111111111,
              "#46039f"
             ],
             [
              0.2222222222222222,
              "#7201a8"
             ],
             [
              0.3333333333333333,
              "#9c179e"
             ],
             [
              0.4444444444444444,
              "#bd3786"
             ],
             [
              0.5555555555555556,
              "#d8576b"
             ],
             [
              0.6666666666666666,
              "#ed7953"
             ],
             [
              0.7777777777777778,
              "#fb9f3a"
             ],
             [
              0.8888888888888888,
              "#fdca26"
             ],
             [
              1,
              "#f0f921"
             ]
            ],
            "type": "contour"
           }
          ],
          "contourcarpet": [
           {
            "colorbar": {
             "outlinewidth": 0,
             "ticks": ""
            },
            "type": "contourcarpet"
           }
          ],
          "heatmap": [
           {
            "colorbar": {
             "outlinewidth": 0,
             "ticks": ""
            },
            "colorscale": [
             [
              0,
              "#0d0887"
             ],
             [
              0.1111111111111111,
              "#46039f"
             ],
             [
              0.2222222222222222,
              "#7201a8"
             ],
             [
              0.3333333333333333,
              "#9c179e"
             ],
             [
              0.4444444444444444,
              "#bd3786"
             ],
             [
              0.5555555555555556,
              "#d8576b"
             ],
             [
              0.6666666666666666,
              "#ed7953"
             ],
             [
              0.7777777777777778,
              "#fb9f3a"
             ],
             [
              0.8888888888888888,
              "#fdca26"
             ],
             [
              1,
              "#f0f921"
             ]
            ],
            "type": "heatmap"
           }
          ],
          "heatmapgl": [
           {
            "colorbar": {
             "outlinewidth": 0,
             "ticks": ""
            },
            "colorscale": [
             [
              0,
              "#0d0887"
             ],
             [
              0.1111111111111111,
              "#46039f"
             ],
             [
              0.2222222222222222,
              "#7201a8"
             ],
             [
              0.3333333333333333,
              "#9c179e"
             ],
             [
              0.4444444444444444,
              "#bd3786"
             ],
             [
              0.5555555555555556,
              "#d8576b"
             ],
             [
              0.6666666666666666,
              "#ed7953"
             ],
             [
              0.7777777777777778,
              "#fb9f3a"
             ],
             [
              0.8888888888888888,
              "#fdca26"
             ],
             [
              1,
              "#f0f921"
             ]
            ],
            "type": "heatmapgl"
           }
          ],
          "histogram": [
           {
            "marker": {
             "colorbar": {
              "outlinewidth": 0,
              "ticks": ""
             }
            },
            "type": "histogram"
           }
          ],
          "histogram2d": [
           {
            "colorbar": {
             "outlinewidth": 0,
             "ticks": ""
            },
            "colorscale": [
             [
              0,
              "#0d0887"
             ],
             [
              0.1111111111111111,
              "#46039f"
             ],
             [
              0.2222222222222222,
              "#7201a8"
             ],
             [
              0.3333333333333333,
              "#9c179e"
             ],
             [
              0.4444444444444444,
              "#bd3786"
             ],
             [
              0.5555555555555556,
              "#d8576b"
             ],
             [
              0.6666666666666666,
              "#ed7953"
             ],
             [
              0.7777777777777778,
              "#fb9f3a"
             ],
             [
              0.8888888888888888,
              "#fdca26"
             ],
             [
              1,
              "#f0f921"
             ]
            ],
            "type": "histogram2d"
           }
          ],
          "histogram2dcontour": [
           {
            "colorbar": {
             "outlinewidth": 0,
             "ticks": ""
            },
            "colorscale": [
             [
              0,
              "#0d0887"
             ],
             [
              0.1111111111111111,
              "#46039f"
             ],
             [
              0.2222222222222222,
              "#7201a8"
             ],
             [
              0.3333333333333333,
              "#9c179e"
             ],
             [
              0.4444444444444444,
              "#bd3786"
             ],
             [
              0.5555555555555556,
              "#d8576b"
             ],
             [
              0.6666666666666666,
              "#ed7953"
             ],
             [
              0.7777777777777778,
              "#fb9f3a"
             ],
             [
              0.8888888888888888,
              "#fdca26"
             ],
             [
              1,
              "#f0f921"
             ]
            ],
            "type": "histogram2dcontour"
           }
          ],
          "mesh3d": [
           {
            "colorbar": {
             "outlinewidth": 0,
             "ticks": ""
            },
            "type": "mesh3d"
           }
          ],
          "parcoords": [
           {
            "line": {
             "colorbar": {
              "outlinewidth": 0,
              "ticks": ""
             }
            },
            "type": "parcoords"
           }
          ],
          "pie": [
           {
            "automargin": true,
            "type": "pie"
           }
          ],
          "scatter": [
           {
            "marker": {
             "colorbar": {
              "outlinewidth": 0,
              "ticks": ""
             }
            },
            "type": "scatter"
           }
          ],
          "scatter3d": [
           {
            "line": {
             "colorbar": {
              "outlinewidth": 0,
              "ticks": ""
             }
            },
            "marker": {
             "colorbar": {
              "outlinewidth": 0,
              "ticks": ""
             }
            },
            "type": "scatter3d"
           }
          ],
          "scattercarpet": [
           {
            "marker": {
             "colorbar": {
              "outlinewidth": 0,
              "ticks": ""
             }
            },
            "type": "scattercarpet"
           }
          ],
          "scattergeo": [
           {
            "marker": {
             "colorbar": {
              "outlinewidth": 0,
              "ticks": ""
             }
            },
            "type": "scattergeo"
           }
          ],
          "scattergl": [
           {
            "marker": {
             "colorbar": {
              "outlinewidth": 0,
              "ticks": ""
             }
            },
            "type": "scattergl"
           }
          ],
          "scattermapbox": [
           {
            "marker": {
             "colorbar": {
              "outlinewidth": 0,
              "ticks": ""
             }
            },
            "type": "scattermapbox"
           }
          ],
          "scatterpolar": [
           {
            "marker": {
             "colorbar": {
              "outlinewidth": 0,
              "ticks": ""
             }
            },
            "type": "scatterpolar"
           }
          ],
          "scatterpolargl": [
           {
            "marker": {
             "colorbar": {
              "outlinewidth": 0,
              "ticks": ""
             }
            },
            "type": "scatterpolargl"
           }
          ],
          "scatterternary": [
           {
            "marker": {
             "colorbar": {
              "outlinewidth": 0,
              "ticks": ""
             }
            },
            "type": "scatterternary"
           }
          ],
          "surface": [
           {
            "colorbar": {
             "outlinewidth": 0,
             "ticks": ""
            },
            "colorscale": [
             [
              0,
              "#0d0887"
             ],
             [
              0.1111111111111111,
              "#46039f"
             ],
             [
              0.2222222222222222,
              "#7201a8"
             ],
             [
              0.3333333333333333,
              "#9c179e"
             ],
             [
              0.4444444444444444,
              "#bd3786"
             ],
             [
              0.5555555555555556,
              "#d8576b"
             ],
             [
              0.6666666666666666,
              "#ed7953"
             ],
             [
              0.7777777777777778,
              "#fb9f3a"
             ],
             [
              0.8888888888888888,
              "#fdca26"
             ],
             [
              1,
              "#f0f921"
             ]
            ],
            "type": "surface"
           }
          ],
          "table": [
           {
            "cells": {
             "fill": {
              "color": "#EBF0F8"
             },
             "line": {
              "color": "white"
             }
            },
            "header": {
             "fill": {
              "color": "#C8D4E3"
             },
             "line": {
              "color": "white"
             }
            },
            "type": "table"
           }
          ]
         },
         "layout": {
          "annotationdefaults": {
           "arrowcolor": "#2a3f5f",
           "arrowhead": 0,
           "arrowwidth": 1
          },
          "coloraxis": {
           "colorbar": {
            "outlinewidth": 0,
            "ticks": ""
           }
          },
          "colorscale": {
           "diverging": [
            [
             0,
             "#8e0152"
            ],
            [
             0.1,
             "#c51b7d"
            ],
            [
             0.2,
             "#de77ae"
            ],
            [
             0.3,
             "#f1b6da"
            ],
            [
             0.4,
             "#fde0ef"
            ],
            [
             0.5,
             "#f7f7f7"
            ],
            [
             0.6,
             "#e6f5d0"
            ],
            [
             0.7,
             "#b8e186"
            ],
            [
             0.8,
             "#7fbc41"
            ],
            [
             0.9,
             "#4d9221"
            ],
            [
             1,
             "#276419"
            ]
           ],
           "sequential": [
            [
             0,
             "#0d0887"
            ],
            [
             0.1111111111111111,
             "#46039f"
            ],
            [
             0.2222222222222222,
             "#7201a8"
            ],
            [
             0.3333333333333333,
             "#9c179e"
            ],
            [
             0.4444444444444444,
             "#bd3786"
            ],
            [
             0.5555555555555556,
             "#d8576b"
            ],
            [
             0.6666666666666666,
             "#ed7953"
            ],
            [
             0.7777777777777778,
             "#fb9f3a"
            ],
            [
             0.8888888888888888,
             "#fdca26"
            ],
            [
             1,
             "#f0f921"
            ]
           ],
           "sequentialminus": [
            [
             0,
             "#0d0887"
            ],
            [
             0.1111111111111111,
             "#46039f"
            ],
            [
             0.2222222222222222,
             "#7201a8"
            ],
            [
             0.3333333333333333,
             "#9c179e"
            ],
            [
             0.4444444444444444,
             "#bd3786"
            ],
            [
             0.5555555555555556,
             "#d8576b"
            ],
            [
             0.6666666666666666,
             "#ed7953"
            ],
            [
             0.7777777777777778,
             "#fb9f3a"
            ],
            [
             0.8888888888888888,
             "#fdca26"
            ],
            [
             1,
             "#f0f921"
            ]
           ]
          },
          "colorway": [
           "#636efa",
           "#EF553B",
           "#00cc96",
           "#ab63fa",
           "#FFA15A",
           "#19d3f3",
           "#FF6692",
           "#B6E880",
           "#FF97FF",
           "#FECB52"
          ],
          "font": {
           "color": "#2a3f5f"
          },
          "geo": {
           "bgcolor": "white",
           "lakecolor": "white",
           "landcolor": "#E5ECF6",
           "showlakes": true,
           "showland": true,
           "subunitcolor": "white"
          },
          "hoverlabel": {
           "align": "left"
          },
          "hovermode": "closest",
          "mapbox": {
           "style": "light"
          },
          "paper_bgcolor": "white",
          "plot_bgcolor": "#E5ECF6",
          "polar": {
           "angularaxis": {
            "gridcolor": "white",
            "linecolor": "white",
            "ticks": ""
           },
           "bgcolor": "#E5ECF6",
           "radialaxis": {
            "gridcolor": "white",
            "linecolor": "white",
            "ticks": ""
           }
          },
          "scene": {
           "xaxis": {
            "backgroundcolor": "#E5ECF6",
            "gridcolor": "white",
            "gridwidth": 2,
            "linecolor": "white",
            "showbackground": true,
            "ticks": "",
            "zerolinecolor": "white"
           },
           "yaxis": {
            "backgroundcolor": "#E5ECF6",
            "gridcolor": "white",
            "gridwidth": 2,
            "linecolor": "white",
            "showbackground": true,
            "ticks": "",
            "zerolinecolor": "white"
           },
           "zaxis": {
            "backgroundcolor": "#E5ECF6",
            "gridcolor": "white",
            "gridwidth": 2,
            "linecolor": "white",
            "showbackground": true,
            "ticks": "",
            "zerolinecolor": "white"
           }
          },
          "shapedefaults": {
           "line": {
            "color": "#2a3f5f"
           }
          },
          "ternary": {
           "aaxis": {
            "gridcolor": "white",
            "linecolor": "white",
            "ticks": ""
           },
           "baxis": {
            "gridcolor": "white",
            "linecolor": "white",
            "ticks": ""
           },
           "bgcolor": "#E5ECF6",
           "caxis": {
            "gridcolor": "white",
            "linecolor": "white",
            "ticks": ""
           }
          },
          "title": {
           "x": 0.05
          },
          "xaxis": {
           "automargin": true,
           "gridcolor": "white",
           "linecolor": "white",
           "ticks": "",
           "title": {
            "standoff": 15
           },
           "zerolinecolor": "white",
           "zerolinewidth": 2
          },
          "yaxis": {
           "automargin": true,
           "gridcolor": "white",
           "linecolor": "white",
           "ticks": "",
           "title": {
            "standoff": 15
           },
           "zerolinecolor": "white",
           "zerolinewidth": 2
          }
         }
        },
        "xaxis": {
         "anchor": "y",
         "domain": [
          0,
          1
         ],
         "title": {
          "text": "Venue Category"
         }
        },
        "yaxis": {
         "anchor": "x",
         "domain": [
          0,
          1
         ],
         "title": {
          "text": "Counts"
         }
        }
       }
      },
      "text/html": [
       "<div>\n",
       "        \n",
       "        \n",
       "            <div id=\"0386c157-05a1-4c6f-a498-0079a4be56c6\" class=\"plotly-graph-div\" style=\"height:525px; width:100%;\"></div>\n",
       "            <script type=\"text/javascript\">\n",
       "                require([\"plotly\"], function(Plotly) {\n",
       "                    window.PLOTLYENV=window.PLOTLYENV || {};\n",
       "                    \n",
       "                if (document.getElementById(\"0386c157-05a1-4c6f-a498-0079a4be56c6\")) {\n",
       "                    Plotly.newPlot(\n",
       "                        '0386c157-05a1-4c6f-a498-0079a4be56c6',\n",
       "                        [{\"alignmentgroup\": \"True\", \"hoverlabel\": {\"namelength\": 0}, \"hovertemplate\": \"Venue Category=%{x}<br>Counts=%{y}\", \"legendgroup\": \"\", \"marker\": {\"color\": \"#636efa\"}, \"name\": \"\", \"offsetgroup\": \"\", \"orientation\": \"v\", \"showlegend\": false, \"textposition\": \"auto\", \"type\": \"bar\", \"x\": [\"ATM\", \"Arcade\", \"Art Gallery\", \"Asian Restaurant\", \"Big Box Store\", \"Bistro\", \"Boat or Ferry\", \"Bus Station\", \"Caf\\u00e9\", \"Castle\", \"Child Care Service\", \"Chinese Restaurant\", \"Clothing Store\", \"Coffee Shop\", \"Construction & Landscaping\", \"Convenience Store\", \"Cupcake Shop\", \"Department Store\", \"Dessert Shop\", \"Diner\", \"Donut Shop\", \"Electronics Store\", \"Farmers Market\", \"Fast Food Restaurant\", \"Flea Market\", \"Food Truck\", \"Gas Station\", \"Gourmet Shop\", \"Historic Site\", \"History Museum\", \"Hotel\", \"Ice Cream Shop\", \"Indian Restaurant\", \"Jewelry Store\", \"Lake\", \"Light Rail Station\", \"Liquor Store\", \"Mediterranean Restaurant\", \"Motel\", \"Multiplex\", \"Office\", \"Optical Shop\", \"Park\", \"Pharmacy\", \"Pier\", \"Pizza Place\", \"Platform\", \"Rental Car Location\", \"Rest Area\", \"Restaurant\", \"River\", \"Sandwich Place\", \"Shopping Mall\", \"Smoke Shop\", \"Snack Place\", \"South Indian Restaurant\", \"Tea Room\", \"Train Station\", \"Vegetarian / Vegan Restaurant\", \"Yoga Studio\"], \"xaxis\": \"x\", \"y\": [2, 1, 2, 2, 1, 1, 1, 3, 5, 1, 1, 1, 2, 4, 9, 18, 22, 22, 19, 13, 18, 12, 8, 6, 1, 1, 1, 1, 2, 1, 4, 5, 2, 2, 2, 1, 1, 1, 1, 2, 1, 1, 2, 2, 1, 4, 2, 1, 1, 2, 3, 3, 3, 1, 1, 1, 3, 1, 2, 13], \"yaxis\": \"y\"}],\n",
       "                        {\"barmode\": \"relative\", \"legend\": {\"tracegroupgap\": 0}, \"margin\": {\"t\": 60}, \"template\": {\"data\": {\"bar\": [{\"error_x\": {\"color\": \"#2a3f5f\"}, \"error_y\": {\"color\": \"#2a3f5f\"}, \"marker\": {\"line\": {\"color\": \"#E5ECF6\", \"width\": 0.5}}, \"type\": \"bar\"}], \"barpolar\": [{\"marker\": {\"line\": {\"color\": \"#E5ECF6\", \"width\": 0.5}}, \"type\": \"barpolar\"}], \"carpet\": [{\"aaxis\": {\"endlinecolor\": \"#2a3f5f\", \"gridcolor\": \"white\", \"linecolor\": \"white\", \"minorgridcolor\": \"white\", \"startlinecolor\": \"#2a3f5f\"}, \"baxis\": {\"endlinecolor\": \"#2a3f5f\", \"gridcolor\": \"white\", \"linecolor\": \"white\", \"minorgridcolor\": \"white\", \"startlinecolor\": \"#2a3f5f\"}, \"type\": \"carpet\"}], \"choropleth\": [{\"colorbar\": {\"outlinewidth\": 0, \"ticks\": \"\"}, \"type\": \"choropleth\"}], \"contour\": [{\"colorbar\": {\"outlinewidth\": 0, \"ticks\": \"\"}, \"colorscale\": [[0.0, \"#0d0887\"], [0.1111111111111111, \"#46039f\"], [0.2222222222222222, \"#7201a8\"], [0.3333333333333333, \"#9c179e\"], [0.4444444444444444, \"#bd3786\"], [0.5555555555555556, \"#d8576b\"], [0.6666666666666666, \"#ed7953\"], [0.7777777777777778, \"#fb9f3a\"], [0.8888888888888888, \"#fdca26\"], [1.0, \"#f0f921\"]], \"type\": \"contour\"}], \"contourcarpet\": [{\"colorbar\": {\"outlinewidth\": 0, \"ticks\": \"\"}, \"type\": \"contourcarpet\"}], \"heatmap\": [{\"colorbar\": {\"outlinewidth\": 0, \"ticks\": \"\"}, \"colorscale\": [[0.0, \"#0d0887\"], [0.1111111111111111, \"#46039f\"], [0.2222222222222222, \"#7201a8\"], [0.3333333333333333, \"#9c179e\"], [0.4444444444444444, \"#bd3786\"], [0.5555555555555556, \"#d8576b\"], [0.6666666666666666, \"#ed7953\"], [0.7777777777777778, \"#fb9f3a\"], [0.8888888888888888, \"#fdca26\"], [1.0, \"#f0f921\"]], \"type\": \"heatmap\"}], \"heatmapgl\": [{\"colorbar\": {\"outlinewidth\": 0, \"ticks\": \"\"}, \"colorscale\": [[0.0, \"#0d0887\"], [0.1111111111111111, \"#46039f\"], [0.2222222222222222, \"#7201a8\"], [0.3333333333333333, \"#9c179e\"], [0.4444444444444444, \"#bd3786\"], [0.5555555555555556, \"#d8576b\"], [0.6666666666666666, \"#ed7953\"], [0.7777777777777778, \"#fb9f3a\"], [0.8888888888888888, \"#fdca26\"], [1.0, \"#f0f921\"]], \"type\": \"heatmapgl\"}], \"histogram\": [{\"marker\": {\"colorbar\": {\"outlinewidth\": 0, \"ticks\": \"\"}}, \"type\": \"histogram\"}], \"histogram2d\": [{\"colorbar\": {\"outlinewidth\": 0, \"ticks\": \"\"}, \"colorscale\": [[0.0, \"#0d0887\"], [0.1111111111111111, \"#46039f\"], [0.2222222222222222, \"#7201a8\"], [0.3333333333333333, \"#9c179e\"], [0.4444444444444444, \"#bd3786\"], [0.5555555555555556, \"#d8576b\"], [0.6666666666666666, \"#ed7953\"], [0.7777777777777778, \"#fb9f3a\"], [0.8888888888888888, \"#fdca26\"], [1.0, \"#f0f921\"]], \"type\": \"histogram2d\"}], \"histogram2dcontour\": [{\"colorbar\": {\"outlinewidth\": 0, \"ticks\": \"\"}, \"colorscale\": [[0.0, \"#0d0887\"], [0.1111111111111111, \"#46039f\"], [0.2222222222222222, \"#7201a8\"], [0.3333333333333333, \"#9c179e\"], [0.4444444444444444, \"#bd3786\"], [0.5555555555555556, \"#d8576b\"], [0.6666666666666666, \"#ed7953\"], [0.7777777777777778, \"#fb9f3a\"], [0.8888888888888888, \"#fdca26\"], [1.0, \"#f0f921\"]], \"type\": \"histogram2dcontour\"}], \"mesh3d\": [{\"colorbar\": {\"outlinewidth\": 0, \"ticks\": \"\"}, \"type\": \"mesh3d\"}], \"parcoords\": [{\"line\": {\"colorbar\": {\"outlinewidth\": 0, \"ticks\": \"\"}}, \"type\": \"parcoords\"}], \"pie\": [{\"automargin\": true, \"type\": \"pie\"}], \"scatter\": [{\"marker\": {\"colorbar\": {\"outlinewidth\": 0, \"ticks\": \"\"}}, \"type\": \"scatter\"}], \"scatter3d\": [{\"line\": {\"colorbar\": {\"outlinewidth\": 0, \"ticks\": \"\"}}, \"marker\": {\"colorbar\": {\"outlinewidth\": 0, \"ticks\": \"\"}}, \"type\": \"scatter3d\"}], \"scattercarpet\": [{\"marker\": {\"colorbar\": {\"outlinewidth\": 0, \"ticks\": \"\"}}, \"type\": \"scattercarpet\"}], \"scattergeo\": [{\"marker\": {\"colorbar\": {\"outlinewidth\": 0, \"ticks\": \"\"}}, \"type\": \"scattergeo\"}], \"scattergl\": [{\"marker\": {\"colorbar\": {\"outlinewidth\": 0, \"ticks\": \"\"}}, \"type\": \"scattergl\"}], \"scattermapbox\": [{\"marker\": {\"colorbar\": {\"outlinewidth\": 0, \"ticks\": \"\"}}, \"type\": \"scattermapbox\"}], \"scatterpolar\": [{\"marker\": {\"colorbar\": {\"outlinewidth\": 0, \"ticks\": \"\"}}, \"type\": \"scatterpolar\"}], \"scatterpolargl\": [{\"marker\": {\"colorbar\": {\"outlinewidth\": 0, \"ticks\": \"\"}}, \"type\": \"scatterpolargl\"}], \"scatterternary\": [{\"marker\": {\"colorbar\": {\"outlinewidth\": 0, \"ticks\": \"\"}}, \"type\": \"scatterternary\"}], \"surface\": [{\"colorbar\": {\"outlinewidth\": 0, \"ticks\": \"\"}, \"colorscale\": [[0.0, \"#0d0887\"], [0.1111111111111111, \"#46039f\"], [0.2222222222222222, \"#7201a8\"], [0.3333333333333333, \"#9c179e\"], [0.4444444444444444, \"#bd3786\"], [0.5555555555555556, \"#d8576b\"], [0.6666666666666666, \"#ed7953\"], [0.7777777777777778, \"#fb9f3a\"], [0.8888888888888888, \"#fdca26\"], [1.0, \"#f0f921\"]], \"type\": \"surface\"}], \"table\": [{\"cells\": {\"fill\": {\"color\": \"#EBF0F8\"}, \"line\": {\"color\": \"white\"}}, \"header\": {\"fill\": {\"color\": \"#C8D4E3\"}, \"line\": {\"color\": \"white\"}}, \"type\": \"table\"}]}, \"layout\": {\"annotationdefaults\": {\"arrowcolor\": \"#2a3f5f\", \"arrowhead\": 0, \"arrowwidth\": 1}, \"coloraxis\": {\"colorbar\": {\"outlinewidth\": 0, \"ticks\": \"\"}}, \"colorscale\": {\"diverging\": [[0, \"#8e0152\"], [0.1, \"#c51b7d\"], [0.2, \"#de77ae\"], [0.3, \"#f1b6da\"], [0.4, \"#fde0ef\"], [0.5, \"#f7f7f7\"], [0.6, \"#e6f5d0\"], [0.7, \"#b8e186\"], [0.8, \"#7fbc41\"], [0.9, \"#4d9221\"], [1, \"#276419\"]], \"sequential\": [[0.0, \"#0d0887\"], [0.1111111111111111, \"#46039f\"], [0.2222222222222222, \"#7201a8\"], [0.3333333333333333, \"#9c179e\"], [0.4444444444444444, \"#bd3786\"], [0.5555555555555556, \"#d8576b\"], [0.6666666666666666, \"#ed7953\"], [0.7777777777777778, \"#fb9f3a\"], [0.8888888888888888, \"#fdca26\"], [1.0, \"#f0f921\"]], \"sequentialminus\": [[0.0, \"#0d0887\"], [0.1111111111111111, \"#46039f\"], [0.2222222222222222, \"#7201a8\"], [0.3333333333333333, \"#9c179e\"], [0.4444444444444444, \"#bd3786\"], [0.5555555555555556, \"#d8576b\"], [0.6666666666666666, \"#ed7953\"], [0.7777777777777778, \"#fb9f3a\"], [0.8888888888888888, \"#fdca26\"], [1.0, \"#f0f921\"]]}, \"colorway\": [\"#636efa\", \"#EF553B\", \"#00cc96\", \"#ab63fa\", \"#FFA15A\", \"#19d3f3\", \"#FF6692\", \"#B6E880\", \"#FF97FF\", \"#FECB52\"], \"font\": {\"color\": \"#2a3f5f\"}, \"geo\": {\"bgcolor\": \"white\", \"lakecolor\": \"white\", \"landcolor\": \"#E5ECF6\", \"showlakes\": true, \"showland\": true, \"subunitcolor\": \"white\"}, \"hoverlabel\": {\"align\": \"left\"}, \"hovermode\": \"closest\", \"mapbox\": {\"style\": \"light\"}, \"paper_bgcolor\": \"white\", \"plot_bgcolor\": \"#E5ECF6\", \"polar\": {\"angularaxis\": {\"gridcolor\": \"white\", \"linecolor\": \"white\", \"ticks\": \"\"}, \"bgcolor\": \"#E5ECF6\", \"radialaxis\": {\"gridcolor\": \"white\", \"linecolor\": \"white\", \"ticks\": \"\"}}, \"scene\": {\"xaxis\": {\"backgroundcolor\": \"#E5ECF6\", \"gridcolor\": \"white\", \"gridwidth\": 2, \"linecolor\": \"white\", \"showbackground\": true, \"ticks\": \"\", \"zerolinecolor\": \"white\"}, \"yaxis\": {\"backgroundcolor\": \"#E5ECF6\", \"gridcolor\": \"white\", \"gridwidth\": 2, \"linecolor\": \"white\", \"showbackground\": true, \"ticks\": \"\", \"zerolinecolor\": \"white\"}, \"zaxis\": {\"backgroundcolor\": \"#E5ECF6\", \"gridcolor\": \"white\", \"gridwidth\": 2, \"linecolor\": \"white\", \"showbackground\": true, \"ticks\": \"\", \"zerolinecolor\": \"white\"}}, \"shapedefaults\": {\"line\": {\"color\": \"#2a3f5f\"}}, \"ternary\": {\"aaxis\": {\"gridcolor\": \"white\", \"linecolor\": \"white\", \"ticks\": \"\"}, \"baxis\": {\"gridcolor\": \"white\", \"linecolor\": \"white\", \"ticks\": \"\"}, \"bgcolor\": \"#E5ECF6\", \"caxis\": {\"gridcolor\": \"white\", \"linecolor\": \"white\", \"ticks\": \"\"}}, \"title\": {\"x\": 0.05}, \"xaxis\": {\"automargin\": true, \"gridcolor\": \"white\", \"linecolor\": \"white\", \"ticks\": \"\", \"title\": {\"standoff\": 15}, \"zerolinecolor\": \"white\", \"zerolinewidth\": 2}, \"yaxis\": {\"automargin\": true, \"gridcolor\": \"white\", \"linecolor\": \"white\", \"ticks\": \"\", \"title\": {\"standoff\": 15}, \"zerolinecolor\": \"white\", \"zerolinewidth\": 2}}}, \"xaxis\": {\"anchor\": \"y\", \"domain\": [0.0, 1.0], \"title\": {\"text\": \"Venue Category\"}}, \"yaxis\": {\"anchor\": \"x\", \"domain\": [0.0, 1.0], \"title\": {\"text\": \"Counts\"}}},\n",
       "                        {\"responsive\": true}\n",
       "                    ).then(function(){\n",
       "                            \n",
       "var gd = document.getElementById('0386c157-05a1-4c6f-a498-0079a4be56c6');\n",
       "var x = new MutationObserver(function (mutations, observer) {{\n",
       "        var display = window.getComputedStyle(gd).display;\n",
       "        if (!display || display === 'none') {{\n",
       "            console.log([gd, 'removed!']);\n",
       "            Plotly.purge(gd);\n",
       "            observer.disconnect();\n",
       "        }}\n",
       "}});\n",
       "\n",
       "// Listen for the removal of the full notebook cells\n",
       "var notebookContainer = gd.closest('#notebook-container');\n",
       "if (notebookContainer) {{\n",
       "    x.observe(notebookContainer, {childList: true});\n",
       "}}\n",
       "\n",
       "// Listen for the clearing of the current output cell\n",
       "var outputEl = gd.closest('.output');\n",
       "if (outputEl) {{\n",
       "    x.observe(outputEl, {childList: true});\n",
       "}}\n",
       "\n",
       "                        })\n",
       "                };\n",
       "                });\n",
       "            </script>\n",
       "        </div>"
      ]
     },
     "metadata": {},
     "output_type": "display_data"
    }
   ],
   "source": [
    "ser = pd.Series() \n",
    "temp_c = cluster1.drop('Neighborhood', 1)\n",
    "for c in temp_c.columns:\n",
    "    temp = temp_c[c].value_counts()\n",
    "    ser = ser.append(temp)\n",
    "bar_cluster1 = ser.to_frame()\n",
    "bar_cluster1.reset_index(inplace = True)\n",
    "bar_cluster1.columns = ['Venue','Counts']\n",
    "bar_cluster1 = bar_cluster1.groupby('Venue').sum()\n",
    "fig = px.bar(bar_cluster1, x=bar_cluster1.index, y='Counts', labels={'x':'Venue Category'})\n",
    "fig.show()"
   ]
  },
  {
   "cell_type": "code",
   "execution_count": 131,
   "metadata": {},
   "outputs": [
    {
     "data": {
      "text/html": [
       "<div>\n",
       "<style scoped>\n",
       "    .dataframe tbody tr th:only-of-type {\n",
       "        vertical-align: middle;\n",
       "    }\n",
       "\n",
       "    .dataframe tbody tr th {\n",
       "        vertical-align: top;\n",
       "    }\n",
       "\n",
       "    .dataframe thead th {\n",
       "        text-align: right;\n",
       "    }\n",
       "</style>\n",
       "<table border=\"1\" class=\"dataframe\">\n",
       "  <thead>\n",
       "    <tr style=\"text-align: right;\">\n",
       "      <th></th>\n",
       "      <th>Neighborhood</th>\n",
       "      <th>1st Most Common Venue</th>\n",
       "      <th>2nd Most Common Venue</th>\n",
       "      <th>3rd Most Common Venue</th>\n",
       "      <th>4th Most Common Venue</th>\n",
       "      <th>5th Most Common Venue</th>\n",
       "      <th>6th Most Common Venue</th>\n",
       "      <th>7th Most Common Venue</th>\n",
       "      <th>8th Most Common Venue</th>\n",
       "      <th>9th Most Common Venue</th>\n",
       "      <th>10th Most Common Venue</th>\n",
       "    </tr>\n",
       "  </thead>\n",
       "  <tbody>\n",
       "    <tr>\n",
       "      <th>2</th>\n",
       "      <td>Ambawadi</td>\n",
       "      <td>Indian Restaurant</td>\n",
       "      <td>Sporting Goods Shop</td>\n",
       "      <td>Café</td>\n",
       "      <td>Yoga Studio</td>\n",
       "      <td>Electronics Store</td>\n",
       "      <td>Convenience Store</td>\n",
       "      <td>Cupcake Shop</td>\n",
       "      <td>Department Store</td>\n",
       "      <td>Dessert Shop</td>\n",
       "      <td>Diner</td>\n",
       "    </tr>\n",
       "    <tr>\n",
       "      <th>4</th>\n",
       "      <td>Anand Nagar (Ahmedabad)</td>\n",
       "      <td>Fast Food Restaurant</td>\n",
       "      <td>BBQ Joint</td>\n",
       "      <td>Indian Restaurant</td>\n",
       "      <td>Yoga Studio</td>\n",
       "      <td>Diner</td>\n",
       "      <td>Vegetarian / Vegan Restaurant</td>\n",
       "      <td>Clothing Store</td>\n",
       "      <td>Mexican Restaurant</td>\n",
       "      <td>Tea Room</td>\n",
       "      <td>Bakery</td>\n",
       "    </tr>\n",
       "    <tr>\n",
       "      <th>10</th>\n",
       "      <td>Chandkheda</td>\n",
       "      <td>Ice Cream Shop</td>\n",
       "      <td>Pizza Place</td>\n",
       "      <td>Indian Restaurant</td>\n",
       "      <td>Farmers Market</td>\n",
       "      <td>Yoga Studio</td>\n",
       "      <td>Electronics Store</td>\n",
       "      <td>Convenience Store</td>\n",
       "      <td>Cupcake Shop</td>\n",
       "      <td>Department Store</td>\n",
       "      <td>Dessert Shop</td>\n",
       "    </tr>\n",
       "    <tr>\n",
       "      <th>20</th>\n",
       "      <td>Isanpur</td>\n",
       "      <td>Dessert Shop</td>\n",
       "      <td>Indian Restaurant</td>\n",
       "      <td>Business Service</td>\n",
       "      <td>Yoga Studio</td>\n",
       "      <td>Farmers Market</td>\n",
       "      <td>Cupcake Shop</td>\n",
       "      <td>Department Store</td>\n",
       "      <td>Diner</td>\n",
       "      <td>Donut Shop</td>\n",
       "      <td>Electronics Store</td>\n",
       "    </tr>\n",
       "    <tr>\n",
       "      <th>25</th>\n",
       "      <td>Kalupur</td>\n",
       "      <td>Indian Restaurant</td>\n",
       "      <td>Clothing Store</td>\n",
       "      <td>Train Station</td>\n",
       "      <td>Asian Restaurant</td>\n",
       "      <td>Men's Store</td>\n",
       "      <td>Farmers Market</td>\n",
       "      <td>Cupcake Shop</td>\n",
       "      <td>Department Store</td>\n",
       "      <td>Dessert Shop</td>\n",
       "      <td>Diner</td>\n",
       "    </tr>\n",
       "    <tr>\n",
       "      <th>27</th>\n",
       "      <td>Khokhra</td>\n",
       "      <td>IT Services</td>\n",
       "      <td>Indian Restaurant</td>\n",
       "      <td>Yoga Studio</td>\n",
       "      <td>Farmers Market</td>\n",
       "      <td>Convenience Store</td>\n",
       "      <td>Cupcake Shop</td>\n",
       "      <td>Department Store</td>\n",
       "      <td>Dessert Shop</td>\n",
       "      <td>Diner</td>\n",
       "      <td>Donut Shop</td>\n",
       "    </tr>\n",
       "    <tr>\n",
       "      <th>30</th>\n",
       "      <td>Maninagar</td>\n",
       "      <td>Fast Food Restaurant</td>\n",
       "      <td>Ice Cream Shop</td>\n",
       "      <td>Pizza Place</td>\n",
       "      <td>Electronics Store</td>\n",
       "      <td>Indian Restaurant</td>\n",
       "      <td>Clothing Store</td>\n",
       "      <td>Furniture / Home Store</td>\n",
       "      <td>Food Truck</td>\n",
       "      <td>Food Court</td>\n",
       "      <td>Flea Market</td>\n",
       "    </tr>\n",
       "    <tr>\n",
       "      <th>31</th>\n",
       "      <td>Memnagar</td>\n",
       "      <td>Fast Food Restaurant</td>\n",
       "      <td>Indian Restaurant</td>\n",
       "      <td>Electronics Store</td>\n",
       "      <td>Hotel</td>\n",
       "      <td>Pizza Place</td>\n",
       "      <td>Snack Place</td>\n",
       "      <td>Convenience Store</td>\n",
       "      <td>Cupcake Shop</td>\n",
       "      <td>Department Store</td>\n",
       "      <td>Dessert Shop</td>\n",
       "    </tr>\n",
       "    <tr>\n",
       "      <th>33</th>\n",
       "      <td>Naranpura</td>\n",
       "      <td>History Museum</td>\n",
       "      <td>Indian Restaurant</td>\n",
       "      <td>Farmers Market</td>\n",
       "      <td>Convenience Store</td>\n",
       "      <td>Cupcake Shop</td>\n",
       "      <td>Department Store</td>\n",
       "      <td>Dessert Shop</td>\n",
       "      <td>Diner</td>\n",
       "      <td>Donut Shop</td>\n",
       "      <td>Electronics Store</td>\n",
       "    </tr>\n",
       "    <tr>\n",
       "      <th>34</th>\n",
       "      <td>Naroda</td>\n",
       "      <td>Breakfast Spot</td>\n",
       "      <td>Multiplex</td>\n",
       "      <td>Indian Restaurant</td>\n",
       "      <td>Food Court</td>\n",
       "      <td>Diner</td>\n",
       "      <td>Fast Food Restaurant</td>\n",
       "      <td>Yoga Studio</td>\n",
       "      <td>Cupcake Shop</td>\n",
       "      <td>Department Store</td>\n",
       "      <td>Dessert Shop</td>\n",
       "    </tr>\n",
       "    <tr>\n",
       "      <th>36</th>\n",
       "      <td>Navarangpura</td>\n",
       "      <td>Indian Restaurant</td>\n",
       "      <td>Shoe Store</td>\n",
       "      <td>Sandwich Place</td>\n",
       "      <td>Multiplex</td>\n",
       "      <td>Dessert Shop</td>\n",
       "      <td>Fast Food Restaurant</td>\n",
       "      <td>Bookstore</td>\n",
       "      <td>Convenience Store</td>\n",
       "      <td>Cupcake Shop</td>\n",
       "      <td>Department Store</td>\n",
       "    </tr>\n",
       "    <tr>\n",
       "      <th>41</th>\n",
       "      <td>Ranip</td>\n",
       "      <td>Fast Food Restaurant</td>\n",
       "      <td>Indian Restaurant</td>\n",
       "      <td>Juice Bar</td>\n",
       "      <td>Farmers Market</td>\n",
       "      <td>Convenience Store</td>\n",
       "      <td>Cupcake Shop</td>\n",
       "      <td>Department Store</td>\n",
       "      <td>Dessert Shop</td>\n",
       "      <td>Diner</td>\n",
       "      <td>Donut Shop</td>\n",
       "    </tr>\n",
       "    <tr>\n",
       "      <th>45</th>\n",
       "      <td>Shahibaug</td>\n",
       "      <td>History Museum</td>\n",
       "      <td>Hotel</td>\n",
       "      <td>Indian Restaurant</td>\n",
       "      <td>Bakery</td>\n",
       "      <td>Farmers Market</td>\n",
       "      <td>Cupcake Shop</td>\n",
       "      <td>Department Store</td>\n",
       "      <td>Dessert Shop</td>\n",
       "      <td>Diner</td>\n",
       "      <td>Donut Shop</td>\n",
       "    </tr>\n",
       "    <tr>\n",
       "      <th>46</th>\n",
       "      <td>Shastrinagar</td>\n",
       "      <td>Indian Restaurant</td>\n",
       "      <td>Pizza Place</td>\n",
       "      <td>Sandwich Place</td>\n",
       "      <td>Gym</td>\n",
       "      <td>Video Store</td>\n",
       "      <td>Garden</td>\n",
       "      <td>Food Court</td>\n",
       "      <td>Fast Food Restaurant</td>\n",
       "      <td>Donut Shop</td>\n",
       "      <td>Convenience Store</td>\n",
       "    </tr>\n",
       "    <tr>\n",
       "      <th>47</th>\n",
       "      <td>Subhash Bridge</td>\n",
       "      <td>Indian Restaurant</td>\n",
       "      <td>Garden</td>\n",
       "      <td>Furniture / Home Store</td>\n",
       "      <td>Yoga Studio</td>\n",
       "      <td>Electronics Store</td>\n",
       "      <td>Convenience Store</td>\n",
       "      <td>Cupcake Shop</td>\n",
       "      <td>Department Store</td>\n",
       "      <td>Dessert Shop</td>\n",
       "      <td>Diner</td>\n",
       "    </tr>\n",
       "    <tr>\n",
       "      <th>51</th>\n",
       "      <td>Vastral</td>\n",
       "      <td>Pharmacy</td>\n",
       "      <td>Pizza Place</td>\n",
       "      <td>Indian Restaurant</td>\n",
       "      <td>Electronics Store</td>\n",
       "      <td>Construction &amp; Landscaping</td>\n",
       "      <td>Convenience Store</td>\n",
       "      <td>Cupcake Shop</td>\n",
       "      <td>Department Store</td>\n",
       "      <td>Dessert Shop</td>\n",
       "      <td>Diner</td>\n",
       "    </tr>\n",
       "  </tbody>\n",
       "</table>\n",
       "</div>"
      ],
      "text/plain": [
       "               Neighborhood 1st Most Common Venue 2nd Most Common Venue  \\\n",
       "2                  Ambawadi     Indian Restaurant   Sporting Goods Shop   \n",
       "4   Anand Nagar (Ahmedabad)  Fast Food Restaurant             BBQ Joint   \n",
       "10               Chandkheda        Ice Cream Shop           Pizza Place   \n",
       "20                  Isanpur          Dessert Shop     Indian Restaurant   \n",
       "25                  Kalupur     Indian Restaurant        Clothing Store   \n",
       "27                  Khokhra           IT Services     Indian Restaurant   \n",
       "30                Maninagar  Fast Food Restaurant        Ice Cream Shop   \n",
       "31                 Memnagar  Fast Food Restaurant     Indian Restaurant   \n",
       "33                Naranpura        History Museum     Indian Restaurant   \n",
       "34                   Naroda        Breakfast Spot             Multiplex   \n",
       "36             Navarangpura     Indian Restaurant            Shoe Store   \n",
       "41                    Ranip  Fast Food Restaurant     Indian Restaurant   \n",
       "45                Shahibaug        History Museum                 Hotel   \n",
       "46             Shastrinagar     Indian Restaurant           Pizza Place   \n",
       "47           Subhash Bridge     Indian Restaurant                Garden   \n",
       "51                  Vastral              Pharmacy           Pizza Place   \n",
       "\n",
       "     3rd Most Common Venue 4th Most Common Venue       5th Most Common Venue  \\\n",
       "2                     Café           Yoga Studio           Electronics Store   \n",
       "4        Indian Restaurant           Yoga Studio                       Diner   \n",
       "10       Indian Restaurant        Farmers Market                 Yoga Studio   \n",
       "20        Business Service           Yoga Studio              Farmers Market   \n",
       "25           Train Station      Asian Restaurant                 Men's Store   \n",
       "27             Yoga Studio        Farmers Market           Convenience Store   \n",
       "30             Pizza Place     Electronics Store           Indian Restaurant   \n",
       "31       Electronics Store                 Hotel                 Pizza Place   \n",
       "33          Farmers Market     Convenience Store                Cupcake Shop   \n",
       "34       Indian Restaurant            Food Court                       Diner   \n",
       "36          Sandwich Place             Multiplex                Dessert Shop   \n",
       "41               Juice Bar        Farmers Market           Convenience Store   \n",
       "45       Indian Restaurant                Bakery              Farmers Market   \n",
       "46          Sandwich Place                   Gym                 Video Store   \n",
       "47  Furniture / Home Store           Yoga Studio           Electronics Store   \n",
       "51       Indian Restaurant     Electronics Store  Construction & Landscaping   \n",
       "\n",
       "            6th Most Common Venue   7th Most Common Venue  \\\n",
       "2               Convenience Store            Cupcake Shop   \n",
       "4   Vegetarian / Vegan Restaurant          Clothing Store   \n",
       "10              Electronics Store       Convenience Store   \n",
       "20                   Cupcake Shop        Department Store   \n",
       "25                 Farmers Market            Cupcake Shop   \n",
       "27                   Cupcake Shop        Department Store   \n",
       "30                 Clothing Store  Furniture / Home Store   \n",
       "31                    Snack Place       Convenience Store   \n",
       "33               Department Store            Dessert Shop   \n",
       "34           Fast Food Restaurant             Yoga Studio   \n",
       "36           Fast Food Restaurant               Bookstore   \n",
       "41                   Cupcake Shop        Department Store   \n",
       "45                   Cupcake Shop        Department Store   \n",
       "46                         Garden              Food Court   \n",
       "47              Convenience Store            Cupcake Shop   \n",
       "51              Convenience Store            Cupcake Shop   \n",
       "\n",
       "   8th Most Common Venue 9th Most Common Venue 10th Most Common Venue  \n",
       "2       Department Store          Dessert Shop                  Diner  \n",
       "4     Mexican Restaurant              Tea Room                 Bakery  \n",
       "10          Cupcake Shop      Department Store           Dessert Shop  \n",
       "20                 Diner            Donut Shop      Electronics Store  \n",
       "25      Department Store          Dessert Shop                  Diner  \n",
       "27          Dessert Shop                 Diner             Donut Shop  \n",
       "30            Food Truck            Food Court            Flea Market  \n",
       "31          Cupcake Shop      Department Store           Dessert Shop  \n",
       "33                 Diner            Donut Shop      Electronics Store  \n",
       "34          Cupcake Shop      Department Store           Dessert Shop  \n",
       "36     Convenience Store          Cupcake Shop       Department Store  \n",
       "41          Dessert Shop                 Diner             Donut Shop  \n",
       "45          Dessert Shop                 Diner             Donut Shop  \n",
       "46  Fast Food Restaurant            Donut Shop      Convenience Store  \n",
       "47      Department Store          Dessert Shop                  Diner  \n",
       "51      Department Store          Dessert Shop                  Diner  "
      ]
     },
     "execution_count": 131,
     "metadata": {},
     "output_type": "execute_result"
    }
   ],
   "source": [
    "cluster2 = ahmedabad_merged.loc[ahmedabad_merged['Cluster Labels'] == 1, ahmedabad_merged.columns[[0] + list(range(4, ahmedabad_merged.shape[1]))]]\n",
    "cluster2"
   ]
  },
  {
   "cell_type": "code",
   "execution_count": 132,
   "metadata": {},
   "outputs": [
    {
     "data": {
      "application/vnd.plotly.v1+json": {
       "config": {
        "plotlyServerURL": "https://plot.ly"
       },
       "data": [
        {
         "alignmentgroup": "True",
         "hoverlabel": {
          "namelength": 0
         },
         "hovertemplate": "Venue Category=%{x}<br>Counts=%{y}",
         "legendgroup": "",
         "marker": {
          "color": "#636efa"
         },
         "name": "",
         "offsetgroup": "",
         "orientation": "v",
         "showlegend": false,
         "textposition": "auto",
         "type": "bar",
         "x": [
          "Asian Restaurant",
          "BBQ Joint",
          "Bakery",
          "Bookstore",
          "Breakfast Spot",
          "Business Service",
          "Café",
          "Clothing Store",
          "Construction & Landscaping",
          "Convenience Store",
          "Cupcake Shop",
          "Department Store",
          "Dessert Shop",
          "Diner",
          "Donut Shop",
          "Electronics Store",
          "Farmers Market",
          "Fast Food Restaurant",
          "Flea Market",
          "Food Court",
          "Food Truck",
          "Furniture / Home Store",
          "Garden",
          "Gym",
          "History Museum",
          "Hotel",
          "IT Services",
          "Ice Cream Shop",
          "Indian Restaurant",
          "Juice Bar",
          "Men's Store",
          "Mexican Restaurant",
          "Multiplex",
          "Pharmacy",
          "Pizza Place",
          "Sandwich Place",
          "Shoe Store",
          "Snack Place",
          "Sporting Goods Shop",
          "Tea Room",
          "Train Station",
          "Vegetarian / Vegan Restaurant",
          "Video Store",
          "Yoga Studio"
         ],
         "xaxis": "x",
         "y": [
          1,
          1,
          2,
          1,
          1,
          1,
          1,
          3,
          1,
          10,
          13,
          13,
          13,
          11,
          6,
          8,
          7,
          7,
          1,
          3,
          1,
          2,
          2,
          1,
          2,
          2,
          1,
          2,
          16,
          1,
          1,
          1,
          2,
          1,
          5,
          2,
          1,
          1,
          1,
          1,
          1,
          1,
          1,
          7
         ],
         "yaxis": "y"
        }
       ],
       "layout": {
        "barmode": "relative",
        "legend": {
         "tracegroupgap": 0
        },
        "margin": {
         "t": 60
        },
        "template": {
         "data": {
          "bar": [
           {
            "error_x": {
             "color": "#2a3f5f"
            },
            "error_y": {
             "color": "#2a3f5f"
            },
            "marker": {
             "line": {
              "color": "#E5ECF6",
              "width": 0.5
             }
            },
            "type": "bar"
           }
          ],
          "barpolar": [
           {
            "marker": {
             "line": {
              "color": "#E5ECF6",
              "width": 0.5
             }
            },
            "type": "barpolar"
           }
          ],
          "carpet": [
           {
            "aaxis": {
             "endlinecolor": "#2a3f5f",
             "gridcolor": "white",
             "linecolor": "white",
             "minorgridcolor": "white",
             "startlinecolor": "#2a3f5f"
            },
            "baxis": {
             "endlinecolor": "#2a3f5f",
             "gridcolor": "white",
             "linecolor": "white",
             "minorgridcolor": "white",
             "startlinecolor": "#2a3f5f"
            },
            "type": "carpet"
           }
          ],
          "choropleth": [
           {
            "colorbar": {
             "outlinewidth": 0,
             "ticks": ""
            },
            "type": "choropleth"
           }
          ],
          "contour": [
           {
            "colorbar": {
             "outlinewidth": 0,
             "ticks": ""
            },
            "colorscale": [
             [
              0,
              "#0d0887"
             ],
             [
              0.1111111111111111,
              "#46039f"
             ],
             [
              0.2222222222222222,
              "#7201a8"
             ],
             [
              0.3333333333333333,
              "#9c179e"
             ],
             [
              0.4444444444444444,
              "#bd3786"
             ],
             [
              0.5555555555555556,
              "#d8576b"
             ],
             [
              0.6666666666666666,
              "#ed7953"
             ],
             [
              0.7777777777777778,
              "#fb9f3a"
             ],
             [
              0.8888888888888888,
              "#fdca26"
             ],
             [
              1,
              "#f0f921"
             ]
            ],
            "type": "contour"
           }
          ],
          "contourcarpet": [
           {
            "colorbar": {
             "outlinewidth": 0,
             "ticks": ""
            },
            "type": "contourcarpet"
           }
          ],
          "heatmap": [
           {
            "colorbar": {
             "outlinewidth": 0,
             "ticks": ""
            },
            "colorscale": [
             [
              0,
              "#0d0887"
             ],
             [
              0.1111111111111111,
              "#46039f"
             ],
             [
              0.2222222222222222,
              "#7201a8"
             ],
             [
              0.3333333333333333,
              "#9c179e"
             ],
             [
              0.4444444444444444,
              "#bd3786"
             ],
             [
              0.5555555555555556,
              "#d8576b"
             ],
             [
              0.6666666666666666,
              "#ed7953"
             ],
             [
              0.7777777777777778,
              "#fb9f3a"
             ],
             [
              0.8888888888888888,
              "#fdca26"
             ],
             [
              1,
              "#f0f921"
             ]
            ],
            "type": "heatmap"
           }
          ],
          "heatmapgl": [
           {
            "colorbar": {
             "outlinewidth": 0,
             "ticks": ""
            },
            "colorscale": [
             [
              0,
              "#0d0887"
             ],
             [
              0.1111111111111111,
              "#46039f"
             ],
             [
              0.2222222222222222,
              "#7201a8"
             ],
             [
              0.3333333333333333,
              "#9c179e"
             ],
             [
              0.4444444444444444,
              "#bd3786"
             ],
             [
              0.5555555555555556,
              "#d8576b"
             ],
             [
              0.6666666666666666,
              "#ed7953"
             ],
             [
              0.7777777777777778,
              "#fb9f3a"
             ],
             [
              0.8888888888888888,
              "#fdca26"
             ],
             [
              1,
              "#f0f921"
             ]
            ],
            "type": "heatmapgl"
           }
          ],
          "histogram": [
           {
            "marker": {
             "colorbar": {
              "outlinewidth": 0,
              "ticks": ""
             }
            },
            "type": "histogram"
           }
          ],
          "histogram2d": [
           {
            "colorbar": {
             "outlinewidth": 0,
             "ticks": ""
            },
            "colorscale": [
             [
              0,
              "#0d0887"
             ],
             [
              0.1111111111111111,
              "#46039f"
             ],
             [
              0.2222222222222222,
              "#7201a8"
             ],
             [
              0.3333333333333333,
              "#9c179e"
             ],
             [
              0.4444444444444444,
              "#bd3786"
             ],
             [
              0.5555555555555556,
              "#d8576b"
             ],
             [
              0.6666666666666666,
              "#ed7953"
             ],
             [
              0.7777777777777778,
              "#fb9f3a"
             ],
             [
              0.8888888888888888,
              "#fdca26"
             ],
             [
              1,
              "#f0f921"
             ]
            ],
            "type": "histogram2d"
           }
          ],
          "histogram2dcontour": [
           {
            "colorbar": {
             "outlinewidth": 0,
             "ticks": ""
            },
            "colorscale": [
             [
              0,
              "#0d0887"
             ],
             [
              0.1111111111111111,
              "#46039f"
             ],
             [
              0.2222222222222222,
              "#7201a8"
             ],
             [
              0.3333333333333333,
              "#9c179e"
             ],
             [
              0.4444444444444444,
              "#bd3786"
             ],
             [
              0.5555555555555556,
              "#d8576b"
             ],
             [
              0.6666666666666666,
              "#ed7953"
             ],
             [
              0.7777777777777778,
              "#fb9f3a"
             ],
             [
              0.8888888888888888,
              "#fdca26"
             ],
             [
              1,
              "#f0f921"
             ]
            ],
            "type": "histogram2dcontour"
           }
          ],
          "mesh3d": [
           {
            "colorbar": {
             "outlinewidth": 0,
             "ticks": ""
            },
            "type": "mesh3d"
           }
          ],
          "parcoords": [
           {
            "line": {
             "colorbar": {
              "outlinewidth": 0,
              "ticks": ""
             }
            },
            "type": "parcoords"
           }
          ],
          "pie": [
           {
            "automargin": true,
            "type": "pie"
           }
          ],
          "scatter": [
           {
            "marker": {
             "colorbar": {
              "outlinewidth": 0,
              "ticks": ""
             }
            },
            "type": "scatter"
           }
          ],
          "scatter3d": [
           {
            "line": {
             "colorbar": {
              "outlinewidth": 0,
              "ticks": ""
             }
            },
            "marker": {
             "colorbar": {
              "outlinewidth": 0,
              "ticks": ""
             }
            },
            "type": "scatter3d"
           }
          ],
          "scattercarpet": [
           {
            "marker": {
             "colorbar": {
              "outlinewidth": 0,
              "ticks": ""
             }
            },
            "type": "scattercarpet"
           }
          ],
          "scattergeo": [
           {
            "marker": {
             "colorbar": {
              "outlinewidth": 0,
              "ticks": ""
             }
            },
            "type": "scattergeo"
           }
          ],
          "scattergl": [
           {
            "marker": {
             "colorbar": {
              "outlinewidth": 0,
              "ticks": ""
             }
            },
            "type": "scattergl"
           }
          ],
          "scattermapbox": [
           {
            "marker": {
             "colorbar": {
              "outlinewidth": 0,
              "ticks": ""
             }
            },
            "type": "scattermapbox"
           }
          ],
          "scatterpolar": [
           {
            "marker": {
             "colorbar": {
              "outlinewidth": 0,
              "ticks": ""
             }
            },
            "type": "scatterpolar"
           }
          ],
          "scatterpolargl": [
           {
            "marker": {
             "colorbar": {
              "outlinewidth": 0,
              "ticks": ""
             }
            },
            "type": "scatterpolargl"
           }
          ],
          "scatterternary": [
           {
            "marker": {
             "colorbar": {
              "outlinewidth": 0,
              "ticks": ""
             }
            },
            "type": "scatterternary"
           }
          ],
          "surface": [
           {
            "colorbar": {
             "outlinewidth": 0,
             "ticks": ""
            },
            "colorscale": [
             [
              0,
              "#0d0887"
             ],
             [
              0.1111111111111111,
              "#46039f"
             ],
             [
              0.2222222222222222,
              "#7201a8"
             ],
             [
              0.3333333333333333,
              "#9c179e"
             ],
             [
              0.4444444444444444,
              "#bd3786"
             ],
             [
              0.5555555555555556,
              "#d8576b"
             ],
             [
              0.6666666666666666,
              "#ed7953"
             ],
             [
              0.7777777777777778,
              "#fb9f3a"
             ],
             [
              0.8888888888888888,
              "#fdca26"
             ],
             [
              1,
              "#f0f921"
             ]
            ],
            "type": "surface"
           }
          ],
          "table": [
           {
            "cells": {
             "fill": {
              "color": "#EBF0F8"
             },
             "line": {
              "color": "white"
             }
            },
            "header": {
             "fill": {
              "color": "#C8D4E3"
             },
             "line": {
              "color": "white"
             }
            },
            "type": "table"
           }
          ]
         },
         "layout": {
          "annotationdefaults": {
           "arrowcolor": "#2a3f5f",
           "arrowhead": 0,
           "arrowwidth": 1
          },
          "coloraxis": {
           "colorbar": {
            "outlinewidth": 0,
            "ticks": ""
           }
          },
          "colorscale": {
           "diverging": [
            [
             0,
             "#8e0152"
            ],
            [
             0.1,
             "#c51b7d"
            ],
            [
             0.2,
             "#de77ae"
            ],
            [
             0.3,
             "#f1b6da"
            ],
            [
             0.4,
             "#fde0ef"
            ],
            [
             0.5,
             "#f7f7f7"
            ],
            [
             0.6,
             "#e6f5d0"
            ],
            [
             0.7,
             "#b8e186"
            ],
            [
             0.8,
             "#7fbc41"
            ],
            [
             0.9,
             "#4d9221"
            ],
            [
             1,
             "#276419"
            ]
           ],
           "sequential": [
            [
             0,
             "#0d0887"
            ],
            [
             0.1111111111111111,
             "#46039f"
            ],
            [
             0.2222222222222222,
             "#7201a8"
            ],
            [
             0.3333333333333333,
             "#9c179e"
            ],
            [
             0.4444444444444444,
             "#bd3786"
            ],
            [
             0.5555555555555556,
             "#d8576b"
            ],
            [
             0.6666666666666666,
             "#ed7953"
            ],
            [
             0.7777777777777778,
             "#fb9f3a"
            ],
            [
             0.8888888888888888,
             "#fdca26"
            ],
            [
             1,
             "#f0f921"
            ]
           ],
           "sequentialminus": [
            [
             0,
             "#0d0887"
            ],
            [
             0.1111111111111111,
             "#46039f"
            ],
            [
             0.2222222222222222,
             "#7201a8"
            ],
            [
             0.3333333333333333,
             "#9c179e"
            ],
            [
             0.4444444444444444,
             "#bd3786"
            ],
            [
             0.5555555555555556,
             "#d8576b"
            ],
            [
             0.6666666666666666,
             "#ed7953"
            ],
            [
             0.7777777777777778,
             "#fb9f3a"
            ],
            [
             0.8888888888888888,
             "#fdca26"
            ],
            [
             1,
             "#f0f921"
            ]
           ]
          },
          "colorway": [
           "#636efa",
           "#EF553B",
           "#00cc96",
           "#ab63fa",
           "#FFA15A",
           "#19d3f3",
           "#FF6692",
           "#B6E880",
           "#FF97FF",
           "#FECB52"
          ],
          "font": {
           "color": "#2a3f5f"
          },
          "geo": {
           "bgcolor": "white",
           "lakecolor": "white",
           "landcolor": "#E5ECF6",
           "showlakes": true,
           "showland": true,
           "subunitcolor": "white"
          },
          "hoverlabel": {
           "align": "left"
          },
          "hovermode": "closest",
          "mapbox": {
           "style": "light"
          },
          "paper_bgcolor": "white",
          "plot_bgcolor": "#E5ECF6",
          "polar": {
           "angularaxis": {
            "gridcolor": "white",
            "linecolor": "white",
            "ticks": ""
           },
           "bgcolor": "#E5ECF6",
           "radialaxis": {
            "gridcolor": "white",
            "linecolor": "white",
            "ticks": ""
           }
          },
          "scene": {
           "xaxis": {
            "backgroundcolor": "#E5ECF6",
            "gridcolor": "white",
            "gridwidth": 2,
            "linecolor": "white",
            "showbackground": true,
            "ticks": "",
            "zerolinecolor": "white"
           },
           "yaxis": {
            "backgroundcolor": "#E5ECF6",
            "gridcolor": "white",
            "gridwidth": 2,
            "linecolor": "white",
            "showbackground": true,
            "ticks": "",
            "zerolinecolor": "white"
           },
           "zaxis": {
            "backgroundcolor": "#E5ECF6",
            "gridcolor": "white",
            "gridwidth": 2,
            "linecolor": "white",
            "showbackground": true,
            "ticks": "",
            "zerolinecolor": "white"
           }
          },
          "shapedefaults": {
           "line": {
            "color": "#2a3f5f"
           }
          },
          "ternary": {
           "aaxis": {
            "gridcolor": "white",
            "linecolor": "white",
            "ticks": ""
           },
           "baxis": {
            "gridcolor": "white",
            "linecolor": "white",
            "ticks": ""
           },
           "bgcolor": "#E5ECF6",
           "caxis": {
            "gridcolor": "white",
            "linecolor": "white",
            "ticks": ""
           }
          },
          "title": {
           "x": 0.05
          },
          "xaxis": {
           "automargin": true,
           "gridcolor": "white",
           "linecolor": "white",
           "ticks": "",
           "title": {
            "standoff": 15
           },
           "zerolinecolor": "white",
           "zerolinewidth": 2
          },
          "yaxis": {
           "automargin": true,
           "gridcolor": "white",
           "linecolor": "white",
           "ticks": "",
           "title": {
            "standoff": 15
           },
           "zerolinecolor": "white",
           "zerolinewidth": 2
          }
         }
        },
        "xaxis": {
         "anchor": "y",
         "domain": [
          0,
          1
         ],
         "title": {
          "text": "Venue Category"
         }
        },
        "yaxis": {
         "anchor": "x",
         "domain": [
          0,
          1
         ],
         "title": {
          "text": "Counts"
         }
        }
       }
      },
      "text/html": [
       "<div>\n",
       "        \n",
       "        \n",
       "            <div id=\"8e8a38d7-8744-4863-8912-7d3cbac413fc\" class=\"plotly-graph-div\" style=\"height:525px; width:100%;\"></div>\n",
       "            <script type=\"text/javascript\">\n",
       "                require([\"plotly\"], function(Plotly) {\n",
       "                    window.PLOTLYENV=window.PLOTLYENV || {};\n",
       "                    \n",
       "                if (document.getElementById(\"8e8a38d7-8744-4863-8912-7d3cbac413fc\")) {\n",
       "                    Plotly.newPlot(\n",
       "                        '8e8a38d7-8744-4863-8912-7d3cbac413fc',\n",
       "                        [{\"alignmentgroup\": \"True\", \"hoverlabel\": {\"namelength\": 0}, \"hovertemplate\": \"Venue Category=%{x}<br>Counts=%{y}\", \"legendgroup\": \"\", \"marker\": {\"color\": \"#636efa\"}, \"name\": \"\", \"offsetgroup\": \"\", \"orientation\": \"v\", \"showlegend\": false, \"textposition\": \"auto\", \"type\": \"bar\", \"x\": [\"Asian Restaurant\", \"BBQ Joint\", \"Bakery\", \"Bookstore\", \"Breakfast Spot\", \"Business Service\", \"Caf\\u00e9\", \"Clothing Store\", \"Construction & Landscaping\", \"Convenience Store\", \"Cupcake Shop\", \"Department Store\", \"Dessert Shop\", \"Diner\", \"Donut Shop\", \"Electronics Store\", \"Farmers Market\", \"Fast Food Restaurant\", \"Flea Market\", \"Food Court\", \"Food Truck\", \"Furniture / Home Store\", \"Garden\", \"Gym\", \"History Museum\", \"Hotel\", \"IT Services\", \"Ice Cream Shop\", \"Indian Restaurant\", \"Juice Bar\", \"Men's Store\", \"Mexican Restaurant\", \"Multiplex\", \"Pharmacy\", \"Pizza Place\", \"Sandwich Place\", \"Shoe Store\", \"Snack Place\", \"Sporting Goods Shop\", \"Tea Room\", \"Train Station\", \"Vegetarian / Vegan Restaurant\", \"Video Store\", \"Yoga Studio\"], \"xaxis\": \"x\", \"y\": [1, 1, 2, 1, 1, 1, 1, 3, 1, 10, 13, 13, 13, 11, 6, 8, 7, 7, 1, 3, 1, 2, 2, 1, 2, 2, 1, 2, 16, 1, 1, 1, 2, 1, 5, 2, 1, 1, 1, 1, 1, 1, 1, 7], \"yaxis\": \"y\"}],\n",
       "                        {\"barmode\": \"relative\", \"legend\": {\"tracegroupgap\": 0}, \"margin\": {\"t\": 60}, \"template\": {\"data\": {\"bar\": [{\"error_x\": {\"color\": \"#2a3f5f\"}, \"error_y\": {\"color\": \"#2a3f5f\"}, \"marker\": {\"line\": {\"color\": \"#E5ECF6\", \"width\": 0.5}}, \"type\": \"bar\"}], \"barpolar\": [{\"marker\": {\"line\": {\"color\": \"#E5ECF6\", \"width\": 0.5}}, \"type\": \"barpolar\"}], \"carpet\": [{\"aaxis\": {\"endlinecolor\": \"#2a3f5f\", \"gridcolor\": \"white\", \"linecolor\": \"white\", \"minorgridcolor\": \"white\", \"startlinecolor\": \"#2a3f5f\"}, \"baxis\": {\"endlinecolor\": \"#2a3f5f\", \"gridcolor\": \"white\", \"linecolor\": \"white\", \"minorgridcolor\": \"white\", \"startlinecolor\": \"#2a3f5f\"}, \"type\": \"carpet\"}], \"choropleth\": [{\"colorbar\": {\"outlinewidth\": 0, \"ticks\": \"\"}, \"type\": \"choropleth\"}], \"contour\": [{\"colorbar\": {\"outlinewidth\": 0, \"ticks\": \"\"}, \"colorscale\": [[0.0, \"#0d0887\"], [0.1111111111111111, \"#46039f\"], [0.2222222222222222, \"#7201a8\"], [0.3333333333333333, \"#9c179e\"], [0.4444444444444444, \"#bd3786\"], [0.5555555555555556, \"#d8576b\"], [0.6666666666666666, \"#ed7953\"], [0.7777777777777778, \"#fb9f3a\"], [0.8888888888888888, \"#fdca26\"], [1.0, \"#f0f921\"]], \"type\": \"contour\"}], \"contourcarpet\": [{\"colorbar\": {\"outlinewidth\": 0, \"ticks\": \"\"}, \"type\": \"contourcarpet\"}], \"heatmap\": [{\"colorbar\": {\"outlinewidth\": 0, \"ticks\": \"\"}, \"colorscale\": [[0.0, \"#0d0887\"], [0.1111111111111111, \"#46039f\"], [0.2222222222222222, \"#7201a8\"], [0.3333333333333333, \"#9c179e\"], [0.4444444444444444, \"#bd3786\"], [0.5555555555555556, \"#d8576b\"], [0.6666666666666666, \"#ed7953\"], [0.7777777777777778, \"#fb9f3a\"], [0.8888888888888888, \"#fdca26\"], [1.0, \"#f0f921\"]], \"type\": \"heatmap\"}], \"heatmapgl\": [{\"colorbar\": {\"outlinewidth\": 0, \"ticks\": \"\"}, \"colorscale\": [[0.0, \"#0d0887\"], [0.1111111111111111, \"#46039f\"], [0.2222222222222222, \"#7201a8\"], [0.3333333333333333, \"#9c179e\"], [0.4444444444444444, \"#bd3786\"], [0.5555555555555556, \"#d8576b\"], [0.6666666666666666, \"#ed7953\"], [0.7777777777777778, \"#fb9f3a\"], [0.8888888888888888, \"#fdca26\"], [1.0, \"#f0f921\"]], \"type\": \"heatmapgl\"}], \"histogram\": [{\"marker\": {\"colorbar\": {\"outlinewidth\": 0, \"ticks\": \"\"}}, \"type\": \"histogram\"}], \"histogram2d\": [{\"colorbar\": {\"outlinewidth\": 0, \"ticks\": \"\"}, \"colorscale\": [[0.0, \"#0d0887\"], [0.1111111111111111, \"#46039f\"], [0.2222222222222222, \"#7201a8\"], [0.3333333333333333, \"#9c179e\"], [0.4444444444444444, \"#bd3786\"], [0.5555555555555556, \"#d8576b\"], [0.6666666666666666, \"#ed7953\"], [0.7777777777777778, \"#fb9f3a\"], [0.8888888888888888, \"#fdca26\"], [1.0, \"#f0f921\"]], \"type\": \"histogram2d\"}], \"histogram2dcontour\": [{\"colorbar\": {\"outlinewidth\": 0, \"ticks\": \"\"}, \"colorscale\": [[0.0, \"#0d0887\"], [0.1111111111111111, \"#46039f\"], [0.2222222222222222, \"#7201a8\"], [0.3333333333333333, \"#9c179e\"], [0.4444444444444444, \"#bd3786\"], [0.5555555555555556, \"#d8576b\"], [0.6666666666666666, \"#ed7953\"], [0.7777777777777778, \"#fb9f3a\"], [0.8888888888888888, \"#fdca26\"], [1.0, \"#f0f921\"]], \"type\": \"histogram2dcontour\"}], \"mesh3d\": [{\"colorbar\": {\"outlinewidth\": 0, \"ticks\": \"\"}, \"type\": \"mesh3d\"}], \"parcoords\": [{\"line\": {\"colorbar\": {\"outlinewidth\": 0, \"ticks\": \"\"}}, \"type\": \"parcoords\"}], \"pie\": [{\"automargin\": true, \"type\": \"pie\"}], \"scatter\": [{\"marker\": {\"colorbar\": {\"outlinewidth\": 0, \"ticks\": \"\"}}, \"type\": \"scatter\"}], \"scatter3d\": [{\"line\": {\"colorbar\": {\"outlinewidth\": 0, \"ticks\": \"\"}}, \"marker\": {\"colorbar\": {\"outlinewidth\": 0, \"ticks\": \"\"}}, \"type\": \"scatter3d\"}], \"scattercarpet\": [{\"marker\": {\"colorbar\": {\"outlinewidth\": 0, \"ticks\": \"\"}}, \"type\": \"scattercarpet\"}], \"scattergeo\": [{\"marker\": {\"colorbar\": {\"outlinewidth\": 0, \"ticks\": \"\"}}, \"type\": \"scattergeo\"}], \"scattergl\": [{\"marker\": {\"colorbar\": {\"outlinewidth\": 0, \"ticks\": \"\"}}, \"type\": \"scattergl\"}], \"scattermapbox\": [{\"marker\": {\"colorbar\": {\"outlinewidth\": 0, \"ticks\": \"\"}}, \"type\": \"scattermapbox\"}], \"scatterpolar\": [{\"marker\": {\"colorbar\": {\"outlinewidth\": 0, \"ticks\": \"\"}}, \"type\": \"scatterpolar\"}], \"scatterpolargl\": [{\"marker\": {\"colorbar\": {\"outlinewidth\": 0, \"ticks\": \"\"}}, \"type\": \"scatterpolargl\"}], \"scatterternary\": [{\"marker\": {\"colorbar\": {\"outlinewidth\": 0, \"ticks\": \"\"}}, \"type\": \"scatterternary\"}], \"surface\": [{\"colorbar\": {\"outlinewidth\": 0, \"ticks\": \"\"}, \"colorscale\": [[0.0, \"#0d0887\"], [0.1111111111111111, \"#46039f\"], [0.2222222222222222, \"#7201a8\"], [0.3333333333333333, \"#9c179e\"], [0.4444444444444444, \"#bd3786\"], [0.5555555555555556, \"#d8576b\"], [0.6666666666666666, \"#ed7953\"], [0.7777777777777778, \"#fb9f3a\"], [0.8888888888888888, \"#fdca26\"], [1.0, \"#f0f921\"]], \"type\": \"surface\"}], \"table\": [{\"cells\": {\"fill\": {\"color\": \"#EBF0F8\"}, \"line\": {\"color\": \"white\"}}, \"header\": {\"fill\": {\"color\": \"#C8D4E3\"}, \"line\": {\"color\": \"white\"}}, \"type\": \"table\"}]}, \"layout\": {\"annotationdefaults\": {\"arrowcolor\": \"#2a3f5f\", \"arrowhead\": 0, \"arrowwidth\": 1}, \"coloraxis\": {\"colorbar\": {\"outlinewidth\": 0, \"ticks\": \"\"}}, \"colorscale\": {\"diverging\": [[0, \"#8e0152\"], [0.1, \"#c51b7d\"], [0.2, \"#de77ae\"], [0.3, \"#f1b6da\"], [0.4, \"#fde0ef\"], [0.5, \"#f7f7f7\"], [0.6, \"#e6f5d0\"], [0.7, \"#b8e186\"], [0.8, \"#7fbc41\"], [0.9, \"#4d9221\"], [1, \"#276419\"]], \"sequential\": [[0.0, \"#0d0887\"], [0.1111111111111111, \"#46039f\"], [0.2222222222222222, \"#7201a8\"], [0.3333333333333333, \"#9c179e\"], [0.4444444444444444, \"#bd3786\"], [0.5555555555555556, \"#d8576b\"], [0.6666666666666666, \"#ed7953\"], [0.7777777777777778, \"#fb9f3a\"], [0.8888888888888888, \"#fdca26\"], [1.0, \"#f0f921\"]], \"sequentialminus\": [[0.0, \"#0d0887\"], [0.1111111111111111, \"#46039f\"], [0.2222222222222222, \"#7201a8\"], [0.3333333333333333, \"#9c179e\"], [0.4444444444444444, \"#bd3786\"], [0.5555555555555556, \"#d8576b\"], [0.6666666666666666, \"#ed7953\"], [0.7777777777777778, \"#fb9f3a\"], [0.8888888888888888, \"#fdca26\"], [1.0, \"#f0f921\"]]}, \"colorway\": [\"#636efa\", \"#EF553B\", \"#00cc96\", \"#ab63fa\", \"#FFA15A\", \"#19d3f3\", \"#FF6692\", \"#B6E880\", \"#FF97FF\", \"#FECB52\"], \"font\": {\"color\": \"#2a3f5f\"}, \"geo\": {\"bgcolor\": \"white\", \"lakecolor\": \"white\", \"landcolor\": \"#E5ECF6\", \"showlakes\": true, \"showland\": true, \"subunitcolor\": \"white\"}, \"hoverlabel\": {\"align\": \"left\"}, \"hovermode\": \"closest\", \"mapbox\": {\"style\": \"light\"}, \"paper_bgcolor\": \"white\", \"plot_bgcolor\": \"#E5ECF6\", \"polar\": {\"angularaxis\": {\"gridcolor\": \"white\", \"linecolor\": \"white\", \"ticks\": \"\"}, \"bgcolor\": \"#E5ECF6\", \"radialaxis\": {\"gridcolor\": \"white\", \"linecolor\": \"white\", \"ticks\": \"\"}}, \"scene\": {\"xaxis\": {\"backgroundcolor\": \"#E5ECF6\", \"gridcolor\": \"white\", \"gridwidth\": 2, \"linecolor\": \"white\", \"showbackground\": true, \"ticks\": \"\", \"zerolinecolor\": \"white\"}, \"yaxis\": {\"backgroundcolor\": \"#E5ECF6\", \"gridcolor\": \"white\", \"gridwidth\": 2, \"linecolor\": \"white\", \"showbackground\": true, \"ticks\": \"\", \"zerolinecolor\": \"white\"}, \"zaxis\": {\"backgroundcolor\": \"#E5ECF6\", \"gridcolor\": \"white\", \"gridwidth\": 2, \"linecolor\": \"white\", \"showbackground\": true, \"ticks\": \"\", \"zerolinecolor\": \"white\"}}, \"shapedefaults\": {\"line\": {\"color\": \"#2a3f5f\"}}, \"ternary\": {\"aaxis\": {\"gridcolor\": \"white\", \"linecolor\": \"white\", \"ticks\": \"\"}, \"baxis\": {\"gridcolor\": \"white\", \"linecolor\": \"white\", \"ticks\": \"\"}, \"bgcolor\": \"#E5ECF6\", \"caxis\": {\"gridcolor\": \"white\", \"linecolor\": \"white\", \"ticks\": \"\"}}, \"title\": {\"x\": 0.05}, \"xaxis\": {\"automargin\": true, \"gridcolor\": \"white\", \"linecolor\": \"white\", \"ticks\": \"\", \"title\": {\"standoff\": 15}, \"zerolinecolor\": \"white\", \"zerolinewidth\": 2}, \"yaxis\": {\"automargin\": true, \"gridcolor\": \"white\", \"linecolor\": \"white\", \"ticks\": \"\", \"title\": {\"standoff\": 15}, \"zerolinecolor\": \"white\", \"zerolinewidth\": 2}}}, \"xaxis\": {\"anchor\": \"y\", \"domain\": [0.0, 1.0], \"title\": {\"text\": \"Venue Category\"}}, \"yaxis\": {\"anchor\": \"x\", \"domain\": [0.0, 1.0], \"title\": {\"text\": \"Counts\"}}},\n",
       "                        {\"responsive\": true}\n",
       "                    ).then(function(){\n",
       "                            \n",
       "var gd = document.getElementById('8e8a38d7-8744-4863-8912-7d3cbac413fc');\n",
       "var x = new MutationObserver(function (mutations, observer) {{\n",
       "        var display = window.getComputedStyle(gd).display;\n",
       "        if (!display || display === 'none') {{\n",
       "            console.log([gd, 'removed!']);\n",
       "            Plotly.purge(gd);\n",
       "            observer.disconnect();\n",
       "        }}\n",
       "}});\n",
       "\n",
       "// Listen for the removal of the full notebook cells\n",
       "var notebookContainer = gd.closest('#notebook-container');\n",
       "if (notebookContainer) {{\n",
       "    x.observe(notebookContainer, {childList: true});\n",
       "}}\n",
       "\n",
       "// Listen for the clearing of the current output cell\n",
       "var outputEl = gd.closest('.output');\n",
       "if (outputEl) {{\n",
       "    x.observe(outputEl, {childList: true});\n",
       "}}\n",
       "\n",
       "                        })\n",
       "                };\n",
       "                });\n",
       "            </script>\n",
       "        </div>"
      ]
     },
     "metadata": {},
     "output_type": "display_data"
    }
   ],
   "source": [
    "ser = pd.Series() \n",
    "temp_c = cluster2.drop('Neighborhood', 1)\n",
    "for c in temp_c.columns:\n",
    "    temp = temp_c[c].value_counts()\n",
    "    ser = ser.append(temp)\n",
    "bar_cluster2 = ser.to_frame()\n",
    "bar_cluster2.reset_index(inplace = True)\n",
    "bar_cluster2.columns = ['Venue','Counts']\n",
    "bar_cluster2 = bar_cluster2.groupby('Venue').sum()\n",
    "fig = px.bar(bar_cluster2, x=bar_cluster2.index, y='Counts', labels={'x':'Venue Category'})\n",
    "fig.show()"
   ]
  },
  {
   "cell_type": "code",
   "execution_count": 133,
   "metadata": {},
   "outputs": [
    {
     "data": {
      "text/html": [
       "<div>\n",
       "<style scoped>\n",
       "    .dataframe tbody tr th:only-of-type {\n",
       "        vertical-align: middle;\n",
       "    }\n",
       "\n",
       "    .dataframe tbody tr th {\n",
       "        vertical-align: top;\n",
       "    }\n",
       "\n",
       "    .dataframe thead th {\n",
       "        text-align: right;\n",
       "    }\n",
       "</style>\n",
       "<table border=\"1\" class=\"dataframe\">\n",
       "  <thead>\n",
       "    <tr style=\"text-align: right;\">\n",
       "      <th></th>\n",
       "      <th>Neighborhood</th>\n",
       "      <th>1st Most Common Venue</th>\n",
       "      <th>2nd Most Common Venue</th>\n",
       "      <th>3rd Most Common Venue</th>\n",
       "      <th>4th Most Common Venue</th>\n",
       "      <th>5th Most Common Venue</th>\n",
       "      <th>6th Most Common Venue</th>\n",
       "      <th>7th Most Common Venue</th>\n",
       "      <th>8th Most Common Venue</th>\n",
       "      <th>9th Most Common Venue</th>\n",
       "      <th>10th Most Common Venue</th>\n",
       "    </tr>\n",
       "  </thead>\n",
       "  <tbody>\n",
       "    <tr>\n",
       "      <th>3</th>\n",
       "      <td>Amraiwadi</td>\n",
       "      <td>ATM</td>\n",
       "      <td>Indian Restaurant</td>\n",
       "      <td>Farmers Market</td>\n",
       "      <td>Convenience Store</td>\n",
       "      <td>Cupcake Shop</td>\n",
       "      <td>Department Store</td>\n",
       "      <td>Dessert Shop</td>\n",
       "      <td>Diner</td>\n",
       "      <td>Donut Shop</td>\n",
       "      <td>Electronics Store</td>\n",
       "    </tr>\n",
       "    <tr>\n",
       "      <th>6</th>\n",
       "      <td>Bapunagar</td>\n",
       "      <td>ATM</td>\n",
       "      <td>Indian Restaurant</td>\n",
       "      <td>Bakery</td>\n",
       "      <td>Fast Food Restaurant</td>\n",
       "      <td>Cupcake Shop</td>\n",
       "      <td>Department Store</td>\n",
       "      <td>Dessert Shop</td>\n",
       "      <td>Diner</td>\n",
       "      <td>Donut Shop</td>\n",
       "      <td>Electronics Store</td>\n",
       "    </tr>\n",
       "    <tr>\n",
       "      <th>8</th>\n",
       "      <td>Bhairavnath Road</td>\n",
       "      <td>ATM</td>\n",
       "      <td>Indian Restaurant</td>\n",
       "      <td>Pizza Place</td>\n",
       "      <td>Breakfast Spot</td>\n",
       "      <td>Electronics Store</td>\n",
       "      <td>Convenience Store</td>\n",
       "      <td>Cupcake Shop</td>\n",
       "      <td>Department Store</td>\n",
       "      <td>Dessert Shop</td>\n",
       "      <td>Diner</td>\n",
       "    </tr>\n",
       "    <tr>\n",
       "      <th>17</th>\n",
       "      <td>Godhavi</td>\n",
       "      <td>ATM</td>\n",
       "      <td>Farmers Market</td>\n",
       "      <td>Convenience Store</td>\n",
       "      <td>Cupcake Shop</td>\n",
       "      <td>Department Store</td>\n",
       "      <td>Dessert Shop</td>\n",
       "      <td>Diner</td>\n",
       "      <td>Donut Shop</td>\n",
       "      <td>Electronics Store</td>\n",
       "      <td>Fast Food Restaurant</td>\n",
       "    </tr>\n",
       "    <tr>\n",
       "      <th>40</th>\n",
       "      <td>Ramol</td>\n",
       "      <td>ATM</td>\n",
       "      <td>Moving Target</td>\n",
       "      <td>Historic Site</td>\n",
       "      <td>Convenience Store</td>\n",
       "      <td>Cupcake Shop</td>\n",
       "      <td>Department Store</td>\n",
       "      <td>Dessert Shop</td>\n",
       "      <td>Diner</td>\n",
       "      <td>Donut Shop</td>\n",
       "      <td>Electronics Store</td>\n",
       "    </tr>\n",
       "    <tr>\n",
       "      <th>48</th>\n",
       "      <td>Sukhrampura</td>\n",
       "      <td>ATM</td>\n",
       "      <td>Farmers Market</td>\n",
       "      <td>Convenience Store</td>\n",
       "      <td>Cupcake Shop</td>\n",
       "      <td>Department Store</td>\n",
       "      <td>Dessert Shop</td>\n",
       "      <td>Diner</td>\n",
       "      <td>Donut Shop</td>\n",
       "      <td>Electronics Store</td>\n",
       "      <td>Fast Food Restaurant</td>\n",
       "    </tr>\n",
       "  </tbody>\n",
       "</table>\n",
       "</div>"
      ],
      "text/plain": [
       "        Neighborhood 1st Most Common Venue 2nd Most Common Venue  \\\n",
       "3          Amraiwadi                   ATM     Indian Restaurant   \n",
       "6          Bapunagar                   ATM     Indian Restaurant   \n",
       "8   Bhairavnath Road                   ATM     Indian Restaurant   \n",
       "17           Godhavi                   ATM        Farmers Market   \n",
       "40             Ramol                   ATM         Moving Target   \n",
       "48       Sukhrampura                   ATM        Farmers Market   \n",
       "\n",
       "   3rd Most Common Venue 4th Most Common Venue 5th Most Common Venue  \\\n",
       "3         Farmers Market     Convenience Store          Cupcake Shop   \n",
       "6                 Bakery  Fast Food Restaurant          Cupcake Shop   \n",
       "8            Pizza Place        Breakfast Spot     Electronics Store   \n",
       "17     Convenience Store          Cupcake Shop      Department Store   \n",
       "40         Historic Site     Convenience Store          Cupcake Shop   \n",
       "48     Convenience Store          Cupcake Shop      Department Store   \n",
       "\n",
       "   6th Most Common Venue 7th Most Common Venue 8th Most Common Venue  \\\n",
       "3       Department Store          Dessert Shop                 Diner   \n",
       "6       Department Store          Dessert Shop                 Diner   \n",
       "8      Convenience Store          Cupcake Shop      Department Store   \n",
       "17          Dessert Shop                 Diner            Donut Shop   \n",
       "40      Department Store          Dessert Shop                 Diner   \n",
       "48          Dessert Shop                 Diner            Donut Shop   \n",
       "\n",
       "   9th Most Common Venue 10th Most Common Venue  \n",
       "3             Donut Shop      Electronics Store  \n",
       "6             Donut Shop      Electronics Store  \n",
       "8           Dessert Shop                  Diner  \n",
       "17     Electronics Store   Fast Food Restaurant  \n",
       "40            Donut Shop      Electronics Store  \n",
       "48     Electronics Store   Fast Food Restaurant  "
      ]
     },
     "execution_count": 133,
     "metadata": {},
     "output_type": "execute_result"
    }
   ],
   "source": [
    "cluster3 = ahmedabad_merged.loc[ahmedabad_merged['Cluster Labels'] == 2, ahmedabad_merged.columns[[0] + list(range(4, ahmedabad_merged.shape[1]))]]\n",
    "cluster3"
   ]
  },
  {
   "cell_type": "code",
   "execution_count": 137,
   "metadata": {
    "scrolled": false
   },
   "outputs": [
    {
     "data": {
      "application/vnd.plotly.v1+json": {
       "config": {
        "plotlyServerURL": "https://plot.ly"
       },
       "data": [
        {
         "alignmentgroup": "True",
         "hoverlabel": {
          "namelength": 0
         },
         "hovertemplate": "Venue Category=%{x}<br>Counts=%{y}",
         "legendgroup": "",
         "marker": {
          "color": "#636efa"
         },
         "name": "",
         "offsetgroup": "",
         "orientation": "v",
         "showlegend": false,
         "textposition": "auto",
         "type": "bar",
         "x": [
          "ATM",
          "Bakery",
          "Breakfast Spot",
          "Convenience Store",
          "Cupcake Shop",
          "Department Store",
          "Dessert Shop",
          "Diner",
          "Donut Shop",
          "Electronics Store",
          "Farmers Market",
          "Fast Food Restaurant",
          "Historic Site",
          "Indian Restaurant",
          "Moving Target",
          "Pizza Place"
         ],
         "xaxis": "x",
         "y": [
          6,
          1,
          1,
          5,
          6,
          6,
          6,
          6,
          5,
          6,
          3,
          3,
          1,
          3,
          1,
          1
         ],
         "yaxis": "y"
        }
       ],
       "layout": {
        "barmode": "relative",
        "legend": {
         "tracegroupgap": 0
        },
        "margin": {
         "t": 60
        },
        "template": {
         "data": {
          "bar": [
           {
            "error_x": {
             "color": "#2a3f5f"
            },
            "error_y": {
             "color": "#2a3f5f"
            },
            "marker": {
             "line": {
              "color": "#E5ECF6",
              "width": 0.5
             }
            },
            "type": "bar"
           }
          ],
          "barpolar": [
           {
            "marker": {
             "line": {
              "color": "#E5ECF6",
              "width": 0.5
             }
            },
            "type": "barpolar"
           }
          ],
          "carpet": [
           {
            "aaxis": {
             "endlinecolor": "#2a3f5f",
             "gridcolor": "white",
             "linecolor": "white",
             "minorgridcolor": "white",
             "startlinecolor": "#2a3f5f"
            },
            "baxis": {
             "endlinecolor": "#2a3f5f",
             "gridcolor": "white",
             "linecolor": "white",
             "minorgridcolor": "white",
             "startlinecolor": "#2a3f5f"
            },
            "type": "carpet"
           }
          ],
          "choropleth": [
           {
            "colorbar": {
             "outlinewidth": 0,
             "ticks": ""
            },
            "type": "choropleth"
           }
          ],
          "contour": [
           {
            "colorbar": {
             "outlinewidth": 0,
             "ticks": ""
            },
            "colorscale": [
             [
              0,
              "#0d0887"
             ],
             [
              0.1111111111111111,
              "#46039f"
             ],
             [
              0.2222222222222222,
              "#7201a8"
             ],
             [
              0.3333333333333333,
              "#9c179e"
             ],
             [
              0.4444444444444444,
              "#bd3786"
             ],
             [
              0.5555555555555556,
              "#d8576b"
             ],
             [
              0.6666666666666666,
              "#ed7953"
             ],
             [
              0.7777777777777778,
              "#fb9f3a"
             ],
             [
              0.8888888888888888,
              "#fdca26"
             ],
             [
              1,
              "#f0f921"
             ]
            ],
            "type": "contour"
           }
          ],
          "contourcarpet": [
           {
            "colorbar": {
             "outlinewidth": 0,
             "ticks": ""
            },
            "type": "contourcarpet"
           }
          ],
          "heatmap": [
           {
            "colorbar": {
             "outlinewidth": 0,
             "ticks": ""
            },
            "colorscale": [
             [
              0,
              "#0d0887"
             ],
             [
              0.1111111111111111,
              "#46039f"
             ],
             [
              0.2222222222222222,
              "#7201a8"
             ],
             [
              0.3333333333333333,
              "#9c179e"
             ],
             [
              0.4444444444444444,
              "#bd3786"
             ],
             [
              0.5555555555555556,
              "#d8576b"
             ],
             [
              0.6666666666666666,
              "#ed7953"
             ],
             [
              0.7777777777777778,
              "#fb9f3a"
             ],
             [
              0.8888888888888888,
              "#fdca26"
             ],
             [
              1,
              "#f0f921"
             ]
            ],
            "type": "heatmap"
           }
          ],
          "heatmapgl": [
           {
            "colorbar": {
             "outlinewidth": 0,
             "ticks": ""
            },
            "colorscale": [
             [
              0,
              "#0d0887"
             ],
             [
              0.1111111111111111,
              "#46039f"
             ],
             [
              0.2222222222222222,
              "#7201a8"
             ],
             [
              0.3333333333333333,
              "#9c179e"
             ],
             [
              0.4444444444444444,
              "#bd3786"
             ],
             [
              0.5555555555555556,
              "#d8576b"
             ],
             [
              0.6666666666666666,
              "#ed7953"
             ],
             [
              0.7777777777777778,
              "#fb9f3a"
             ],
             [
              0.8888888888888888,
              "#fdca26"
             ],
             [
              1,
              "#f0f921"
             ]
            ],
            "type": "heatmapgl"
           }
          ],
          "histogram": [
           {
            "marker": {
             "colorbar": {
              "outlinewidth": 0,
              "ticks": ""
             }
            },
            "type": "histogram"
           }
          ],
          "histogram2d": [
           {
            "colorbar": {
             "outlinewidth": 0,
             "ticks": ""
            },
            "colorscale": [
             [
              0,
              "#0d0887"
             ],
             [
              0.1111111111111111,
              "#46039f"
             ],
             [
              0.2222222222222222,
              "#7201a8"
             ],
             [
              0.3333333333333333,
              "#9c179e"
             ],
             [
              0.4444444444444444,
              "#bd3786"
             ],
             [
              0.5555555555555556,
              "#d8576b"
             ],
             [
              0.6666666666666666,
              "#ed7953"
             ],
             [
              0.7777777777777778,
              "#fb9f3a"
             ],
             [
              0.8888888888888888,
              "#fdca26"
             ],
             [
              1,
              "#f0f921"
             ]
            ],
            "type": "histogram2d"
           }
          ],
          "histogram2dcontour": [
           {
            "colorbar": {
             "outlinewidth": 0,
             "ticks": ""
            },
            "colorscale": [
             [
              0,
              "#0d0887"
             ],
             [
              0.1111111111111111,
              "#46039f"
             ],
             [
              0.2222222222222222,
              "#7201a8"
             ],
             [
              0.3333333333333333,
              "#9c179e"
             ],
             [
              0.4444444444444444,
              "#bd3786"
             ],
             [
              0.5555555555555556,
              "#d8576b"
             ],
             [
              0.6666666666666666,
              "#ed7953"
             ],
             [
              0.7777777777777778,
              "#fb9f3a"
             ],
             [
              0.8888888888888888,
              "#fdca26"
             ],
             [
              1,
              "#f0f921"
             ]
            ],
            "type": "histogram2dcontour"
           }
          ],
          "mesh3d": [
           {
            "colorbar": {
             "outlinewidth": 0,
             "ticks": ""
            },
            "type": "mesh3d"
           }
          ],
          "parcoords": [
           {
            "line": {
             "colorbar": {
              "outlinewidth": 0,
              "ticks": ""
             }
            },
            "type": "parcoords"
           }
          ],
          "pie": [
           {
            "automargin": true,
            "type": "pie"
           }
          ],
          "scatter": [
           {
            "marker": {
             "colorbar": {
              "outlinewidth": 0,
              "ticks": ""
             }
            },
            "type": "scatter"
           }
          ],
          "scatter3d": [
           {
            "line": {
             "colorbar": {
              "outlinewidth": 0,
              "ticks": ""
             }
            },
            "marker": {
             "colorbar": {
              "outlinewidth": 0,
              "ticks": ""
             }
            },
            "type": "scatter3d"
           }
          ],
          "scattercarpet": [
           {
            "marker": {
             "colorbar": {
              "outlinewidth": 0,
              "ticks": ""
             }
            },
            "type": "scattercarpet"
           }
          ],
          "scattergeo": [
           {
            "marker": {
             "colorbar": {
              "outlinewidth": 0,
              "ticks": ""
             }
            },
            "type": "scattergeo"
           }
          ],
          "scattergl": [
           {
            "marker": {
             "colorbar": {
              "outlinewidth": 0,
              "ticks": ""
             }
            },
            "type": "scattergl"
           }
          ],
          "scattermapbox": [
           {
            "marker": {
             "colorbar": {
              "outlinewidth": 0,
              "ticks": ""
             }
            },
            "type": "scattermapbox"
           }
          ],
          "scatterpolar": [
           {
            "marker": {
             "colorbar": {
              "outlinewidth": 0,
              "ticks": ""
             }
            },
            "type": "scatterpolar"
           }
          ],
          "scatterpolargl": [
           {
            "marker": {
             "colorbar": {
              "outlinewidth": 0,
              "ticks": ""
             }
            },
            "type": "scatterpolargl"
           }
          ],
          "scatterternary": [
           {
            "marker": {
             "colorbar": {
              "outlinewidth": 0,
              "ticks": ""
             }
            },
            "type": "scatterternary"
           }
          ],
          "surface": [
           {
            "colorbar": {
             "outlinewidth": 0,
             "ticks": ""
            },
            "colorscale": [
             [
              0,
              "#0d0887"
             ],
             [
              0.1111111111111111,
              "#46039f"
             ],
             [
              0.2222222222222222,
              "#7201a8"
             ],
             [
              0.3333333333333333,
              "#9c179e"
             ],
             [
              0.4444444444444444,
              "#bd3786"
             ],
             [
              0.5555555555555556,
              "#d8576b"
             ],
             [
              0.6666666666666666,
              "#ed7953"
             ],
             [
              0.7777777777777778,
              "#fb9f3a"
             ],
             [
              0.8888888888888888,
              "#fdca26"
             ],
             [
              1,
              "#f0f921"
             ]
            ],
            "type": "surface"
           }
          ],
          "table": [
           {
            "cells": {
             "fill": {
              "color": "#EBF0F8"
             },
             "line": {
              "color": "white"
             }
            },
            "header": {
             "fill": {
              "color": "#C8D4E3"
             },
             "line": {
              "color": "white"
             }
            },
            "type": "table"
           }
          ]
         },
         "layout": {
          "annotationdefaults": {
           "arrowcolor": "#2a3f5f",
           "arrowhead": 0,
           "arrowwidth": 1
          },
          "coloraxis": {
           "colorbar": {
            "outlinewidth": 0,
            "ticks": ""
           }
          },
          "colorscale": {
           "diverging": [
            [
             0,
             "#8e0152"
            ],
            [
             0.1,
             "#c51b7d"
            ],
            [
             0.2,
             "#de77ae"
            ],
            [
             0.3,
             "#f1b6da"
            ],
            [
             0.4,
             "#fde0ef"
            ],
            [
             0.5,
             "#f7f7f7"
            ],
            [
             0.6,
             "#e6f5d0"
            ],
            [
             0.7,
             "#b8e186"
            ],
            [
             0.8,
             "#7fbc41"
            ],
            [
             0.9,
             "#4d9221"
            ],
            [
             1,
             "#276419"
            ]
           ],
           "sequential": [
            [
             0,
             "#0d0887"
            ],
            [
             0.1111111111111111,
             "#46039f"
            ],
            [
             0.2222222222222222,
             "#7201a8"
            ],
            [
             0.3333333333333333,
             "#9c179e"
            ],
            [
             0.4444444444444444,
             "#bd3786"
            ],
            [
             0.5555555555555556,
             "#d8576b"
            ],
            [
             0.6666666666666666,
             "#ed7953"
            ],
            [
             0.7777777777777778,
             "#fb9f3a"
            ],
            [
             0.8888888888888888,
             "#fdca26"
            ],
            [
             1,
             "#f0f921"
            ]
           ],
           "sequentialminus": [
            [
             0,
             "#0d0887"
            ],
            [
             0.1111111111111111,
             "#46039f"
            ],
            [
             0.2222222222222222,
             "#7201a8"
            ],
            [
             0.3333333333333333,
             "#9c179e"
            ],
            [
             0.4444444444444444,
             "#bd3786"
            ],
            [
             0.5555555555555556,
             "#d8576b"
            ],
            [
             0.6666666666666666,
             "#ed7953"
            ],
            [
             0.7777777777777778,
             "#fb9f3a"
            ],
            [
             0.8888888888888888,
             "#fdca26"
            ],
            [
             1,
             "#f0f921"
            ]
           ]
          },
          "colorway": [
           "#636efa",
           "#EF553B",
           "#00cc96",
           "#ab63fa",
           "#FFA15A",
           "#19d3f3",
           "#FF6692",
           "#B6E880",
           "#FF97FF",
           "#FECB52"
          ],
          "font": {
           "color": "#2a3f5f"
          },
          "geo": {
           "bgcolor": "white",
           "lakecolor": "white",
           "landcolor": "#E5ECF6",
           "showlakes": true,
           "showland": true,
           "subunitcolor": "white"
          },
          "hoverlabel": {
           "align": "left"
          },
          "hovermode": "closest",
          "mapbox": {
           "style": "light"
          },
          "paper_bgcolor": "white",
          "plot_bgcolor": "#E5ECF6",
          "polar": {
           "angularaxis": {
            "gridcolor": "white",
            "linecolor": "white",
            "ticks": ""
           },
           "bgcolor": "#E5ECF6",
           "radialaxis": {
            "gridcolor": "white",
            "linecolor": "white",
            "ticks": ""
           }
          },
          "scene": {
           "xaxis": {
            "backgroundcolor": "#E5ECF6",
            "gridcolor": "white",
            "gridwidth": 2,
            "linecolor": "white",
            "showbackground": true,
            "ticks": "",
            "zerolinecolor": "white"
           },
           "yaxis": {
            "backgroundcolor": "#E5ECF6",
            "gridcolor": "white",
            "gridwidth": 2,
            "linecolor": "white",
            "showbackground": true,
            "ticks": "",
            "zerolinecolor": "white"
           },
           "zaxis": {
            "backgroundcolor": "#E5ECF6",
            "gridcolor": "white",
            "gridwidth": 2,
            "linecolor": "white",
            "showbackground": true,
            "ticks": "",
            "zerolinecolor": "white"
           }
          },
          "shapedefaults": {
           "line": {
            "color": "#2a3f5f"
           }
          },
          "ternary": {
           "aaxis": {
            "gridcolor": "white",
            "linecolor": "white",
            "ticks": ""
           },
           "baxis": {
            "gridcolor": "white",
            "linecolor": "white",
            "ticks": ""
           },
           "bgcolor": "#E5ECF6",
           "caxis": {
            "gridcolor": "white",
            "linecolor": "white",
            "ticks": ""
           }
          },
          "title": {
           "x": 0.05
          },
          "xaxis": {
           "automargin": true,
           "gridcolor": "white",
           "linecolor": "white",
           "ticks": "",
           "title": {
            "standoff": 15
           },
           "zerolinecolor": "white",
           "zerolinewidth": 2
          },
          "yaxis": {
           "automargin": true,
           "gridcolor": "white",
           "linecolor": "white",
           "ticks": "",
           "title": {
            "standoff": 15
           },
           "zerolinecolor": "white",
           "zerolinewidth": 2
          }
         }
        },
        "xaxis": {
         "anchor": "y",
         "domain": [
          0,
          1
         ],
         "title": {
          "text": "Venue Category"
         }
        },
        "yaxis": {
         "anchor": "x",
         "domain": [
          0,
          1
         ],
         "title": {
          "text": "Counts"
         }
        }
       }
      },
      "text/html": [
       "<div>\n",
       "        \n",
       "        \n",
       "            <div id=\"8ff90ba5-8eb3-4966-bdb4-202ed464fd8f\" class=\"plotly-graph-div\" style=\"height:525px; width:100%;\"></div>\n",
       "            <script type=\"text/javascript\">\n",
       "                require([\"plotly\"], function(Plotly) {\n",
       "                    window.PLOTLYENV=window.PLOTLYENV || {};\n",
       "                    \n",
       "                if (document.getElementById(\"8ff90ba5-8eb3-4966-bdb4-202ed464fd8f\")) {\n",
       "                    Plotly.newPlot(\n",
       "                        '8ff90ba5-8eb3-4966-bdb4-202ed464fd8f',\n",
       "                        [{\"alignmentgroup\": \"True\", \"hoverlabel\": {\"namelength\": 0}, \"hovertemplate\": \"Venue Category=%{x}<br>Counts=%{y}\", \"legendgroup\": \"\", \"marker\": {\"color\": \"#636efa\"}, \"name\": \"\", \"offsetgroup\": \"\", \"orientation\": \"v\", \"showlegend\": false, \"textposition\": \"auto\", \"type\": \"bar\", \"x\": [\"ATM\", \"Bakery\", \"Breakfast Spot\", \"Convenience Store\", \"Cupcake Shop\", \"Department Store\", \"Dessert Shop\", \"Diner\", \"Donut Shop\", \"Electronics Store\", \"Farmers Market\", \"Fast Food Restaurant\", \"Historic Site\", \"Indian Restaurant\", \"Moving Target\", \"Pizza Place\"], \"xaxis\": \"x\", \"y\": [6, 1, 1, 5, 6, 6, 6, 6, 5, 6, 3, 3, 1, 3, 1, 1], \"yaxis\": \"y\"}],\n",
       "                        {\"barmode\": \"relative\", \"legend\": {\"tracegroupgap\": 0}, \"margin\": {\"t\": 60}, \"template\": {\"data\": {\"bar\": [{\"error_x\": {\"color\": \"#2a3f5f\"}, \"error_y\": {\"color\": \"#2a3f5f\"}, \"marker\": {\"line\": {\"color\": \"#E5ECF6\", \"width\": 0.5}}, \"type\": \"bar\"}], \"barpolar\": [{\"marker\": {\"line\": {\"color\": \"#E5ECF6\", \"width\": 0.5}}, \"type\": \"barpolar\"}], \"carpet\": [{\"aaxis\": {\"endlinecolor\": \"#2a3f5f\", \"gridcolor\": \"white\", \"linecolor\": \"white\", \"minorgridcolor\": \"white\", \"startlinecolor\": \"#2a3f5f\"}, \"baxis\": {\"endlinecolor\": \"#2a3f5f\", \"gridcolor\": \"white\", \"linecolor\": \"white\", \"minorgridcolor\": \"white\", \"startlinecolor\": \"#2a3f5f\"}, \"type\": \"carpet\"}], \"choropleth\": [{\"colorbar\": {\"outlinewidth\": 0, \"ticks\": \"\"}, \"type\": \"choropleth\"}], \"contour\": [{\"colorbar\": {\"outlinewidth\": 0, \"ticks\": \"\"}, \"colorscale\": [[0.0, \"#0d0887\"], [0.1111111111111111, \"#46039f\"], [0.2222222222222222, \"#7201a8\"], [0.3333333333333333, \"#9c179e\"], [0.4444444444444444, \"#bd3786\"], [0.5555555555555556, \"#d8576b\"], [0.6666666666666666, \"#ed7953\"], [0.7777777777777778, \"#fb9f3a\"], [0.8888888888888888, \"#fdca26\"], [1.0, \"#f0f921\"]], \"type\": \"contour\"}], \"contourcarpet\": [{\"colorbar\": {\"outlinewidth\": 0, \"ticks\": \"\"}, \"type\": \"contourcarpet\"}], \"heatmap\": [{\"colorbar\": {\"outlinewidth\": 0, \"ticks\": \"\"}, \"colorscale\": [[0.0, \"#0d0887\"], [0.1111111111111111, \"#46039f\"], [0.2222222222222222, \"#7201a8\"], [0.3333333333333333, \"#9c179e\"], [0.4444444444444444, \"#bd3786\"], [0.5555555555555556, \"#d8576b\"], [0.6666666666666666, \"#ed7953\"], [0.7777777777777778, \"#fb9f3a\"], [0.8888888888888888, \"#fdca26\"], [1.0, \"#f0f921\"]], \"type\": \"heatmap\"}], \"heatmapgl\": [{\"colorbar\": {\"outlinewidth\": 0, \"ticks\": \"\"}, \"colorscale\": [[0.0, \"#0d0887\"], [0.1111111111111111, \"#46039f\"], [0.2222222222222222, \"#7201a8\"], [0.3333333333333333, \"#9c179e\"], [0.4444444444444444, \"#bd3786\"], [0.5555555555555556, \"#d8576b\"], [0.6666666666666666, \"#ed7953\"], [0.7777777777777778, \"#fb9f3a\"], [0.8888888888888888, \"#fdca26\"], [1.0, \"#f0f921\"]], \"type\": \"heatmapgl\"}], \"histogram\": [{\"marker\": {\"colorbar\": {\"outlinewidth\": 0, \"ticks\": \"\"}}, \"type\": \"histogram\"}], \"histogram2d\": [{\"colorbar\": {\"outlinewidth\": 0, \"ticks\": \"\"}, \"colorscale\": [[0.0, \"#0d0887\"], [0.1111111111111111, \"#46039f\"], [0.2222222222222222, \"#7201a8\"], [0.3333333333333333, \"#9c179e\"], [0.4444444444444444, \"#bd3786\"], [0.5555555555555556, \"#d8576b\"], [0.6666666666666666, \"#ed7953\"], [0.7777777777777778, \"#fb9f3a\"], [0.8888888888888888, \"#fdca26\"], [1.0, \"#f0f921\"]], \"type\": \"histogram2d\"}], \"histogram2dcontour\": [{\"colorbar\": {\"outlinewidth\": 0, \"ticks\": \"\"}, \"colorscale\": [[0.0, \"#0d0887\"], [0.1111111111111111, \"#46039f\"], [0.2222222222222222, \"#7201a8\"], [0.3333333333333333, \"#9c179e\"], [0.4444444444444444, \"#bd3786\"], [0.5555555555555556, \"#d8576b\"], [0.6666666666666666, \"#ed7953\"], [0.7777777777777778, \"#fb9f3a\"], [0.8888888888888888, \"#fdca26\"], [1.0, \"#f0f921\"]], \"type\": \"histogram2dcontour\"}], \"mesh3d\": [{\"colorbar\": {\"outlinewidth\": 0, \"ticks\": \"\"}, \"type\": \"mesh3d\"}], \"parcoords\": [{\"line\": {\"colorbar\": {\"outlinewidth\": 0, \"ticks\": \"\"}}, \"type\": \"parcoords\"}], \"pie\": [{\"automargin\": true, \"type\": \"pie\"}], \"scatter\": [{\"marker\": {\"colorbar\": {\"outlinewidth\": 0, \"ticks\": \"\"}}, \"type\": \"scatter\"}], \"scatter3d\": [{\"line\": {\"colorbar\": {\"outlinewidth\": 0, \"ticks\": \"\"}}, \"marker\": {\"colorbar\": {\"outlinewidth\": 0, \"ticks\": \"\"}}, \"type\": \"scatter3d\"}], \"scattercarpet\": [{\"marker\": {\"colorbar\": {\"outlinewidth\": 0, \"ticks\": \"\"}}, \"type\": \"scattercarpet\"}], \"scattergeo\": [{\"marker\": {\"colorbar\": {\"outlinewidth\": 0, \"ticks\": \"\"}}, \"type\": \"scattergeo\"}], \"scattergl\": [{\"marker\": {\"colorbar\": {\"outlinewidth\": 0, \"ticks\": \"\"}}, \"type\": \"scattergl\"}], \"scattermapbox\": [{\"marker\": {\"colorbar\": {\"outlinewidth\": 0, \"ticks\": \"\"}}, \"type\": \"scattermapbox\"}], \"scatterpolar\": [{\"marker\": {\"colorbar\": {\"outlinewidth\": 0, \"ticks\": \"\"}}, \"type\": \"scatterpolar\"}], \"scatterpolargl\": [{\"marker\": {\"colorbar\": {\"outlinewidth\": 0, \"ticks\": \"\"}}, \"type\": \"scatterpolargl\"}], \"scatterternary\": [{\"marker\": {\"colorbar\": {\"outlinewidth\": 0, \"ticks\": \"\"}}, \"type\": \"scatterternary\"}], \"surface\": [{\"colorbar\": {\"outlinewidth\": 0, \"ticks\": \"\"}, \"colorscale\": [[0.0, \"#0d0887\"], [0.1111111111111111, \"#46039f\"], [0.2222222222222222, \"#7201a8\"], [0.3333333333333333, \"#9c179e\"], [0.4444444444444444, \"#bd3786\"], [0.5555555555555556, \"#d8576b\"], [0.6666666666666666, \"#ed7953\"], [0.7777777777777778, \"#fb9f3a\"], [0.8888888888888888, \"#fdca26\"], [1.0, \"#f0f921\"]], \"type\": \"surface\"}], \"table\": [{\"cells\": {\"fill\": {\"color\": \"#EBF0F8\"}, \"line\": {\"color\": \"white\"}}, \"header\": {\"fill\": {\"color\": \"#C8D4E3\"}, \"line\": {\"color\": \"white\"}}, \"type\": \"table\"}]}, \"layout\": {\"annotationdefaults\": {\"arrowcolor\": \"#2a3f5f\", \"arrowhead\": 0, \"arrowwidth\": 1}, \"coloraxis\": {\"colorbar\": {\"outlinewidth\": 0, \"ticks\": \"\"}}, \"colorscale\": {\"diverging\": [[0, \"#8e0152\"], [0.1, \"#c51b7d\"], [0.2, \"#de77ae\"], [0.3, \"#f1b6da\"], [0.4, \"#fde0ef\"], [0.5, \"#f7f7f7\"], [0.6, \"#e6f5d0\"], [0.7, \"#b8e186\"], [0.8, \"#7fbc41\"], [0.9, \"#4d9221\"], [1, \"#276419\"]], \"sequential\": [[0.0, \"#0d0887\"], [0.1111111111111111, \"#46039f\"], [0.2222222222222222, \"#7201a8\"], [0.3333333333333333, \"#9c179e\"], [0.4444444444444444, \"#bd3786\"], [0.5555555555555556, \"#d8576b\"], [0.6666666666666666, \"#ed7953\"], [0.7777777777777778, \"#fb9f3a\"], [0.8888888888888888, \"#fdca26\"], [1.0, \"#f0f921\"]], \"sequentialminus\": [[0.0, \"#0d0887\"], [0.1111111111111111, \"#46039f\"], [0.2222222222222222, \"#7201a8\"], [0.3333333333333333, \"#9c179e\"], [0.4444444444444444, \"#bd3786\"], [0.5555555555555556, \"#d8576b\"], [0.6666666666666666, \"#ed7953\"], [0.7777777777777778, \"#fb9f3a\"], [0.8888888888888888, \"#fdca26\"], [1.0, \"#f0f921\"]]}, \"colorway\": [\"#636efa\", \"#EF553B\", \"#00cc96\", \"#ab63fa\", \"#FFA15A\", \"#19d3f3\", \"#FF6692\", \"#B6E880\", \"#FF97FF\", \"#FECB52\"], \"font\": {\"color\": \"#2a3f5f\"}, \"geo\": {\"bgcolor\": \"white\", \"lakecolor\": \"white\", \"landcolor\": \"#E5ECF6\", \"showlakes\": true, \"showland\": true, \"subunitcolor\": \"white\"}, \"hoverlabel\": {\"align\": \"left\"}, \"hovermode\": \"closest\", \"mapbox\": {\"style\": \"light\"}, \"paper_bgcolor\": \"white\", \"plot_bgcolor\": \"#E5ECF6\", \"polar\": {\"angularaxis\": {\"gridcolor\": \"white\", \"linecolor\": \"white\", \"ticks\": \"\"}, \"bgcolor\": \"#E5ECF6\", \"radialaxis\": {\"gridcolor\": \"white\", \"linecolor\": \"white\", \"ticks\": \"\"}}, \"scene\": {\"xaxis\": {\"backgroundcolor\": \"#E5ECF6\", \"gridcolor\": \"white\", \"gridwidth\": 2, \"linecolor\": \"white\", \"showbackground\": true, \"ticks\": \"\", \"zerolinecolor\": \"white\"}, \"yaxis\": {\"backgroundcolor\": \"#E5ECF6\", \"gridcolor\": \"white\", \"gridwidth\": 2, \"linecolor\": \"white\", \"showbackground\": true, \"ticks\": \"\", \"zerolinecolor\": \"white\"}, \"zaxis\": {\"backgroundcolor\": \"#E5ECF6\", \"gridcolor\": \"white\", \"gridwidth\": 2, \"linecolor\": \"white\", \"showbackground\": true, \"ticks\": \"\", \"zerolinecolor\": \"white\"}}, \"shapedefaults\": {\"line\": {\"color\": \"#2a3f5f\"}}, \"ternary\": {\"aaxis\": {\"gridcolor\": \"white\", \"linecolor\": \"white\", \"ticks\": \"\"}, \"baxis\": {\"gridcolor\": \"white\", \"linecolor\": \"white\", \"ticks\": \"\"}, \"bgcolor\": \"#E5ECF6\", \"caxis\": {\"gridcolor\": \"white\", \"linecolor\": \"white\", \"ticks\": \"\"}}, \"title\": {\"x\": 0.05}, \"xaxis\": {\"automargin\": true, \"gridcolor\": \"white\", \"linecolor\": \"white\", \"ticks\": \"\", \"title\": {\"standoff\": 15}, \"zerolinecolor\": \"white\", \"zerolinewidth\": 2}, \"yaxis\": {\"automargin\": true, \"gridcolor\": \"white\", \"linecolor\": \"white\", \"ticks\": \"\", \"title\": {\"standoff\": 15}, \"zerolinecolor\": \"white\", \"zerolinewidth\": 2}}}, \"xaxis\": {\"anchor\": \"y\", \"domain\": [0.0, 1.0], \"title\": {\"text\": \"Venue Category\"}}, \"yaxis\": {\"anchor\": \"x\", \"domain\": [0.0, 1.0], \"title\": {\"text\": \"Counts\"}}},\n",
       "                        {\"responsive\": true}\n",
       "                    ).then(function(){\n",
       "                            \n",
       "var gd = document.getElementById('8ff90ba5-8eb3-4966-bdb4-202ed464fd8f');\n",
       "var x = new MutationObserver(function (mutations, observer) {{\n",
       "        var display = window.getComputedStyle(gd).display;\n",
       "        if (!display || display === 'none') {{\n",
       "            console.log([gd, 'removed!']);\n",
       "            Plotly.purge(gd);\n",
       "            observer.disconnect();\n",
       "        }}\n",
       "}});\n",
       "\n",
       "// Listen for the removal of the full notebook cells\n",
       "var notebookContainer = gd.closest('#notebook-container');\n",
       "if (notebookContainer) {{\n",
       "    x.observe(notebookContainer, {childList: true});\n",
       "}}\n",
       "\n",
       "// Listen for the clearing of the current output cell\n",
       "var outputEl = gd.closest('.output');\n",
       "if (outputEl) {{\n",
       "    x.observe(outputEl, {childList: true});\n",
       "}}\n",
       "\n",
       "                        })\n",
       "                };\n",
       "                });\n",
       "            </script>\n",
       "        </div>"
      ]
     },
     "metadata": {},
     "output_type": "display_data"
    }
   ],
   "source": [
    "ser = pd.Series() \n",
    "temp_c = cluster3.drop('Neighborhood', 1)\n",
    "for c in temp_c.columns:\n",
    "    temp = temp_c[c].value_counts()\n",
    "    ser = ser.append(temp)\n",
    "bar_cluster3 = ser.to_frame()\n",
    "bar_cluster3.reset_index(inplace = True)\n",
    "bar_cluster3.columns = ['Venue','Counts']\n",
    "bar_cluster3 = bar_cluster3.groupby('Venue').sum()\n",
    "fig = px.bar(bar_cluster3, x=bar_cluster3.index, y='Counts', labels={'x':'Venue Category'})\n",
    "fig.show()"
   ]
  },
  {
   "cell_type": "markdown",
   "metadata": {},
   "source": [
    "### Conclusion\n",
    "At the end we were able to form 3 Clusters. We can see top 10 most common venuees in each of the clusters. From the Bar Chart, we can see that in Cluster-1, there are a lot of Department Stores,Cupcake Shop & Yoga Studio. In Cluster-2, India Restaurant seems to be the most common. Cluster-3 is pretty mixed but unlike other clusters, ATM is the most common. Apart from the common venues, distinct venues can also be seen each of the Clusters. For example, Construction & Landscaping in Cluster-1, Fast Food Restaurant & Farmers Market in Cluster 2."
   ]
  }
 ],
 "metadata": {
  "kernelspec": {
   "display_name": "Python 3",
   "language": "python",
   "name": "python3"
  },
  "language_info": {
   "codemirror_mode": {
    "name": "ipython",
    "version": 3
   },
   "file_extension": ".py",
   "mimetype": "text/x-python",
   "name": "python",
   "nbconvert_exporter": "python",
   "pygments_lexer": "ipython3",
   "version": "3.7.3"
  }
 },
 "nbformat": 4,
 "nbformat_minor": 2
}
